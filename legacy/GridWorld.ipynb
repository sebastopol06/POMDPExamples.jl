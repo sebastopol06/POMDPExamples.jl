{
 "cells": [
  {
   "cell_type": "markdown",
   "metadata": {
    "slideshow": {
     "slide_type": "slide"
    }
   },
   "source": [
    "# Grid World Tutorial: POMDPs.jl for Complete Beginners"
   ]
  },
  {
   "cell_type": "markdown",
   "metadata": {
    "slideshow": {
     "slide_type": "slide"
    }
   },
   "source": [
    "In this tutorial, we try to provide a simple example of how to define a Markov decision process (MDP) problem using the [POMDPs.jl](https://github.com/sisl/POMDPs.jl) interface. After defining the problem in this way, you will be able to use the solvers that the interface supports. In this tutorial, we will show you how to use the value iteration and the Monte Carlo Tree Search solvers that the POMDPs.jl interface supports. We assume that you have some knowledge of basic programming, but are not necessarily familiar with all the features that exist in Julia. We try to cover the many language specific features used in POMDPs.jl in this tutorial. We do assume that you know the grid world problem, and are familiar with the formal defintion of the MDP.  Let's get started!"
   ]
  },
  {
   "cell_type": "markdown",
   "metadata": {},
   "source": [
    "## Dependencies\n",
    "You need to install a few modules in order to use this notebook. If you have all the modules below installed, great! If not run the following commands:\n"
   ]
  },
  {
   "cell_type": "markdown",
   "metadata": {},
   "source": [
    "```julia\n",
    "# install the POMDPs.jl interface\n",
    "Pkg.add(\"POMDPs\")\n",
    "Pkg.add(\"POMDPToolbox\")\n",
    "```"
   ]
  },
  {
   "cell_type": "markdown",
   "metadata": {},
   "source": [
    "If you already have all of the modules above, make sure you have the most recent versions. Many of these are still under heavy development, so update before starting by running\n",
    "\n",
    "```julia\n",
    "Pkg.update()\n",
    "```"
   ]
  },
  {
   "cell_type": "code",
   "execution_count": 2,
   "metadata": {
    "slideshow": {
     "slide_type": "slide"
    }
   },
   "outputs": [],
   "source": [
    "# open julia console\n",
    "# julia> using IJulia\n",
    "# julia> notebook(detached=true, dir=\"C:\\\\Users\\\\az01784-dev\\\\git\\\\POMDP\\\\POMDPExamples.jl\")\n",
    "\n",
    "# first import the POMDPs.jl interface\n",
    "using POMDPs\n",
    "\n",
    "# POMDPToolbox has some glue code to help us use Distributions.jl\n",
    "# using POMDPToolbox # Julia 0.7 POMDPToolbox has been discontinued\n",
    "using POMDPSimulators\n",
    "using POMDPModelTools\n",
    "using POMDPPolicies"
   ]
  },
  {
   "cell_type": "markdown",
   "metadata": {},
   "source": [
    "## Problem Overview\n",
    "In Grid World, we are trying to control an agent who has trouble moving in the desired direction. In our problem, we have a four reward states on a $10\\times 10$ grid. Each position on the grid represents a state, and the positive reward states are terminal (the agent stops recieveing reward after reaching them). The agent has four actions to choose from: up, down, left, right. The agent moves in the desired direction with a probability of 0.7, and with a probability of 0.1 in each of the remaining three directions. The problem has the following form:\n",
    "![example](http://artint.info/figures/ch09/gridworldc.gif)"
   ]
  },
  {
   "cell_type": "markdown",
   "metadata": {},
   "source": [
    "## MDP Type\n",
    "\n",
    "In POMDPs.jl, an MDP is defined by creating a subtype of the `MDP` abstract type. The types of the states and actions for the MDP are declared as [parameters](https://docs.julialang.org/en/stable/manual/types/#Parametric-Types-1) of the `MDP` type.  For example, if our states and actions are both represented by integers we can define our MDP type in the following way:\n",
    "```julia\n",
    "type MyMDP <: MDP{Int64, Int64} # MDP{StateType, ActionType}\n",
    "\n",
    "end\n",
    "```\n",
    "`MyMDP` is a subtype from an abstract MDP type defined in POMDPs.jl. Let's first define types to represent grid worls states and actions, and then we'll go through defining our Grid World MDP type. "
   ]
  },
  {
   "cell_type": "markdown",
   "metadata": {
    "slideshow": {
     "slide_type": "slide"
    }
   },
   "source": [
    "## States\n",
    "The data container below represents the state of the agent in the grid world."
   ]
  },
  {
   "cell_type": "code",
   "execution_count": 3,
   "metadata": {},
   "outputs": [],
   "source": [
    "struct GridWorldState \n",
    "    x::Int64 # x position\n",
    "    y::Int64 # y position\n",
    "    done::Bool # are we in a terminal state?\n",
    "end"
   ]
  },
  {
   "cell_type": "markdown",
   "metadata": {},
   "source": [
    "Below are some convenience functions for working with the GridWorldState. "
   ]
  },
  {
   "cell_type": "code",
   "execution_count": 4,
   "metadata": {},
   "outputs": [
    {
     "data": {
      "text/plain": [
       "posequal (generic function with 1 method)"
      ]
     },
     "execution_count": 4,
     "metadata": {},
     "output_type": "execute_result"
    }
   ],
   "source": [
    "# initial state constructor\n",
    "GridWorldState(x::Int64, y::Int64) = GridWorldState(x,y,false)\n",
    "# checks if the position of two states are the same\n",
    "posequal(s1::GridWorldState, s2::GridWorldState) = s1.x == s2.x && s1.y == s2.y"
   ]
  },
  {
   "cell_type": "markdown",
   "metadata": {},
   "source": [
    "## Actions\n",
    "Since our action is simply the direction the agent chooses to go (i.e. up, down, left, right), we can use a Symbol to represent it. Symbols are essentially the same as strings, but they typically consist of only one word and literals begin with \"`:`\". See [this page](https://stackoverflow.com/questions/23480722/what-is-a-symbol-in-julia) for a techincal discussion of what they are. Note that in this case, we will not define a custom type for our action, instead we represent it directly with a symbol. So that our action looks like:\n",
    "```julia\n",
    "action = :up # can also be :down, :left, :right\n",
    "```"
   ]
  },
  {
   "cell_type": "markdown",
   "metadata": {},
   "source": [
    "## MDP\n",
    "The GridWorld data container is defined below. It holds all the information we need to define the MDP tuple $$(\\mathcal{S}, \\mathcal{A}, T, R).$$"
   ]
  },
  {
   "cell_type": "code",
   "execution_count": 5,
   "metadata": {},
   "outputs": [],
   "source": [
    "# the grid world mdp type\n",
    "mutable struct GridWorld <: MDP{GridWorldState, Symbol} # Note that our MDP is parametarized by the state and the action\n",
    "    size_x::Int64 # x size of the grid\n",
    "    size_y::Int64 # y size of the grid\n",
    "    reward_states::Vector{GridWorldState} # the states in which agent recieves reward\n",
    "    reward_values::Vector{Float64} # reward values for those states\n",
    "    tprob::Float64 # probability of transitioning to the desired state\n",
    "    discount_factor::Float64 # disocunt factor\n",
    "end"
   ]
  },
  {
   "cell_type": "markdown",
   "metadata": {},
   "source": [
    "Before moving on, I want to create a constructor for GridWorld for convenience. Currently, if I want to create an instance of GridWorld, I have to pass in all of fields inside the GridWorld container (size_x, size_y, etc). The function below will return a GridWorld type with all the fields filled with some default values."
   ]
  },
  {
   "cell_type": "code",
   "execution_count": 6,
   "metadata": {},
   "outputs": [
    {
     "data": {
      "text/plain": [
       "4-element Array{GridWorldState,1}:\n",
       " GridWorldState(4, 3, false)\n",
       " GridWorldState(4, 6, false)\n",
       " GridWorldState(9, 3, false)\n",
       " GridWorldState(8, 8, false)"
      ]
     },
     "execution_count": 6,
     "metadata": {},
     "output_type": "execute_result"
    }
   ],
   "source": [
    "# we use key worded arguments so we can change any of the values we pass in \n",
    "function GridWorld(;sx::Int64=10, # size_x\n",
    "                    sy::Int64=10, # size_y\n",
    "                    rs::Vector{GridWorldState}=[GridWorldState(4,3), GridWorldState(4,6), GridWorldState(9,3), GridWorldState(8,8)], # reward states\n",
    "                    rv::Vector{Float64}=rv = [-10.,-5,10,3], # reward values\n",
    "                    tp::Float64=0.7, # tprob\n",
    "                    discount_factor::Float64=0.9)\n",
    "    return GridWorld(sx, sy, rs, rv, tp, discount_factor)\n",
    "end\n",
    "\n",
    "# we can now create a GridWorld mdp instance like this:\n",
    "mdp = GridWorld()\n",
    "mdp.reward_states # mdp contains all the defualt values from the constructor"
   ]
  },
  {
   "cell_type": "markdown",
   "metadata": {},
   "source": [
    "## Spaces\n",
    "Let's look at how we can define the state and action spaces for our problem."
   ]
  },
  {
   "cell_type": "markdown",
   "metadata": {},
   "source": [
    "### State Space\n",
    "The state space in an MDP represents all the states in the problem. There are two primary functionalities that we want our spaces to support. We want to be able to iterate over the state space (for Value Iteration for example), and sometimes we want to be able to sample form the state space (used in some POMDP solvers). In this notebook, we will only look at iterable state spaces. "
   ]
  },
  {
   "cell_type": "markdown",
   "metadata": {},
   "source": [
    "Since we can iterate over elements of an array, and our problem is small, we can store all of our states in an array. If your problem is very large (tens of millions of states), it might be worthwhile to create a custom type to define the problem's state space. See [this](http://stackoverflow.com/questions/25028539/how-to-implement-an-iterator-in-julia) post on stackoverflow on making simple iterators. "
   ]
  },
  {
   "cell_type": "code",
   "execution_count": 7,
   "metadata": {},
   "outputs": [],
   "source": [
    "function POMDPs.states(mdp::GridWorld)\n",
    "    s = GridWorldState[] # initialize an array of GridWorldStates\n",
    "    # loop over all our states, remeber there are two binary variables:\n",
    "    # done (d)\n",
    "    for d = 0:1, y = 1:mdp.size_y, x = 1:mdp.size_x\n",
    "        push!(s, GridWorldState(x,y,d))\n",
    "    end\n",
    "    return s\n",
    "end;"
   ]
  },
  {
   "cell_type": "markdown",
   "metadata": {},
   "source": [
    "Here, the code: ```function POMDPs.states(mdp::GridWorld)``` means that we want to take the function called ```states(...)``` from the POMDPs.jl module and add another method to it. The ```states(...)``` function in POMDPs.jl doesn't know about our GridWorld type. However, now when ```states(...)``` is called with GridWorld it will dispatch the function we defined above! This is the awesome thing about multiple-dispatch, and one of the features that should make working with MDP/POMDPs easier in Julia. \n",
    "\n",
    "The solvers that support the POMDPs.jl interface know that a function called ```states(...)``` exists in the interface. However, they do not know the behavior of that function for GridWorld. That means in order for the solvers to use this behavior all we have to do is pass an instance of our GridWorld type into the solver. When ```states(...)``` is called in the solver with the GridWorld type, the function above will be called.   "
   ]
  },
  {
   "cell_type": "code",
   "execution_count": 8,
   "metadata": {},
   "outputs": [
    {
     "data": {
      "text/plain": [
       "GridWorldState(1, 1, false)"
      ]
     },
     "execution_count": 8,
     "metadata": {},
     "output_type": "execute_result"
    }
   ],
   "source": [
    "mdp = GridWorld()\n",
    "state_space = states(mdp);\n",
    "state_space[1]"
   ]
  },
  {
   "cell_type": "markdown",
   "metadata": {},
   "source": [
    "### Action Space"
   ]
  },
  {
   "cell_type": "markdown",
   "metadata": {},
   "source": [
    "The action space is the set of all actions availiable to the agent. In the grid world problem the action space consists of up, down, left, and right. We can define the action space by implementing a new method of the `actions` function."
   ]
  },
  {
   "cell_type": "code",
   "execution_count": 9,
   "metadata": {},
   "outputs": [],
   "source": [
    "POMDPs.actions(mdp::GridWorld) = [:up, :down, :left, :right];"
   ]
  },
  {
   "cell_type": "markdown",
   "metadata": {},
   "source": [
    "Now that we've defined our state and action spaces, we are half-way thorugh our MDP tuple:\n",
    "$$\n",
    "(\\mathcal{S}, \\mathcal{A}, T, R)\n",
    "$$"
   ]
  },
  {
   "cell_type": "markdown",
   "metadata": {},
   "source": [
    "## Distributions"
   ]
  },
  {
   "cell_type": "markdown",
   "metadata": {},
   "source": [
    "Since MDPs are probabilistic models, we have to deal with probability distributions. In this section, we outline how to define probability distriubtions, and what tools are availiable to help you with the task."
   ]
  },
  {
   "cell_type": "markdown",
   "metadata": {},
   "source": [
    "### Transition Distribution "
   ]
  },
  {
   "cell_type": "markdown",
   "metadata": {},
   "source": [
    "If you are familiar with MDPs, you know that the transition function $T(s' \\mid s, a)$ captures the dynamics of the system. Specifically, $T(s' \\mid s, a)$ is a real value that defines the probabiltiy of transitioning to state $s'$ given that you took action $a$ in state $s$. The transition distirubtion $T(\\cdot \\mid s, a)$ is a slightly different construct. This is the actual distribution over the states that our agent can reach given that its in state $s$ and took action $a$. In other words this is the distribution over $s'$. \n",
    "\n",
    "For this grid world example there are only a few states that the agent can transition to, so there are only a few states that have nonzero probability in $T(\\cdot \\mid s, a)$. Thus, we will use the sparse [categorical distribution](https://en.wikipedia.org/wiki/Categorical_distribution) (`SparseCat`) from POMDPToolbox. [Distributions.jl](https://github.com/JuliaStats/Distributions.jl) also contains some distributions, but in many cases, a custom distribution type will need to be defined - see [the source code for `SparseCat`](https://github.com/JuliaPOMDP/POMDPToolbox.jl/blob/master/src/distributions/sparse_cat.jl) for an example.\n",
    "\n",
    "A `SparseCat` object contains a vector of states and an associated vector of their probabilities. The probabilities of all other states are implied to be zero."
   ]
  },
  {
   "cell_type": "markdown",
   "metadata": {},
   "source": [
    "## Transition Model"
   ]
  },
  {
   "cell_type": "markdown",
   "metadata": {},
   "source": [
    "In this section we will define the system dynamics of the gird world MDP. In POMDPs.jl, we work with transition distirbution functions $T(s' \\mid s, a)$, so we want to write a function that can generate the transition distributions over $s'$ for us given an $(s, a)$ pair. "
   ]
  },
  {
   "cell_type": "markdown",
   "metadata": {},
   "source": [
    "In grid world, the dynamics of the system are fairly simple. We move in the specified direction with some pre-defined probability. This is the `tprob` parameter in our GridWorld MDP (it is set to 0.7 in the DMU book example). If we get to state with a positive reward, we've reached a terminal state and can no longer accumulate reward."
   ]
  },
  {
   "cell_type": "markdown",
   "metadata": {},
   "source": [
    "In the transition function we want to fill the neighbors in our distribution d with the reachable states from the state, action pair. We want to fill the probs in our distirbution d with the probabilities of reaching that neighbor. "
   ]
  },
  {
   "cell_type": "code",
   "execution_count": 10,
   "metadata": {},
   "outputs": [],
   "source": [
    "# transition helpers\n",
    "function inbounds(mdp::GridWorld,x::Int64,y::Int64)\n",
    "    if 1 <= x <= mdp.size_x && 1 <= y <= mdp.size_y\n",
    "        return true\n",
    "    else\n",
    "        return false\n",
    "    end\n",
    "end\n",
    "\n",
    "inbounds(mdp::GridWorld, state::GridWorldState) = inbounds(mdp, state.x, state.y);"
   ]
  },
  {
   "cell_type": "code",
   "execution_count": 11,
   "metadata": {},
   "outputs": [],
   "source": [
    "function POMDPs.transition(mdp::GridWorld, state::GridWorldState, action::Symbol)\n",
    "    a = action\n",
    "    x = state.x\n",
    "    y = state.y\n",
    "    \n",
    "    if state.done\n",
    "        return SparseCat([GridWorldState(x, y, true)], [1.0])\n",
    "    elseif state in mdp.reward_states\n",
    "        return SparseCat([GridWorldState(x, y, true)], [1.0])\n",
    "    end\n",
    "\n",
    "    neighbors = [\n",
    "        GridWorldState(x+1, y, false), # right\n",
    "        GridWorldState(x-1, y, false), # left\n",
    "        GridWorldState(x, y-1, false), # down\n",
    "        GridWorldState(x, y+1, false), # up\n",
    "        ] # See Performance Note below\n",
    "    \n",
    "    targets = Dict(:right=>1, :left=>2, :down=>3, :up=>4) # See Performance Note below\n",
    "    target = targets[a]\n",
    "    \n",
    "    probability = fill(0.0, 4)\n",
    "\n",
    "    if !inbounds(mdp, neighbors[target])\n",
    "        # If would transition out of bounds, stay in\n",
    "        # same cell with probability 1\n",
    "        return SparseCat([GridWorldState(x, y)], [1.0])\n",
    "    else\n",
    "        probability[target] = mdp.tprob\n",
    "\n",
    "        oob_count = sum(!inbounds(mdp, n) for n in neighbors) # number of out of bounds neighbors\n",
    "\n",
    "        new_probability = (1.0 - mdp.tprob)/(3-oob_count)\n",
    "\n",
    "        for i = 1:4 # do not include neighbor 5\n",
    "            if inbounds(mdp, neighbors[i]) && i != target\n",
    "                probability[i] = new_probability\n",
    "            end\n",
    "        end\n",
    "    end\n",
    "\n",
    "    return SparseCat(neighbors, probability)\n",
    "end;"
   ]
  },
  {
   "cell_type": "markdown",
   "metadata": {},
   "source": [
    "> Performance Note: It is inefficient to create mutable objects like dictionaries and vectors in low-level code like the `transition` function because it requires dynamic memory allocation. This code is written for clarity rather than speed. Better speed could be realized by putting the Dict in the mdp object or using if statements instead, and replacing the vector with a [`StaticArrays.Svector`](https://github.com/JuliaArrays/StaticArrays.jl). However, a much more important consideration for performance is [type stability](https://en.wikibooks.org/wiki/Introducing_Julia/Types#Type_stability), which this function maintains because it always returns a `SparseCat{Vector{GridWorldState},Vector{Float64}}` object."
   ]
  },
  {
   "cell_type": "markdown",
   "metadata": {},
   "source": [
    "## Reward Model\n",
    "The reward model $R(s,a,s')$ is a function that returns the reward of being in state $s$, taking an action $a$ from that state, and ending up in state $s'$. In our problem, we are rewarded for reaching a terimanl reward state (this could be positive or negative)."
   ]
  },
  {
   "cell_type": "code",
   "execution_count": 12,
   "metadata": {},
   "outputs": [],
   "source": [
    "function POMDPs.reward(mdp::GridWorld, state::GridWorldState, action::Symbol, statep::GridWorldState) #deleted action\n",
    "    if state.done\n",
    "        return 0.0\n",
    "    end\n",
    "    r = 0.0\n",
    "    n = length(mdp.reward_states)\n",
    "    for i = 1:n\n",
    "        if posequal(state, mdp.reward_states[i])\n",
    "            r += mdp.reward_values[i]\n",
    "        end\n",
    "    end\n",
    "    return r\n",
    "end;\n"
   ]
  },
  {
   "cell_type": "markdown",
   "metadata": {},
   "source": [
    "## Miscallenous Functions\n",
    "We are almost done! Just a few simple functions left. First let's implement two functions that return the sizes of our state and action spaces."
   ]
  },
  {
   "cell_type": "code",
   "execution_count": 13,
   "metadata": {},
   "outputs": [],
   "source": [
    "POMDPs.n_states(mdp::GridWorld) = 2*mdp.size_x*mdp.size_y\n",
    "POMDPs.n_actions(mdp::GridWorld) = 4"
   ]
  },
  {
   "cell_type": "markdown",
   "metadata": {},
   "source": [
    "Now, we implement the discount function."
   ]
  },
  {
   "cell_type": "code",
   "execution_count": 14,
   "metadata": {},
   "outputs": [],
   "source": [
    "POMDPs.discount(mdp::GridWorld) = mdp.discount_factor;"
   ]
  },
  {
   "cell_type": "markdown",
   "metadata": {},
   "source": [
    "The last thing we need is indexing functions. This allows us to index between the discrete utility array and the states and actions in our problem. We will use the ```sub2ind()``` function from Julia base to help us here."
   ]
  },
  {
   "cell_type": "code",
   "execution_count": 15,
   "metadata": {},
   "outputs": [],
   "source": [
    "function POMDPs.stateindex(mdp::GridWorld, state::GridWorldState)\n",
    "    sd = Int(state.done + 1)\n",
    "    return sub2ind((mdp.size_x, mdp.size_y, 2), state.x, state.y, sd)\n",
    "end\n",
    "function POMDPs.actionindex(mdp::GridWorld, act::Symbol)\n",
    "    if act==:up\n",
    "        return 1\n",
    "    elseif act==:down\n",
    "        return 2\n",
    "    elseif act==:left\n",
    "        return 3\n",
    "    elseif act==:right\n",
    "        return 4\n",
    "    end\n",
    "    error(\"Invalid GridWorld action: $act\")\n",
    "end;"
   ]
  },
  {
   "cell_type": "markdown",
   "metadata": {},
   "source": [
    "Finally let's define a function that checks if a state is terminal."
   ]
  },
  {
   "cell_type": "code",
   "execution_count": 16,
   "metadata": {},
   "outputs": [],
   "source": [
    "POMDPs.isterminal(mdp::GridWorld, s::GridWorldState) = s.done"
   ]
  },
  {
   "cell_type": "markdown",
   "metadata": {},
   "source": [
    "# Simulations\n",
    "\n",
    "Now that we have defined the problem, we should simulate it to see it working. The funcion `sim(::MDP)` from `POMDPToolbox` provides a convenient `do` block syntax for exploring the behavior of the mdp. The `do` block receives the state as the argument and should return an action. In this way it acts as a \"hook\" into the simulation and allows quick ad-hoc policies to be defined."
   ]
  },
  {
   "cell_type": "code",
   "execution_count": 18,
   "metadata": {},
   "outputs": [
    {
     "name": "stdout",
     "output_type": "stream",
     "text": [
      "state is: GridWorldState(4, 1, false)\n",
      "moving right\n",
      "state is: GridWorldState(5, 1, false)\n",
      "moving right\n",
      "state is: GridWorldState(6, 1, false)\n",
      "moving right\n",
      "state is: GridWorldState(7, 1, false)\n",
      "moving right\n",
      "state is: GridWorldState(8, 1, false)\n",
      "moving right\n",
      "state is: GridWorldState(9, 1, false)\n",
      "moving right\n",
      "state is: GridWorldState(10, 1, false)\n",
      "moving right\n",
      "state is: GridWorldState(10, 1, false)\n",
      "moving right\n",
      "state is: GridWorldState(10, 1, false)\n",
      "moving right\n",
      "state is: GridWorldState(10, 1, false)\n",
      "moving right\n"
     ]
    }
   ],
   "source": [
    "mdp = GridWorld()\n",
    "mdp.tprob=1.0\n",
    "sim(mdp, initialstate=GridWorldState(4,1), max_steps=10) do s\n",
    "    println(\"state is: $s\")\n",
    "    a = :right\n",
    "    println(\"moving $a\")\n",
    "    return a\n",
    "end;"
   ]
  },
  {
   "cell_type": "markdown",
   "metadata": {},
   "source": [
    "## Value Iteration Solver"
   ]
  },
  {
   "cell_type": "markdown",
   "metadata": {},
   "source": [
    "Value iteration is a dynamic porgramming apporach for solving MDPs. See the [wikipedia](https://en.wikipedia.org/wiki/Markov_decision_process#Value_iteration) article for a brief explanation. The solver can be found [here](https://github.com/JuliaPOMDP/DiscreteValueIteration.jl). If you haven't isntalled the solver yet, you can run the following from the Julia REPL to download the module."
   ]
  },
  {
   "cell_type": "markdown",
   "metadata": {},
   "source": [
    "```julia\n",
    "POMDPs.add(\"DiscreteValueIteration\")\n",
    "```"
   ]
  },
  {
   "cell_type": "markdown",
   "metadata": {},
   "source": [
    "Each POMDPs.jl solver provides two data types for you to interface with. The first is the Solver type which contains solver parameters. The second is the Policy type. Let's see hwo we can use them to get an optimal action at a given state."
   ]
  },
  {
   "cell_type": "code",
   "execution_count": 22,
   "metadata": {
    "scrolled": false
   },
   "outputs": [
    {
     "name": "stdout",
     "output_type": "stream",
     "text": [
      "[Iteration 1   ] residual:         10 | iteration runtime:      0.226 ms, (  0.000226 s total)\n",
      "[Iteration 2   ] residual:        6.3 | iteration runtime:      0.219 ms, (  0.000445 s total)\n",
      "[Iteration 3   ] residual:       4.54 | iteration runtime:      0.482 ms, (  0.000927 s total)\n",
      "[Iteration 4   ] residual:       3.39 | iteration runtime:      0.778 ms, (    0.0017 s total)\n",
      "[Iteration 5   ] residual:       2.57 | iteration runtime:      0.288 ms, (   0.00199 s total)\n",
      "[Iteration 6   ] residual:       1.92 | iteration runtime:      0.206 ms, (    0.0022 s total)\n",
      "[Iteration 7   ] residual:       1.39 | iteration runtime:      1.120 ms, (   0.00332 s total)\n",
      "[Iteration 8   ] residual:       1.07 | iteration runtime:      0.420 ms, (   0.00374 s total)\n",
      "[Iteration 9   ] residual:      0.861 | iteration runtime:      0.395 ms, (   0.00413 s total)\n",
      "[Iteration 10  ] residual:      0.662 | iteration runtime:      0.427 ms, (   0.00456 s total)\n",
      "[Iteration 11  ] residual:      0.489 | iteration runtime:      0.301 ms, (   0.00486 s total)\n",
      "[Iteration 12  ] residual:      0.405 | iteration runtime:      0.306 ms, (   0.00517 s total)\n",
      "[Iteration 13  ] residual:      0.341 | iteration runtime:      0.181 ms, (   0.00535 s total)\n",
      "[Iteration 14  ] residual:      0.244 | iteration runtime:      0.690 ms, (   0.00604 s total)\n",
      "[Iteration 15  ] residual:      0.166 | iteration runtime:      0.667 ms, (   0.00671 s total)\n",
      "[Iteration 16  ] residual:      0.106 | iteration runtime:      0.439 ms, (   0.00714 s total)\n",
      "[Iteration 17  ] residual:     0.0638 | iteration runtime:      0.261 ms, (   0.00741 s total)\n",
      "[Iteration 18  ] residual:     0.0369 | iteration runtime:      0.192 ms, (    0.0076 s total)\n",
      "[Iteration 19  ] residual:     0.0208 | iteration runtime:      0.171 ms, (   0.00777 s total)\n",
      "[Iteration 20  ] residual:     0.0115 | iteration runtime:      0.193 ms, (   0.00796 s total)\n",
      "[Iteration 21  ] residual:    0.00621 | iteration runtime:      0.709 ms, (   0.00867 s total)\n",
      "[Iteration 22  ] residual:    0.00333 | iteration runtime:      0.168 ms, (   0.00884 s total)\n",
      "[Iteration 23  ] residual:    0.00177 | iteration runtime:      0.211 ms, (   0.00905 s total)\n",
      "[Iteration 24  ] residual:   0.000934 | iteration runtime:      0.680 ms, (   0.00973 s total)\n"
     ]
    }
   ],
   "source": [
    "# UndefVarError: sub2ind not defined\n",
    "function sub2ind(a,i...)\n",
    "   s2i = LinearIndices(a)\n",
    "   s2i[i...]\n",
    "end\n",
    "\n",
    "# first let's load the value iteration module\n",
    "using DiscreteValueIteration\n",
    "\n",
    "# initialize the problem\n",
    "mdp = GridWorld()\n",
    "\n",
    "# initialize the solver\n",
    "# max_iterations: maximum number of iterations value iteration runs for (default is 100)\n",
    "# belres: the value of Bellman residual used in the solver (defualt is 1e-3)\n",
    "solver = ValueIterationSolver(max_iterations=100, belres=1e-3, verbose=true)\n",
    "\n",
    "# initialize the policy by passing in your problem\n",
    "# policy = ValueIterationPolicy(mdp) \n",
    "\n",
    "# solve for an optimal policy\n",
    "# if verbose=false, the text output will be supressed (false by default)\n",
    "policy = solve(solver, mdp);"
   ]
  },
  {
   "cell_type": "markdown",
   "metadata": {},
   "source": [
    "Now, we can use the policy along with the ```action(...)``` function to get the optimal action in a given state."
   ]
  },
  {
   "cell_type": "code",
   "execution_count": 23,
   "metadata": {},
   "outputs": [
    {
     "name": "stdout",
     "output_type": "stream",
     "text": [
      "ValueIterationPolicy{Float64}"
     ]
    },
    {
     "data": {
      "text/plain": [
       ":up"
      ]
     },
     "execution_count": 23,
     "metadata": {},
     "output_type": "execute_result"
    }
   ],
   "source": [
    "# say we are in state (9,2)\n",
    "s = GridWorldState(9,2)\n",
    "a = action(policy, s) # http://juliapomdp.github.io/POMDPs.jl/latest/api/"
   ]
  },
  {
   "cell_type": "code",
   "execution_count": 45,
   "metadata": {},
   "outputs": [
    {
     "name": "stdout",
     "output_type": "stream",
     "text": [
      "(1,1) (1,2) (1,3) (1,4) (1,5) (1,6) (1,7) (1,8) (1,9) (1,10) \n",
      "(2,1) (2,2) (2,3) (2,4) (2,5) (2,6) (2,7) (2,8) (2,9) (2,10) \n",
      "(3,1) (3,2) (3,3) (3,4) (3,5) (3,6) (3,7) (3,8) (3,9) (3,10) \n",
      "(4,1) (4,2) (4,3) (4,4) (4,5) (4,6) (4,7) (4,8) (4,9) (4,10) \n",
      "(5,1) (5,2) (5,3) (5,4) (5,5) (5,6) (5,7) (5,8) (5,9) (5,10) \n",
      "(6,1) (6,2) (6,3) (6,4) (6,5) (6,6) (6,7) (6,8) (6,9) (6,10) \n",
      "(7,1) (7,2) (7,3) (7,4) (7,5) (7,6) (7,7) (7,8) (7,9) (7,10) \n",
      "(8,1) (8,2) (8,3) (8,4) (8,5) (8,6) (8,7) (8,8) (8,9) (8,10) \n",
      "(9,1) (9,2) (9,3) (9,4) (9,5) (9,6) (9,7) (9,8) (9,9) (9,10) \n",
      "(10,1) (10,2) (10,3) (10,4) (10,5) (10,6) (10,7) (10,8) (10,9) (10,10) \n"
     ]
    }
   ],
   "source": [
    "for i = 1:9\n",
    "    for j = 1:9\n",
    "        print(\"($i,$j) \")\n",
    "    end\n",
    "    println()\n",
    "end"
   ]
  },
  {
   "cell_type": "code",
   "execution_count": 42,
   "metadata": {},
   "outputs": [
    {
     "name": "stdout",
     "output_type": "stream",
     "text": [
      ">>>>>vvvvv\n",
      ">>>>>vv>vv\n",
      ">>>>>vv+vv\n",
      ">^^>>>vvvv\n",
      "vvv->>vvvv\n",
      ">>>>>>>vvv\n",
      ">>>>>>>>vv\n",
      "vvv->>>>^<\n",
      ">vv>>>>>+^\n",
      ">>>>>>>^^^\n"
     ]
    }
   ],
   "source": [
    "for i = 1:10\n",
    "    for j = 1:10\n",
    "        x = j\n",
    "        y = 10-i+1\n",
    "        \n",
    "        if x == 4 && y == 3 || x == 4 && y == 6\n",
    "            print(\"-\")\n",
    "            continue\n",
    "        end\n",
    "        \n",
    "        if x == 9 && y == 2 || x == 8 && y == 8\n",
    "            print(\"+\")\n",
    "            continue\n",
    "        end\n",
    "        \n",
    "        a = action(policy, GridWorldState(x,y))\n",
    "        if string(a) == \"right\"\n",
    "            print(\">\")\n",
    "        end\n",
    "        if string(a) == \"up\"\n",
    "            print(\"^\")\n",
    "        end\n",
    "        if string(a) == \"left\"\n",
    "            print(\"<\")\n",
    "        end\n",
    "        if string(a) == \"down\"\n",
    "            print(\"v\")\n",
    "        end\n",
    "    end\n",
    "    println()\n",
    "end"
   ]
  },
  {
   "cell_type": "markdown",
   "metadata": {},
   "source": [
    "Remeber that the state (9,3) has an immediate reward of +10.0, so the policy we found is moving up as expected!"
   ]
  },
  {
   "cell_type": "code",
   "execution_count": 30,
   "metadata": {},
   "outputs": [
    {
     "data": {
      "text/plain": [
       ":right"
      ]
     },
     "execution_count": 30,
     "metadata": {},
     "output_type": "execute_result"
    }
   ],
   "source": [
    "s = GridWorldState(8,3)\n",
    "a = action(policy, s)"
   ]
  },
  {
   "cell_type": "code",
   "execution_count": 39,
   "metadata": {},
   "outputs": [
    {
     "name": "stdout",
     "output_type": "stream",
     "text": [
      "0.91 1.03 1.19 1.39 1.62 1.88 2.15 2.34 2.66 2.68 \n",
      "0.96 1.12 1.32 1.56 1.85 2.17 2.5 2.69 3.15 3.11 \n",
      "1.0 1.18 1.43 1.74 2.15 2.55 2.97 3.0 3.79 3.69 \n",
      "0.91 1.03 1.18 1.34 2.42 3.01 3.57 4.12 4.61 4.38 \n",
      "0.95 1.06 0.73 -5.0 2.29 3.51 4.22 4.95 5.56 5.17 \n",
      "1.09 1.29 1.56 1.98 3.38 4.2 4.98 5.87 6.72 6.08 \n",
      "1.09 1.24 1.45 1.83 3.84 4.9 5.86 6.94 8.17 7.1 \n",
      "1.2 1.28 0.51 -10.0 3.19 5.38 6.68 8.15 10.0 8.22 \n",
      "1.39 1.61 1.86 2.0 3.92 4.95 5.9 6.96 8.18 7.14 \n",
      "1.58 1.91 2.35 2.93 3.72 4.43 5.18 6.0 6.82 6.34 \n"
     ]
    }
   ],
   "source": [
    "for i = 1:10\n",
    "    for j = 1:10\n",
    "        x = j\n",
    "        y = 10-i+1\n",
    "        \n",
    "        print(round(value(policy, GridWorldState(x,y)), digits=2), \" \")\n",
    "    end\n",
    "    println()\n",
    "end"
   ]
  },
  {
   "cell_type": "markdown",
   "metadata": {},
   "source": [
    "![description](files/gw.jpg)"
   ]
  },
  {
   "cell_type": "markdown",
   "metadata": {},
   "source": [
    "## Monte-Carlo Tree Search Solver\n",
    "Monte-Carlo Tree Search (MCTS) is another MDP solver. It is an online method that looks for the best action from only the current state by building a search tree. A nice overview of MCTS can be found [here](http://pubs.doc.ic.ac.uk/survey-mcts-methods/survey-mcts-methods.pdf). Run the following command to donwload the module\n",
    "\n"
   ]
  },
  {
   "cell_type": "markdown",
   "metadata": {},
   "source": [
    "```julia\n",
    "POMDPs.add(\"MCTS\")\n",
    "```"
   ]
  },
  {
   "cell_type": "markdown",
   "metadata": {},
   "source": [
    "Let's quickly run through an example of using the solver:"
   ]
  },
  {
   "cell_type": "code",
   "execution_count": 20,
   "metadata": {
    "scrolled": true
   },
   "outputs": [
    {
     "name": "stderr",
     "output_type": "stream",
     "text": [
      "\u001b[1m\u001b[36mINFO: \u001b[39m\u001b[22m\u001b[36mLoading HttpServer methods...\n",
      "\u001b[39m"
     ]
    },
    {
     "data": {
      "text/plain": [
       ":up"
      ]
     },
     "execution_count": 20,
     "metadata": {},
     "output_type": "execute_result"
    }
   ],
   "source": [
    "using MCTS\n",
    "\n",
    "# initialize the problem\n",
    "mdp = GridWorld()\n",
    "\n",
    "# initialize the solver with hyper parameters\n",
    "# n_iterations: the number of iterations that each search runs for\n",
    "# depth: the depth of the tree (how far away from the current state the algorithm explores)\n",
    "# exploration constant: this is how much weight to put into exploratory actions. \n",
    "# A good rule of thumb is to set the exploration constant to what you expect the upper bound on your average expected reward to be.\n",
    "solver = MCTSSolver(n_iterations=1000,\n",
    "                    depth=20,\n",
    "                    exploration_constant=10.0,\n",
    "                    enable_tree_vis=true)\n",
    "\n",
    "# initialize the planner by calling the `solve` function. For online solvers, the \n",
    "planner = solve(solver, mdp)\n",
    "\n",
    "# to get the action:\n",
    "s = GridWorldState(9,2)\n",
    "a = action(planner, s)"
   ]
  },
  {
   "cell_type": "markdown",
   "metadata": {
    "collapsed": true
   },
   "source": [
    "Let's simulate using the planner to determine a good action at each timestep."
   ]
  },
  {
   "cell_type": "code",
   "execution_count": 21,
   "metadata": {},
   "outputs": [
    {
     "name": "stdout",
     "output_type": "stream",
     "text": [
      "Total discounted reward: 4.782969000000001\n"
     ]
    }
   ],
   "source": [
    "# we'll use POMDPToolbox for simulation\n",
    "using POMDPToolbox # if you don't have this module install it by running POMDPs.add(\"POMDPToolbox\")\n",
    "\n",
    "s = GridWorldState(4,1) # this is our starting state\n",
    "hist = HistoryRecorder(max_steps=1000)\n",
    "\n",
    "hist = simulate(hist, mdp, policy, s)\n",
    "\n",
    "println(\"Total discounted reward: $(discounted_reward(hist))\")"
   ]
  },
  {
   "cell_type": "markdown",
   "metadata": {},
   "source": [
    "Now we can view the state-action history using the `eachstep` funciton."
   ]
  },
  {
   "cell_type": "code",
   "execution_count": 22,
   "metadata": {},
   "outputs": [
    {
     "name": "stdout",
     "output_type": "stream",
     "text": [
      "s: GridWorldState(4, 1, false)  a: right   s': GridWorldState(5, 1, false)\n",
      "s: GridWorldState(5, 1, false)  a: right   s': GridWorldState(5, 2, false)\n",
      "s: GridWorldState(5, 2, false)  a: right   s': GridWorldState(6, 2, false)\n",
      "s: GridWorldState(6, 2, false)  a: right   s': GridWorldState(7, 2, false)\n",
      "s: GridWorldState(7, 2, false)  a: right   s': GridWorldState(7, 3, false)\n",
      "s: GridWorldState(7, 3, false)  a: right   s': GridWorldState(8, 3, false)\n",
      "s: GridWorldState(8, 3, false)  a: right   s': GridWorldState(9, 3, false)\n",
      "s: GridWorldState(9, 3, false)  a: up      s': GridWorldState(9, 3, true)\n"
     ]
    }
   ],
   "source": [
    "for (s, a, sp) in eachstep(hist, \"s,a,sp\")\n",
    "    @printf(\"s: %-26s  a: %-6s  s': %-26s\\n\", s, a, sp)\n",
    "end"
   ]
  },
  {
   "cell_type": "markdown",
   "metadata": {},
   "source": [
    "To see what the planner is doing, we can look at the tree created when it plans at a particular state, for example, the first state in the history."
   ]
  },
  {
   "cell_type": "code",
   "execution_count": 23,
   "metadata": {},
   "outputs": [
    {
     "data": {
      "text/html": [
       "    <!DOCTYPE html>\n",
       "    <html>\n",
       "    <head>\n",
       "        <meta charset=\"UTF-8\">\n",
       "        <title>MCTS tree</title>\n",
       "    </head>\n",
       "    <body>\n",
       "    <div id=\"treevisCMlKxOjk\">\n",
       "    <style>\n",
       "        \n",
       ".node {\n",
       "    cursor: pointer;\n",
       "}\n",
       "\n",
       ".node circle {\n",
       "\t  fill: #fff;\n",
       "\t  stroke: steelblue;\n",
       "\t  stroke-width: 3px;\n",
       "      r: 10;\n",
       "}\n",
       "\n",
       ".node rect {\n",
       "\t  fill: #fff;\n",
       "\t  stroke: steelblue;\n",
       "\t  stroke-width: 3px;\n",
       "      x: -10;\n",
       "      y: -10;\n",
       "      width: 20;\n",
       "      height: 20;\n",
       "}\n",
       "\n",
       ".node path {\n",
       "    fill: #ffffff;\n",
       "    /* stroke: steelblue; */\n",
       "    stroke-width: 2px;\n",
       "}\n",
       ".node text {\n",
       "    font-family: Arial, Helvetica, sans-serif;\n",
       "    font-style: normal;\n",
       "    font-size: 12px;\n",
       "}\n",
       ".link /* path */ {\n",
       "    fill: none;\n",
       "    stroke: #cccccc;\n",
       "    stroke-width: 2px;\n",
       "}\n",
       ".link text {\n",
       "    font-family: Arial, Helvetica, sans-serif;\n",
       "    font-style: normal;\n",
       "    font-size: 12px;\n",
       "}\n",
       ".hover text{\n",
       "    font-family: Arial, Helvetica, sans-serif;\n",
       "    font-style: normal;\n",
       "    font-size: 12px;\n",
       "}\n",
       "\n",
       "/*\n",
       ".svg-container {\n",
       "    display: inline-block;\n",
       "    position: relative;\n",
       "    width: 100%;\n",
       "    padding-bottom: 100%;\n",
       "    vertical-align: top;\n",
       "    overflow: hidden;\n",
       "}\n",
       ".svg-content-responsive {\n",
       "    display: inline-block;\n",
       "    position: absolute;\n",
       "    top: 10px;\n",
       "    left: 0;\n",
       "}\n",
       "*/\n",
       "\n",
       "    </style>\n",
       "    <script>\n",
       "       (function(){\n",
       "        var treeData = {\"children\":[[561,562,563,564],[593,594,595,596],[701,702,703,704],[573,574,575,576],[697,698,699,700],[785,786,787,788],[729,730,731,732],[613,614,615,616],[701,702,703,704],[669,670,671,672],[669,670,671,672],[645,646,647,648],[561,562,563,564],[641,642,643,644],[625,626,627,628],[641,642,643,644],[613,614,615,616],[709,710,711,712],[653,654,655,656],[573,574,575,576],[681,682,683,684],[621,622,623,624],[673,674,675,676],[621,622,623,624],[633,634,635,636],[665,666,667,668],[645,646,647,648],[569,570,571,572],[561,562,563,564],[605,606,607,608],[761,762,763,764],[665,666,667,668],[605,606,607,608],[577,578,579,580],[709,710,711,712],[657,658,659,660],[749,750,751,752],[569,570,571,572],[781,782,783,784],[621,622,623,624],[573,574,575,576],[705,706,707,708],[749,750,751,752],[641,642,643,644],[733,734,735,736],[581,582,583,584],[757,758,759,760],[637,638,639,640],[697,698,699,700],[773,774,775,776],[777,778,779,780],[581,582,583,584],[625,626,627,628],[593,594,595,596],[717,718,719,720],[789,790,791,792],[593,594,595,596],[637,638,639,640],[593,594,595,596],[753,754,755,756],[773,774,775,776],[625,626,627,628],[737,738,739,740],[749,750,751,752],[593,594,595,596],[617,618,619,620],[577,578,579,580],[629,630,631,632],[701,702,703,704],[605,606,607,608],[765,766,767,768],[581,582,583,584],[701,702,703,704],[813,814,815,816],[573,574,575,576],[773,774,775,776],[633,634,635,636],[761,762,763,764],[669,670,671,672],[653,654,655,656],[661,662,663,664],[733,734,735,736],[597,598,599,600],[609,610,611,612],[569,570,571,572],[617,618,619,620],[677,678,679,680],[693,694,695,696],[657,658,659,660],[669,670,671,672],[657,658,659,660],[749,750,751,752],[653,654,655,656],[785,786,787,788],[605,606,607,608],[649,650,651,652],[641,642,643,644],[717,718,719,720],[597,598,599,600],[573,574,575,576],[765,766,767,768],[609,610,611,612],[653,654,655,656],[585,586,587,588],[585,586,587,588],[641,642,643,644],[685,686,687,688],[601,602,603,604],[657,658,659,660],[637,638,639,640],[625,626,627,628],[565,566,567,568],[593,594,595,596],[729,730,731,732],[561,562,563,564],[601,602,603,604],[629,630,631,632],[721,722,723,724],[633,634,635,636],[821,822,823,824],[673,674,675,676],[597,598,599,600],[673,674,675,676],[637,638,639,640],[717,718,719,720],[665,666,667,668],[657,658,659,660],[621,622,623,624],[593,594,595,596],[577,578,579,580],[657,658,659,660],[657,658,659,660],[705,706,707,708],[773,774,775,776],[665,666,667,668],[581,582,583,584],[705,706,707,708],[709,710,711,712],[581,582,583,584],[773,774,775,776],[633,634,635,636],[565,566,567,568],[565,566,567,568],[621,622,623,624],[577,578,579,580],[685,686,687,688],[629,630,631,632],[681,682,683,684],[749,750,751,752],[601,602,603,604],[657,658,659,660],[669,670,671,672],[701,702,703,704],[561,562,563,564],[565,566,567,568],[645,646,647,648],[609,610,611,612],[629,630,631,632],[717,718,719,720],[597,598,599,600],[753,754,755,756],[597,598,599,600],[561,562,563,564],[745,746,747,748],[617,618,619,620],[577,578,579,580],[601,602,603,604],[693,694,695,696],[677,678,679,680],[669,670,671,672],[613,614,615,616],[665,666,667,668],[773,774,775,776],[621,622,623,624],[721,722,723,724],[577,578,579,580],[645,646,647,648],[569,570,571,572],[813,814,815,816],[761,762,763,764],[745,746,747,748],[617,618,619,620],[645,646,647,648],[561,562,563,564],[761,762,763,764],[717,718,719,720],[749,750,751,752],[817,818,819,820],[645,646,647,648],[769,770,771,772],[693,694,695,696],[769,770,771,772],[661,662,663,664],[657,658,659,660],[697,698,699,700],[705,706,707,708],[581,582,583,584],[697,698,699,700],[649,650,651,652],[717,718,719,720],[737,738,739,740],[621,622,623,624],[669,670,671,672],[569,570,571,572],[593,594,595,596],[573,574,575,576],[737,738,739,740],[645,646,647,648],[573,574,575,576],[585,586,587,588],[649,650,651,652],[569,570,571,572],[645,646,647,648],[697,698,699,700],[733,734,735,736],[741,742,743,744],[805,806,807,808],[685,686,687,688],[721,722,723,724],[641,642,643,644],[697,698,699,700],[789,790,791,792],[725,726,727,728],[693,694,695,696],[721,722,723,724],[617,618,619,620],[601,602,603,604],[601,602,603,604],[665,666,667,668],[633,634,635,636],[633,634,635,636],[705,706,707,708],[609,610,611,612],[705,706,707,708],[781,782,783,784],[637,638,639,640],[773,774,775,776],[741,742,743,744],[565,566,567,568],[637,638,639,640],[641,642,643,644],[633,634,635,636],[685,686,687,688],[805,806,807,808],[621,622,623,624],[653,654,655,656],[565,566,567,568],[689,690,691,692],[681,682,683,684],[693,694,695,696],[677,678,679,680],[765,766,767,768],[589,590,591,592],[613,614,615,616],[765,766,767,768],[633,634,635,636],[749,750,751,752],[565,566,567,568],[725,726,727,728],[701,702,703,704],[653,654,655,656],[661,662,663,664],[569,570,571,572],[681,682,683,684],[717,718,719,720],[693,694,695,696],[633,634,635,636],[617,618,619,620],[605,606,607,608],[649,650,651,652],[677,678,679,680],[701,702,703,704],[657,658,659,660],[649,650,651,652],[701,702,703,704],[681,682,683,684],[577,578,579,580],[833,834,835,836],[809,810,811,812],[581,582,583,584],[721,722,723,724],[637,638,639,640],[733,734,735,736],[601,602,603,604],[721,722,723,724],[585,586,587,588],[785,786,787,788],[597,598,599,600],[605,606,607,608],[781,782,783,784],[685,686,687,688],[613,614,615,616],[637,638,639,640],[653,654,655,656],[677,678,679,680],[601,602,603,604],[561,562,563,564],[705,706,707,708],[589,590,591,592],[601,602,603,604],[589,590,591,592],[713,714,715,716],[629,630,631,632],[709,710,711,712],[625,626,627,628],[665,666,667,668],[721,722,723,724],[777,778,779,780],[805,806,807,808],[609,610,611,612],[613,614,615,616],[577,578,579,580],[605,606,607,608],[637,638,639,640],[701,702,703,704],[593,594,595,596],[641,642,643,644],[669,670,671,672],[645,646,647,648],[633,634,635,636],[733,734,735,736],[613,614,615,616],[633,634,635,636],[685,686,687,688],[633,634,635,636],[669,670,671,672],[661,662,663,664],[629,630,631,632],[613,614,615,616],[689,690,691,692],[845,846,847,848],[677,678,679,680],[645,646,647,648],[721,722,723,724],[777,778,779,780],[565,566,567,568],[613,614,615,616],[613,614,615,616],[629,630,631,632],[709,710,711,712],[765,766,767,768],[777,778,779,780],[785,786,787,788],[561,562,563,564],[713,714,715,716],[653,654,655,656],[629,630,631,632],[617,618,619,620],[617,618,619,620],[633,634,635,636],[585,586,587,588],[685,686,687,688],[781,782,783,784],[573,574,575,576],[593,594,595,596],[705,706,707,708],[633,634,635,636],[625,626,627,628],[673,674,675,676],[605,606,607,608],[701,702,703,704],[629,630,631,632],[765,766,767,768],[669,670,671,672],[685,686,687,688],[621,622,623,624],[661,662,663,664],[641,642,643,644],[737,738,739,740],[717,718,719,720],[725,726,727,728],[609,610,611,612],[761,762,763,764],[597,598,599,600],[573,574,575,576],[773,774,775,776],[697,698,699,700],[665,666,667,668],[625,626,627,628],[645,646,647,648],[625,626,627,628],[625,626,627,628],[761,762,763,764],[569,570,571,572],[693,694,695,696],[645,646,647,648],[653,654,655,656],[721,722,723,724],[641,642,643,644],[645,646,647,648],[641,642,643,644],[769,770,771,772],[681,682,683,684],[633,634,635,636],[757,758,759,760],[769,770,771,772],[717,718,719,720],[569,570,571,572],[657,658,659,660],[649,650,651,652],[673,674,675,676],[681,682,683,684],[597,598,599,600],[761,762,763,764],[753,754,755,756],[585,586,587,588],[653,654,655,656],[601,602,603,604],[665,666,667,668],[609,610,611,612],[789,790,791,792],[757,758,759,760],[669,670,671,672],[753,754,755,756],[637,638,639,640],[625,626,627,628],[717,718,719,720],[761,762,763,764],[641,642,643,644],[689,690,691,692],[645,646,647,648],[677,678,679,680],[581,582,583,584],[737,738,739,740],[633,634,635,636],[793,794,795,796],[601,602,603,604],[561,562,563,564],[685,686,687,688],[569,570,571,572],[705,706,707,708],[605,606,607,608],[629,630,631,632],[673,674,675,676],[593,594,595,596],[789,790,791,792],[737,738,739,740],[725,726,727,728],[657,658,659,660],[573,574,575,576],[573,574,575,576],[721,722,723,724],[829,830,831,832],[593,594,595,596],[661,662,663,664],[629,630,631,632],[581,582,583,584],[757,758,759,760],[637,638,639,640],[725,726,727,728],[737,738,739,740],[749,750,751,752],[665,666,667,668],[653,654,655,656],[601,602,603,604],[689,690,691,692],[805,806,807,808],[673,674,675,676],[677,678,679,680],[653,654,655,656],[573,574,575,576],[657,658,659,660],[597,598,599,600],[733,734,735,736],[585,586,587,588],[673,674,675,676],[821,822,823,824],[561,562,563,564],[729,730,731,732],[685,686,687,688],[773,774,775,776],[681,682,683,684],[657,658,659,660],[641,642,643,644],[661,662,663,664],[605,606,607,608],[757,758,759,760],[693,694,695,696],[613,614,615,616],[789,790,791,792],[569,570,571,572],[585,586,587,588],[753,754,755,756],[637,638,639,640],[577,578,579,580],[629,630,631,632],[773,774,775,776],[697,698,699,700],[573,574,575,576],[605,606,607,608],[637,638,639,640],[585,586,587,588],[573,574,575,576],[637,638,639,640],[617,618,619,620],[741,742,743,744],[737,738,739,740],[657,658,659,660],[605,606,607,608],[713,714,715,716],[669,670,671,672],[637,638,639,640],[673,674,675,676],[649,650,651,652],[709,710,711,712],[597,598,599,600],[737,738,739,740],[829,830,831,832],[709,710,711,712],[649,650,651,652],[577,578,579,580],[629,630,631,632],[765,766,767,768],[745,746,747,748],[693,694,695,696],[681,682,683,684],[741,742,743,744],[577,578,579,580],[681,682,683,684],[577,578,579,580],[765,766,767,768],[565,566,567,568],[697,698,699,700],[649,650,651,652],[617,618,619,620],[565,566,567,568],[725,726,727,728],[689,690,691,692],[573,574,575,576],[797,798,799,800],[813,814,815,816],[581,582,583,584],[601,602,603,604],[769,770,771,772],[581,582,583,584],[593,594,595,596],[585,586,587,588],[649,650,651,652],[565,566,567,568],[641,642,643,644],[605,606,607,608],[705,706,707,708],[641,642,643,644],[589,590,591,592],[577,578,579,580],[653,654,655,656],[709,710,711,712],[789,790,791,792],[721,722,723,724],[693,694,695,696],[577,578,579,580],[593,594,595,596],[593,594,595,596],[665,666,667,668],[649,650,651,652],[609,610,611,612],[729,730,731,732],[617,618,619,620],[773,774,775,776],[629,630,631,632],[286,398,539],[154],[85,210,258],[112,178,492],[34,205,489],[145,428,444,493],[354,355,468,545],[29,57,130,206],[115,162,440],[384],[344,374,461],[20,99,297],[136,167,263,526],[28,247,423,455],[155,228,280,430],[46,116,142,212],[299],[544],[301],[253],[193,269,441,485],[166,209,476],[75,327,490,518],[4,67],[86,163,316],[537],[129,184,348],[13,65,349],[],[],[],[],[336,338,347],[117,143,322,351],[239,292,362,482],[8,158,465,522],[204,227,410],[83],[84,108,481],[38,296,556],[100,288,305,360],[41,382,432,463],[15,289,375,403],[95,160,416,529],[197,264,326,533],[11,52,300,393],[21,79,284,535],[72,276,364],[111,506],[233],[157],[122,358],[2,40,176,256],[350,366,435,551],[54,312,323],[22,357,511,536],[104,199,486],[525],[105,147,400],[274,328,406],[138,337,371],[171],[450],[17,121,340,438],[150,310,472],[102,402,408],[381],[372,427,519],[59,226,314,394],[25,58,66,113],[110,119,553,558],[320,494,495,552],[220,401,446,479],[14,311,512],[123,254],[241,303,329,359],[16,36,96,339],[68,97,131,211],[91,389,555,560],[151,270,419,433],[177,267,282,554],[141,156,378,502],[26,325,484],[12,230,415,453],[44,173,503],[237,434,454,540],[61,246,317,466],[19,391,487],[165,240,478],[510],[182,224,491],[191,268,449],[101,307,333],[118,306,390,513],[225,255,319,409],[32,189,285,363],[172,266,293,370],[48,135,168,200],[229,236,265,550],[124,126,397,515],[90,431],[42,447],[137,139,152],[527,532,542],[315,368,473,546],[132,272,460,543],[261,462,474],[106,109,361,407],[70,87,146],[218,332,445,499],[81,422,470,541],[243,262],[37,202,421,425],[24,242,380],[43,128,183,231],[64,77,386],[413,514],[170,298],[133,330],[10,232],[30,53,324],[33,291,379],[249],[62,313,429],[203,420],[148,456,501],[365],[318,516],[290],[235,271,352],[248],[107,251],[273,523,538],[385],[49,89,504],[377,439,524],[31,98,250],[221],[88,125,383],[186,373],[557],[469],[7],[114],[238],[169,321,367,496],[82,459,517],[45,216],[283,500],[149,174,345],[92,215],[452],[426],[35],[342],[],[214,260,437,498],[5,194],[127,195,207,275],[153,399,451],[376,395],[80,94,477,559],[50,294],[47,103,287],[464],[520],[245,475],[144,277],[],[],[],[],[51,223],[259,505],[196,335],[234,509],[161,417,418],[55,60,180],[78,159,414],[424],[],[356],[164],[308],[278],[295],[353],[],[18,134,309],[23,304,471],[244,547],[76,458],[192,201],[73,507],[3,63,392],[405],[334],[175],[388,548],[56,508],[198,369],[404],[488,497],[185],[387,534],[6,69,93],[9,346],[396],[71],[483],[252,467],[190],[27,222,281],[213],[187,436],[208,411,549],[],[74],[179],[531],[530],[181,528],[39],[],[521],[341,442],[219,443],[120],[188],[140],[217],[448,457],[],[],[],[],[],[],[],[],[],[],[],[],[279],[257],[302],[480],[],[],[],[],[],[],[],[],[],[],[],[],[331],[],[],[],[],[],[],[],[343,412],[],[],[],[],[],[],[],[],[],[],[],[],[],[],[],[],[],[],[],[],[],[],[],[],[],[],[]],\"text\":[\"GridWorldState(4, 1, false)\\nN:   2010\\n\",\"GridWorldState(5, 2, false)\\nN:    602\\n\",\"GridWorldState(9, 3, false)\\nN:    579\\n\",\"GridWorldState(3, 2, false)\\nN:    199\\n\",\"GridWorldState(9, 1, false)\\nN:    209\\n\",\"GridWorldState(9, 5, false)\\nN:     13\\n\",\"GridWorldState(9, 3, true)\\nN:      0\\n\",\"GridWorldState(5, 3, false)\\nN:    115\\n\",\"GridWorldState(9, 3, false)\\nN:    579\\n\",\"GridWorldState(2, 4, false)\\nN:     42\\n\",\"GridWorldState(2, 4, false)\\nN:     42\\n\",\"GridWorldState(7, 4, false)\\nN:     94\\n\",\"GridWorldState(4, 1, false)\\nN:   2010\\n\",\"GridWorldState(7, 3, false)\\nN:    263\\n\",\"GridWorldState(1, 2, false)\\nN:    117\\n\",\"GridWorldState(7, 3, false)\\nN:    263\\n\",\"GridWorldState(5, 3, false)\\nN:    115\\n\",\"GridWorldState(5, 5, false)\\nN:     24\\n\",\"GridWorldState(8, 4, false)\\nN:    121\\n\",\"GridWorldState(3, 2, false)\\nN:    199\\n\",\"GridWorldState(1, 3, false)\\nN:     93\\n\",\"GridWorldState(5, 4, false)\\nN:     40\\n\",\"GridWorldState(6, 4, false)\\nN:     66\\n\",\"GridWorldState(5, 4, false)\\nN:     40\\n\",\"GridWorldState(6, 3, false)\\nN:    157\\n\",\"GridWorldState(8, 3, false)\\nN:    599\\n\",\"GridWorldState(7, 4, false)\\nN:     94\\n\",\"GridWorldState(3, 1, false)\\nN:    594\\n\",\"GridWorldState(4, 1, false)\\nN:   2010\\n\",\"GridWorldState(2, 3, false)\\nN:     84\\n\",\"GridWorldState(10, 1, false)\\nN:     63\\n\",\"GridWorldState(8, 3, false)\\nN:    599\\n\",\"GridWorldState(2, 3, false)\\nN:     84\\n\",\"GridWorldState(4, 3, false)\\nN:     76\\n\",\"GridWorldState(5, 5, false)\\nN:     24\\n\",\"GridWorldState(8, 2, false)\\nN:    788\\n\",\"GridWorldState(6, 5, false)\\nN:     27\\n\",\"GridWorldState(3, 1, false)\\nN:    594\\n\",\"GridWorldState(1, 6, false)\\nN:     11\\n\",\"GridWorldState(5, 4, false)\\nN:     40\\n\",\"GridWorldState(3, 2, false)\\nN:    199\\n\",\"GridWorldState(3, 5, false)\\nN:     24\\n\",\"GridWorldState(6, 5, false)\\nN:     27\\n\",\"GridWorldState(7, 3, false)\\nN:    263\\n\",\"GridWorldState(4, 5, false)\\nN:     12\\n\",\"GridWorldState(3, 3, false)\\nN:     72\\n\",\"GridWorldState(8, 6, false)\\nN:     11\\n\",\"GridWorldState(7, 2, false)\\nN:    490\\n\",\"GridWorldState(9, 1, false)\\nN:    209\\n\",\"GridWorldState(7, 5, false)\\nN:     41\\n\",\"GridWorldState(4, 6, false)\\nN:      4\\n\",\"GridWorldState(3, 3, false)\\nN:     72\\n\",\"GridWorldState(1, 2, false)\\nN:    117\\n\",\"GridWorldState(5, 2, false)\\nN:    602\\n\",\"GridWorldState(9, 2, false)\\nN:    299\\n\",\"GridWorldState(7, 6, false)\\nN:      9\\n\",\"GridWorldState(5, 2, false)\\nN:    602\\n\",\"GridWorldState(7, 2, false)\\nN:    490\\n\",\"GridWorldState(5, 2, false)\\nN:    602\\n\",\"GridWorldState(10, 3, false)\\nN:     21\\n\",\"GridWorldState(7, 5, false)\\nN:     41\\n\",\"GridWorldState(1, 2, false)\\nN:    117\\n\",\"GridWorldState(10, 2, false)\\nN:     70\\n\",\"GridWorldState(6, 5, false)\\nN:     27\\n\",\"GridWorldState(5, 2, false)\\nN:    602\\n\",\"GridWorldState(6, 1, false)\\nN:   1111\\n\",\"GridWorldState(4, 3, false)\\nN:     76\\n\",\"GridWorldState(6, 2, false)\\nN:    458\\n\",\"GridWorldState(9, 3, false)\\nN:    579\\n\",\"GridWorldState(2, 3, false)\\nN:     84\\n\",\"GridWorldState(9, 4, false)\\nN:     28\\n\",\"GridWorldState(3, 3, false)\\nN:     72\\n\",\"GridWorldState(9, 3, false)\\nN:    579\\n\",\"GridWorldState(4, 6, true)\\nN:      0\\n\",\"GridWorldState(3, 2, false)\\nN:    199\\n\",\"GridWorldState(7, 5, false)\\nN:     41\\n\",\"GridWorldState(6, 3, false)\\nN:    157\\n\",\"GridWorldState(10, 1, false)\\nN:     63\\n\",\"GridWorldState(2, 4, false)\\nN:     42\\n\",\"GridWorldState(8, 4, false)\\nN:    121\\n\",\"GridWorldState(3, 4, false)\\nN:     27\\n\",\"GridWorldState(4, 5, false)\\nN:     12\\n\",\"GridWorldState(2, 1, false)\\nN:    273\\n\",\"GridWorldState(1, 1, false)\\nN:    199\\n\",\"GridWorldState(3, 1, false)\\nN:    594\\n\",\"GridWorldState(6, 1, false)\\nN:   1111\\n\",\"GridWorldState(2, 5, false)\\nN:     20\\n\",\"GridWorldState(8, 1, false)\\nN:    704\\n\",\"GridWorldState(8, 2, false)\\nN:    788\\n\",\"GridWorldState(2, 4, false)\\nN:     42\\n\",\"GridWorldState(8, 2, false)\\nN:    788\\n\",\"GridWorldState(6, 5, false)\\nN:     27\\n\",\"GridWorldState(8, 4, false)\\nN:    121\\n\",\"GridWorldState(9, 5, false)\\nN:     13\\n\",\"GridWorldState(2, 3, false)\\nN:     84\\n\",\"GridWorldState(7, 1, false)\\nN:    855\\n\",\"GridWorldState(7, 3, false)\\nN:    263\\n\",\"GridWorldState(9, 2, false)\\nN:    299\\n\",\"GridWorldState(2, 1, false)\\nN:    273\\n\",\"GridWorldState(3, 2, false)\\nN:    199\\n\",\"GridWorldState(9, 4, false)\\nN:     28\\n\",\"GridWorldState(1, 1, false)\\nN:    199\\n\",\"GridWorldState(8, 4, false)\\nN:    121\\n\",\"GridWorldState(5, 1, false)\\nN:   1577\\n\",\"GridWorldState(5, 1, false)\\nN:   1577\\n\",\"GridWorldState(7, 3, false)\\nN:    263\\n\",\"GridWorldState(1, 4, false)\\nN:     37\\n\",\"GridWorldState(2, 2, false)\\nN:    137\\n\",\"GridWorldState(8, 2, false)\\nN:    788\\n\",\"GridWorldState(7, 2, false)\\nN:    490\\n\",\"GridWorldState(1, 2, false)\\nN:    117\\n\",\"GridWorldState(4, 2, false)\\nN:    362\\n\",\"GridWorldState(5, 2, false)\\nN:    602\\n\",\"GridWorldState(9, 3, true)\\nN:      0\\n\",\"GridWorldState(4, 1, false)\\nN:   2010\\n\",\"GridWorldState(2, 2, false)\\nN:    137\\n\",\"GridWorldState(6, 2, false)\\nN:    458\\n\",\"GridWorldState(8, 5, false)\\nN:     38\\n\",\"GridWorldState(6, 3, false)\\nN:    157\\n\",\"GridWorldState(10, 5, false)\\nN:      2\\n\",\"GridWorldState(6, 4, false)\\nN:     66\\n\",\"GridWorldState(2, 1, false)\\nN:    273\\n\",\"GridWorldState(6, 4, false)\\nN:     66\\n\",\"GridWorldState(7, 2, false)\\nN:    490\\n\",\"GridWorldState(9, 2, false)\\nN:    299\\n\",\"GridWorldState(8, 3, false)\\nN:    599\\n\",\"GridWorldState(8, 2, false)\\nN:    788\\n\",\"GridWorldState(5, 4, false)\\nN:     40\\n\",\"GridWorldState(5, 2, false)\\nN:    602\\n\",\"GridWorldState(4, 3, false)\\nN:     76\\n\",\"GridWorldState(8, 2, false)\\nN:    788\\n\",\"GridWorldState(8, 2, false)\\nN:    788\\n\",\"GridWorldState(3, 5, false)\\nN:     24\\n\",\"GridWorldState(7, 5, false)\\nN:     41\\n\",\"GridWorldState(8, 3, false)\\nN:    599\\n\",\"GridWorldState(3, 3, false)\\nN:     72\\n\",\"GridWorldState(3, 5, false)\\nN:     24\\n\",\"GridWorldState(5, 5, false)\\nN:     24\\n\",\"GridWorldState(3, 3, false)\\nN:     72\\n\",\"GridWorldState(7, 5, false)\\nN:     41\\n\",\"GridWorldState(6, 3, false)\\nN:    157\\n\",\"GridWorldState(4, 2, false)\\nN:    362\\n\",\"GridWorldState(4, 2, false)\\nN:    362\\n\",\"GridWorldState(5, 4, false)\\nN:     40\\n\",\"GridWorldState(4, 3, false)\\nN:     76\\n\",\"GridWorldState(1, 4, false)\\nN:     37\\n\",\"GridWorldState(6, 2, false)\\nN:    458\\n\",\"GridWorldState(1, 3, false)\\nN:     93\\n\",\"GridWorldState(6, 5, false)\\nN:     27\\n\",\"GridWorldState(2, 2, false)\\nN:    137\\n\",\"GridWorldState(8, 2, false)\\nN:    788\\n\",\"GridWorldState(2, 4, false)\\nN:     42\\n\",\"GridWorldState(9, 3, false)\\nN:    579\\n\",\"GridWorldState(4, 1, false)\\nN:   2010\\n\",\"GridWorldState(4, 2, false)\\nN:    362\\n\",\"GridWorldState(7, 4, false)\\nN:     94\\n\",\"GridWorldState(1, 1, false)\\nN:    199\\n\",\"GridWorldState(6, 2, false)\\nN:    458\\n\",\"GridWorldState(9, 2, false)\\nN:    299\\n\",\"GridWorldState(2, 1, false)\\nN:    273\\n\",\"GridWorldState(10, 3, false)\\nN:     21\\n\",\"GridWorldState(2, 1, false)\\nN:    273\\n\",\"GridWorldState(4, 1, false)\\nN:   2010\\n\",\"GridWorldState(2, 6, false)\\nN:      4\\n\",\"GridWorldState(6, 1, false)\\nN:   1111\\n\",\"GridWorldState(4, 3, false)\\nN:     76\\n\",\"GridWorldState(2, 2, false)\\nN:    137\\n\",\"GridWorldState(8, 1, false)\\nN:    704\\n\",\"GridWorldState(2, 5, false)\\nN:     20\\n\",\"GridWorldState(2, 4, false)\\nN:     42\\n\",\"GridWorldState(5, 3, false)\\nN:    115\\n\",\"GridWorldState(8, 3, false)\\nN:    599\\n\",\"GridWorldState(7, 5, false)\\nN:     41\\n\",\"GridWorldState(5, 4, false)\\nN:     40\\n\",\"GridWorldState(8, 5, false)\\nN:     38\\n\",\"GridWorldState(4, 3, false)\\nN:     76\\n\",\"GridWorldState(7, 4, false)\\nN:     94\\n\",\"GridWorldState(3, 1, false)\\nN:    594\\n\",\"GridWorldState(4, 6, true)\\nN:      0\\n\",\"GridWorldState(10, 1, false)\\nN:     63\\n\",\"GridWorldState(2, 6, false)\\nN:      4\\n\",\"GridWorldState(6, 1, false)\\nN:   1111\\n\",\"GridWorldState(7, 4, false)\\nN:     94\\n\",\"GridWorldState(4, 1, false)\\nN:   2010\\n\",\"GridWorldState(10, 1, false)\\nN:     63\\n\",\"GridWorldState(9, 2, false)\\nN:    299\\n\",\"GridWorldState(6, 5, false)\\nN:     27\\n\",\"GridWorldState(7, 7, false)\\nN:      1\\n\",\"GridWorldState(7, 4, false)\\nN:     94\\n\",\"GridWorldState(10, 4, false)\\nN:     18\\n\",\"GridWorldState(8, 1, false)\\nN:    704\\n\",\"GridWorldState(10, 4, false)\\nN:     18\\n\",\"GridWorldState(3, 4, false)\\nN:     27\\n\",\"GridWorldState(8, 2, false)\\nN:    788\\n\",\"GridWorldState(9, 1, false)\\nN:    209\\n\",\"GridWorldState(3, 5, false)\\nN:     24\\n\",\"GridWorldState(3, 3, false)\\nN:     72\\n\",\"GridWorldState(9, 1, false)\\nN:    209\\n\",\"GridWorldState(7, 1, false)\\nN:    855\\n\",\"GridWorldState(9, 2, false)\\nN:    299\\n\",\"GridWorldState(10, 2, false)\\nN:     70\\n\",\"GridWorldState(5, 4, false)\\nN:     40\\n\",\"GridWorldState(2, 4, false)\\nN:     42\\n\",\"GridWorldState(3, 1, false)\\nN:    594\\n\",\"GridWorldState(5, 2, false)\\nN:    602\\n\",\"GridWorldState(3, 2, false)\\nN:    199\\n\",\"GridWorldState(10, 2, false)\\nN:     70\\n\",\"GridWorldState(7, 4, false)\\nN:     94\\n\",\"GridWorldState(3, 2, false)\\nN:    199\\n\",\"GridWorldState(5, 1, false)\\nN:   1577\\n\",\"GridWorldState(7, 1, false)\\nN:    855\\n\",\"GridWorldState(3, 1, false)\\nN:    594\\n\",\"GridWorldState(7, 4, false)\\nN:     94\\n\",\"GridWorldState(9, 1, false)\\nN:    209\\n\",\"GridWorldState(4, 5, false)\\nN:     12\\n\",\"GridWorldState(3, 6, false)\\nN:      8\\n\",\"GridWorldState(6, 6, false)\\nN:      5\\n\",\"GridWorldState(1, 4, false)\\nN:     37\\n\",\"GridWorldState(8, 5, false)\\nN:     38\\n\",\"GridWorldState(7, 3, false)\\nN:    263\\n\",\"GridWorldState(9, 1, false)\\nN:    209\\n\",\"GridWorldState(7, 6, false)\\nN:      9\\n\",\"GridWorldState(4, 4, false)\\nN:     12\\n\",\"GridWorldState(8, 1, false)\\nN:    704\\n\",\"GridWorldState(8, 5, false)\\nN:     38\\n\",\"GridWorldState(6, 1, false)\\nN:   1111\\n\",\"GridWorldState(2, 2, false)\\nN:    137\\n\",\"GridWorldState(2, 2, false)\\nN:    137\\n\",\"GridWorldState(8, 3, false)\\nN:    599\\n\",\"GridWorldState(6, 3, false)\\nN:    157\\n\",\"GridWorldState(6, 3, false)\\nN:    157\\n\",\"GridWorldState(3, 5, false)\\nN:     24\\n\",\"GridWorldState(1, 1, false)\\nN:    199\\n\",\"GridWorldState(3, 5, false)\\nN:     24\\n\",\"GridWorldState(1, 6, false)\\nN:     11\\n\",\"GridWorldState(7, 2, false)\\nN:    490\\n\",\"GridWorldState(7, 5, false)\\nN:     41\\n\",\"GridWorldState(3, 6, false)\\nN:      8\\n\",\"GridWorldState(4, 2, false)\\nN:    362\\n\",\"GridWorldState(7, 2, false)\\nN:    490\\n\",\"GridWorldState(7, 3, false)\\nN:    263\\n\",\"GridWorldState(6, 3, false)\\nN:    157\\n\",\"GridWorldState(1, 4, false)\\nN:     37\\n\",\"GridWorldState(6, 6, false)\\nN:      5\\n\",\"GridWorldState(5, 4, false)\\nN:     40\\n\",\"GridWorldState(8, 4, false)\\nN:    121\\n\",\"GridWorldState(4, 2, false)\\nN:    362\\n\",\"GridWorldState(1, 5, false)\\nN:     24\\n\",\"GridWorldState(1, 3, false)\\nN:     93\\n\",\"GridWorldState(8, 1, false)\\nN:    704\\n\",\"GridWorldState(2, 5, false)\\nN:     20\\n\",\"GridWorldState(9, 4, false)\\nN:     28\\n\",\"GridWorldState(4, 3, true)\\nN:      0\\n\",\"GridWorldState(5, 3, false)\\nN:    115\\n\",\"GridWorldState(9, 4, false)\\nN:     28\\n\",\"GridWorldState(6, 3, false)\\nN:    157\\n\",\"GridWorldState(6, 5, false)\\nN:     27\\n\",\"GridWorldState(4, 2, false)\\nN:    362\\n\",\"GridWorldState(4, 4, false)\\nN:     12\\n\",\"GridWorldState(9, 3, false)\\nN:    579\\n\",\"GridWorldState(8, 4, false)\\nN:    121\\n\",\"GridWorldState(3, 4, false)\\nN:     27\\n\",\"GridWorldState(3, 1, false)\\nN:    594\\n\",\"GridWorldState(1, 3, false)\\nN:     93\\n\",\"GridWorldState(9, 2, false)\\nN:    299\\n\",\"GridWorldState(8, 1, false)\\nN:    704\\n\",\"GridWorldState(6, 3, false)\\nN:    157\\n\",\"GridWorldState(6, 1, false)\\nN:   1111\\n\",\"GridWorldState(2, 3, false)\\nN:     84\\n\",\"GridWorldState(7, 1, false)\\nN:    855\\n\",\"GridWorldState(2, 5, false)\\nN:     20\\n\",\"GridWorldState(9, 3, false)\\nN:    579\\n\",\"GridWorldState(8, 2, false)\\nN:    788\\n\",\"GridWorldState(7, 1, false)\\nN:    855\\n\",\"GridWorldState(9, 3, false)\\nN:    579\\n\",\"GridWorldState(1, 3, false)\\nN:     93\\n\",\"GridWorldState(4, 3, false)\\nN:     76\\n\",\"GridWorldState(2, 7, false)\\nN:      0\\n\",\"GridWorldState(6, 7, false)\\nN:      1\\n\",\"GridWorldState(3, 3, false)\\nN:     72\\n\",\"GridWorldState(8, 5, false)\\nN:     38\\n\",\"GridWorldState(7, 2, false)\\nN:    490\\n\",\"GridWorldState(4, 5, false)\\nN:     12\\n\",\"GridWorldState(2, 2, false)\\nN:    137\\n\",\"GridWorldState(8, 5, false)\\nN:     38\\n\",\"GridWorldState(5, 1, false)\\nN:   1577\\n\",\"GridWorldState(9, 5, false)\\nN:     13\\n\",\"GridWorldState(2, 1, false)\\nN:    273\\n\",\"GridWorldState(2, 3, false)\\nN:     84\\n\",\"GridWorldState(1, 6, false)\\nN:     11\\n\",\"GridWorldState(1, 4, false)\\nN:     37\\n\",\"GridWorldState(5, 3, false)\\nN:    115\\n\",\"GridWorldState(7, 2, false)\\nN:    490\\n\",\"GridWorldState(8, 4, false)\\nN:    121\\n\",\"GridWorldState(2, 5, false)\\nN:     20\\n\",\"GridWorldState(2, 2, false)\\nN:    137\\n\",\"GridWorldState(4, 1, false)\\nN:   2010\\n\",\"GridWorldState(3, 5, false)\\nN:     24\\n\",\"GridWorldState(4, 3, true)\\nN:      0\\n\",\"GridWorldState(2, 2, false)\\nN:    137\\n\",\"GridWorldState(4, 3, true)\\nN:      0\\n\",\"GridWorldState(5, 6, false)\\nN:      5\\n\",\"GridWorldState(6, 2, false)\\nN:    458\\n\",\"GridWorldState(5, 5, false)\\nN:     24\\n\",\"GridWorldState(1, 2, false)\\nN:    117\\n\",\"GridWorldState(8, 3, false)\\nN:    599\\n\",\"GridWorldState(8, 5, false)\\nN:     38\\n\",\"GridWorldState(4, 6, false)\\nN:      4\\n\",\"GridWorldState(6, 6, false)\\nN:      5\\n\",\"GridWorldState(1, 1, false)\\nN:    199\\n\",\"GridWorldState(5, 3, false)\\nN:    115\\n\",\"GridWorldState(4, 3, false)\\nN:     76\\n\",\"GridWorldState(2, 3, false)\\nN:     84\\n\",\"GridWorldState(7, 2, false)\\nN:    490\\n\",\"GridWorldState(9, 3, false)\\nN:    579\\n\",\"GridWorldState(5, 2, false)\\nN:    602\\n\",\"GridWorldState(7, 3, false)\\nN:    263\\n\",\"GridWorldState(2, 4, false)\\nN:     42\\n\",\"GridWorldState(7, 4, false)\\nN:     94\\n\",\"GridWorldState(6, 3, false)\\nN:    157\\n\",\"GridWorldState(4, 5, false)\\nN:     12\\n\",\"GridWorldState(5, 3, false)\\nN:    115\\n\",\"GridWorldState(6, 3, false)\\nN:    157\\n\",\"GridWorldState(1, 4, false)\\nN:     37\\n\",\"GridWorldState(6, 3, false)\\nN:    157\\n\",\"GridWorldState(2, 4, false)\\nN:     42\\n\",\"GridWorldState(3, 4, false)\\nN:     27\\n\",\"GridWorldState(6, 2, false)\\nN:    458\\n\",\"GridWorldState(5, 3, false)\\nN:    115\\n\",\"GridWorldState(1, 5, false)\\nN:     24\\n\",\"GridWorldState(10, 6, false)\\nN:      1\\n\",\"GridWorldState(2, 5, false)\\nN:     20\\n\",\"GridWorldState(7, 4, false)\\nN:     94\\n\",\"GridWorldState(8, 5, false)\\nN:     38\\n\",\"GridWorldState(4, 6, false)\\nN:      4\\n\",\"GridWorldState(4, 2, false)\\nN:    362\\n\",\"GridWorldState(5, 3, false)\\nN:    115\\n\",\"GridWorldState(5, 3, false)\\nN:    115\\n\",\"GridWorldState(6, 2, false)\\nN:    458\\n\",\"GridWorldState(5, 5, false)\\nN:     24\\n\",\"GridWorldState(9, 4, false)\\nN:     28\\n\",\"GridWorldState(4, 6, false)\\nN:      4\\n\",\"GridWorldState(9, 5, false)\\nN:     13\\n\",\"GridWorldState(4, 1, false)\\nN:   2010\\n\",\"GridWorldState(5, 6, false)\\nN:      5\\n\",\"GridWorldState(8, 4, false)\\nN:    121\\n\",\"GridWorldState(6, 2, false)\\nN:    458\\n\",\"GridWorldState(6, 1, false)\\nN:   1111\\n\",\"GridWorldState(6, 1, false)\\nN:   1111\\n\",\"GridWorldState(6, 3, false)\\nN:    157\\n\",\"GridWorldState(5, 1, false)\\nN:   1577\\n\",\"GridWorldState(1, 4, false)\\nN:     37\\n\",\"GridWorldState(1, 6, false)\\nN:     11\\n\",\"GridWorldState(3, 2, false)\\nN:    199\\n\",\"GridWorldState(5, 2, false)\\nN:    602\\n\",\"GridWorldState(3, 5, false)\\nN:     24\\n\",\"GridWorldState(6, 3, false)\\nN:    157\\n\",\"GridWorldState(1, 2, false)\\nN:    117\\n\",\"GridWorldState(6, 4, false)\\nN:     66\\n\",\"GridWorldState(2, 3, false)\\nN:     84\\n\",\"GridWorldState(9, 3, false)\\nN:    579\\n\",\"GridWorldState(6, 2, false)\\nN:    458\\n\",\"GridWorldState(9, 4, false)\\nN:     28\\n\",\"GridWorldState(2, 4, false)\\nN:     42\\n\",\"GridWorldState(1, 4, false)\\nN:     37\\n\",\"GridWorldState(5, 4, false)\\nN:     40\\n\",\"GridWorldState(3, 4, false)\\nN:     27\\n\",\"GridWorldState(7, 3, false)\\nN:    263\\n\",\"GridWorldState(10, 2, false)\\nN:     70\\n\",\"GridWorldState(9, 2, false)\\nN:    299\\n\",\"GridWorldState(4, 4, false)\\nN:     12\\n\",\"GridWorldState(1, 1, false)\\nN:    199\\n\",\"GridWorldState(10, 1, false)\\nN:     63\\n\",\"GridWorldState(2, 1, false)\\nN:    273\\n\",\"GridWorldState(3, 2, false)\\nN:    199\\n\",\"GridWorldState(7, 5, false)\\nN:     41\\n\",\"GridWorldState(9, 1, false)\\nN:    209\\n\",\"GridWorldState(8, 3, false)\\nN:    599\\n\",\"GridWorldState(1, 2, false)\\nN:    117\\n\",\"GridWorldState(7, 4, false)\\nN:     94\\n\",\"GridWorldState(1, 2, false)\\nN:    117\\n\",\"GridWorldState(1, 2, false)\\nN:    117\\n\",\"GridWorldState(10, 1, false)\\nN:     63\\n\",\"GridWorldState(3, 1, false)\\nN:    594\\n\",\"GridWorldState(8, 1, false)\\nN:    704\\n\",\"GridWorldState(7, 4, false)\\nN:     94\\n\",\"GridWorldState(8, 4, false)\\nN:    121\\n\",\"GridWorldState(8, 5, false)\\nN:     38\\n\",\"GridWorldState(7, 3, false)\\nN:    263\\n\",\"GridWorldState(7, 4, false)\\nN:     94\\n\",\"GridWorldState(7, 3, false)\\nN:    263\\n\",\"GridWorldState(10, 4, false)\\nN:     18\\n\",\"GridWorldState(1, 3, false)\\nN:     93\\n\",\"GridWorldState(6, 3, false)\\nN:    157\\n\",\"GridWorldState(8, 6, false)\\nN:     11\\n\",\"GridWorldState(10, 4, false)\\nN:     18\\n\",\"GridWorldState(9, 2, false)\\nN:    299\\n\",\"GridWorldState(3, 1, false)\\nN:    594\\n\",\"GridWorldState(8, 2, false)\\nN:    788\\n\",\"GridWorldState(7, 1, false)\\nN:    855\\n\",\"GridWorldState(6, 4, false)\\nN:     66\\n\",\"GridWorldState(1, 3, false)\\nN:     93\\n\",\"GridWorldState(2, 1, false)\\nN:    273\\n\",\"GridWorldState(10, 1, false)\\nN:     63\\n\",\"GridWorldState(10, 3, false)\\nN:     21\\n\",\"GridWorldState(5, 1, false)\\nN:   1577\\n\",\"GridWorldState(8, 4, false)\\nN:    121\\n\",\"GridWorldState(2, 2, false)\\nN:    137\\n\",\"GridWorldState(8, 3, false)\\nN:    599\\n\",\"GridWorldState(1, 1, false)\\nN:    199\\n\",\"GridWorldState(7, 6, false)\\nN:      9\\n\",\"GridWorldState(8, 6, false)\\nN:     11\\n\",\"GridWorldState(2, 4, false)\\nN:     42\\n\",\"GridWorldState(10, 3, false)\\nN:     21\\n\",\"GridWorldState(7, 2, false)\\nN:    490\\n\",\"GridWorldState(1, 2, false)\\nN:    117\\n\",\"GridWorldState(9, 2, false)\\nN:    299\\n\",\"GridWorldState(10, 1, false)\\nN:     63\\n\",\"GridWorldState(7, 3, false)\\nN:    263\\n\",\"GridWorldState(1, 5, false)\\nN:     24\\n\",\"GridWorldState(7, 4, false)\\nN:     94\\n\",\"GridWorldState(2, 5, false)\\nN:     20\\n\",\"GridWorldState(3, 3, false)\\nN:     72\\n\",\"GridWorldState(10, 2, false)\\nN:     70\\n\",\"GridWorldState(6, 3, false)\\nN:    157\\n\",\"GridWorldState(5, 7, false)\\nN:      1\\n\",\"GridWorldState(2, 2, false)\\nN:    137\\n\",\"GridWorldState(4, 1, false)\\nN:   2010\\n\",\"GridWorldState(1, 4, false)\\nN:     37\\n\",\"GridWorldState(3, 1, false)\\nN:    594\\n\",\"GridWorldState(3, 5, false)\\nN:     24\\n\",\"GridWorldState(2, 3, false)\\nN:     84\\n\",\"GridWorldState(6, 2, false)\\nN:    458\\n\",\"GridWorldState(6, 4, false)\\nN:     66\\n\",\"GridWorldState(5, 2, false)\\nN:    602\\n\",\"GridWorldState(7, 6, false)\\nN:      9\\n\",\"GridWorldState(10, 2, false)\\nN:     70\\n\",\"GridWorldState(4, 4, false)\\nN:     12\\n\",\"GridWorldState(8, 2, false)\\nN:    788\\n\",\"GridWorldState(3, 2, false)\\nN:    199\\n\",\"GridWorldState(3, 2, false)\\nN:    199\\n\",\"GridWorldState(8, 5, false)\\nN:     38\\n\",\"GridWorldState(9, 6, false)\\nN:      2\\n\",\"GridWorldState(5, 2, false)\\nN:    602\\n\",\"GridWorldState(3, 4, false)\\nN:     27\\n\",\"GridWorldState(6, 2, false)\\nN:    458\\n\",\"GridWorldState(3, 3, false)\\nN:     72\\n\",\"GridWorldState(8, 6, false)\\nN:     11\\n\",\"GridWorldState(7, 2, false)\\nN:    490\\n\",\"GridWorldState(4, 4, false)\\nN:     12\\n\",\"GridWorldState(10, 2, false)\\nN:     70\\n\",\"GridWorldState(6, 5, false)\\nN:     27\\n\",\"GridWorldState(8, 3, false)\\nN:    599\\n\",\"GridWorldState(8, 4, false)\\nN:    121\\n\",\"GridWorldState(2, 2, false)\\nN:    137\\n\",\"GridWorldState(1, 5, false)\\nN:     24\\n\",\"GridWorldState(6, 6, false)\\nN:      5\\n\",\"GridWorldState(6, 4, false)\\nN:     66\\n\",\"GridWorldState(2, 5, false)\\nN:     20\\n\",\"GridWorldState(8, 4, false)\\nN:    121\\n\",\"GridWorldState(3, 2, false)\\nN:    199\\n\",\"GridWorldState(8, 2, false)\\nN:    788\\n\",\"GridWorldState(2, 1, false)\\nN:    273\\n\",\"GridWorldState(4, 5, false)\\nN:     12\\n\",\"GridWorldState(5, 1, false)\\nN:   1577\\n\",\"GridWorldState(6, 4, false)\\nN:     66\\n\",\"GridWorldState(10, 5, false)\\nN:      2\\n\",\"GridWorldState(4, 1, false)\\nN:   2010\\n\",\"GridWorldState(9, 3, true)\\nN:      0\\n\",\"GridWorldState(1, 4, false)\\nN:     37\\n\",\"GridWorldState(7, 5, false)\\nN:     41\\n\",\"GridWorldState(1, 3, false)\\nN:     93\\n\",\"GridWorldState(8, 2, false)\\nN:    788\\n\",\"GridWorldState(7, 3, false)\\nN:    263\\n\",\"GridWorldState(3, 4, false)\\nN:     27\\n\",\"GridWorldState(2, 3, false)\\nN:     84\\n\",\"GridWorldState(8, 6, false)\\nN:     11\\n\",\"GridWorldState(8, 1, false)\\nN:    704\\n\",\"GridWorldState(5, 3, false)\\nN:    115\\n\",\"GridWorldState(7, 6, false)\\nN:      9\\n\",\"GridWorldState(3, 1, false)\\nN:    594\\n\",\"GridWorldState(5, 1, false)\\nN:   1577\\n\",\"GridWorldState(10, 3, false)\\nN:     21\\n\",\"GridWorldState(7, 2, false)\\nN:    490\\n\",\"GridWorldState(4, 3, false)\\nN:     76\\n\",\"GridWorldState(6, 2, false)\\nN:    458\\n\",\"GridWorldState(7, 5, false)\\nN:     41\\n\",\"GridWorldState(9, 1, false)\\nN:    209\\n\",\"GridWorldState(3, 2, false)\\nN:    199\\n\",\"GridWorldState(2, 3, false)\\nN:     84\\n\",\"GridWorldState(7, 2, false)\\nN:    490\\n\",\"GridWorldState(5, 1, false)\\nN:   1577\\n\",\"GridWorldState(3, 2, false)\\nN:    199\\n\",\"GridWorldState(7, 2, false)\\nN:    490\\n\",\"GridWorldState(6, 1, false)\\nN:   1111\\n\",\"GridWorldState(3, 6, false)\\nN:      8\\n\",\"GridWorldState(10, 2, false)\\nN:     70\\n\",\"GridWorldState(8, 2, false)\\nN:    788\\n\",\"GridWorldState(2, 3, false)\\nN:     84\\n\",\"GridWorldState(5, 6, false)\\nN:      5\\n\",\"GridWorldState(2, 4, false)\\nN:     42\\n\",\"GridWorldState(7, 2, false)\\nN:    490\\n\",\"GridWorldState(6, 4, false)\\nN:     66\\n\",\"GridWorldState(7, 1, false)\\nN:    855\\n\",\"GridWorldState(5, 5, false)\\nN:     24\\n\",\"GridWorldState(2, 1, false)\\nN:    273\\n\",\"GridWorldState(10, 2, false)\\nN:     70\\n\",\"GridWorldState(9, 6, false)\\nN:      2\\n\",\"GridWorldState(5, 5, false)\\nN:     24\\n\",\"GridWorldState(7, 1, false)\\nN:    855\\n\",\"GridWorldState(4, 3, false)\\nN:     76\\n\",\"GridWorldState(6, 2, false)\\nN:    458\\n\",\"GridWorldState(9, 4, false)\\nN:     28\\n\",\"GridWorldState(2, 6, false)\\nN:      4\\n\",\"GridWorldState(8, 1, false)\\nN:    704\\n\",\"GridWorldState(1, 3, false)\\nN:     93\\n\",\"GridWorldState(3, 6, false)\\nN:      8\\n\",\"GridWorldState(4, 3, false)\\nN:     76\\n\",\"GridWorldState(1, 3, false)\\nN:     93\\n\",\"GridWorldState(4, 3, false)\\nN:     76\\n\",\"GridWorldState(9, 4, false)\\nN:     28\\n\",\"GridWorldState(4, 2, false)\\nN:    362\\n\",\"GridWorldState(9, 1, false)\\nN:    209\\n\",\"GridWorldState(7, 1, false)\\nN:    855\\n\",\"GridWorldState(6, 1, false)\\nN:   1111\\n\",\"GridWorldState(4, 2, false)\\nN:    362\\n\",\"GridWorldState(4, 4, false)\\nN:     12\\n\",\"GridWorldState(1, 5, false)\\nN:     24\\n\",\"GridWorldState(3, 2, false)\\nN:    199\\n\",\"GridWorldState(1, 7, false)\\nN:      1\\n\",\"GridWorldState(4, 6, true)\\nN:      0\\n\",\"GridWorldState(3, 3, false)\\nN:     72\\n\",\"GridWorldState(2, 2, false)\\nN:    137\\n\",\"GridWorldState(10, 4, false)\\nN:     18\\n\",\"GridWorldState(3, 3, false)\\nN:     72\\n\",\"GridWorldState(5, 2, false)\\nN:    602\\n\",\"GridWorldState(5, 1, false)\\nN:   1577\\n\",\"GridWorldState(7, 1, false)\\nN:    855\\n\",\"GridWorldState(4, 2, false)\\nN:    362\\n\",\"GridWorldState(7, 3, false)\\nN:    263\\n\",\"GridWorldState(2, 3, false)\\nN:     84\\n\",\"GridWorldState(3, 5, false)\\nN:     24\\n\",\"GridWorldState(7, 3, false)\\nN:    263\\n\",\"GridWorldState(4, 3, true)\\nN:      0\\n\",\"GridWorldState(4, 3, false)\\nN:     76\\n\",\"GridWorldState(8, 4, false)\\nN:    121\\n\",\"GridWorldState(5, 5, false)\\nN:     24\\n\",\"GridWorldState(7, 6, false)\\nN:      9\\n\",\"GridWorldState(8, 5, false)\\nN:     38\\n\",\"GridWorldState(8, 1, false)\\nN:    704\\n\",\"GridWorldState(4, 3, false)\\nN:     76\\n\",\"GridWorldState(5, 2, false)\\nN:    602\\n\",\"GridWorldState(5, 2, false)\\nN:    602\\n\",\"GridWorldState(8, 3, false)\\nN:    599\\n\",\"GridWorldState(7, 1, false)\\nN:    855\\n\",\"GridWorldState(1, 1, false)\\nN:    199\\n\",\"GridWorldState(9, 3, true)\\nN:      0\\n\",\"GridWorldState(6, 1, false)\\nN:   1111\\n\",\"GridWorldState(7, 5, false)\\nN:     41\\n\",\"GridWorldState(6, 2, false)\\nN:    458\\n\",\"                       up\\nQ:  -4.46\\nN:     23\\n\",\"                     down\\nQ:   0.00\\nN:    480\\n\",\"                     left\\nQ:  -0.53\\nN:    228\\n\",\"                    right\\nQ:   1.71\\nN:   1279\\n\",\"                       up\\nQ:  -7.66\\nN:      8\\n\",\"                     down\\nQ:  -3.60\\nN:     27\\n\",\"                     left\\nQ:  -3.63\\nN:     31\\n\",\"                    right\\nQ:   0.19\\nN:    296\\n\",\"                       up\\nQ:  -0.45\\nN:     89\\n\",\"                     down\\nQ:   0.00\\nN:    131\\n\",\"                     left\\nQ:  -0.38\\nN:     94\\n\",\"                    right\\nQ:   0.73\\nN:    280\\n\",\"                       up\\nQ:  -0.95\\nN:     45\\n\",\"                     down\\nQ:  -0.39\\nN:     66\\n\",\"                     left\\nQ:  -1.16\\nN:     41\\n\",\"                    right\\nQ:  -1.00\\nN:     47\\n\",\"                       up\\nQ: -10.00\\nN:     19\\n\",\"                     down\\nQ: -10.00\\nN:     19\\n\",\"                     left\\nQ: -10.00\\nN:     19\\n\",\"                    right\\nQ: -10.00\\nN:     19\\n\",\"                       up\\nQ:  -2.16\\nN:     19\\n\",\"                     down\\nQ:  -2.37\\nN:     19\\n\",\"                     left\\nQ:  -1.37\\nN:     30\\n\",\"                    right\\nQ:  -8.57\\nN:      4\\n\",\"                       up\\nQ:  -0.04\\nN:    134\\n\",\"                     down\\nQ:   0.00\\nN:    152\\n\",\"                     left\\nQ:  -0.58\\nN:     88\\n\",\"                    right\\nQ:   2.66\\nN:   1203\\n\",\"                       up\\nQ:   0.00\\nN:      0\\n\",\"                     down\\nQ:   0.00\\nN:      0\\n\",\"                     left\\nQ:   0.00\\nN:      0\\n\",\"                    right\\nQ:   0.00\\nN:      0\\n\",\"                       up\\nQ:  -1.93\\nN:     34\\n\",\"                     down\\nQ:   1.99\\nN:    390\\n\",\"                     left\\nQ:  -1.92\\nN:     35\\n\",\"                    right\\nQ:   0.19\\nN:    143\\n\",\"                       up\\nQ:  -0.53\\nN:     53\\n\",\"                     down\\nQ:   0.00\\nN:     86\\n\",\"                     left\\nQ:  -0.41\\nN:     58\\n\",\"                    right\\nQ:   0.01\\nN:     76\\n\",\"                       up\\nQ:  -1.19\\nN:     28\\n\",\"                     down\\nQ:  -0.21\\nN:     48\\n\",\"                     left\\nQ:  -0.67\\nN:     36\\n\",\"                    right\\nQ:  -1.39\\nN:     25\\n\",\"                       up\\nQ:  -0.49\\nN:     24\\n\",\"                     down\\nQ:  -1.18\\nN:     19\\n\",\"                     left\\nQ:  -0.05\\nN:     31\\n\",\"                    right\\nQ:  -2.96\\nN:     10\\n\",\"                       up\\nQ:  -0.59\\nN:     36\\n\",\"                     down\\nQ:   0.00\\nN:     56\\n\",\"                     left\\nQ:   0.00\\nN:     59\\n\",\"                    right\\nQ:  -0.04\\nN:     48\\n\",\"                       up\\nQ:  -1.74\\nN:     32\\n\",\"                     down\\nQ:  -1.44\\nN:     33\\n\",\"                     left\\nQ:  -5.41\\nN:      8\\n\",\"                    right\\nQ:   2.13\\nN:     42\\n\",\"                       up\\nQ:   0.48\\nN:     81\\n\",\"                     down\\nQ:   0.00\\nN:     66\\n\",\"                     left\\nQ:  -0.08\\nN:     53\\n\",\"                    right\\nQ:   3.53\\nN:    911\\n\",\"                       up\\nQ:  -0.69\\nN:     13\\n\",\"                     down\\nQ:  -3.80\\nN:      5\\n\",\"                     left\\nQ:  -6.62\\nN:      3\\n\",\"                    right\\nQ:   0.30\\nN:     19\\n\",\"                       up\\nQ:  -0.69\\nN:     27\\n\",\"                     down\\nQ:  -0.14\\nN:     31\\n\",\"                     left\\nQ:   0.00\\nN:     36\\n\",\"                    right\\nQ:  -0.77\\nN:     23\\n\",\"                       up\\nQ:  -0.28\\nN:     41\\n\",\"                     down\\nQ:   0.18\\nN:     52\\n\",\"                     left\\nQ:   0.16\\nN:     53\\n\",\"                    right\\nQ:   2.99\\nN:    312\\n\",\"                       up\\nQ:  -0.92\\nN:     19\\n\",\"                     down\\nQ:  -1.41\\nN:     15\\n\",\"                     left\\nQ:  -3.24\\nN:     10\\n\",\"                    right\\nQ:   3.28\\nN:    113\\n\",\"                       up\\nQ:   0.82\\nN:     35\\n\",\"                     down\\nQ:   0.76\\nN:     34\\n\",\"                     left\\nQ:   1.53\\nN:     51\\n\",\"                    right\\nQ:   4.41\\nN:    370\\n\",\"                       up\\nQ:  -0.08\\nN:     14\\n\",\"                     down\\nQ:   0.95\\nN:     24\\n\",\"                     left\\nQ:   0.18\\nN:     16\\n\",\"                    right\\nQ:   4.86\\nN:    209\\n\",\"                       up\\nQ:   0.00\\nN:     12\\n\",\"                     down\\nQ:   3.46\\nN:     49\\n\",\"                     left\\nQ:   1.56\\nN:     20\\n\",\"                    right\\nQ:   0.09\\nN:     13\\n\",\"                       up\\nQ:   0.85\\nN:     43\\n\",\"                     down\\nQ:   0.00\\nN:     27\\n\",\"                     left\\nQ:   0.01\\nN:     31\\n\",\"                    right\\nQ:   4.36\\nN:    754\\n\",\"                       up\\nQ:   1.09\\nN:     15\\n\",\"                     down\\nQ:   3.52\\nN:     43\\n\",\"                     left\\nQ:   2.83\\nN:     34\\n\",\"                    right\\nQ:   2.72\\nN:     29\\n\",\"                       up\\nQ:   6.06\\nN:    601\\n\",\"                     down\\nQ:   3.01\\nN:     41\\n\",\"                     left\\nQ:   1.07\\nN:     25\\n\",\"                    right\\nQ:   4.73\\nN:    121\\n\",\"                       up\\nQ:  -1.04\\nN:      7\\n\",\"                     down\\nQ:  -0.82\\nN:      8\\n\",\"                     left\\nQ:  -0.52\\nN:      7\\n\",\"                    right\\nQ:  -3.24\\nN:      5\\n\",\"                       up\\nQ:   3.57\\nN:     29\\n\",\"                     down\\nQ:   0.82\\nN:     11\\n\",\"                     left\\nQ:   0.00\\nN:     13\\n\",\"                    right\\nQ:   7.44\\nN:    546\\n\",\"                       up\\nQ:  -0.12\\nN:     12\\n\",\"                     down\\nQ:   0.00\\nN:     11\\n\",\"                     left\\nQ:   0.00\\nN:     11\\n\",\"                    right\\nQ:  -1.65\\nN:      8\\n\",\"                       up\\nQ:   0.00\\nN:     13\\n\",\"                     down\\nQ:   0.63\\nN:     19\\n\",\"                     left\\nQ:  -1.71\\nN:      9\\n\",\"                    right\\nQ:   1.97\\nN:     25\\n\",\"                       up\\nQ:   0.00\\nN:      4\\n\",\"                     down\\nQ:   0.00\\nN:      4\\n\",\"                     left\\nQ:   0.00\\nN:      5\\n\",\"                    right\\nQ:  -0.34\\nN:      7\\n\",\"                       up\\nQ:  -0.33\\nN:     20\\n\",\"                     down\\nQ:  -0.24\\nN:     20\\n\",\"                     left\\nQ:   0.00\\nN:     35\\n\",\"                    right\\nQ:  -0.92\\nN:     18\\n\",\"                       up\\nQ:  -0.78\\nN:      8\\n\",\"                     down\\nQ:   0.00\\nN:     10\\n\",\"                     left\\nQ:   0.00\\nN:     10\\n\",\"                    right\\nQ:  -0.59\\nN:      9\\n\",\"                       up\\nQ:   0.00\\nN:      6\\n\",\"                     down\\nQ:  -0.72\\nN:      3\\n\",\"                     left\\nQ:   0.00\\nN:     11\\n\",\"                    right\\nQ:   0.00\\nN:      4\\n\",\"                       up\\nQ:   5.23\\nN:    533\\n\",\"                     down\\nQ:   0.00\\nN:     30\\n\",\"                     left\\nQ:   1.96\\nN:     34\\n\",\"                    right\\nQ:   4.43\\nN:    107\\n\",\"                       up\\nQ:   6.01\\nN:    171\\n\",\"                     down\\nQ:   0.00\\nN:      9\\n\",\"                     left\\nQ:   1.88\\nN:     20\\n\",\"                    right\\nQ:   0.00\\nN:      9\\n\",\"                       up\\nQ:  10.00\\nN:    145\\n\",\"                     down\\nQ:  10.00\\nN:    145\\n\",\"                     left\\nQ:  10.00\\nN:    145\\n\",\"                    right\\nQ:  10.00\\nN:    144\\n\",\"                       up\\nQ:  -2.70\\nN:      3\\n\",\"                     down\\nQ:   0.00\\nN:      7\\n\",\"                     left\\nQ:   0.00\\nN:     10\\n\",\"                    right\\nQ:  -2.50\\nN:      4\\n\",\"                       up\\nQ:   0.00\\nN:      7\\n\",\"                     down\\nQ:   0.00\\nN:      7\\n\",\"                     left\\nQ:  -1.01\\nN:      4\\n\",\"                    right\\nQ:   0.00\\nN:      6\\n\",\"                       up\\nQ:   0.00\\nN:      2\\n\",\"                     down\\nQ:   0.00\\nN:      2\\n\",\"                     left\\nQ:  -4.50\\nN:      1\\n\",\"                    right\\nQ:   0.00\\nN:      0\\n\",\"                       up\\nQ:   7.92\\nN:    265\\n\",\"                     down\\nQ:   0.00\\nN:      7\\n\",\"                     left\\nQ:   2.34\\nN:     16\\n\",\"                    right\\nQ:   2.02\\nN:     11\\n\",\"                       up\\nQ:   0.00\\nN:      7\\n\",\"                     down\\nQ:   0.00\\nN:      7\\n\",\"                     left\\nQ:   1.97\\nN:     11\\n\",\"                    right\\nQ:   2.33\\nN:     13\\n\",\"                       up\\nQ:  -0.81\\nN:      5\\n\",\"                     down\\nQ:  -9.00\\nN:      1\\n\",\"                     left\\nQ:  -1.48\\nN:      4\\n\",\"                    right\\nQ:  -4.50\\nN:      2\\n\",\"                       up\\nQ:   0.00\\nN:      0\\n\",\"                     down\\nQ:   0.00\\nN:      0\\n\",\"                     left\\nQ:   0.00\\nN:      0\\n\",\"                    right\\nQ:   0.00\\nN:      0\\n\",\"                       up\\nQ:  -2.25\\nN:      2\\n\",\"                     down\\nQ:   0.00\\nN:      4\\n\",\"                     left\\nQ:  -3.70\\nN:      3\\n\",\"                    right\\nQ:   0.00\\nN:      3\\n\",\"                       up\\nQ:   2.67\\nN:     11\\n\",\"                     down\\nQ:   1.09\\nN:      6\\n\",\"                     left\\nQ:   6.22\\nN:     39\\n\",\"                    right\\nQ:   0.00\\nN:     14\\n\",\"                       up\\nQ:  -4.50\\nN:      1\\n\",\"                     down\\nQ:   0.00\\nN:      4\\n\",\"                     left\\nQ:   0.00\\nN:      2\\n\",\"                    right\\nQ:  -4.50\\nN:      1\\n\",\"                       up\\nQ:   0.00\\nN:      2\\n\",\"                     down\\nQ:   0.00\\nN:      1\\n\",\"                     left\\nQ:   0.00\\nN:      1\\n\",\"                    right\\nQ:   0.00\\nN:      0\\n\",\"                       up\\nQ:   0.00\\nN:      7\\n\",\"                     down\\nQ:   0.00\\nN:      6\\n\",\"                     left\\nQ:   0.00\\nN:      6\\n\",\"                    right\\nQ:   0.00\\nN:      8\\n\",\"                       up\\nQ:   0.00\\nN:      5\\n\",\"                     down\\nQ:   6.32\\nN:      4\\n\",\"                     left\\nQ:   5.89\\nN:      4\\n\",\"                    right\\nQ:   0.00\\nN:      8\\n\",\"                       up\\nQ:   0.00\\nN:      2\\n\",\"                     down\\nQ:   0.00\\nN:      4\\n\",\"                     left\\nQ:   0.00\\nN:      2\\n\",\"                    right\\nQ:   0.34\\nN:      3\\n\",\"                       up\\nQ:   4.97\\nN:     31\\n\",\"                     down\\nQ:   0.00\\nN:     10\\n\",\"                     left\\nQ:   2.71\\nN:     12\\n\",\"                    right\\nQ:   0.00\\nN:     10\\n\",\"                       up\\nQ:   0.00\\nN:      3\\n\",\"                     down\\nQ:   7.73\\nN:     18\\n\",\"                     left\\nQ:   2.25\\nN:      4\\n\",\"                    right\\nQ:   0.00\\nN:      3\\n\",\"                       up\\nQ:   0.00\\nN:      2\\n\",\"                     down\\nQ:   0.00\\nN:      3\\n\",\"                     left\\nQ:   0.00\\nN:      2\\n\",\"                    right\\nQ:   0.00\\nN:     11\\n\",\"                       up\\nQ:  -0.12\\nN:      9\\n\",\"                     down\\nQ:   0.43\\nN:     10\\n\",\"                     left\\nQ:   0.00\\nN:     10\\n\",\"                    right\\nQ:   0.84\\nN:     12\\n\",\"                       up\\nQ:  -5.00\\nN:      1\\n\",\"                     down\\nQ:  -5.00\\nN:      1\\n\",\"                     left\\nQ:  -5.00\\nN:      1\\n\",\"                    right\\nQ:  -5.00\\nN:      1\\n\",\"                       up\\nQ:   0.00\\nN:      2\\n\",\"                     down\\nQ:   0.00\\nN:      3\\n\",\"                     left\\nQ:   0.00\\nN:      6\\n\",\"                    right\\nQ:   0.00\\nN:      0\\n\",\"                       up\\nQ:   0.00\\nN:      2\\n\",\"                     down\\nQ:   4.55\\nN:      5\\n\",\"                     left\\nQ:   1.33\\nN:      4\\n\",\"                    right\\nQ:   0.00\\nN:      2\\n\",\"                       up\\nQ:   0.89\\nN:      2\\n\",\"                     down\\nQ:   0.00\\nN:      3\\n\",\"                     left\\nQ:  -1.94\\nN:      1\\n\",\"                    right\\nQ:  -2.20\\nN:      3\\n\",\"                       up\\nQ:   0.00\\nN:      1\\n\",\"                     down\\nQ:   0.00\\nN:      0\\n\",\"                     left\\nQ:   0.00\\nN:      0\\n\",\"                    right\\nQ:   0.00\\nN:      0\\n\",\"                       up\\nQ:   0.00\\nN:      1\\n\",\"                     down\\nQ:   0.00\\nN:      0\\n\",\"                     left\\nQ:   0.00\\nN:      0\\n\",\"                    right\\nQ:   0.00\\nN:      0\\n\",\"                       up\\nQ:   0.00\\nN:      0\\n\",\"                     down\\nQ:   0.00\\nN:      0\\n\",\"                     left\\nQ:   0.00\\nN:      0\\n\",\"                    right\\nQ:   0.00\\nN:      0\\n\",\"                       up\\nQ:  -1.08\\nN:      2\\n\",\"                     down\\nQ:   0.00\\nN:      1\\n\",\"                     left\\nQ:  -4.05\\nN:      1\\n\",\"                    right\\nQ:   0.00\\nN:      1\\n\",\"                       up\\nQ:  -2.39\\nN:      1\\n\",\"                     down\\nQ:   0.00\\nN:      0\\n\",\"                     left\\nQ:   0.00\\nN:      0\\n\",\"                    right\\nQ:   0.00\\nN:      0\\n\",\"                       up\\nQ:   0.00\\nN:      0\\n\",\"                     down\\nQ:   0.00\\nN:      0\\n\",\"                     left\\nQ:   0.00\\nN:      0\\n\",\"                    right\\nQ:   0.00\\nN:      0\\n\",\"                       up\\nQ:   0.00\\nN:      1\\n\",\"                     down\\nQ:   0.00\\nN:      0\\n\",\"                     left\\nQ:   0.00\\nN:      0\\n\",\"                    right\\nQ:   0.00\\nN:      0\\n\",\"                       up\\nQ:   0.00\\nN:      2\\n\",\"                     down\\nQ:   0.00\\nN:      0\\n\",\"                     left\\nQ:   0.00\\nN:      0\\n\",\"                    right\\nQ:   0.00\\nN:      0\\n\",\"                       up\\nQ:   0.00\\nN:      0\\n\",\"                     down\\nQ:   0.00\\nN:      0\\n\",\"                     left\\nQ:   0.00\\nN:      0\\n\",\"                    right\\nQ:   0.00\\nN:      0\\n\",\"                       up\\nQ:   2.39\\nN:      2\\n\",\"                     down\\nQ:   0.00\\nN:      0\\n\",\"                     left\\nQ:   0.00\\nN:      0\\n\",\"                    right\\nQ:   0.00\\nN:      0\\n\",\"                       up\\nQ:   0.00\\nN:      0\\n\",\"                     down\\nQ:   0.00\\nN:      0\\n\",\"                     left\\nQ:   0.00\\nN:      0\\n\",\"                    right\\nQ:   0.00\\nN:      0\\n\",\"                       up\\nQ:   0.00\\nN:      0\\n\",\"                     down\\nQ:   0.00\\nN:      0\\n\",\"                     left\\nQ:   0.00\\nN:      0\\n\",\"                    right\\nQ:   0.00\\nN:      0\\n\",\"                       up\\nQ:   0.00\\nN:      0\\n\",\"                     down\\nQ:   0.00\\nN:      0\\n\",\"                     left\\nQ:   0.00\\nN:      0\\n\",\"                    right\\nQ:   0.00\\nN:      0\\n\",\"                       up\\nQ:   0.00\\nN:      1\\n\",\"                     down\\nQ:   0.00\\nN:      0\\n\",\"                     left\\nQ:   0.00\\nN:      0\\n\",\"                    right\\nQ:   0.00\\nN:      0\\n\",\"                       up\\nQ:   0.00\\nN:      0\\n\",\"                     down\\nQ:   0.00\\nN:      0\\n\",\"                     left\\nQ:   0.00\\nN:      0\\n\",\"                    right\\nQ:   0.00\\nN:      0\\n\",\"                       up\\nQ:   0.00\\nN:      0\\n\",\"                     down\\nQ:   0.00\\nN:      0\\n\",\"                     left\\nQ:   0.00\\nN:      0\\n\",\"                    right\\nQ:   0.00\\nN:      0\\n\"],\"tooltip\":[\"GridWorldState(4, 1, false)\\nN: 2010\\n\",\"GridWorldState(5, 2, false)\\nN: 602\\n\",\"GridWorldState(9, 3, false)\\nN: 579\\n\",\"GridWorldState(3, 2, false)\\nN: 199\\n\",\"GridWorldState(9, 1, false)\\nN: 209\\n\",\"GridWorldState(9, 5, false)\\nN: 13\\n\",\"GridWorldState(9, 3, true)\\nN: 0\\n\",\"GridWorldState(5, 3, false)\\nN: 115\\n\",\"GridWorldState(9, 3, false)\\nN: 579\\n\",\"GridWorldState(2, 4, false)\\nN: 42\\n\",\"GridWorldState(2, 4, false)\\nN: 42\\n\",\"GridWorldState(7, 4, false)\\nN: 94\\n\",\"GridWorldState(4, 1, false)\\nN: 2010\\n\",\"GridWorldState(7, 3, false)\\nN: 263\\n\",\"GridWorldState(1, 2, false)\\nN: 117\\n\",\"GridWorldState(7, 3, false)\\nN: 263\\n\",\"GridWorldState(5, 3, false)\\nN: 115\\n\",\"GridWorldState(5, 5, false)\\nN: 24\\n\",\"GridWorldState(8, 4, false)\\nN: 121\\n\",\"GridWorldState(3, 2, false)\\nN: 199\\n\",\"GridWorldState(1, 3, false)\\nN: 93\\n\",\"GridWorldState(5, 4, false)\\nN: 40\\n\",\"GridWorldState(6, 4, false)\\nN: 66\\n\",\"GridWorldState(5, 4, false)\\nN: 40\\n\",\"GridWorldState(6, 3, false)\\nN: 157\\n\",\"GridWorldState(8, 3, false)\\nN: 599\\n\",\"GridWorldState(7, 4, false)\\nN: 94\\n\",\"GridWorldState(3, 1, false)\\nN: 594\\n\",\"GridWorldState(4, 1, false)\\nN: 2010\\n\",\"GridWorldState(2, 3, false)\\nN: 84\\n\",\"GridWorldState(10, 1, false)\\nN: 63\\n\",\"GridWorldState(8, 3, false)\\nN: 599\\n\",\"GridWorldState(2, 3, false)\\nN: 84\\n\",\"GridWorldState(4, 3, false)\\nN: 76\\n\",\"GridWorldState(5, 5, false)\\nN: 24\\n\",\"GridWorldState(8, 2, false)\\nN: 788\\n\",\"GridWorldState(6, 5, false)\\nN: 27\\n\",\"GridWorldState(3, 1, false)\\nN: 594\\n\",\"GridWorldState(1, 6, false)\\nN: 11\\n\",\"GridWorldState(5, 4, false)\\nN: 40\\n\",\"GridWorldState(3, 2, false)\\nN: 199\\n\",\"GridWorldState(3, 5, false)\\nN: 24\\n\",\"GridWorldState(6, 5, false)\\nN: 27\\n\",\"GridWorldState(7, 3, false)\\nN: 263\\n\",\"GridWorldState(4, 5, false)\\nN: 12\\n\",\"GridWorldState(3, 3, false)\\nN: 72\\n\",\"GridWorldState(8, 6, false)\\nN: 11\\n\",\"GridWorldState(7, 2, false)\\nN: 490\\n\",\"GridWorldState(9, 1, false)\\nN: 209\\n\",\"GridWorldState(7, 5, false)\\nN: 41\\n\",\"GridWorldState(4, 6, false)\\nN: 4\\n\",\"GridWorldState(3, 3, false)\\nN: 72\\n\",\"GridWorldState(1, 2, false)\\nN: 117\\n\",\"GridWorldState(5, 2, false)\\nN: 602\\n\",\"GridWorldState(9, 2, false)\\nN: 299\\n\",\"GridWorldState(7, 6, false)\\nN: 9\\n\",\"GridWorldState(5, 2, false)\\nN: 602\\n\",\"GridWorldState(7, 2, false)\\nN: 490\\n\",\"GridWorldState(5, 2, false)\\nN: 602\\n\",\"GridWorldState(10, 3, false)\\nN: 21\\n\",\"GridWorldState(7, 5, false)\\nN: 41\\n\",\"GridWorldState(1, 2, false)\\nN: 117\\n\",\"GridWorldState(10, 2, false)\\nN: 70\\n\",\"GridWorldState(6, 5, false)\\nN: 27\\n\",\"GridWorldState(5, 2, false)\\nN: 602\\n\",\"GridWorldState(6, 1, false)\\nN: 1111\\n\",\"GridWorldState(4, 3, false)\\nN: 76\\n\",\"GridWorldState(6, 2, false)\\nN: 458\\n\",\"GridWorldState(9, 3, false)\\nN: 579\\n\",\"GridWorldState(2, 3, false)\\nN: 84\\n\",\"GridWorldState(9, 4, false)\\nN: 28\\n\",\"GridWorldState(3, 3, false)\\nN: 72\\n\",\"GridWorldState(9, 3, false)\\nN: 579\\n\",\"GridWorldState(4, 6, true)\\nN: 0\\n\",\"GridWorldState(3, 2, false)\\nN: 199\\n\",\"GridWorldState(7, 5, false)\\nN: 41\\n\",\"GridWorldState(6, 3, false)\\nN: 157\\n\",\"GridWorldState(10, 1, false)\\nN: 63\\n\",\"GridWorldState(2, 4, false)\\nN: 42\\n\",\"GridWorldState(8, 4, false)\\nN: 121\\n\",\"GridWorldState(3, 4, false)\\nN: 27\\n\",\"GridWorldState(4, 5, false)\\nN: 12\\n\",\"GridWorldState(2, 1, false)\\nN: 273\\n\",\"GridWorldState(1, 1, false)\\nN: 199\\n\",\"GridWorldState(3, 1, false)\\nN: 594\\n\",\"GridWorldState(6, 1, false)\\nN: 1111\\n\",\"GridWorldState(2, 5, false)\\nN: 20\\n\",\"GridWorldState(8, 1, false)\\nN: 704\\n\",\"GridWorldState(8, 2, false)\\nN: 788\\n\",\"GridWorldState(2, 4, false)\\nN: 42\\n\",\"GridWorldState(8, 2, false)\\nN: 788\\n\",\"GridWorldState(6, 5, false)\\nN: 27\\n\",\"GridWorldState(8, 4, false)\\nN: 121\\n\",\"GridWorldState(9, 5, false)\\nN: 13\\n\",\"GridWorldState(2, 3, false)\\nN: 84\\n\",\"GridWorldState(7, 1, false)\\nN: 855\\n\",\"GridWorldState(7, 3, false)\\nN: 263\\n\",\"GridWorldState(9, 2, false)\\nN: 299\\n\",\"GridWorldState(2, 1, false)\\nN: 273\\n\",\"GridWorldState(3, 2, false)\\nN: 199\\n\",\"GridWorldState(9, 4, false)\\nN: 28\\n\",\"GridWorldState(1, 1, false)\\nN: 199\\n\",\"GridWorldState(8, 4, false)\\nN: 121\\n\",\"GridWorldState(5, 1, false)\\nN: 1577\\n\",\"GridWorldState(5, 1, false)\\nN: 1577\\n\",\"GridWorldState(7, 3, false)\\nN: 263\\n\",\"GridWorldState(1, 4, false)\\nN: 37\\n\",\"GridWorldState(2, 2, false)\\nN: 137\\n\",\"GridWorldState(8, 2, false)\\nN: 788\\n\",\"GridWorldState(7, 2, false)\\nN: 490\\n\",\"GridWorldState(1, 2, false)\\nN: 117\\n\",\"GridWorldState(4, 2, false)\\nN: 362\\n\",\"GridWorldState(5, 2, false)\\nN: 602\\n\",\"GridWorldState(9, 3, true)\\nN: 0\\n\",\"GridWorldState(4, 1, false)\\nN: 2010\\n\",\"GridWorldState(2, 2, false)\\nN: 137\\n\",\"GridWorldState(6, 2, false)\\nN: 458\\n\",\"GridWorldState(8, 5, false)\\nN: 38\\n\",\"GridWorldState(6, 3, false)\\nN: 157\\n\",\"GridWorldState(10, 5, false)\\nN: 2\\n\",\"GridWorldState(6, 4, false)\\nN: 66\\n\",\"GridWorldState(2, 1, false)\\nN: 273\\n\",\"GridWorldState(6, 4, false)\\nN: 66\\n\",\"GridWorldState(7, 2, false)\\nN: 490\\n\",\"GridWorldState(9, 2, false)\\nN: 299\\n\",\"GridWorldState(8, 3, false)\\nN: 599\\n\",\"GridWorldState(8, 2, false)\\nN: 788\\n\",\"GridWorldState(5, 4, false)\\nN: 40\\n\",\"GridWorldState(5, 2, false)\\nN: 602\\n\",\"GridWorldState(4, 3, false)\\nN: 76\\n\",\"GridWorldState(8, 2, false)\\nN: 788\\n\",\"GridWorldState(8, 2, false)\\nN: 788\\n\",\"GridWorldState(3, 5, false)\\nN: 24\\n\",\"GridWorldState(7, 5, false)\\nN: 41\\n\",\"GridWorldState(8, 3, false)\\nN: 599\\n\",\"GridWorldState(3, 3, false)\\nN: 72\\n\",\"GridWorldState(3, 5, false)\\nN: 24\\n\",\"GridWorldState(5, 5, false)\\nN: 24\\n\",\"GridWorldState(3, 3, false)\\nN: 72\\n\",\"GridWorldState(7, 5, false)\\nN: 41\\n\",\"GridWorldState(6, 3, false)\\nN: 157\\n\",\"GridWorldState(4, 2, false)\\nN: 362\\n\",\"GridWorldState(4, 2, false)\\nN: 362\\n\",\"GridWorldState(5, 4, false)\\nN: 40\\n\",\"GridWorldState(4, 3, false)\\nN: 76\\n\",\"GridWorldState(1, 4, false)\\nN: 37\\n\",\"GridWorldState(6, 2, false)\\nN: 458\\n\",\"GridWorldState(1, 3, false)\\nN: 93\\n\",\"GridWorldState(6, 5, false)\\nN: 27\\n\",\"GridWorldState(2, 2, false)\\nN: 137\\n\",\"GridWorldState(8, 2, false)\\nN: 788\\n\",\"GridWorldState(2, 4, false)\\nN: 42\\n\",\"GridWorldState(9, 3, false)\\nN: 579\\n\",\"GridWorldState(4, 1, false)\\nN: 2010\\n\",\"GridWorldState(4, 2, false)\\nN: 362\\n\",\"GridWorldState(7, 4, false)\\nN: 94\\n\",\"GridWorldState(1, 1, false)\\nN: 199\\n\",\"GridWorldState(6, 2, false)\\nN: 458\\n\",\"GridWorldState(9, 2, false)\\nN: 299\\n\",\"GridWorldState(2, 1, false)\\nN: 273\\n\",\"GridWorldState(10, 3, false)\\nN: 21\\n\",\"GridWorldState(2, 1, false)\\nN: 273\\n\",\"GridWorldState(4, 1, false)\\nN: 2010\\n\",\"GridWorldState(2, 6, false)\\nN: 4\\n\",\"GridWorldState(6, 1, false)\\nN: 1111\\n\",\"GridWorldState(4, 3, false)\\nN: 76\\n\",\"GridWorldState(2, 2, false)\\nN: 137\\n\",\"GridWorldState(8, 1, false)\\nN: 704\\n\",\"GridWorldState(2, 5, false)\\nN: 20\\n\",\"GridWorldState(2, 4, false)\\nN: 42\\n\",\"GridWorldState(5, 3, false)\\nN: 115\\n\",\"GridWorldState(8, 3, false)\\nN: 599\\n\",\"GridWorldState(7, 5, false)\\nN: 41\\n\",\"GridWorldState(5, 4, false)\\nN: 40\\n\",\"GridWorldState(8, 5, false)\\nN: 38\\n\",\"GridWorldState(4, 3, false)\\nN: 76\\n\",\"GridWorldState(7, 4, false)\\nN: 94\\n\",\"GridWorldState(3, 1, false)\\nN: 594\\n\",\"GridWorldState(4, 6, true)\\nN: 0\\n\",\"GridWorldState(10, 1, false)\\nN: 63\\n\",\"GridWorldState(2, 6, false)\\nN: 4\\n\",\"GridWorldState(6, 1, false)\\nN: 1111\\n\",\"GridWorldState(7, 4, false)\\nN: 94\\n\",\"GridWorldState(4, 1, false)\\nN: 2010\\n\",\"GridWorldState(10, 1, false)\\nN: 63\\n\",\"GridWorldState(9, 2, false)\\nN: 299\\n\",\"GridWorldState(6, 5, false)\\nN: 27\\n\",\"GridWorldState(7, 7, false)\\nN: 1\\n\",\"GridWorldState(7, 4, false)\\nN: 94\\n\",\"GridWorldState(10, 4, false)\\nN: 18\\n\",\"GridWorldState(8, 1, false)\\nN: 704\\n\",\"GridWorldState(10, 4, false)\\nN: 18\\n\",\"GridWorldState(3, 4, false)\\nN: 27\\n\",\"GridWorldState(8, 2, false)\\nN: 788\\n\",\"GridWorldState(9, 1, false)\\nN: 209\\n\",\"GridWorldState(3, 5, false)\\nN: 24\\n\",\"GridWorldState(3, 3, false)\\nN: 72\\n\",\"GridWorldState(9, 1, false)\\nN: 209\\n\",\"GridWorldState(7, 1, false)\\nN: 855\\n\",\"GridWorldState(9, 2, false)\\nN: 299\\n\",\"GridWorldState(10, 2, false)\\nN: 70\\n\",\"GridWorldState(5, 4, false)\\nN: 40\\n\",\"GridWorldState(2, 4, false)\\nN: 42\\n\",\"GridWorldState(3, 1, false)\\nN: 594\\n\",\"GridWorldState(5, 2, false)\\nN: 602\\n\",\"GridWorldState(3, 2, false)\\nN: 199\\n\",\"GridWorldState(10, 2, false)\\nN: 70\\n\",\"GridWorldState(7, 4, false)\\nN: 94\\n\",\"GridWorldState(3, 2, false)\\nN: 199\\n\",\"GridWorldState(5, 1, false)\\nN: 1577\\n\",\"GridWorldState(7, 1, false)\\nN: 855\\n\",\"GridWorldState(3, 1, false)\\nN: 594\\n\",\"GridWorldState(7, 4, false)\\nN: 94\\n\",\"GridWorldState(9, 1, false)\\nN: 209\\n\",\"GridWorldState(4, 5, false)\\nN: 12\\n\",\"GridWorldState(3, 6, false)\\nN: 8\\n\",\"GridWorldState(6, 6, false)\\nN: 5\\n\",\"GridWorldState(1, 4, false)\\nN: 37\\n\",\"GridWorldState(8, 5, false)\\nN: 38\\n\",\"GridWorldState(7, 3, false)\\nN: 263\\n\",\"GridWorldState(9, 1, false)\\nN: 209\\n\",\"GridWorldState(7, 6, false)\\nN: 9\\n\",\"GridWorldState(4, 4, false)\\nN: 12\\n\",\"GridWorldState(8, 1, false)\\nN: 704\\n\",\"GridWorldState(8, 5, false)\\nN: 38\\n\",\"GridWorldState(6, 1, false)\\nN: 1111\\n\",\"GridWorldState(2, 2, false)\\nN: 137\\n\",\"GridWorldState(2, 2, false)\\nN: 137\\n\",\"GridWorldState(8, 3, false)\\nN: 599\\n\",\"GridWorldState(6, 3, false)\\nN: 157\\n\",\"GridWorldState(6, 3, false)\\nN: 157\\n\",\"GridWorldState(3, 5, false)\\nN: 24\\n\",\"GridWorldState(1, 1, false)\\nN: 199\\n\",\"GridWorldState(3, 5, false)\\nN: 24\\n\",\"GridWorldState(1, 6, false)\\nN: 11\\n\",\"GridWorldState(7, 2, false)\\nN: 490\\n\",\"GridWorldState(7, 5, false)\\nN: 41\\n\",\"GridWorldState(3, 6, false)\\nN: 8\\n\",\"GridWorldState(4, 2, false)\\nN: 362\\n\",\"GridWorldState(7, 2, false)\\nN: 490\\n\",\"GridWorldState(7, 3, false)\\nN: 263\\n\",\"GridWorldState(6, 3, false)\\nN: 157\\n\",\"GridWorldState(1, 4, false)\\nN: 37\\n\",\"GridWorldState(6, 6, false)\\nN: 5\\n\",\"GridWorldState(5, 4, false)\\nN: 40\\n\",\"GridWorldState(8, 4, false)\\nN: 121\\n\",\"GridWorldState(4, 2, false)\\nN: 362\\n\",\"GridWorldState(1, 5, false)\\nN: 24\\n\",\"GridWorldState(1, 3, false)\\nN: 93\\n\",\"GridWorldState(8, 1, false)\\nN: 704\\n\",\"GridWorldState(2, 5, false)\\nN: 20\\n\",\"GridWorldState(9, 4, false)\\nN: 28\\n\",\"GridWorldState(4, 3, true)\\nN: 0\\n\",\"GridWorldState(5, 3, false)\\nN: 115\\n\",\"GridWorldState(9, 4, false)\\nN: 28\\n\",\"GridWorldState(6, 3, false)\\nN: 157\\n\",\"GridWorldState(6, 5, false)\\nN: 27\\n\",\"GridWorldState(4, 2, false)\\nN: 362\\n\",\"GridWorldState(4, 4, false)\\nN: 12\\n\",\"GridWorldState(9, 3, false)\\nN: 579\\n\",\"GridWorldState(8, 4, false)\\nN: 121\\n\",\"GridWorldState(3, 4, false)\\nN: 27\\n\",\"GridWorldState(3, 1, false)\\nN: 594\\n\",\"GridWorldState(1, 3, false)\\nN: 93\\n\",\"GridWorldState(9, 2, false)\\nN: 299\\n\",\"GridWorldState(8, 1, false)\\nN: 704\\n\",\"GridWorldState(6, 3, false)\\nN: 157\\n\",\"GridWorldState(6, 1, false)\\nN: 1111\\n\",\"GridWorldState(2, 3, false)\\nN: 84\\n\",\"GridWorldState(7, 1, false)\\nN: 855\\n\",\"GridWorldState(2, 5, false)\\nN: 20\\n\",\"GridWorldState(9, 3, false)\\nN: 579\\n\",\"GridWorldState(8, 2, false)\\nN: 788\\n\",\"GridWorldState(7, 1, false)\\nN: 855\\n\",\"GridWorldState(9, 3, false)\\nN: 579\\n\",\"GridWorldState(1, 3, false)\\nN: 93\\n\",\"GridWorldState(4, 3, false)\\nN: 76\\n\",\"GridWorldState(2, 7, false)\\nN: 0\\n\",\"GridWorldState(6, 7, false)\\nN: 1\\n\",\"GridWorldState(3, 3, false)\\nN: 72\\n\",\"GridWorldState(8, 5, false)\\nN: 38\\n\",\"GridWorldState(7, 2, false)\\nN: 490\\n\",\"GridWorldState(4, 5, false)\\nN: 12\\n\",\"GridWorldState(2, 2, false)\\nN: 137\\n\",\"GridWorldState(8, 5, false)\\nN: 38\\n\",\"GridWorldState(5, 1, false)\\nN: 1577\\n\",\"GridWorldState(9, 5, false)\\nN: 13\\n\",\"GridWorldState(2, 1, false)\\nN: 273\\n\",\"GridWorldState(2, 3, false)\\nN: 84\\n\",\"GridWorldState(1, 6, false)\\nN: 11\\n\",\"GridWorldState(1, 4, false)\\nN: 37\\n\",\"GridWorldState(5, 3, false)\\nN: 115\\n\",\"GridWorldState(7, 2, false)\\nN: 490\\n\",\"GridWorldState(8, 4, false)\\nN: 121\\n\",\"GridWorldState(2, 5, false)\\nN: 20\\n\",\"GridWorldState(2, 2, false)\\nN: 137\\n\",\"GridWorldState(4, 1, false)\\nN: 2010\\n\",\"GridWorldState(3, 5, false)\\nN: 24\\n\",\"GridWorldState(4, 3, true)\\nN: 0\\n\",\"GridWorldState(2, 2, false)\\nN: 137\\n\",\"GridWorldState(4, 3, true)\\nN: 0\\n\",\"GridWorldState(5, 6, false)\\nN: 5\\n\",\"GridWorldState(6, 2, false)\\nN: 458\\n\",\"GridWorldState(5, 5, false)\\nN: 24\\n\",\"GridWorldState(1, 2, false)\\nN: 117\\n\",\"GridWorldState(8, 3, false)\\nN: 599\\n\",\"GridWorldState(8, 5, false)\\nN: 38\\n\",\"GridWorldState(4, 6, false)\\nN: 4\\n\",\"GridWorldState(6, 6, false)\\nN: 5\\n\",\"GridWorldState(1, 1, false)\\nN: 199\\n\",\"GridWorldState(5, 3, false)\\nN: 115\\n\",\"GridWorldState(4, 3, false)\\nN: 76\\n\",\"GridWorldState(2, 3, false)\\nN: 84\\n\",\"GridWorldState(7, 2, false)\\nN: 490\\n\",\"GridWorldState(9, 3, false)\\nN: 579\\n\",\"GridWorldState(5, 2, false)\\nN: 602\\n\",\"GridWorldState(7, 3, false)\\nN: 263\\n\",\"GridWorldState(2, 4, false)\\nN: 42\\n\",\"GridWorldState(7, 4, false)\\nN: 94\\n\",\"GridWorldState(6, 3, false)\\nN: 157\\n\",\"GridWorldState(4, 5, false)\\nN: 12\\n\",\"GridWorldState(5, 3, false)\\nN: 115\\n\",\"GridWorldState(6, 3, false)\\nN: 157\\n\",\"GridWorldState(1, 4, false)\\nN: 37\\n\",\"GridWorldState(6, 3, false)\\nN: 157\\n\",\"GridWorldState(2, 4, false)\\nN: 42\\n\",\"GridWorldState(3, 4, false)\\nN: 27\\n\",\"GridWorldState(6, 2, false)\\nN: 458\\n\",\"GridWorldState(5, 3, false)\\nN: 115\\n\",\"GridWorldState(1, 5, false)\\nN: 24\\n\",\"GridWorldState(10, 6, false)\\nN: 1\\n\",\"GridWorldState(2, 5, false)\\nN: 20\\n\",\"GridWorldState(7, 4, false)\\nN: 94\\n\",\"GridWorldState(8, 5, false)\\nN: 38\\n\",\"GridWorldState(4, 6, false)\\nN: 4\\n\",\"GridWorldState(4, 2, false)\\nN: 362\\n\",\"GridWorldState(5, 3, false)\\nN: 115\\n\",\"GridWorldState(5, 3, false)\\nN: 115\\n\",\"GridWorldState(6, 2, false)\\nN: 458\\n\",\"GridWorldState(5, 5, false)\\nN: 24\\n\",\"GridWorldState(9, 4, false)\\nN: 28\\n\",\"GridWorldState(4, 6, false)\\nN: 4\\n\",\"GridWorldState(9, 5, false)\\nN: 13\\n\",\"GridWorldState(4, 1, false)\\nN: 2010\\n\",\"GridWorldState(5, 6, false)\\nN: 5\\n\",\"GridWorldState(8, 4, false)\\nN: 121\\n\",\"GridWorldState(6, 2, false)\\nN: 458\\n\",\"GridWorldState(6, 1, false)\\nN: 1111\\n\",\"GridWorldState(6, 1, false)\\nN: 1111\\n\",\"GridWorldState(6, 3, false)\\nN: 157\\n\",\"GridWorldState(5, 1, false)\\nN: 1577\\n\",\"GridWorldState(1, 4, false)\\nN: 37\\n\",\"GridWorldState(1, 6, false)\\nN: 11\\n\",\"GridWorldState(3, 2, false)\\nN: 199\\n\",\"GridWorldState(5, 2, false)\\nN: 602\\n\",\"GridWorldState(3, 5, false)\\nN: 24\\n\",\"GridWorldState(6, 3, false)\\nN: 157\\n\",\"GridWorldState(1, 2, false)\\nN: 117\\n\",\"GridWorldState(6, 4, false)\\nN: 66\\n\",\"GridWorldState(2, 3, false)\\nN: 84\\n\",\"GridWorldState(9, 3, false)\\nN: 579\\n\",\"GridWorldState(6, 2, false)\\nN: 458\\n\",\"GridWorldState(9, 4, false)\\nN: 28\\n\",\"GridWorldState(2, 4, false)\\nN: 42\\n\",\"GridWorldState(1, 4, false)\\nN: 37\\n\",\"GridWorldState(5, 4, false)\\nN: 40\\n\",\"GridWorldState(3, 4, false)\\nN: 27\\n\",\"GridWorldState(7, 3, false)\\nN: 263\\n\",\"GridWorldState(10, 2, false)\\nN: 70\\n\",\"GridWorldState(9, 2, false)\\nN: 299\\n\",\"GridWorldState(4, 4, false)\\nN: 12\\n\",\"GridWorldState(1, 1, false)\\nN: 199\\n\",\"GridWorldState(10, 1, false)\\nN: 63\\n\",\"GridWorldState(2, 1, false)\\nN: 273\\n\",\"GridWorldState(3, 2, false)\\nN: 199\\n\",\"GridWorldState(7, 5, false)\\nN: 41\\n\",\"GridWorldState(9, 1, false)\\nN: 209\\n\",\"GridWorldState(8, 3, false)\\nN: 599\\n\",\"GridWorldState(1, 2, false)\\nN: 117\\n\",\"GridWorldState(7, 4, false)\\nN: 94\\n\",\"GridWorldState(1, 2, false)\\nN: 117\\n\",\"GridWorldState(1, 2, false)\\nN: 117\\n\",\"GridWorldState(10, 1, false)\\nN: 63\\n\",\"GridWorldState(3, 1, false)\\nN: 594\\n\",\"GridWorldState(8, 1, false)\\nN: 704\\n\",\"GridWorldState(7, 4, false)\\nN: 94\\n\",\"GridWorldState(8, 4, false)\\nN: 121\\n\",\"GridWorldState(8, 5, false)\\nN: 38\\n\",\"GridWorldState(7, 3, false)\\nN: 263\\n\",\"GridWorldState(7, 4, false)\\nN: 94\\n\",\"GridWorldState(7, 3, false)\\nN: 263\\n\",\"GridWorldState(10, 4, false)\\nN: 18\\n\",\"GridWorldState(1, 3, false)\\nN: 93\\n\",\"GridWorldState(6, 3, false)\\nN: 157\\n\",\"GridWorldState(8, 6, false)\\nN: 11\\n\",\"GridWorldState(10, 4, false)\\nN: 18\\n\",\"GridWorldState(9, 2, false)\\nN: 299\\n\",\"GridWorldState(3, 1, false)\\nN: 594\\n\",\"GridWorldState(8, 2, false)\\nN: 788\\n\",\"GridWorldState(7, 1, false)\\nN: 855\\n\",\"GridWorldState(6, 4, false)\\nN: 66\\n\",\"GridWorldState(1, 3, false)\\nN: 93\\n\",\"GridWorldState(2, 1, false)\\nN: 273\\n\",\"GridWorldState(10, 1, false)\\nN: 63\\n\",\"GridWorldState(10, 3, false)\\nN: 21\\n\",\"GridWorldState(5, 1, false)\\nN: 1577\\n\",\"GridWorldState(8, 4, false)\\nN: 121\\n\",\"GridWorldState(2, 2, false)\\nN: 137\\n\",\"GridWorldState(8, 3, false)\\nN: 599\\n\",\"GridWorldState(1, 1, false)\\nN: 199\\n\",\"GridWorldState(7, 6, false)\\nN: 9\\n\",\"GridWorldState(8, 6, false)\\nN: 11\\n\",\"GridWorldState(2, 4, false)\\nN: 42\\n\",\"GridWorldState(10, 3, false)\\nN: 21\\n\",\"GridWorldState(7, 2, false)\\nN: 490\\n\",\"GridWorldState(1, 2, false)\\nN: 117\\n\",\"GridWorldState(9, 2, false)\\nN: 299\\n\",\"GridWorldState(10, 1, false)\\nN: 63\\n\",\"GridWorldState(7, 3, false)\\nN: 263\\n\",\"GridWorldState(1, 5, false)\\nN: 24\\n\",\"GridWorldState(7, 4, false)\\nN: 94\\n\",\"GridWorldState(2, 5, false)\\nN: 20\\n\",\"GridWorldState(3, 3, false)\\nN: 72\\n\",\"GridWorldState(10, 2, false)\\nN: 70\\n\",\"GridWorldState(6, 3, false)\\nN: 157\\n\",\"GridWorldState(5, 7, false)\\nN: 1\\n\",\"GridWorldState(2, 2, false)\\nN: 137\\n\",\"GridWorldState(4, 1, false)\\nN: 2010\\n\",\"GridWorldState(1, 4, false)\\nN: 37\\n\",\"GridWorldState(3, 1, false)\\nN: 594\\n\",\"GridWorldState(3, 5, false)\\nN: 24\\n\",\"GridWorldState(2, 3, false)\\nN: 84\\n\",\"GridWorldState(6, 2, false)\\nN: 458\\n\",\"GridWorldState(6, 4, false)\\nN: 66\\n\",\"GridWorldState(5, 2, false)\\nN: 602\\n\",\"GridWorldState(7, 6, false)\\nN: 9\\n\",\"GridWorldState(10, 2, false)\\nN: 70\\n\",\"GridWorldState(4, 4, false)\\nN: 12\\n\",\"GridWorldState(8, 2, false)\\nN: 788\\n\",\"GridWorldState(3, 2, false)\\nN: 199\\n\",\"GridWorldState(3, 2, false)\\nN: 199\\n\",\"GridWorldState(8, 5, false)\\nN: 38\\n\",\"GridWorldState(9, 6, false)\\nN: 2\\n\",\"GridWorldState(5, 2, false)\\nN: 602\\n\",\"GridWorldState(3, 4, false)\\nN: 27\\n\",\"GridWorldState(6, 2, false)\\nN: 458\\n\",\"GridWorldState(3, 3, false)\\nN: 72\\n\",\"GridWorldState(8, 6, false)\\nN: 11\\n\",\"GridWorldState(7, 2, false)\\nN: 490\\n\",\"GridWorldState(4, 4, false)\\nN: 12\\n\",\"GridWorldState(10, 2, false)\\nN: 70\\n\",\"GridWorldState(6, 5, false)\\nN: 27\\n\",\"GridWorldState(8, 3, false)\\nN: 599\\n\",\"GridWorldState(8, 4, false)\\nN: 121\\n\",\"GridWorldState(2, 2, false)\\nN: 137\\n\",\"GridWorldState(1, 5, false)\\nN: 24\\n\",\"GridWorldState(6, 6, false)\\nN: 5\\n\",\"GridWorldState(6, 4, false)\\nN: 66\\n\",\"GridWorldState(2, 5, false)\\nN: 20\\n\",\"GridWorldState(8, 4, false)\\nN: 121\\n\",\"GridWorldState(3, 2, false)\\nN: 199\\n\",\"GridWorldState(8, 2, false)\\nN: 788\\n\",\"GridWorldState(2, 1, false)\\nN: 273\\n\",\"GridWorldState(4, 5, false)\\nN: 12\\n\",\"GridWorldState(5, 1, false)\\nN: 1577\\n\",\"GridWorldState(6, 4, false)\\nN: 66\\n\",\"GridWorldState(10, 5, false)\\nN: 2\\n\",\"GridWorldState(4, 1, false)\\nN: 2010\\n\",\"GridWorldState(9, 3, true)\\nN: 0\\n\",\"GridWorldState(1, 4, false)\\nN: 37\\n\",\"GridWorldState(7, 5, false)\\nN: 41\\n\",\"GridWorldState(1, 3, false)\\nN: 93\\n\",\"GridWorldState(8, 2, false)\\nN: 788\\n\",\"GridWorldState(7, 3, false)\\nN: 263\\n\",\"GridWorldState(3, 4, false)\\nN: 27\\n\",\"GridWorldState(2, 3, false)\\nN: 84\\n\",\"GridWorldState(8, 6, false)\\nN: 11\\n\",\"GridWorldState(8, 1, false)\\nN: 704\\n\",\"GridWorldState(5, 3, false)\\nN: 115\\n\",\"GridWorldState(7, 6, false)\\nN: 9\\n\",\"GridWorldState(3, 1, false)\\nN: 594\\n\",\"GridWorldState(5, 1, false)\\nN: 1577\\n\",\"GridWorldState(10, 3, false)\\nN: 21\\n\",\"GridWorldState(7, 2, false)\\nN: 490\\n\",\"GridWorldState(4, 3, false)\\nN: 76\\n\",\"GridWorldState(6, 2, false)\\nN: 458\\n\",\"GridWorldState(7, 5, false)\\nN: 41\\n\",\"GridWorldState(9, 1, false)\\nN: 209\\n\",\"GridWorldState(3, 2, false)\\nN: 199\\n\",\"GridWorldState(2, 3, false)\\nN: 84\\n\",\"GridWorldState(7, 2, false)\\nN: 490\\n\",\"GridWorldState(5, 1, false)\\nN: 1577\\n\",\"GridWorldState(3, 2, false)\\nN: 199\\n\",\"GridWorldState(7, 2, false)\\nN: 490\\n\",\"GridWorldState(6, 1, false)\\nN: 1111\\n\",\"GridWorldState(3, 6, false)\\nN: 8\\n\",\"GridWorldState(10, 2, false)\\nN: 70\\n\",\"GridWorldState(8, 2, false)\\nN: 788\\n\",\"GridWorldState(2, 3, false)\\nN: 84\\n\",\"GridWorldState(5, 6, false)\\nN: 5\\n\",\"GridWorldState(2, 4, false)\\nN: 42\\n\",\"GridWorldState(7, 2, false)\\nN: 490\\n\",\"GridWorldState(6, 4, false)\\nN: 66\\n\",\"GridWorldState(7, 1, false)\\nN: 855\\n\",\"GridWorldState(5, 5, false)\\nN: 24\\n\",\"GridWorldState(2, 1, false)\\nN: 273\\n\",\"GridWorldState(10, 2, false)\\nN: 70\\n\",\"GridWorldState(9, 6, false)\\nN: 2\\n\",\"GridWorldState(5, 5, false)\\nN: 24\\n\",\"GridWorldState(7, 1, false)\\nN: 855\\n\",\"GridWorldState(4, 3, false)\\nN: 76\\n\",\"GridWorldState(6, 2, false)\\nN: 458\\n\",\"GridWorldState(9, 4, false)\\nN: 28\\n\",\"GridWorldState(2, 6, false)\\nN: 4\\n\",\"GridWorldState(8, 1, false)\\nN: 704\\n\",\"GridWorldState(1, 3, false)\\nN: 93\\n\",\"GridWorldState(3, 6, false)\\nN: 8\\n\",\"GridWorldState(4, 3, false)\\nN: 76\\n\",\"GridWorldState(1, 3, false)\\nN: 93\\n\",\"GridWorldState(4, 3, false)\\nN: 76\\n\",\"GridWorldState(9, 4, false)\\nN: 28\\n\",\"GridWorldState(4, 2, false)\\nN: 362\\n\",\"GridWorldState(9, 1, false)\\nN: 209\\n\",\"GridWorldState(7, 1, false)\\nN: 855\\n\",\"GridWorldState(6, 1, false)\\nN: 1111\\n\",\"GridWorldState(4, 2, false)\\nN: 362\\n\",\"GridWorldState(4, 4, false)\\nN: 12\\n\",\"GridWorldState(1, 5, false)\\nN: 24\\n\",\"GridWorldState(3, 2, false)\\nN: 199\\n\",\"GridWorldState(1, 7, false)\\nN: 1\\n\",\"GridWorldState(4, 6, true)\\nN: 0\\n\",\"GridWorldState(3, 3, false)\\nN: 72\\n\",\"GridWorldState(2, 2, false)\\nN: 137\\n\",\"GridWorldState(10, 4, false)\\nN: 18\\n\",\"GridWorldState(3, 3, false)\\nN: 72\\n\",\"GridWorldState(5, 2, false)\\nN: 602\\n\",\"GridWorldState(5, 1, false)\\nN: 1577\\n\",\"GridWorldState(7, 1, false)\\nN: 855\\n\",\"GridWorldState(4, 2, false)\\nN: 362\\n\",\"GridWorldState(7, 3, false)\\nN: 263\\n\",\"GridWorldState(2, 3, false)\\nN: 84\\n\",\"GridWorldState(3, 5, false)\\nN: 24\\n\",\"GridWorldState(7, 3, false)\\nN: 263\\n\",\"GridWorldState(4, 3, true)\\nN: 0\\n\",\"GridWorldState(4, 3, false)\\nN: 76\\n\",\"GridWorldState(8, 4, false)\\nN: 121\\n\",\"GridWorldState(5, 5, false)\\nN: 24\\n\",\"GridWorldState(7, 6, false)\\nN: 9\\n\",\"GridWorldState(8, 5, false)\\nN: 38\\n\",\"GridWorldState(8, 1, false)\\nN: 704\\n\",\"GridWorldState(4, 3, false)\\nN: 76\\n\",\"GridWorldState(5, 2, false)\\nN: 602\\n\",\"GridWorldState(5, 2, false)\\nN: 602\\n\",\"GridWorldState(8, 3, false)\\nN: 599\\n\",\"GridWorldState(7, 1, false)\\nN: 855\\n\",\"GridWorldState(1, 1, false)\\nN: 199\\n\",\"GridWorldState(9, 3, true)\\nN: 0\\n\",\"GridWorldState(6, 1, false)\\nN: 1111\\n\",\"GridWorldState(7, 5, false)\\nN: 41\\n\",\"GridWorldState(6, 2, false)\\nN: 458\\n\",\"up\\nQ: -4.464872244853043\\nN: 23\\n\",\"down\\nQ: 0.0\\nN: 480\\n\",\"left\\nQ: -0.5281601854115074\\nN: 228\\n\",\"right\\nQ: 1.7101755426640213\\nN: 1279\\n\",\"up\\nQ: -7.66125\\nN: 8\\n\",\"down\\nQ: -3.5995815587574826\\nN: 27\\n\",\"left\\nQ: -3.6325499283870966\\nN: 31\\n\",\"right\\nQ: 0.1916285813640823\\nN: 296\\n\",\"up\\nQ: -0.45194994099632574\\nN: 89\\n\",\"down\\nQ: 0.0\\nN: 131\\n\",\"left\\nQ: -0.37647211585725104\\nN: 94\\n\",\"right\\nQ: 0.734560942995079\\nN: 280\\n\",\"up\\nQ: -0.9502828775277212\\nN: 45\\n\",\"down\\nQ: -0.385847876752061\\nN: 66\\n\",\"left\\nQ: -1.1563830450307322\\nN: 41\\n\",\"right\\nQ: -0.9962015724737208\\nN: 47\\n\",\"up\\nQ: -10.0\\nN: 19\\n\",\"down\\nQ: -10.0\\nN: 19\\n\",\"left\\nQ: -10.0\\nN: 19\\n\",\"right\\nQ: -10.0\\nN: 19\\n\",\"up\\nQ: -2.157956526315789\\nN: 19\\n\",\"down\\nQ: -2.3672562631578944\\nN: 19\\n\",\"left\\nQ: -1.3713042497851053\\nN: 30\\n\",\"right\\nQ: -8.5725\\nN: 4\\n\",\"up\\nQ: -0.03947681688956823\\nN: 134\\n\",\"down\\nQ: 0.0\\nN: 152\\n\",\"left\\nQ: -0.5767006502128296\\nN: 88\\n\",\"right\\nQ: 2.657411872818323\\nN: 1203\\n\",\"up\\nQ: 0.0\\nN: 0\\n\",\"down\\nQ: 0.0\\nN: 0\\n\",\"left\\nQ: 0.0\\nN: 0\\n\",\"right\\nQ: 0.0\\nN: 0\\n\",\"up\\nQ: -1.9283261937214544\\nN: 34\\n\",\"down\\nQ: 1.9914906076444585\\nN: 390\\n\",\"left\\nQ: -1.9179380177801744\\nN: 35\\n\",\"right\\nQ: 0.19366701882640217\\nN: 143\\n\",\"up\\nQ: -0.5270553493784985\\nN: 53\\n\",\"down\\nQ: 0.0\\nN: 86\\n\",\"left\\nQ: -0.41493007525560527\\nN: 58\\n\",\"right\\nQ: 0.005244559429120306\\nN: 76\\n\",\"up\\nQ: -1.1872542398990706\\nN: 28\\n\",\"down\\nQ: -0.21006878595187492\\nN: 48\\n\",\"left\\nQ: -0.6740170286870248\\nN: 36\\n\",\"right\\nQ: -1.3928818271691599\\nN: 25\\n\",\"up\\nQ: -0.4948087499999999\\nN: 24\\n\",\"down\\nQ: -1.1785890154100662\\nN: 19\\n\",\"left\\nQ: -0.05061461227258066\\nN: 31\\n\",\"right\\nQ: -2.961441\\nN: 10\\n\",\"up\\nQ: -0.5860024400250001\\nN: 36\\n\",\"down\\nQ: 0.0\\nN: 56\\n\",\"left\\nQ: 0.0\\nN: 59\\n\",\"right\\nQ: -0.04210801460725332\\nN: 48\\n\",\"up\\nQ: -1.7356850318683126\\nN: 32\\n\",\"down\\nQ: -1.4389363636363637\\nN: 33\\n\",\"left\\nQ: -5.41125\\nN: 8\\n\",\"right\\nQ: 2.13192151241205\\nN: 42\\n\",\"up\\nQ: 0.4787104025845801\\nN: 81\\n\",\"down\\nQ: 0.0\\nN: 66\\n\",\"left\\nQ: -0.07542388535726739\\nN: 53\\n\",\"right\\nQ: 3.527928989330788\\nN: 911\\n\",\"up\\nQ: -0.6914565000000001\\nN: 13\\n\",\"down\\nQ: -3.800875492962\\nN: 5\\n\",\"left\\nQ: -6.615\\nN: 3\\n\",\"right\\nQ: 0.3012842520142106\\nN: 19\\n\",\"up\\nQ: -0.691004763\\nN: 27\\n\",\"down\\nQ: -0.13886039032258066\\nN: 31\\n\",\"left\\nQ: 0.0\\nN: 36\\n\",\"right\\nQ: -0.7692594842383043\\nN: 23\\n\",\"up\\nQ: -0.28208904750477126\\nN: 41\\n\",\"down\\nQ: 0.18402860578846164\\nN: 52\\n\",\"left\\nQ: 0.15647796636028302\\nN: 53\\n\",\"right\\nQ: 2.987154474162835\\nN: 312\\n\",\"up\\nQ: -0.9171932684210525\\nN: 19\\n\",\"down\\nQ: -1.40812994501449\\nN: 15\\n\",\"left\\nQ: -3.2380082100000003\\nN: 10\\n\",\"right\\nQ: 3.281903650081673\\nN: 113\\n\",\"up\\nQ: 0.8217605514407645\\nN: 35\\n\",\"down\\nQ: 0.7563750620639852\\nN: 34\\n\",\"left\\nQ: 1.53038936410253\\nN: 51\\n\",\"right\\nQ: 4.412846611417909\\nN: 370\\n\",\"up\\nQ: -0.08170283019628935\\nN: 14\\n\",\"down\\nQ: 0.948375\\nN: 24\\n\",\"left\\nQ: 0.1810184000625\\nN: 16\\n\",\"right\\nQ: 4.856174142893826\\nN: 209\\n\",\"up\\nQ: 0.0\\nN: 12\\n\",\"down\\nQ: 3.4557623118367355\\nN: 49\\n\",\"left\\nQ: 1.5586384500000003\\nN: 20\\n\",\"right\\nQ: 0.08940472823076927\\nN: 13\\n\",\"up\\nQ: 0.8511207503248356\\nN: 43\\n\",\"down\\nQ: 0.0\\nN: 27\\n\",\"left\\nQ: 0.013886039032258057\\nN: 31\\n\",\"right\\nQ: 4.357902575876027\\nN: 754\\n\",\"up\\nQ: 1.0871289611730002\\nN: 15\\n\",\"down\\nQ: 3.523244002325582\\nN: 43\\n\",\"left\\nQ: 2.8309898353235288\\nN: 34\\n\",\"right\\nQ: 2.723886775241379\\nN: 29\\n\",\"up\\nQ: 6.0624016314479565\\nN: 601\\n\",\"down\\nQ: 3.0132465967514634\\nN: 41\\n\",\"left\\nQ: 1.0731528\\nN: 25\\n\",\"right\\nQ: 4.733368160424017\\nN: 121\\n\",\"up\\nQ: -1.0414285714285716\\nN: 7\\n\",\"down\\nQ: -0.8201250000000001\\nN: 8\\n\",\"left\\nQ: -0.5207142857142857\\nN: 7\\n\",\"right\\nQ: -3.24\\nN: 5\\n\",\"up\\nQ: 3.5748268914103454\\nN: 29\\n\",\"down\\nQ: 0.8181818181818182\\nN: 11\\n\",\"left\\nQ: 0.0\\nN: 13\\n\",\"right\\nQ: 7.443975448081978\\nN: 546\\n\",\"up\\nQ: -0.11767897353375004\\nN: 12\\n\",\"down\\nQ: 0.0\\nN: 11\\n\",\"left\\nQ: 0.0\\nN: 11\\n\",\"right\\nQ: -1.6493625\\nN: 8\\n\",\"up\\nQ: 0.0\\nN: 13\\n\",\"down\\nQ: 0.6250215789473685\\nN: 19\\n\",\"left\\nQ: -1.705941\\nN: 9\\n\",\"right\\nQ: 1.9685291888520005\\nN: 25\\n\",\"up\\nQ: 0.0\\nN: 4\\n\",\"down\\nQ: 0.0\\nN: 4\\n\",\"left\\nQ: 0.0\\nN: 5\\n\",\"right\\nQ: -0.3416406428571429\\nN: 7\\n\",\"up\\nQ: -0.32631806002499997\\nN: 20\\n\",\"down\\nQ: -0.23914845\\nN: 20\\n\",\"left\\nQ: 0.0\\nN: 35\\n\",\"right\\nQ: -0.9178193069550001\\nN: 18\\n\",\"up\\nQ: -0.7802218181250001\\nN: 8\\n\",\"down\\nQ: 0.0\\nN: 10\\n\",\"left\\nQ: 0.0\\nN: 10\\n\",\"right\\nQ: -0.5904900000000001\\nN: 9\\n\",\"up\\nQ: 0.0\\nN: 6\\n\",\"down\\nQ: -0.7174453500000001\\nN: 3\\n\",\"left\\nQ: 0.0\\nN: 11\\n\",\"right\\nQ: 0.0\\nN: 4\\n\",\"up\\nQ: 5.233973681159933\\nN: 533\\n\",\"down\\nQ: 0.0\\nN: 30\\n\",\"left\\nQ: 1.9584602603205883\\nN: 34\\n\",\"right\\nQ: 4.434158613638861\\nN: 107\\n\",\"up\\nQ: 6.007881955746316\\nN: 171\\n\",\"down\\nQ: 0.0\\nN: 9\\n\",\"left\\nQ: 1.8847246050000004\\nN: 20\\n\",\"right\\nQ: 0.0\\nN: 9\\n\",\"up\\nQ: 10.0\\nN: 145\\n\",\"down\\nQ: 10.0\\nN: 145\\n\",\"left\\nQ: 10.0\\nN: 145\\n\",\"right\\nQ: 10.0\\nN: 144\\n\",\"up\\nQ: -2.6999999999999997\\nN: 3\\n\",\"down\\nQ: 0.0\\nN: 7\\n\",\"left\\nQ: 0.0\\nN: 10\\n\",\"right\\nQ: -2.49692625\\nN: 4\\n\",\"up\\nQ: 0.0\\nN: 7\\n\",\"down\\nQ: 0.0\\nN: 7\\n\",\"left\\nQ: -1.0125000000000002\\nN: 4\\n\",\"right\\nQ: 0.0\\nN: 6\\n\",\"up\\nQ: 0.0\\nN: 2\\n\",\"down\\nQ: 0.0\\nN: 2\\n\",\"left\\nQ: -4.5\\nN: 1\\n\",\"right\\nQ: 0.0\\nN: 0\\n\",\"up\\nQ: 7.9228318352801095\\nN: 265\\n\",\"down\\nQ: 0.0\\nN: 7\\n\",\"left\\nQ: 2.3351855625000004\\nN: 16\\n\",\"right\\nQ: 2.017718181818182\\nN: 11\\n\",\"up\\nQ: 0.0\\nN: 7\\n\",\"down\\nQ: 0.0\\nN: 7\\n\",\"left\\nQ: 1.9743556008681822\\nN: 11\\n\",\"right\\nQ: 2.328000376153846\\nN: 13\\n\",\"up\\nQ: -0.8100000000000002\\nN: 5\\n\",\"down\\nQ: -9.0\\nN: 1\\n\",\"left\\nQ: -1.48442625\\nN: 4\\n\",\"right\\nQ: -4.5\\nN: 2\\n\",\"up\\nQ: 0.0\\nN: 0\\n\",\"down\\nQ: 0.0\\nN: 0\\n\",\"left\\nQ: 0.0\\nN: 0\\n\",\"right\\nQ: 0.0\\nN: 0\\n\",\"up\\nQ: -2.25\\nN: 2\\n\",\"down\\nQ: 0.0\\nN: 4\\n\",\"left\\nQ: -3.69915\\nN: 3\\n\",\"right\\nQ: 0.0\\nN: 3\\n\",\"up\\nQ: 2.665636363636364\\nN: 11\\n\",\"down\\nQ: 1.0935000000000001\\nN: 6\\n\",\"left\\nQ: 6.219574615384616\\nN: 39\\n\",\"right\\nQ: 0.0\\nN: 14\\n\",\"up\\nQ: -4.5\\nN: 1\\n\",\"down\\nQ: 0.0\\nN: 4\\n\",\"left\\nQ: 0.0\\nN: 2\\n\",\"right\\nQ: -4.5\\nN: 1\\n\",\"up\\nQ: 0.0\\nN: 2\\n\",\"down\\nQ: 0.0\\nN: 1\\n\",\"left\\nQ: 0.0\\nN: 1\\n\",\"right\\nQ: 0.0\\nN: 0\\n\",\"up\\nQ: 0.0\\nN: 7\\n\",\"down\\nQ: 0.0\\nN: 6\\n\",\"left\\nQ: 0.0\\nN: 6\\n\",\"right\\nQ: 0.0\\nN: 8\\n\",\"up\\nQ: 0.0\\nN: 5\\n\",\"down\\nQ: 6.3225\\nN: 4\\n\",\"left\\nQ: 5.895\\nN: 4\\n\",\"right\\nQ: 0.0\\nN: 8\\n\",\"up\\nQ: 0.0\\nN: 2\\n\",\"down\\nQ: 0.0\\nN: 4\\n\",\"left\\nQ: 0.0\\nN: 2\\n\",\"right\\nQ: 0.34139070000000005\\nN: 3\\n\",\"up\\nQ: 4.970392548387097\\nN: 31\\n\",\"down\\nQ: 0.0\\nN: 10\\n\",\"left\\nQ: 2.71315575\\nN: 12\\n\",\"right\\nQ: 0.0\\nN: 10\\n\",\"up\\nQ: 0.0\\nN: 3\\n\",\"down\\nQ: 7.733050000000001\\nN: 18\\n\",\"left\\nQ: 2.25\\nN: 4\\n\",\"right\\nQ: 0.0\\nN: 3\\n\",\"up\\nQ: 0.0\\nN: 2\\n\",\"down\\nQ: 0.0\\nN: 3\\n\",\"left\\nQ: 0.0\\nN: 2\\n\",\"right\\nQ: 0.0\\nN: 11\\n\",\"up\\nQ: -0.11809799999999993\\nN: 9\\n\",\"down\\nQ: 0.43046721000000004\\nN: 10\\n\",\"left\\nQ: 0.0\\nN: 10\\n\",\"right\\nQ: 0.8443348166249998\\nN: 12\\n\",\"up\\nQ: -5.0\\nN: 1\\n\",\"down\\nQ: -5.0\\nN: 1\\n\",\"left\\nQ: -5.0\\nN: 1\\n\",\"right\\nQ: -5.0\\nN: 1\\n\",\"up\\nQ: 0.0\\nN: 2\\n\",\"down\\nQ: 0.0\\nN: 3\\n\",\"left\\nQ: 0.0\\nN: 6\\n\",\"right\\nQ: 0.0\\nN: 0\\n\",\"up\\nQ: 0.0\\nN: 2\\n\",\"down\\nQ: 4.5522\\nN: 5\\n\",\"left\\nQ: 1.3286025000000001\\nN: 4\\n\",\"right\\nQ: 0.0\\nN: 2\\n\",\"up\\nQ: 0.8857350000000002\\nN: 2\\n\",\"down\\nQ: 0.0\\nN: 3\\n\",\"left\\nQ: -1.9371024450000005\\nN: 1\\n\",\"right\\nQ: -2.19915\\nN: 3\\n\",\"up\\nQ: 0.0\\nN: 1\\n\",\"down\\nQ: 0.0\\nN: 0\\n\",\"left\\nQ: 0.0\\nN: 0\\n\",\"right\\nQ: 0.0\\nN: 0\\n\",\"up\\nQ: 0.0\\nN: 1\\n\",\"down\\nQ: 0.0\\nN: 0\\n\",\"left\\nQ: 0.0\\nN: 0\\n\",\"right\\nQ: 0.0\\nN: 0\\n\",\"up\\nQ: 0.0\\nN: 0\\n\",\"down\\nQ: 0.0\\nN: 0\\n\",\"left\\nQ: 0.0\\nN: 0\\n\",\"right\\nQ: 0.0\\nN: 0\\n\",\"up\\nQ: -1.0761680250000003\\nN: 2\\n\",\"down\\nQ: 0.0\\nN: 1\\n\",\"left\\nQ: -4.05\\nN: 1\\n\",\"right\\nQ: 0.0\\nN: 1\\n\",\"up\\nQ: -2.3914845000000007\\nN: 1\\n\",\"down\\nQ: 0.0\\nN: 0\\n\",\"left\\nQ: 0.0\\nN: 0\\n\",\"right\\nQ: 0.0\\nN: 0\\n\",\"up\\nQ: 0.0\\nN: 0\\n\",\"down\\nQ: 0.0\\nN: 0\\n\",\"left\\nQ: 0.0\\nN: 0\\n\",\"right\\nQ: 0.0\\nN: 0\\n\",\"up\\nQ: 0.0\\nN: 1\\n\",\"down\\nQ: 0.0\\nN: 0\\n\",\"left\\nQ: 0.0\\nN: 0\\n\",\"right\\nQ: 0.0\\nN: 0\\n\",\"up\\nQ: 0.0\\nN: 2\\n\",\"down\\nQ: 0.0\\nN: 0\\n\",\"left\\nQ: 0.0\\nN: 0\\n\",\"right\\nQ: 0.0\\nN: 0\\n\",\"up\\nQ: 0.0\\nN: 0\\n\",\"down\\nQ: 0.0\\nN: 0\\n\",\"left\\nQ: 0.0\\nN: 0\\n\",\"right\\nQ: 0.0\\nN: 0\\n\",\"up\\nQ: 2.3914845000000002\\nN: 2\\n\",\"down\\nQ: 0.0\\nN: 0\\n\",\"left\\nQ: 0.0\\nN: 0\\n\",\"right\\nQ: 0.0\\nN: 0\\n\",\"up\\nQ: 0.0\\nN: 0\\n\",\"down\\nQ: 0.0\\nN: 0\\n\",\"left\\nQ: 0.0\\nN: 0\\n\",\"right\\nQ: 0.0\\nN: 0\\n\",\"up\\nQ: 0.0\\nN: 0\\n\",\"down\\nQ: 0.0\\nN: 0\\n\",\"left\\nQ: 0.0\\nN: 0\\n\",\"right\\nQ: 0.0\\nN: 0\\n\",\"up\\nQ: 0.0\\nN: 0\\n\",\"down\\nQ: 0.0\\nN: 0\\n\",\"left\\nQ: 0.0\\nN: 0\\n\",\"right\\nQ: 0.0\\nN: 0\\n\",\"up\\nQ: 0.0\\nN: 1\\n\",\"down\\nQ: 0.0\\nN: 0\\n\",\"left\\nQ: 0.0\\nN: 0\\n\",\"right\\nQ: 0.0\\nN: 0\\n\",\"up\\nQ: 0.0\\nN: 0\\n\",\"down\\nQ: 0.0\\nN: 0\\n\",\"left\\nQ: 0.0\\nN: 0\\n\",\"right\\nQ: 0.0\\nN: 0\\n\",\"up\\nQ: 0.0\\nN: 0\\n\",\"down\\nQ: 0.0\\nN: 0\\n\",\"left\\nQ: 0.0\\nN: 0\\n\",\"right\\nQ: 0.0\\nN: 0\\n\"],\"style\":[\"\",\"\",\"\",\"\",\"\",\"\",\"\",\"\",\"\",\"\",\"\",\"\",\"\",\"\",\"\",\"\",\"\",\"\",\"\",\"\",\"\",\"\",\"\",\"\",\"\",\"\",\"\",\"\",\"\",\"\",\"\",\"\",\"\",\"\",\"\",\"\",\"\",\"\",\"\",\"\",\"\",\"\",\"\",\"\",\"\",\"\",\"\",\"\",\"\",\"\",\"\",\"\",\"\",\"\",\"\",\"\",\"\",\"\",\"\",\"\",\"\",\"\",\"\",\"\",\"\",\"\",\"\",\"\",\"\",\"\",\"\",\"\",\"\",\"\",\"\",\"\",\"\",\"\",\"\",\"\",\"\",\"\",\"\",\"\",\"\",\"\",\"\",\"\",\"\",\"\",\"\",\"\",\"\",\"\",\"\",\"\",\"\",\"\",\"\",\"\",\"\",\"\",\"\",\"\",\"\",\"\",\"\",\"\",\"\",\"\",\"\",\"\",\"\",\"\",\"\",\"\",\"\",\"\",\"\",\"\",\"\",\"\",\"\",\"\",\"\",\"\",\"\",\"\",\"\",\"\",\"\",\"\",\"\",\"\",\"\",\"\",\"\",\"\",\"\",\"\",\"\",\"\",\"\",\"\",\"\",\"\",\"\",\"\",\"\",\"\",\"\",\"\",\"\",\"\",\"\",\"\",\"\",\"\",\"\",\"\",\"\",\"\",\"\",\"\",\"\",\"\",\"\",\"\",\"\",\"\",\"\",\"\",\"\",\"\",\"\",\"\",\"\",\"\",\"\",\"\",\"\",\"\",\"\",\"\",\"\",\"\",\"\",\"\",\"\",\"\",\"\",\"\",\"\",\"\",\"\",\"\",\"\",\"\",\"\",\"\",\"\",\"\",\"\",\"\",\"\",\"\",\"\",\"\",\"\",\"\",\"\",\"\",\"\",\"\",\"\",\"\",\"\",\"\",\"\",\"\",\"\",\"\",\"\",\"\",\"\",\"\",\"\",\"\",\"\",\"\",\"\",\"\",\"\",\"\",\"\",\"\",\"\",\"\",\"\",\"\",\"\",\"\",\"\",\"\",\"\",\"\",\"\",\"\",\"\",\"\",\"\",\"\",\"\",\"\",\"\",\"\",\"\",\"\",\"\",\"\",\"\",\"\",\"\",\"\",\"\",\"\",\"\",\"\",\"\",\"\",\"\",\"\",\"\",\"\",\"\",\"\",\"\",\"\",\"\",\"\",\"\",\"\",\"\",\"\",\"\",\"\",\"\",\"\",\"\",\"\",\"\",\"\",\"\",\"\",\"\",\"\",\"\",\"\",\"\",\"\",\"\",\"\",\"\",\"\",\"\",\"\",\"\",\"\",\"\",\"\",\"\",\"\",\"\",\"\",\"\",\"\",\"\",\"\",\"\",\"\",\"\",\"\",\"\",\"\",\"\",\"\",\"\",\"\",\"\",\"\",\"\",\"\",\"\",\"\",\"\",\"\",\"\",\"\",\"\",\"\",\"\",\"\",\"\",\"\",\"\",\"\",\"\",\"\",\"\",\"\",\"\",\"\",\"\",\"\",\"\",\"\",\"\",\"\",\"\",\"\",\"\",\"\",\"\",\"\",\"\",\"\",\"\",\"\",\"\",\"\",\"\",\"\",\"\",\"\",\"\",\"\",\"\",\"\",\"\",\"\",\"\",\"\",\"\",\"\",\"\",\"\",\"\",\"\",\"\",\"\",\"\",\"\",\"\",\"\",\"\",\"\",\"\",\"\",\"\",\"\",\"\",\"\",\"\",\"\",\"\",\"\",\"\",\"\",\"\",\"\",\"\",\"\",\"\",\"\",\"\",\"\",\"\",\"\",\"\",\"\",\"\",\"\",\"\",\"\",\"\",\"\",\"\",\"\",\"\",\"\",\"\",\"\",\"\",\"\",\"\",\"\",\"\",\"\",\"\",\"\",\"\",\"\",\"\",\"\",\"\",\"\",\"\",\"\",\"\",\"\",\"\",\"\",\"\",\"\",\"\",\"\",\"\",\"\",\"\",\"\",\"\",\"\",\"\",\"\",\"\",\"\",\"\",\"\",\"\",\"\",\"\",\"\",\"\",\"\",\"\",\"\",\"\",\"\",\"\",\"\",\"\",\"\",\"\",\"\",\"\",\"\",\"\",\"\",\"\",\"\",\"\",\"\",\"\",\"\",\"\",\"\",\"\",\"\",\"\",\"\",\"\",\"\",\"\",\"\",\"\",\"\",\"\",\"\",\"\",\"\",\"\",\"\",\"\",\"\",\"\",\"\",\"\",\"\",\"\",\"\",\"\",\"\",\"\",\"\",\"\",\"\",\"\",\"\",\"\",\"\",\"\",\"\",\"\",\"\",\"\",\"\",\"\",\"\",\"\",\"\",\"\",\"\",\"\",\"\",\"\",\"\",\"\",\"\",\"\",\"\",\"\",\"\",\"\",\"\",\"\",\"\",\"\",\"\",\"\",\"\",\"stroke:#B82400\",\"stroke:#7F4000\",\"stroke:#863D00\",\"stroke:#6A4B00\",\"stroke:#E10F00\",\"stroke:#AD2900\",\"stroke:#AE2900\",\"stroke:#7D4100\",\"stroke:#853D00\",\"stroke:#7F4000\",\"stroke:#843E00\",\"stroke:#764500\",\"stroke:#8C3A00\",\"stroke:#843E00\",\"stroke:#8E3900\",\"stroke:#8C3A00\",\"stroke:#FF0000\",\"stroke:#FF0000\",\"stroke:#FF0000\",\"stroke:#FF0000\",\"stroke:#9B3200\",\"stroke:#9E3100\",\"stroke:#913700\",\"stroke:#ED0900\",\"stroke:#804000\",\"stroke:#7F4000\",\"stroke:#873C00\",\"stroke:#5E5100\",\"stroke:#7F4000\",\"stroke:#7F4000\",\"stroke:#7F4000\",\"stroke:#7F4000\",\"stroke:#983400\",\"stroke:#664D00\",\"stroke:#983400\",\"stroke:#7D4100\",\"stroke:#863D00\",\"stroke:#7F4000\",\"stroke:#853D00\",\"stroke:#7F4000\",\"stroke:#8F3800\",\"stroke:#823F00\",\"stroke:#883C00\",\"stroke:#913700\",\"stroke:#863D00\",\"stroke:#8F3800\",\"stroke:#804000\",\"stroke:#A52D00\",\"stroke:#873C00\",\"stroke:#7F4000\",\"stroke:#7F4000\",\"stroke:#804000\",\"stroke:#963500\",\"stroke:#923700\",\"stroke:#C41E00\",\"stroke:#644E00\",\"stroke:#794300\",\"stroke:#7F4000\",\"stroke:#804000\",\"stroke:#535600\",\"stroke:#883C00\",\"stroke:#B02800\",\"stroke:#D41600\",\"stroke:#7C4200\",\"stroke:#883C00\",\"stroke:#813F00\",\"stroke:#7F4000\",\"stroke:#893B00\",\"stroke:#833E00\",\"stroke:#7D4100\",\"stroke:#7E4100\",\"stroke:#595300\",\"stroke:#8B3A00\",\"stroke:#913700\",\"stroke:#A92B00\",\"stroke:#565500\",\"stroke:#754500\",\"stroke:#764500\",\"stroke:#6C4A00\",\"stroke:#475C00\",\"stroke:#813F00\",\"stroke:#734600\",\"stroke:#7D4100\",\"stroke:#425F00\",\"stroke:#7F4000\",\"stroke:#535600\",\"stroke:#6C4A00\",\"stroke:#7E4100\",\"stroke:#754500\",\"stroke:#7F4000\",\"stroke:#7F4000\",\"stroke:#485C00\",\"stroke:#724700\",\"stroke:#535600\",\"stroke:#5B5200\",\"stroke:#5D5100\",\"stroke:#326700\",\"stroke:#595300\",\"stroke:#724700\",\"stroke:#435E00\",\"stroke:#8D3900\",\"stroke:#8A3B00\",\"stroke:#863D00\",\"stroke:#A92B00\",\"stroke:#525700\",\"stroke:#754500\",\"stroke:#7F4000\",\"stroke:#216F00\",\"stroke:#813F00\",\"stroke:#7F4000\",\"stroke:#7F4000\",\"stroke:#953500\",\"stroke:#7F4000\",\"stroke:#784400\",\"stroke:#953500\",\"stroke:#664D00\",\"stroke:#7F4000\",\"stroke:#7F4000\",\"stroke:#7F4000\",\"stroke:#843E00\",\"stroke:#843E00\",\"stroke:#833E00\",\"stroke:#7F4000\",\"stroke:#8B3A00\",\"stroke:#893B00\",\"stroke:#7F4000\",\"stroke:#7F4000\",\"stroke:#873C00\",\"stroke:#7F4000\",\"stroke:#893B00\",\"stroke:#7F4000\",\"stroke:#7F4000\",\"stroke:#3D6100\",\"stroke:#7F4000\",\"stroke:#674C00\",\"stroke:#475C00\",\"stroke:#336600\",\"stroke:#7F4000\",\"stroke:#674C00\",\"stroke:#7F4000\",\"stroke:#008000\",\"stroke:#008000\",\"stroke:#008000\",\"stroke:#008000\",\"stroke:#A22F00\",\"stroke:#7F4000\",\"stroke:#7F4000\",\"stroke:#9F3000\",\"stroke:#7F4000\",\"stroke:#7F4000\",\"stroke:#8C3A00\",\"stroke:#7F4000\",\"stroke:#7F4000\",\"stroke:#7F4000\",\"stroke:#B92300\",\"stroke:#7F4000\",\"stroke:#1A7300\",\"stroke:#7F4000\",\"stroke:#624F00\",\"stroke:#664D00\",\"stroke:#7F4000\",\"stroke:#7F4000\",\"stroke:#664D00\",\"stroke:#624F00\",\"stroke:#8A3B00\",\"stroke:#F20700\",\"stroke:#923700\",\"stroke:#B92300\",\"stroke:#7F4000\",\"stroke:#7F4000\",\"stroke:#7F4000\",\"stroke:#7F4000\",\"stroke:#9C3200\",\"stroke:#7F4000\",\"stroke:#AF2800\",\"stroke:#7F4000\",\"stroke:#5E5100\",\"stroke:#724700\",\"stroke:#306800\",\"stroke:#7F4000\",\"stroke:#B92300\",\"stroke:#7F4000\",\"stroke:#7F4000\",\"stroke:#B92300\",\"stroke:#7F4000\",\"stroke:#7F4000\",\"stroke:#7F4000\",\"stroke:#7F4000\",\"stroke:#7F4000\",\"stroke:#7F4000\",\"stroke:#7F4000\",\"stroke:#7F4000\",\"stroke:#7F4000\",\"stroke:#2F6800\",\"stroke:#346600\",\"stroke:#7F4000\",\"stroke:#7F4000\",\"stroke:#7F4000\",\"stroke:#7F4000\",\"stroke:#7B4200\",\"stroke:#406000\",\"stroke:#7F4000\",\"stroke:#5D5100\",\"stroke:#7F4000\",\"stroke:#7F4000\",\"stroke:#1D7100\",\"stroke:#634E00\",\"stroke:#7F4000\",\"stroke:#7F4000\",\"stroke:#7F4000\",\"stroke:#7F4000\",\"stroke:#7F4000\",\"stroke:#813F00\",\"stroke:#7A4300\",\"stroke:#7F4000\",\"stroke:#754500\",\"stroke:#BF2000\",\"stroke:#BF2000\",\"stroke:#BF2000\",\"stroke:#BF2000\",\"stroke:#7F4000\",\"stroke:#7F4000\",\"stroke:#7F4000\",\"stroke:#7F4000\",\"stroke:#7F4000\",\"stroke:#455D00\",\"stroke:#6F4800\",\"stroke:#7F4000\",\"stroke:#744600\",\"stroke:#7F4000\",\"stroke:#983400\",\"stroke:#9C3200\",\"stroke:#7F4000\",\"stroke:#7F4000\",\"stroke:#7F4000\",\"stroke:#7F4000\",\"stroke:#7F4000\",\"stroke:#7F4000\",\"stroke:#7F4000\",\"stroke:#7F4000\",\"stroke:#7F4000\",\"stroke:#7F4000\",\"stroke:#7F4000\",\"stroke:#7F4000\",\"stroke:#8D3900\",\"stroke:#7F4000\",\"stroke:#B32600\",\"stroke:#7F4000\",\"stroke:#9E3100\",\"stroke:#7F4000\",\"stroke:#7F4000\",\"stroke:#7F4000\",\"stroke:#7F4000\",\"stroke:#7F4000\",\"stroke:#7F4000\",\"stroke:#7F4000\",\"stroke:#7F4000\",\"stroke:#7F4000\",\"stroke:#7F4000\",\"stroke:#7F4000\",\"stroke:#7F4000\",\"stroke:#7F4000\",\"stroke:#7F4000\",\"stroke:#7F4000\",\"stroke:#7F4000\",\"stroke:#7F4000\",\"stroke:#7F4000\",\"stroke:#7F4000\",\"stroke:#614F00\",\"stroke:#7F4000\",\"stroke:#7F4000\",\"stroke:#7F4000\",\"stroke:#7F4000\",\"stroke:#7F4000\",\"stroke:#7F4000\",\"stroke:#7F4000\",\"stroke:#7F4000\",\"stroke:#7F4000\",\"stroke:#7F4000\",\"stroke:#7F4000\",\"stroke:#7F4000\",\"stroke:#7F4000\",\"stroke:#7F4000\",\"stroke:#7F4000\",\"stroke:#7F4000\",\"stroke:#7F4000\",\"stroke:#7F4000\",\"stroke:#7F4000\",\"stroke:#7F4000\",\"stroke:#7F4000\",\"stroke:#7F4000\",\"stroke:#7F4000\",\"stroke:#7F4000\",\"stroke:#7F4000\",\"stroke:#7F4000\",\"stroke:#7F4000\"],\"link_style\":[\"stroke-width:25.07221781839558px\",\"stroke-width:1.1184709768411363px\",\"stroke-width:0.5592354884205681px\",\"stroke-width:0.5592354884205681px\",\"stroke-width:1.2504885675386868px\",\"stroke-width:0.7908784122847095px\",\"stroke-width:6.734087025633375px\",\"stroke-width:2.0924675961949517px\",\"stroke-width:0.5592354884205681px\",\"stroke-width:0.5592354884205681px\",\"stroke-width:0.5592354884205681px\",\"stroke-width:2.681999184322546px\",\"stroke-width:7.948229674890897px\",\"stroke-width:0.5592354884205681px\",\"stroke-width:2.739683185373045px\",\"stroke-width:2.6230469483403858px\",\"stroke-width:0.5592354884205681px\",\"stroke-width:0.7908784122847095px\",\"stroke-width:1.6777064652617044px\",\"stroke-width:3.4924245058197982px\",\"stroke-width:2.562738956992854px\",\"stroke-width:0.5592354884205681px\",\"stroke-width:1.1184709768411363px\",\"stroke-width:0.5592354884205681px\",\"stroke-width:1.6777064652617044px\",\"stroke-width:0.5592354884205681px\",\"stroke-width:0.5592354884205681px\",\"stroke-width:3.8339253488979925px\",\"stroke-width:2.7961774421028407px\",\"stroke-width:0.9686242793400206px\",\"stroke-width:2.8515526681500694px\",\"stroke-width:0.5592354884205681px\",\"stroke-width:0.9686242793400206px\",\"stroke-width:1.2504885675386868px\",\"stroke-width:0.7908784122847095px\",\"stroke-width:1.4795980266825648px\",\"stroke-width:1.4795980266825648px\",\"stroke-width:4.071295809687198px\",\"stroke-width:1.3698415926865224px\",\"stroke-width:2.562738956992854px\",\"stroke-width:1.1184709768411363px\",\"stroke-width:0.5592354884205681px\",\"stroke-width:0.7908784122847095px\",\"stroke-width:0.5592354884205681px\",\"stroke-width:0.9686242793400206px\",\"stroke-width:1.3698415926865224px\",\"stroke-width:0.5592354884205681px\",\"stroke-width:1.2504885675386868px\",\"stroke-width:0.7908784122847095px\",\"stroke-width:1.768457891805715px\",\"stroke-width:0.5592354884205681px\",\"stroke-width:0.9686242793400206px\",\"stroke-width:0.9686242793400206px\",\"stroke-width:0.9686242793400206px\",\"stroke-width:0.5592354884205681px\",\"stroke-width:0.5592354884205681px\",\"stroke-width:8.084773669397258px\",\"stroke-width:1.2504885675386868px\",\"stroke-width:1.1184709768411363px\",\"stroke-width:0.7908784122847095px\",\"stroke-width:0.7908784122847095px\",\"stroke-width:0.7908784122847095px\",\"stroke-width:0.7908784122847095px\",\"stroke-width:0.9686242793400206px\",\"stroke-width:7.688216870978561px\",\"stroke-width:3.163513649138838px\",\"stroke-width:0.9686242793400206px\",\"stroke-width:1.3698415926865224px\",\"stroke-width:2.0924675961949517px\",\"stroke-width:0.9686242793400206px\",\"stroke-width:0.5592354884205681px\",\"stroke-width:1.4795980266825648px\",\"stroke-width:0.7908784122847095px\",\"stroke-width:0.5592354884205681px\",\"stroke-width:0.7908784122847095px\",\"stroke-width:1.4795980266825648px\",\"stroke-width:1.1184709768411363px\",\"stroke-width:1.1184709768411363px\",\"stroke-width:0.9686242793400206px\",\"stroke-width:0.9686242793400206px\",\"stroke-width:0.5592354884205681px\",\"stroke-width:0.5592354884205681px\",\"stroke-width:5.186136568754554px\",\"stroke-width:3.4473590757769452px\",\"stroke-width:6.9848490116395965px\",\"stroke-width:2.6230469483403858px\",\"stroke-width:1.3698415926865224px\",\"stroke-width:1.8547742845421664px\",\"stroke-width:1.768457891805715px\",\"stroke-width:0.5592354884205681px\",\"stroke-width:0.7908784122847095px\",\"stroke-width:0.5592354884205681px\",\"stroke-width:0.7908784122847095px\",\"stroke-width:0.5592354884205681px\",\"stroke-width:1.1184709768411363px\",\"stroke-width:0.9686242793400206px\",\"stroke-width:0.9686242793400206px\",\"stroke-width:6.227382845715762px\",\"stroke-width:3.5808543103383372px\",\"stroke-width:0.7908784122847095px\",\"stroke-width:0.5592354884205681px\",\"stroke-width:2.562738956992854px\",\"stroke-width:0.9686242793400206px\",\"stroke-width:2.0924675961949517px\",\"stroke-width:3.2125632973992464px\",\"stroke-width:4.184935192389903px\",\"stroke-width:0.5592354884205681px\",\"stroke-width:1.4795980266825648px\",\"stroke-width:4.331819466522062px\",\"stroke-width:1.3698415926865224px\",\"stroke-width:2.8515526681500694px\",\"stroke-width:7.667850697795985px\",\"stroke-width:1.2504885675386868px\",\"stroke-width:6.710825861046818px\",\"stroke-width:2.2369419536822726px\",\"stroke-width:0.7908784122847095px\",\"stroke-width:3.5808543103383372px\",\"stroke-width:1.581756824569419px\",\"stroke-width:1.2504885675386868px\",\"stroke-width:0.7908784122847095px\",\"stroke-width:2.165909733261031px\",\"stroke-width:3.2608752308706492px\",\"stroke-width:0.7908784122847095px\",\"stroke-width:1.8547742845421664px\",\"stroke-width:1.1184709768411363px\",\"stroke-width:1.9372485586800412px\",\"stroke-width:1.8547742845421664px\",\"stroke-width:1.2504885675386868px\",\"stroke-width:1.9372485586800412px\",\"stroke-width:3.0115752711431187px\",\"stroke-width:1.2504885675386868px\",\"stroke-width:1.4795980266825648px\",\"stroke-width:0.5592354884205681px\",\"stroke-width:0.7908784122847095px\",\"stroke-width:0.7908784122847095px\",\"stroke-width:3.0115752711431187px\",\"stroke-width:0.7908784122847095px\",\"stroke-width:1.6777064652617044px\",\"stroke-width:0.7908784122847095px\",\"stroke-width:0.9686242793400206px\",\"stroke-width:0.5592354884205681px\",\"stroke-width:3.3084817670367626px\",\"stroke-width:3.53691578361143px\",\"stroke-width:0.5592354884205681px\",\"stroke-width:1.581756824569419px\",\"stroke-width:0.7908784122847095px\",\"stroke-width:1.581756824569419px\",\"stroke-width:1.4795980266825648px\",\"stroke-width:0.5592354884205681px\",\"stroke-width:1.4795980266825648px\",\"stroke-width:8.806849278500788px\",\"stroke-width:0.9686242793400206px\",\"stroke-width:0.5592354884205681px\",\"stroke-width:12.252235678614571px\",\"stroke-width:0.7908784122847095px\",\"stroke-width:0.7908784122847095px\",\"stroke-width:4.295569293938871px\",\"stroke-width:5.703105336300139px\",\"stroke-width:3.063058919653643px\",\"stroke-width:1.2504885675386868px\",\"stroke-width:1.2504885675386868px\",\"stroke-width:2.372635236854128px\",\"stroke-width:2.7961774421028407px\",\"stroke-width:0.7908784122847095px\",\"stroke-width:1.3698415926865224px\",\"stroke-width:1.1184709768411363px\",\"stroke-width:1.1184709768411363px\",\"stroke-width:2.9591960533651296px\",\"stroke-width:0.5592354884205681px\",\"stroke-width:0.9686242793400206px\",\"stroke-width:1.1184709768411363px\",\"stroke-width:11.406210672600277px\",\"stroke-width:1.4795980266825648px\",\"stroke-width:1.2504885675386868px\",\"stroke-width:0.9686242793400206px\",\"stroke-width:0.9686242793400206px\",\"stroke-width:1.768457891805715px\",\"stroke-width:7.4611320192448325px\",\"stroke-width:0.5592354884205681px\",\"stroke-width:0.9686242793400206px\",\"stroke-width:0.5592354884205681px\",\"stroke-width:2.681999184322546px\",\"stroke-width:0.5592354884205681px\",\"stroke-width:4.295569293938871px\",\"stroke-width:1.768457891805715px\",\"stroke-width:0.7908784122847095px\",\"stroke-width:1.6777064652617044px\",\"stroke-width:0.5592354884205681px\",\"stroke-width:1.3698415926865224px\",\"stroke-width:1.8547742845421664px\",\"stroke-width:12.947237608417456px\",\"stroke-width:0.9686242793400206px\",\"stroke-width:1.8547742845421664px\",\"stroke-width:0.5592354884205681px\",\"stroke-width:0.5592354884205681px\",\"stroke-width:0.7908784122847095px\",\"stroke-width:0.7908784122847095px\",\"stroke-width:1.9372485586800412px\",\"stroke-width:2.0163522285595064px\",\"stroke-width:1.3698415926865224px\",\"stroke-width:0.5592354884205681px\",\"stroke-width:0.7908784122847095px\",\"stroke-width:0.5592354884205681px\",\"stroke-width:1.4795980266825648px\",\"stroke-width:0.5592354884205681px\",\"stroke-width:3.2125632973992464px\",\"stroke-width:0.7908784122847095px\",\"stroke-width:0.7908784122847095px\",\"stroke-width:1.9372485586800412px\",\"stroke-width:3.4924245058197982px\",\"stroke-width:2.5009771350773735px\",\"stroke-width:1.1184709768411363px\",\"stroke-width:1.768457891805715px\",\"stroke-width:3.0115752711431187px\",\"stroke-width:0.9686242793400206px\",\"stroke-width:0.5592354884205681px\",\"stroke-width:0.5592354884205681px\",\"stroke-width:0.5592354884205681px\",\"stroke-width:0.9686242793400206px\",\"stroke-width:0.5592354884205681px\",\"stroke-width:1.6777064652617044px\",\"stroke-width:1.3698415926865224px\",\"stroke-width:0.5592354884205681px\",\"stroke-width:1.3698415926865224px\",\"stroke-width:1.1184709768411363px\",\"stroke-width:1.1184709768411363px\",\"stroke-width:3.2125632973992464px\",\"stroke-width:2.9591960533651296px\",\"stroke-width:0.9686242793400206px\",\"stroke-width:2.2369419536822726px\",\"stroke-width:0.5592354884205681px\",\"stroke-width:1.3698415926865224px\",\"stroke-width:4.184935192389903px\",\"stroke-width:0.5592354884205681px\",\"stroke-width:0.5592354884205681px\",\"stroke-width:2.4376509796668673px\",\"stroke-width:1.2504885675386868px\",\"stroke-width:0.7908784122847095px\",\"stroke-width:2.681999184322546px\",\"stroke-width:3.2125632973992464px\",\"stroke-width:5.001954270154747px\",\"stroke-width:2.2369419536822726px\",\"stroke-width:0.7908784122847095px\",\"stroke-width:0.5592354884205681px\",\"stroke-width:0.5592354884205681px\",\"stroke-width:1.1184709768411363px\",\"stroke-width:1.2504885675386868px\",\"stroke-width:1.8547742845421664px\",\"stroke-width:3.3084817670367626px\",\"stroke-width:2.562738956992854px\",\"stroke-width:0.9686242793400206px\",\"stroke-width:0.5592354884205681px\",\"stroke-width:2.4376509796668673px\",\"stroke-width:1.581756824569419px\",\"stroke-width:0.9686242793400206px\",\"stroke-width:0.9686242793400206px\",\"stroke-width:0.5592354884205681px\",\"stroke-width:3.2125632973992464px\",\"stroke-width:0.9686242793400206px\",\"stroke-width:7.667850697795985px\",\"stroke-width:1.1184709768411363px\",\"stroke-width:1.3698415926865224px\",\"stroke-width:1.1184709768411363px\",\"stroke-width:0.5592354884205681px\",\"stroke-width:0.5592354884205681px\",\"stroke-width:4.577539755272741px\",\"stroke-width:0.5592354884205681px\",\"stroke-width:5.865311284662482px\",\"stroke-width:0.7908784122847095px\",\"stroke-width:3.6242601898011735px\",\"stroke-width:0.5592354884205681px\",\"stroke-width:0.5592354884205681px\",\"stroke-width:11.04401599457854px\",\"stroke-width:14.003238763091117px\",\"stroke-width:0.7908784122847095px\",\"stroke-width:0.5592354884205681px\",\"stroke-width:0.5592354884205681px\",\"stroke-width:0.5592354884205681px\",\"stroke-width:0.5592354884205681px\",\"stroke-width:1.3698415926865224px\",\"stroke-width:0.7908784122847095px\",\"stroke-width:0.5592354884205681px\",\"stroke-width:0.5592354884205681px\",\"stroke-width:1.1184709768411363px\",\"stroke-width:1.1184709768411363px\",\"stroke-width:0.7908784122847095px\",\"stroke-width:1.6777064652617044px\",\"stroke-width:0.7908784122847095px\",\"stroke-width:0.9686242793400206px\",\"stroke-width:1.2504885675386868px\",\"stroke-width:1.1184709768411363px\",\"stroke-width:1.3698415926865224px\",\"stroke-width:4.071295809687198px\",\"stroke-width:0.5592354884205681px\",\"stroke-width:0.5592354884205681px\",\"stroke-width:1.768457891805715px\",\"stroke-width:7.908784122847095px\",\"stroke-width:0.5592354884205681px\",\"stroke-width:2.372635236854128px\",\"stroke-width:2.0163522285595064px\",\"stroke-width:2.4376509796668673px\",\"stroke-width:0.5592354884205681px\",\"stroke-width:1.3698415926865224px\",\"stroke-width:0.5592354884205681px\",\"stroke-width:0.7908784122847095px\",\"stroke-width:3.0115752711431187px\",\"stroke-width:1.768457891805715px\",\"stroke-width:0.5592354884205681px\",\"stroke-width:0.7908784122847095px\",\"stroke-width:1.2504885675386868px\",\"stroke-width:1.1184709768411363px\",\"stroke-width:1.1184709768411363px\",\"stroke-width:2.0163522285595064px\",\"stroke-width:1.2504885675386868px\",\"stroke-width:1.1184709768411363px\",\"stroke-width:5.186136568754554px\",\"stroke-width:0.7908784122847095px\",\"stroke-width:1.4795980266825648px\",\"stroke-width:2.8515526681500694px\",\"stroke-width:3.063058919653643px\",\"stroke-width:0.5592354884205681px\",\"stroke-width:3.4016966745776553px\",\"stroke-width:0.5592354884205681px\",\"stroke-width:2.0924675961949517px\",\"stroke-width:1.9372485586800412px\",\"stroke-width:2.3057869883518842px\",\"stroke-width:0.9686242793400206px\",\"stroke-width:6.593289170038715px\",\"stroke-width:2.0163522285595064px\",\"stroke-width:1.1184709768411363px\",\"stroke-width:0.5592354884205681px\",\"stroke-width:0.5592354884205681px\",\"stroke-width:0.9686242793400206px\",\"stroke-width:0.5592354884205681px\",\"stroke-width:0.5592354884205681px\",\"stroke-width:1.1184709768411363px\",\"stroke-width:0.5592354884205681px\",\"stroke-width:2.8515526681500694px\",\"stroke-width:0.7908784122847095px\",\"stroke-width:0.7908784122847095px\",\"stroke-width:1.1184709768411363px\",\"stroke-width:0.5592354884205681px\",\"stroke-width:0.5592354884205681px\",\"stroke-width:2.2369419536822726px\",\"stroke-width:0.5592354884205681px\",\"stroke-width:0.9686242793400206px\",\"stroke-width:1.1184709768411363px\",\"stroke-width:2.3057869883518842px\",\"stroke-width:15.925942761852186px\",\"stroke-width:0.7908784122847095px\",\"stroke-width:9.206178025594372px\",\"stroke-width:0.5592354884205681px\",\"stroke-width:0.5592354884205681px\",\"stroke-width:2.3057869883518842px\",\"stroke-width:0.9686242793400206px\",\"stroke-width:1.1184709768411363px\",\"stroke-width:3.2608752308706492px\",\"stroke-width:2.0924675961949517px\",\"stroke-width:2.0924675961949517px\",\"stroke-width:2.562738956992854px\",\"stroke-width:10.684179004527294px\",\"stroke-width:0.7908784122847095px\",\"stroke-width:2.3057869883518842px\",\"stroke-width:0.7908784122847095px\",\"stroke-width:1.768457891805715px\",\"stroke-width:1.1184709768411363px\",\"stroke-width:0.9686242793400206px\",\"stroke-width:1.2504885675386868px\",\"stroke-width:2.4376509796668673px\",\"stroke-width:4.438794080047694px\",\"stroke-width:0.7908784122847095px\",\"stroke-width:0.9686242793400206px\",\"stroke-width:1.3698415926865224px\",\"stroke-width:4.331819466522062px\",\"stroke-width:0.9686242793400206px\",\"stroke-width:0.5592354884205681px\",\"stroke-width:4.6115739767037685px\",\"stroke-width:1.3698415926865224px\",\"stroke-width:2.0163522285595064px\",\"stroke-width:0.7908784122847095px\",\"stroke-width:3.355412930523409px\",\"stroke-width:1.3698415926865224px\",\"stroke-width:1.2504885675386868px\",\"stroke-width:6.400742724690462px\",\"stroke-width:3.063058919653643px\",\"stroke-width:2.372635236854128px\",\"stroke-width:0.5592354884205681px\",\"stroke-width:0.5592354884205681px\",\"stroke-width:1.3698415926865224px\",\"stroke-width:0.7908784122847095px\",\"stroke-width:0.7908784122847095px\",\"stroke-width:0.5592354884205681px\",\"stroke-width:0.7908784122847095px\",\"stroke-width:2.905872838020062px\",\"stroke-width:1.2504885675386868px\",\"stroke-width:0.9686242793400206px\",\"stroke-width:5.064092730562633px\",\"stroke-width:1.2504885675386868px\",\"stroke-width:0.5592354884205681px\",\"stroke-width:1.9372485586800412px\",\"stroke-width:2.0163522285595064px\",\"stroke-width:1.3698415926865224px\",\"stroke-width:1.3698415926865224px\",\"stroke-width:1.768457891805715px\",\"stroke-width:1.581756824569419px\",\"stroke-width:6.710825861046818px\",\"stroke-width:4.5087006496422495px\",\"stroke-width:1.1184709768411363px\",\"stroke-width:0.5592354884205681px\",\"stroke-width:2.0163522285595064px\",\"stroke-width:0.9686242793400206px\",\"stroke-width:0.5592354884205681px\",\"stroke-width:0.7908784122847095px\",\"stroke-width:1.2504885675386868px\",\"stroke-width:2.5009771350773735px\",\"stroke-width:0.5592354884205681px\",\"stroke-width:0.9686242793400206px\",\"stroke-width:0.7908784122847095px\",\"stroke-width:3.53691578361143px\",\"stroke-width:1.3698415926865224px\",\"stroke-width:0.5592354884205681px\",\"stroke-width:0.5592354884205681px\",\"stroke-width:1.3698415926865224px\",\"stroke-width:2.0924675961949517px\",\"stroke-width:0.7908784122847095px\",\"stroke-width:0.5592354884205681px\",\"stroke-width:2.0924675961949517px\",\"stroke-width:2.165909733261031px\",\"stroke-width:0.9686242793400206px\",\"stroke-width:1.1184709768411363px\",\"stroke-width:1.2504885675386868px\",\"stroke-width:1.2504885675386868px\",\"stroke-width:3.53691578361143px\",\"stroke-width:0.9686242793400206px\",\"stroke-width:2.739683185373045px\",\"stroke-width:0.5592354884205681px\",\"stroke-width:2.4376509796668673px\",\"stroke-width:0.5592354884205681px\",\"stroke-width:2.165909733261031px\",\"stroke-width:4.109524778059567px\",\"stroke-width:0.5592354884205681px\",\"stroke-width:0.5592354884205681px\",\"stroke-width:0.5592354884205681px\",\"stroke-width:0.7908784122847095px\",\"stroke-width:0.5592354884205681px\",\"stroke-width:0.9686242793400206px\",\"stroke-width:1.4795980266825648px\",\"stroke-width:0.7908784122847095px\",\"stroke-width:5.7847768730921745px\",\"stroke-width:0.9686242793400206px\",\"stroke-width:1.6777064652617044px\",\"stroke-width:1.3698415926865224px\",\"stroke-width:6.849207963432612px\",\"stroke-width:1.4795980266825648px\",\"stroke-width:1.581756824569419px\",\"stroke-width:0.7908784122847095px\",\"stroke-width:0.5592354884205681px\",\"stroke-width:0.5592354884205681px\",\"stroke-width:1.3698415926865224px\",\"stroke-width:0.5592354884205681px\",\"stroke-width:2.3057869883518842px\",\"stroke-width:0.5592354884205681px\",\"stroke-width:3.2125632973992464px\",\"stroke-width:1.1184709768411363px\",\"stroke-width:2.0924675961949517px\",\"stroke-width:1.9372485586800412px\",\"stroke-width:0.5592354884205681px\",\"stroke-width:1.1184709768411363px\",\"stroke-width:6.734087025633375px\",\"stroke-width:1.4795980266825648px\",\"stroke-width:0.5592354884205681px\",\"stroke-width:2.165909733261031px\",\"stroke-width:0.5592354884205681px\",\"stroke-width:1.581756824569419px\",\"stroke-width:0.9686242793400206px\",\"stroke-width:0.9686242793400206px\",\"stroke-width:0.7908784122847095px\",\"stroke-width:1.1184709768411363px\",\"stroke-width:0.5592354884205681px\",\"stroke-width:0.5592354884205681px\",\"stroke-width:1.9372485586800412px\",\"stroke-width:1.1184709768411363px\",\"stroke-width:0.9686242793400206px\",\"stroke-width:0.9686242793400206px\",\"stroke-width:1.1184709768411363px\",\"stroke-width:4.071295809687198px\",\"stroke-width:0.7908784122847095px\",\"stroke-width:1.581756824569419px\",\"stroke-width:0.5592354884205681px\",\"stroke-width:2.6230469483403858px\",\"stroke-width:0.7908784122847095px\",\"stroke-width:16.88854139161225px\",\"stroke-width:0.7908784122847095px\",\"stroke-width:8.27592947048663px\",\"stroke-width:3.2608752308706492px\",\"stroke-width:0.7908784122847095px\",\"stroke-width:1.1184709768411363px\",\"stroke-width:3.0115752711431187px\",\"stroke-width:1.581756824569419px\",\"stroke-width:1.2504885675386868px\",\"stroke-width:0.5592354884205681px\",\"stroke-width:2.165909733261031px\",\"stroke-width:0.7908784122847095px\",\"stroke-width:2.6230469483403858px\",\"stroke-width:0.5592354884205681px\",\"stroke-width:1.6777064652617044px\",\"stroke-width:0.7908784122847095px\",\"stroke-width:0.7908784122847095px\",\"stroke-width:0.7908784122847095px\",\"stroke-width:2.905872838020062px\",\"stroke-width:1.1184709768411363px\",\"stroke-width:1.768457891805715px\",\"stroke-width:1.1184709768411363px\",\"stroke-width:0.5592354884205681px\",\"stroke-width:2.2369419536822726px\",\"stroke-width:0.7908784122847095px\",\"stroke-width:0.9686242793400206px\",\"stroke-width:0.9686242793400206px\",\"stroke-width:1.3698415926865224px\",\"stroke-width:0.5592354884205681px\",\"stroke-width:0.5592354884205681px\",\"stroke-width:1.8547742845421664px\",\"stroke-width:4.875301959333735px\",\"stroke-width:2.739683185373045px\",\"stroke-width:4.543250585164045px\",\"stroke-width:1.4795980266825648px\",\"stroke-width:0.7908784122847095px\",\"stroke-width:0.7908784122847095px\",\"stroke-width:2.165909733261031px\",\"stroke-width:0.5592354884205681px\",\"stroke-width:0.5592354884205681px\",\"stroke-width:0.7908784122847095px\",\"stroke-width:0.9686242793400206px\",\"stroke-width:0.5592354884205681px\",\"stroke-width:0.7908784122847095px\",\"stroke-width:0.9686242793400206px\",\"stroke-width:6.8947181515538905px\",\"stroke-width:4.543250585164045px\",\"stroke-width:2.0924675961949517px\",\"stroke-width:3.2608752308706492px\",\"stroke-width:0.5592354884205681px\",\"stroke-width:0.5592354884205681px\",\"stroke-width:0.7908784122847095px\",\"stroke-width:2.4376509796668673px\",\"stroke-width:1.4795980266825648px\",\"stroke-width:2.372635236854128px\",\"stroke-width:1.2504885675386868px\",\"stroke-width:0.5592354884205681px\",\"stroke-width:1.4795980266825648px\",\"stroke-width:0.7908784122847095px\",\"stroke-width:0.9686242793400206px\",\"stroke-width:3.0115752711431187px\",\"stroke-width:3.355412930523409px\",\"stroke-width:0.5592354884205681px\",\"stroke-width:0.7908784122847095px\",\"stroke-width:2.0163522285595064px\",\"stroke-width:6.710825861046818px\",\"stroke-width:1.3698415926865224px\",\"stroke-width:0.5592354884205681px\",\"stroke-width:3.53691578361143px\",\"stroke-width:2.681999184322546px\",\"stroke-width:12.252235678614571px\",\"stroke-width:8.444270695806125px\",\"stroke-width:20.0px\",\"stroke-width:1.581756824569419px\",\"stroke-width:2.905872838020062px\",\"stroke-width:3.113691422857881px\",\"stroke-width:9.621451144534355px\",\"stroke-width:5.275817046136099px\",\"stroke-width:6.400742724690462px\",\"stroke-width:5.4219892255375415px\",\"stroke-width:9.357799571614985px\",\"stroke-width:3.751465702616061px\",\"stroke-width:4.543250585164045px\",\"stroke-width:3.5808543103383372px\",\"stroke-width:3.8339253488979925px\",\"stroke-width:2.4376509796668673px\",\"stroke-width:2.4376509796668673px\",\"stroke-width:2.4376509796668673px\",\"stroke-width:2.4376509796668673px\",\"stroke-width:2.4376509796668673px\",\"stroke-width:2.4376509796668673px\",\"stroke-width:3.063058919653643px\",\"stroke-width:1.1184709768411363px\",\"stroke-width:6.473618804208728px\",\"stroke-width:6.8947181515538905px\",\"stroke-width:5.2460938966807715px\",\"stroke-width:19.39668607791848px\",\"stroke-width:0.0px\",\"stroke-width:0.0px\",\"stroke-width:0.0px\",\"stroke-width:0.0px\",\"stroke-width:3.2608752308706492px\",\"stroke-width:11.04401599457854px\",\"stroke-width:3.3084817670367626px\",\"stroke-width:6.687483787328816px\",\"stroke-width:4.071295809687198px\",\"stroke-width:5.186136568754554px\",\"stroke-width:4.259010592558029px\",\"stroke-width:4.875301959333735px\",\"stroke-width:2.9591960533651296px\",\"stroke-width:3.8744971173600824px\",\"stroke-width:3.355412930523409px\",\"stroke-width:2.7961774421028407px\",\"stroke-width:2.739683185373045px\",\"stroke-width:2.4376509796668673px\",\"stroke-width:3.113691422857881px\",\"stroke-width:1.768457891805715px\",\"stroke-width:3.355412930523409px\",\"stroke-width:4.184935192389903px\",\"stroke-width:4.295569293938871px\",\"stroke-width:3.8744971173600824px\",\"stroke-width:3.163513649138838px\",\"stroke-width:3.2125632973992464px\",\"stroke-width:1.581756824569419px\",\"stroke-width:3.6242601898011735px\",\"stroke-width:5.033119395785112px\",\"stroke-width:4.543250585164045px\",\"stroke-width:4.071295809687198px\",\"stroke-width:16.879279783352462px\",\"stroke-width:2.0163522285595064px\",\"stroke-width:1.2504885675386868px\",\"stroke-width:0.9686242793400206px\",\"stroke-width:2.4376509796668673px\",\"stroke-width:2.905872838020062px\",\"stroke-width:3.113691422857881px\",\"stroke-width:3.355412930523409px\",\"stroke-width:2.681999184322546px\",\"stroke-width:3.5808543103383372px\",\"stroke-width:4.032704457119013px\",\"stroke-width:4.071295809687198px\",\"stroke-width:9.878068203389027px\",\"stroke-width:2.4376509796668673px\",\"stroke-width:2.165909733261031px\",\"stroke-width:1.768457891805715px\",\"stroke-width:5.944754785566518px\",\"stroke-width:3.3084817670367626px\",\"stroke-width:3.2608752308706492px\",\"stroke-width:3.993740215256691px\",\"stroke-width:10.757109400685987px\",\"stroke-width:2.0924675961949517px\",\"stroke-width:2.739683185373045px\",\"stroke-width:2.2369419536822726px\",\"stroke-width:8.084773669397258px\",\"stroke-width:1.9372485586800412px\",\"stroke-width:3.914648418943977px\",\"stroke-width:2.5009771350773735px\",\"stroke-width:2.0163522285595064px\",\"stroke-width:3.667152335925879px\",\"stroke-width:2.905872838020062px\",\"stroke-width:3.113691422857881px\",\"stroke-width:15.356081074212247px\",\"stroke-width:2.165909733261031px\",\"stroke-width:3.667152335925879px\",\"stroke-width:3.2608752308706492px\",\"stroke-width:3.0115752711431187px\",\"stroke-width:13.709826521036064px\",\"stroke-width:3.5808543103383372px\",\"stroke-width:2.7961774421028407px\",\"stroke-width:6.15159037262625px\",\"stroke-width:1.4795980266825648px\",\"stroke-width:1.581756824569419px\",\"stroke-width:1.4795980266825648px\",\"stroke-width:1.2504885675386868px\",\"stroke-width:3.0115752711431187px\",\"stroke-width:1.8547742845421664px\",\"stroke-width:2.0163522285595064px\",\"stroke-width:13.06745594995098px\",\"stroke-width:1.9372485586800412px\",\"stroke-width:1.8547742845421664px\",\"stroke-width:1.8547742845421664px\",\"stroke-width:1.581756824569419px\",\"stroke-width:2.0163522285595064px\",\"stroke-width:2.4376509796668673px\",\"stroke-width:1.6777064652617044px\",\"stroke-width:2.7961774421028407px\",\"stroke-width:1.1184709768411363px\",\"stroke-width:1.1184709768411363px\",\"stroke-width:1.2504885675386868px\",\"stroke-width:1.4795980266825648px\",\"stroke-width:2.5009771350773735px\",\"stroke-width:2.5009771350773735px\",\"stroke-width:3.3084817670367626px\",\"stroke-width:2.372635236854128px\",\"stroke-width:1.581756824569419px\",\"stroke-width:1.768457891805715px\",\"stroke-width:1.768457891805715px\",\"stroke-width:1.6777064652617044px\",\"stroke-width:1.3698415926865224px\",\"stroke-width:0.9686242793400206px\",\"stroke-width:1.8547742845421664px\",\"stroke-width:1.1184709768411363px\",\"stroke-width:12.910953825891113px\",\"stroke-width:3.063058919653643px\",\"stroke-width:3.2608752308706492px\",\"stroke-width:5.7847768730921745px\",\"stroke-width:7.312952939000601px\",\"stroke-width:1.6777064652617044px\",\"stroke-width:2.5009771350773735px\",\"stroke-width:1.6777064652617044px\",\"stroke-width:6.734087025633375px\",\"stroke-width:6.734087025633375px\",\"stroke-width:6.734087025633375px\",\"stroke-width:6.710825861046818px\",\"stroke-width:0.9686242793400206px\",\"stroke-width:1.4795980266825648px\",\"stroke-width:1.768457891805715px\",\"stroke-width:1.1184709768411363px\",\"stroke-width:1.4795980266825648px\",\"stroke-width:1.4795980266825648px\",\"stroke-width:1.1184709768411363px\",\"stroke-width:1.3698415926865224px\",\"stroke-width:0.7908784122847095px\",\"stroke-width:0.7908784122847095px\",\"stroke-width:0.5592354884205681px\",\"stroke-width:0.0px\",\"stroke-width:9.103694186970623px\",\"stroke-width:1.4795980266825648px\",\"stroke-width:2.2369419536822726px\",\"stroke-width:1.8547742845421664px\",\"stroke-width:1.4795980266825648px\",\"stroke-width:1.4795980266825648px\",\"stroke-width:1.8547742845421664px\",\"stroke-width:2.0163522285595064px\",\"stroke-width:1.2504885675386868px\",\"stroke-width:0.5592354884205681px\",\"stroke-width:1.1184709768411363px\",\"stroke-width:0.7908784122847095px\",\"stroke-width:0.0px\",\"stroke-width:0.0px\",\"stroke-width:0.0px\",\"stroke-width:0.0px\",\"stroke-width:0.7908784122847095px\",\"stroke-width:1.1184709768411363px\",\"stroke-width:0.9686242793400206px\",\"stroke-width:0.9686242793400206px\",\"stroke-width:1.8547742845421664px\",\"stroke-width:1.3698415926865224px\",\"stroke-width:3.4924245058197982px\",\"stroke-width:2.0924675961949517px\",\"stroke-width:0.5592354884205681px\",\"stroke-width:1.1184709768411363px\",\"stroke-width:0.7908784122847095px\",\"stroke-width:0.5592354884205681px\",\"stroke-width:0.7908784122847095px\",\"stroke-width:0.5592354884205681px\",\"stroke-width:0.5592354884205681px\",\"stroke-width:0.0px\",\"stroke-width:1.4795980266825648px\",\"stroke-width:1.3698415926865224px\",\"stroke-width:1.3698415926865224px\",\"stroke-width:1.581756824569419px\",\"stroke-width:1.2504885675386868px\",\"stroke-width:1.1184709768411363px\",\"stroke-width:1.1184709768411363px\",\"stroke-width:1.581756824569419px\",\"stroke-width:0.7908784122847095px\",\"stroke-width:1.1184709768411363px\",\"stroke-width:0.7908784122847095px\",\"stroke-width:0.9686242793400206px\",\"stroke-width:3.113691422857881px\",\"stroke-width:1.768457891805715px\",\"stroke-width:1.9372485586800412px\",\"stroke-width:1.768457891805715px\",\"stroke-width:0.9686242793400206px\",\"stroke-width:2.372635236854128px\",\"stroke-width:1.1184709768411363px\",\"stroke-width:0.9686242793400206px\",\"stroke-width:0.7908784122847095px\",\"stroke-width:0.9686242793400206px\",\"stroke-width:0.7908784122847095px\",\"stroke-width:1.8547742845421664px\",\"stroke-width:1.6777064652617044px\",\"stroke-width:1.768457891805715px\",\"stroke-width:1.768457891805715px\",\"stroke-width:1.9372485586800412px\",\"stroke-width:0.5592354884205681px\",\"stroke-width:0.5592354884205681px\",\"stroke-width:0.5592354884205681px\",\"stroke-width:0.5592354884205681px\",\"stroke-width:0.7908784122847095px\",\"stroke-width:0.9686242793400206px\",\"stroke-width:1.3698415926865224px\",\"stroke-width:0.0px\",\"stroke-width:0.7908784122847095px\",\"stroke-width:1.2504885675386868px\",\"stroke-width:1.1184709768411363px\",\"stroke-width:0.7908784122847095px\",\"stroke-width:0.7908784122847095px\",\"stroke-width:0.9686242793400206px\",\"stroke-width:0.5592354884205681px\",\"stroke-width:0.9686242793400206px\",\"stroke-width:0.5592354884205681px\",\"stroke-width:0.0px\",\"stroke-width:0.0px\",\"stroke-width:0.0px\",\"stroke-width:0.5592354884205681px\",\"stroke-width:0.0px\",\"stroke-width:0.0px\",\"stroke-width:0.0px\",\"stroke-width:0.0px\",\"stroke-width:0.0px\",\"stroke-width:0.0px\",\"stroke-width:0.0px\",\"stroke-width:0.7908784122847095px\",\"stroke-width:0.5592354884205681px\",\"stroke-width:0.5592354884205681px\",\"stroke-width:0.5592354884205681px\",\"stroke-width:0.5592354884205681px\",\"stroke-width:0.0px\",\"stroke-width:0.0px\",\"stroke-width:0.0px\",\"stroke-width:0.0px\",\"stroke-width:0.0px\",\"stroke-width:0.0px\",\"stroke-width:0.0px\",\"stroke-width:0.5592354884205681px\",\"stroke-width:0.0px\",\"stroke-width:0.0px\",\"stroke-width:0.0px\",\"stroke-width:0.7908784122847095px\",\"stroke-width:0.0px\",\"stroke-width:0.0px\",\"stroke-width:0.0px\",\"stroke-width:0.0px\",\"stroke-width:0.0px\",\"stroke-width:0.0px\",\"stroke-width:0.0px\",\"stroke-width:0.7908784122847095px\",\"stroke-width:0.0px\",\"stroke-width:0.0px\",\"stroke-width:0.0px\",\"stroke-width:0.0px\",\"stroke-width:0.0px\",\"stroke-width:0.0px\",\"stroke-width:0.0px\",\"stroke-width:0.0px\",\"stroke-width:0.0px\",\"stroke-width:0.0px\",\"stroke-width:0.0px\",\"stroke-width:0.0px\",\"stroke-width:0.0px\",\"stroke-width:0.0px\",\"stroke-width:0.0px\",\"stroke-width:0.5592354884205681px\",\"stroke-width:0.0px\",\"stroke-width:0.0px\",\"stroke-width:0.0px\",\"stroke-width:0.0px\",\"stroke-width:0.0px\",\"stroke-width:0.0px\",\"stroke-width:0.0px\",\"stroke-width:0.0px\",\"stroke-width:0.0px\",\"stroke-width:0.0px\",\"stroke-width:0.0px\"],\"title\":\"MCTS tree\",\"options\":{\"tooltip\":[\"GridWorldState(4, 1, false)\\nN: 2010\\n\",\"GridWorldState(5, 2, false)\\nN: 602\\n\",\"GridWorldState(9, 3, false)\\nN: 579\\n\",\"GridWorldState(3, 2, false)\\nN: 199\\n\",\"GridWorldState(9, 1, false)\\nN: 209\\n\",\"GridWorldState(9, 5, false)\\nN: 13\\n\",\"GridWorldState(9, 3, true)\\nN: 0\\n\",\"GridWorldState(5, 3, false)\\nN: 115\\n\",\"GridWorldState(9, 3, false)\\nN: 579\\n\",\"GridWorldState(2, 4, false)\\nN: 42\\n\",\"GridWorldState(2, 4, false)\\nN: 42\\n\",\"GridWorldState(7, 4, false)\\nN: 94\\n\",\"GridWorldState(4, 1, false)\\nN: 2010\\n\",\"GridWorldState(7, 3, false)\\nN: 263\\n\",\"GridWorldState(1, 2, false)\\nN: 117\\n\",\"GridWorldState(7, 3, false)\\nN: 263\\n\",\"GridWorldState(5, 3, false)\\nN: 115\\n\",\"GridWorldState(5, 5, false)\\nN: 24\\n\",\"GridWorldState(8, 4, false)\\nN: 121\\n\",\"GridWorldState(3, 2, false)\\nN: 199\\n\",\"GridWorldState(1, 3, false)\\nN: 93\\n\",\"GridWorldState(5, 4, false)\\nN: 40\\n\",\"GridWorldState(6, 4, false)\\nN: 66\\n\",\"GridWorldState(5, 4, false)\\nN: 40\\n\",\"GridWorldState(6, 3, false)\\nN: 157\\n\",\"GridWorldState(8, 3, false)\\nN: 599\\n\",\"GridWorldState(7, 4, false)\\nN: 94\\n\",\"GridWorldState(3, 1, false)\\nN: 594\\n\",\"GridWorldState(4, 1, false)\\nN: 2010\\n\",\"GridWorldState(2, 3, false)\\nN: 84\\n\",\"GridWorldState(10, 1, false)\\nN: 63\\n\",\"GridWorldState(8, 3, false)\\nN: 599\\n\",\"GridWorldState(2, 3, false)\\nN: 84\\n\",\"GridWorldState(4, 3, false)\\nN: 76\\n\",\"GridWorldState(5, 5, false)\\nN: 24\\n\",\"GridWorldState(8, 2, false)\\nN: 788\\n\",\"GridWorldState(6, 5, false)\\nN: 27\\n\",\"GridWorldState(3, 1, false)\\nN: 594\\n\",\"GridWorldState(1, 6, false)\\nN: 11\\n\",\"GridWorldState(5, 4, false)\\nN: 40\\n\",\"GridWorldState(3, 2, false)\\nN: 199\\n\",\"GridWorldState(3, 5, false)\\nN: 24\\n\",\"GridWorldState(6, 5, false)\\nN: 27\\n\",\"GridWorldState(7, 3, false)\\nN: 263\\n\",\"GridWorldState(4, 5, false)\\nN: 12\\n\",\"GridWorldState(3, 3, false)\\nN: 72\\n\",\"GridWorldState(8, 6, false)\\nN: 11\\n\",\"GridWorldState(7, 2, false)\\nN: 490\\n\",\"GridWorldState(9, 1, false)\\nN: 209\\n\",\"GridWorldState(7, 5, false)\\nN: 41\\n\",\"GridWorldState(4, 6, false)\\nN: 4\\n\",\"GridWorldState(3, 3, false)\\nN: 72\\n\",\"GridWorldState(1, 2, false)\\nN: 117\\n\",\"GridWorldState(5, 2, false)\\nN: 602\\n\",\"GridWorldState(9, 2, false)\\nN: 299\\n\",\"GridWorldState(7, 6, false)\\nN: 9\\n\",\"GridWorldState(5, 2, false)\\nN: 602\\n\",\"GridWorldState(7, 2, false)\\nN: 490\\n\",\"GridWorldState(5, 2, false)\\nN: 602\\n\",\"GridWorldState(10, 3, false)\\nN: 21\\n\",\"GridWorldState(7, 5, false)\\nN: 41\\n\",\"GridWorldState(1, 2, false)\\nN: 117\\n\",\"GridWorldState(10, 2, false)\\nN: 70\\n\",\"GridWorldState(6, 5, false)\\nN: 27\\n\",\"GridWorldState(5, 2, false)\\nN: 602\\n\",\"GridWorldState(6, 1, false)\\nN: 1111\\n\",\"GridWorldState(4, 3, false)\\nN: 76\\n\",\"GridWorldState(6, 2, false)\\nN: 458\\n\",\"GridWorldState(9, 3, false)\\nN: 579\\n\",\"GridWorldState(2, 3, false)\\nN: 84\\n\",\"GridWorldState(9, 4, false)\\nN: 28\\n\",\"GridWorldState(3, 3, false)\\nN: 72\\n\",\"GridWorldState(9, 3, false)\\nN: 579\\n\",\"GridWorldState(4, 6, true)\\nN: 0\\n\",\"GridWorldState(3, 2, false)\\nN: 199\\n\",\"GridWorldState(7, 5, false)\\nN: 41\\n\",\"GridWorldState(6, 3, false)\\nN: 157\\n\",\"GridWorldState(10, 1, false)\\nN: 63\\n\",\"GridWorldState(2, 4, false)\\nN: 42\\n\",\"GridWorldState(8, 4, false)\\nN: 121\\n\",\"GridWorldState(3, 4, false)\\nN: 27\\n\",\"GridWorldState(4, 5, false)\\nN: 12\\n\",\"GridWorldState(2, 1, false)\\nN: 273\\n\",\"GridWorldState(1, 1, false)\\nN: 199\\n\",\"GridWorldState(3, 1, false)\\nN: 594\\n\",\"GridWorldState(6, 1, false)\\nN: 1111\\n\",\"GridWorldState(2, 5, false)\\nN: 20\\n\",\"GridWorldState(8, 1, false)\\nN: 704\\n\",\"GridWorldState(8, 2, false)\\nN: 788\\n\",\"GridWorldState(2, 4, false)\\nN: 42\\n\",\"GridWorldState(8, 2, false)\\nN: 788\\n\",\"GridWorldState(6, 5, false)\\nN: 27\\n\",\"GridWorldState(8, 4, false)\\nN: 121\\n\",\"GridWorldState(9, 5, false)\\nN: 13\\n\",\"GridWorldState(2, 3, false)\\nN: 84\\n\",\"GridWorldState(7, 1, false)\\nN: 855\\n\",\"GridWorldState(7, 3, false)\\nN: 263\\n\",\"GridWorldState(9, 2, false)\\nN: 299\\n\",\"GridWorldState(2, 1, false)\\nN: 273\\n\",\"GridWorldState(3, 2, false)\\nN: 199\\n\",\"GridWorldState(9, 4, false)\\nN: 28\\n\",\"GridWorldState(1, 1, false)\\nN: 199\\n\",\"GridWorldState(8, 4, false)\\nN: 121\\n\",\"GridWorldState(5, 1, false)\\nN: 1577\\n\",\"GridWorldState(5, 1, false)\\nN: 1577\\n\",\"GridWorldState(7, 3, false)\\nN: 263\\n\",\"GridWorldState(1, 4, false)\\nN: 37\\n\",\"GridWorldState(2, 2, false)\\nN: 137\\n\",\"GridWorldState(8, 2, false)\\nN: 788\\n\",\"GridWorldState(7, 2, false)\\nN: 490\\n\",\"GridWorldState(1, 2, false)\\nN: 117\\n\",\"GridWorldState(4, 2, false)\\nN: 362\\n\",\"GridWorldState(5, 2, false)\\nN: 602\\n\",\"GridWorldState(9, 3, true)\\nN: 0\\n\",\"GridWorldState(4, 1, false)\\nN: 2010\\n\",\"GridWorldState(2, 2, false)\\nN: 137\\n\",\"GridWorldState(6, 2, false)\\nN: 458\\n\",\"GridWorldState(8, 5, false)\\nN: 38\\n\",\"GridWorldState(6, 3, false)\\nN: 157\\n\",\"GridWorldState(10, 5, false)\\nN: 2\\n\",\"GridWorldState(6, 4, false)\\nN: 66\\n\",\"GridWorldState(2, 1, false)\\nN: 273\\n\",\"GridWorldState(6, 4, false)\\nN: 66\\n\",\"GridWorldState(7, 2, false)\\nN: 490\\n\",\"GridWorldState(9, 2, false)\\nN: 299\\n\",\"GridWorldState(8, 3, false)\\nN: 599\\n\",\"GridWorldState(8, 2, false)\\nN: 788\\n\",\"GridWorldState(5, 4, false)\\nN: 40\\n\",\"GridWorldState(5, 2, false)\\nN: 602\\n\",\"GridWorldState(4, 3, false)\\nN: 76\\n\",\"GridWorldState(8, 2, false)\\nN: 788\\n\",\"GridWorldState(8, 2, false)\\nN: 788\\n\",\"GridWorldState(3, 5, false)\\nN: 24\\n\",\"GridWorldState(7, 5, false)\\nN: 41\\n\",\"GridWorldState(8, 3, false)\\nN: 599\\n\",\"GridWorldState(3, 3, false)\\nN: 72\\n\",\"GridWorldState(3, 5, false)\\nN: 24\\n\",\"GridWorldState(5, 5, false)\\nN: 24\\n\",\"GridWorldState(3, 3, false)\\nN: 72\\n\",\"GridWorldState(7, 5, false)\\nN: 41\\n\",\"GridWorldState(6, 3, false)\\nN: 157\\n\",\"GridWorldState(4, 2, false)\\nN: 362\\n\",\"GridWorldState(4, 2, false)\\nN: 362\\n\",\"GridWorldState(5, 4, false)\\nN: 40\\n\",\"GridWorldState(4, 3, false)\\nN: 76\\n\",\"GridWorldState(1, 4, false)\\nN: 37\\n\",\"GridWorldState(6, 2, false)\\nN: 458\\n\",\"GridWorldState(1, 3, false)\\nN: 93\\n\",\"GridWorldState(6, 5, false)\\nN: 27\\n\",\"GridWorldState(2, 2, false)\\nN: 137\\n\",\"GridWorldState(8, 2, false)\\nN: 788\\n\",\"GridWorldState(2, 4, false)\\nN: 42\\n\",\"GridWorldState(9, 3, false)\\nN: 579\\n\",\"GridWorldState(4, 1, false)\\nN: 2010\\n\",\"GridWorldState(4, 2, false)\\nN: 362\\n\",\"GridWorldState(7, 4, false)\\nN: 94\\n\",\"GridWorldState(1, 1, false)\\nN: 199\\n\",\"GridWorldState(6, 2, false)\\nN: 458\\n\",\"GridWorldState(9, 2, false)\\nN: 299\\n\",\"GridWorldState(2, 1, false)\\nN: 273\\n\",\"GridWorldState(10, 3, false)\\nN: 21\\n\",\"GridWorldState(2, 1, false)\\nN: 273\\n\",\"GridWorldState(4, 1, false)\\nN: 2010\\n\",\"GridWorldState(2, 6, false)\\nN: 4\\n\",\"GridWorldState(6, 1, false)\\nN: 1111\\n\",\"GridWorldState(4, 3, false)\\nN: 76\\n\",\"GridWorldState(2, 2, false)\\nN: 137\\n\",\"GridWorldState(8, 1, false)\\nN: 704\\n\",\"GridWorldState(2, 5, false)\\nN: 20\\n\",\"GridWorldState(2, 4, false)\\nN: 42\\n\",\"GridWorldState(5, 3, false)\\nN: 115\\n\",\"GridWorldState(8, 3, false)\\nN: 599\\n\",\"GridWorldState(7, 5, false)\\nN: 41\\n\",\"GridWorldState(5, 4, false)\\nN: 40\\n\",\"GridWorldState(8, 5, false)\\nN: 38\\n\",\"GridWorldState(4, 3, false)\\nN: 76\\n\",\"GridWorldState(7, 4, false)\\nN: 94\\n\",\"GridWorldState(3, 1, false)\\nN: 594\\n\",\"GridWorldState(4, 6, true)\\nN: 0\\n\",\"GridWorldState(10, 1, false)\\nN: 63\\n\",\"GridWorldState(2, 6, false)\\nN: 4\\n\",\"GridWorldState(6, 1, false)\\nN: 1111\\n\",\"GridWorldState(7, 4, false)\\nN: 94\\n\",\"GridWorldState(4, 1, false)\\nN: 2010\\n\",\"GridWorldState(10, 1, false)\\nN: 63\\n\",\"GridWorldState(9, 2, false)\\nN: 299\\n\",\"GridWorldState(6, 5, false)\\nN: 27\\n\",\"GridWorldState(7, 7, false)\\nN: 1\\n\",\"GridWorldState(7, 4, false)\\nN: 94\\n\",\"GridWorldState(10, 4, false)\\nN: 18\\n\",\"GridWorldState(8, 1, false)\\nN: 704\\n\",\"GridWorldState(10, 4, false)\\nN: 18\\n\",\"GridWorldState(3, 4, false)\\nN: 27\\n\",\"GridWorldState(8, 2, false)\\nN: 788\\n\",\"GridWorldState(9, 1, false)\\nN: 209\\n\",\"GridWorldState(3, 5, false)\\nN: 24\\n\",\"GridWorldState(3, 3, false)\\nN: 72\\n\",\"GridWorldState(9, 1, false)\\nN: 209\\n\",\"GridWorldState(7, 1, false)\\nN: 855\\n\",\"GridWorldState(9, 2, false)\\nN: 299\\n\",\"GridWorldState(10, 2, false)\\nN: 70\\n\",\"GridWorldState(5, 4, false)\\nN: 40\\n\",\"GridWorldState(2, 4, false)\\nN: 42\\n\",\"GridWorldState(3, 1, false)\\nN: 594\\n\",\"GridWorldState(5, 2, false)\\nN: 602\\n\",\"GridWorldState(3, 2, false)\\nN: 199\\n\",\"GridWorldState(10, 2, false)\\nN: 70\\n\",\"GridWorldState(7, 4, false)\\nN: 94\\n\",\"GridWorldState(3, 2, false)\\nN: 199\\n\",\"GridWorldState(5, 1, false)\\nN: 1577\\n\",\"GridWorldState(7, 1, false)\\nN: 855\\n\",\"GridWorldState(3, 1, false)\\nN: 594\\n\",\"GridWorldState(7, 4, false)\\nN: 94\\n\",\"GridWorldState(9, 1, false)\\nN: 209\\n\",\"GridWorldState(4, 5, false)\\nN: 12\\n\",\"GridWorldState(3, 6, false)\\nN: 8\\n\",\"GridWorldState(6, 6, false)\\nN: 5\\n\",\"GridWorldState(1, 4, false)\\nN: 37\\n\",\"GridWorldState(8, 5, false)\\nN: 38\\n\",\"GridWorldState(7, 3, false)\\nN: 263\\n\",\"GridWorldState(9, 1, false)\\nN: 209\\n\",\"GridWorldState(7, 6, false)\\nN: 9\\n\",\"GridWorldState(4, 4, false)\\nN: 12\\n\",\"GridWorldState(8, 1, false)\\nN: 704\\n\",\"GridWorldState(8, 5, false)\\nN: 38\\n\",\"GridWorldState(6, 1, false)\\nN: 1111\\n\",\"GridWorldState(2, 2, false)\\nN: 137\\n\",\"GridWorldState(2, 2, false)\\nN: 137\\n\",\"GridWorldState(8, 3, false)\\nN: 599\\n\",\"GridWorldState(6, 3, false)\\nN: 157\\n\",\"GridWorldState(6, 3, false)\\nN: 157\\n\",\"GridWorldState(3, 5, false)\\nN: 24\\n\",\"GridWorldState(1, 1, false)\\nN: 199\\n\",\"GridWorldState(3, 5, false)\\nN: 24\\n\",\"GridWorldState(1, 6, false)\\nN: 11\\n\",\"GridWorldState(7, 2, false)\\nN: 490\\n\",\"GridWorldState(7, 5, false)\\nN: 41\\n\",\"GridWorldState(3, 6, false)\\nN: 8\\n\",\"GridWorldState(4, 2, false)\\nN: 362\\n\",\"GridWorldState(7, 2, false)\\nN: 490\\n\",\"GridWorldState(7, 3, false)\\nN: 263\\n\",\"GridWorldState(6, 3, false)\\nN: 157\\n\",\"GridWorldState(1, 4, false)\\nN: 37\\n\",\"GridWorldState(6, 6, false)\\nN: 5\\n\",\"GridWorldState(5, 4, false)\\nN: 40\\n\",\"GridWorldState(8, 4, false)\\nN: 121\\n\",\"GridWorldState(4, 2, false)\\nN: 362\\n\",\"GridWorldState(1, 5, false)\\nN: 24\\n\",\"GridWorldState(1, 3, false)\\nN: 93\\n\",\"GridWorldState(8, 1, false)\\nN: 704\\n\",\"GridWorldState(2, 5, false)\\nN: 20\\n\",\"GridWorldState(9, 4, false)\\nN: 28\\n\",\"GridWorldState(4, 3, true)\\nN: 0\\n\",\"GridWorldState(5, 3, false)\\nN: 115\\n\",\"GridWorldState(9, 4, false)\\nN: 28\\n\",\"GridWorldState(6, 3, false)\\nN: 157\\n\",\"GridWorldState(6, 5, false)\\nN: 27\\n\",\"GridWorldState(4, 2, false)\\nN: 362\\n\",\"GridWorldState(4, 4, false)\\nN: 12\\n\",\"GridWorldState(9, 3, false)\\nN: 579\\n\",\"GridWorldState(8, 4, false)\\nN: 121\\n\",\"GridWorldState(3, 4, false)\\nN: 27\\n\",\"GridWorldState(3, 1, false)\\nN: 594\\n\",\"GridWorldState(1, 3, false)\\nN: 93\\n\",\"GridWorldState(9, 2, false)\\nN: 299\\n\",\"GridWorldState(8, 1, false)\\nN: 704\\n\",\"GridWorldState(6, 3, false)\\nN: 157\\n\",\"GridWorldState(6, 1, false)\\nN: 1111\\n\",\"GridWorldState(2, 3, false)\\nN: 84\\n\",\"GridWorldState(7, 1, false)\\nN: 855\\n\",\"GridWorldState(2, 5, false)\\nN: 20\\n\",\"GridWorldState(9, 3, false)\\nN: 579\\n\",\"GridWorldState(8, 2, false)\\nN: 788\\n\",\"GridWorldState(7, 1, false)\\nN: 855\\n\",\"GridWorldState(9, 3, false)\\nN: 579\\n\",\"GridWorldState(1, 3, false)\\nN: 93\\n\",\"GridWorldState(4, 3, false)\\nN: 76\\n\",\"GridWorldState(2, 7, false)\\nN: 0\\n\",\"GridWorldState(6, 7, false)\\nN: 1\\n\",\"GridWorldState(3, 3, false)\\nN: 72\\n\",\"GridWorldState(8, 5, false)\\nN: 38\\n\",\"GridWorldState(7, 2, false)\\nN: 490\\n\",\"GridWorldState(4, 5, false)\\nN: 12\\n\",\"GridWorldState(2, 2, false)\\nN: 137\\n\",\"GridWorldState(8, 5, false)\\nN: 38\\n\",\"GridWorldState(5, 1, false)\\nN: 1577\\n\",\"GridWorldState(9, 5, false)\\nN: 13\\n\",\"GridWorldState(2, 1, false)\\nN: 273\\n\",\"GridWorldState(2, 3, false)\\nN: 84\\n\",\"GridWorldState(1, 6, false)\\nN: 11\\n\",\"GridWorldState(1, 4, false)\\nN: 37\\n\",\"GridWorldState(5, 3, false)\\nN: 115\\n\",\"GridWorldState(7, 2, false)\\nN: 490\\n\",\"GridWorldState(8, 4, false)\\nN: 121\\n\",\"GridWorldState(2, 5, false)\\nN: 20\\n\",\"GridWorldState(2, 2, false)\\nN: 137\\n\",\"GridWorldState(4, 1, false)\\nN: 2010\\n\",\"GridWorldState(3, 5, false)\\nN: 24\\n\",\"GridWorldState(4, 3, true)\\nN: 0\\n\",\"GridWorldState(2, 2, false)\\nN: 137\\n\",\"GridWorldState(4, 3, true)\\nN: 0\\n\",\"GridWorldState(5, 6, false)\\nN: 5\\n\",\"GridWorldState(6, 2, false)\\nN: 458\\n\",\"GridWorldState(5, 5, false)\\nN: 24\\n\",\"GridWorldState(1, 2, false)\\nN: 117\\n\",\"GridWorldState(8, 3, false)\\nN: 599\\n\",\"GridWorldState(8, 5, false)\\nN: 38\\n\",\"GridWorldState(4, 6, false)\\nN: 4\\n\",\"GridWorldState(6, 6, false)\\nN: 5\\n\",\"GridWorldState(1, 1, false)\\nN: 199\\n\",\"GridWorldState(5, 3, false)\\nN: 115\\n\",\"GridWorldState(4, 3, false)\\nN: 76\\n\",\"GridWorldState(2, 3, false)\\nN: 84\\n\",\"GridWorldState(7, 2, false)\\nN: 490\\n\",\"GridWorldState(9, 3, false)\\nN: 579\\n\",\"GridWorldState(5, 2, false)\\nN: 602\\n\",\"GridWorldState(7, 3, false)\\nN: 263\\n\",\"GridWorldState(2, 4, false)\\nN: 42\\n\",\"GridWorldState(7, 4, false)\\nN: 94\\n\",\"GridWorldState(6, 3, false)\\nN: 157\\n\",\"GridWorldState(4, 5, false)\\nN: 12\\n\",\"GridWorldState(5, 3, false)\\nN: 115\\n\",\"GridWorldState(6, 3, false)\\nN: 157\\n\",\"GridWorldState(1, 4, false)\\nN: 37\\n\",\"GridWorldState(6, 3, false)\\nN: 157\\n\",\"GridWorldState(2, 4, false)\\nN: 42\\n\",\"GridWorldState(3, 4, false)\\nN: 27\\n\",\"GridWorldState(6, 2, false)\\nN: 458\\n\",\"GridWorldState(5, 3, false)\\nN: 115\\n\",\"GridWorldState(1, 5, false)\\nN: 24\\n\",\"GridWorldState(10, 6, false)\\nN: 1\\n\",\"GridWorldState(2, 5, false)\\nN: 20\\n\",\"GridWorldState(7, 4, false)\\nN: 94\\n\",\"GridWorldState(8, 5, false)\\nN: 38\\n\",\"GridWorldState(4, 6, false)\\nN: 4\\n\",\"GridWorldState(4, 2, false)\\nN: 362\\n\",\"GridWorldState(5, 3, false)\\nN: 115\\n\",\"GridWorldState(5, 3, false)\\nN: 115\\n\",\"GridWorldState(6, 2, false)\\nN: 458\\n\",\"GridWorldState(5, 5, false)\\nN: 24\\n\",\"GridWorldState(9, 4, false)\\nN: 28\\n\",\"GridWorldState(4, 6, false)\\nN: 4\\n\",\"GridWorldState(9, 5, false)\\nN: 13\\n\",\"GridWorldState(4, 1, false)\\nN: 2010\\n\",\"GridWorldState(5, 6, false)\\nN: 5\\n\",\"GridWorldState(8, 4, false)\\nN: 121\\n\",\"GridWorldState(6, 2, false)\\nN: 458\\n\",\"GridWorldState(6, 1, false)\\nN: 1111\\n\",\"GridWorldState(6, 1, false)\\nN: 1111\\n\",\"GridWorldState(6, 3, false)\\nN: 157\\n\",\"GridWorldState(5, 1, false)\\nN: 1577\\n\",\"GridWorldState(1, 4, false)\\nN: 37\\n\",\"GridWorldState(1, 6, false)\\nN: 11\\n\",\"GridWorldState(3, 2, false)\\nN: 199\\n\",\"GridWorldState(5, 2, false)\\nN: 602\\n\",\"GridWorldState(3, 5, false)\\nN: 24\\n\",\"GridWorldState(6, 3, false)\\nN: 157\\n\",\"GridWorldState(1, 2, false)\\nN: 117\\n\",\"GridWorldState(6, 4, false)\\nN: 66\\n\",\"GridWorldState(2, 3, false)\\nN: 84\\n\",\"GridWorldState(9, 3, false)\\nN: 579\\n\",\"GridWorldState(6, 2, false)\\nN: 458\\n\",\"GridWorldState(9, 4, false)\\nN: 28\\n\",\"GridWorldState(2, 4, false)\\nN: 42\\n\",\"GridWorldState(1, 4, false)\\nN: 37\\n\",\"GridWorldState(5, 4, false)\\nN: 40\\n\",\"GridWorldState(3, 4, false)\\nN: 27\\n\",\"GridWorldState(7, 3, false)\\nN: 263\\n\",\"GridWorldState(10, 2, false)\\nN: 70\\n\",\"GridWorldState(9, 2, false)\\nN: 299\\n\",\"GridWorldState(4, 4, false)\\nN: 12\\n\",\"GridWorldState(1, 1, false)\\nN: 199\\n\",\"GridWorldState(10, 1, false)\\nN: 63\\n\",\"GridWorldState(2, 1, false)\\nN: 273\\n\",\"GridWorldState(3, 2, false)\\nN: 199\\n\",\"GridWorldState(7, 5, false)\\nN: 41\\n\",\"GridWorldState(9, 1, false)\\nN: 209\\n\",\"GridWorldState(8, 3, false)\\nN: 599\\n\",\"GridWorldState(1, 2, false)\\nN: 117\\n\",\"GridWorldState(7, 4, false)\\nN: 94\\n\",\"GridWorldState(1, 2, false)\\nN: 117\\n\",\"GridWorldState(1, 2, false)\\nN: 117\\n\",\"GridWorldState(10, 1, false)\\nN: 63\\n\",\"GridWorldState(3, 1, false)\\nN: 594\\n\",\"GridWorldState(8, 1, false)\\nN: 704\\n\",\"GridWorldState(7, 4, false)\\nN: 94\\n\",\"GridWorldState(8, 4, false)\\nN: 121\\n\",\"GridWorldState(8, 5, false)\\nN: 38\\n\",\"GridWorldState(7, 3, false)\\nN: 263\\n\",\"GridWorldState(7, 4, false)\\nN: 94\\n\",\"GridWorldState(7, 3, false)\\nN: 263\\n\",\"GridWorldState(10, 4, false)\\nN: 18\\n\",\"GridWorldState(1, 3, false)\\nN: 93\\n\",\"GridWorldState(6, 3, false)\\nN: 157\\n\",\"GridWorldState(8, 6, false)\\nN: 11\\n\",\"GridWorldState(10, 4, false)\\nN: 18\\n\",\"GridWorldState(9, 2, false)\\nN: 299\\n\",\"GridWorldState(3, 1, false)\\nN: 594\\n\",\"GridWorldState(8, 2, false)\\nN: 788\\n\",\"GridWorldState(7, 1, false)\\nN: 855\\n\",\"GridWorldState(6, 4, false)\\nN: 66\\n\",\"GridWorldState(1, 3, false)\\nN: 93\\n\",\"GridWorldState(2, 1, false)\\nN: 273\\n\",\"GridWorldState(10, 1, false)\\nN: 63\\n\",\"GridWorldState(10, 3, false)\\nN: 21\\n\",\"GridWorldState(5, 1, false)\\nN: 1577\\n\",\"GridWorldState(8, 4, false)\\nN: 121\\n\",\"GridWorldState(2, 2, false)\\nN: 137\\n\",\"GridWorldState(8, 3, false)\\nN: 599\\n\",\"GridWorldState(1, 1, false)\\nN: 199\\n\",\"GridWorldState(7, 6, false)\\nN: 9\\n\",\"GridWorldState(8, 6, false)\\nN: 11\\n\",\"GridWorldState(2, 4, false)\\nN: 42\\n\",\"GridWorldState(10, 3, false)\\nN: 21\\n\",\"GridWorldState(7, 2, false)\\nN: 490\\n\",\"GridWorldState(1, 2, false)\\nN: 117\\n\",\"GridWorldState(9, 2, false)\\nN: 299\\n\",\"GridWorldState(10, 1, false)\\nN: 63\\n\",\"GridWorldState(7, 3, false)\\nN: 263\\n\",\"GridWorldState(1, 5, false)\\nN: 24\\n\",\"GridWorldState(7, 4, false)\\nN: 94\\n\",\"GridWorldState(2, 5, false)\\nN: 20\\n\",\"GridWorldState(3, 3, false)\\nN: 72\\n\",\"GridWorldState(10, 2, false)\\nN: 70\\n\",\"GridWorldState(6, 3, false)\\nN: 157\\n\",\"GridWorldState(5, 7, false)\\nN: 1\\n\",\"GridWorldState(2, 2, false)\\nN: 137\\n\",\"GridWorldState(4, 1, false)\\nN: 2010\\n\",\"GridWorldState(1, 4, false)\\nN: 37\\n\",\"GridWorldState(3, 1, false)\\nN: 594\\n\",\"GridWorldState(3, 5, false)\\nN: 24\\n\",\"GridWorldState(2, 3, false)\\nN: 84\\n\",\"GridWorldState(6, 2, false)\\nN: 458\\n\",\"GridWorldState(6, 4, false)\\nN: 66\\n\",\"GridWorldState(5, 2, false)\\nN: 602\\n\",\"GridWorldState(7, 6, false)\\nN: 9\\n\",\"GridWorldState(10, 2, false)\\nN: 70\\n\",\"GridWorldState(4, 4, false)\\nN: 12\\n\",\"GridWorldState(8, 2, false)\\nN: 788\\n\",\"GridWorldState(3, 2, false)\\nN: 199\\n\",\"GridWorldState(3, 2, false)\\nN: 199\\n\",\"GridWorldState(8, 5, false)\\nN: 38\\n\",\"GridWorldState(9, 6, false)\\nN: 2\\n\",\"GridWorldState(5, 2, false)\\nN: 602\\n\",\"GridWorldState(3, 4, false)\\nN: 27\\n\",\"GridWorldState(6, 2, false)\\nN: 458\\n\",\"GridWorldState(3, 3, false)\\nN: 72\\n\",\"GridWorldState(8, 6, false)\\nN: 11\\n\",\"GridWorldState(7, 2, false)\\nN: 490\\n\",\"GridWorldState(4, 4, false)\\nN: 12\\n\",\"GridWorldState(10, 2, false)\\nN: 70\\n\",\"GridWorldState(6, 5, false)\\nN: 27\\n\",\"GridWorldState(8, 3, false)\\nN: 599\\n\",\"GridWorldState(8, 4, false)\\nN: 121\\n\",\"GridWorldState(2, 2, false)\\nN: 137\\n\",\"GridWorldState(1, 5, false)\\nN: 24\\n\",\"GridWorldState(6, 6, false)\\nN: 5\\n\",\"GridWorldState(6, 4, false)\\nN: 66\\n\",\"GridWorldState(2, 5, false)\\nN: 20\\n\",\"GridWorldState(8, 4, false)\\nN: 121\\n\",\"GridWorldState(3, 2, false)\\nN: 199\\n\",\"GridWorldState(8, 2, false)\\nN: 788\\n\",\"GridWorldState(2, 1, false)\\nN: 273\\n\",\"GridWorldState(4, 5, false)\\nN: 12\\n\",\"GridWorldState(5, 1, false)\\nN: 1577\\n\",\"GridWorldState(6, 4, false)\\nN: 66\\n\",\"GridWorldState(10, 5, false)\\nN: 2\\n\",\"GridWorldState(4, 1, false)\\nN: 2010\\n\",\"GridWorldState(9, 3, true)\\nN: 0\\n\",\"GridWorldState(1, 4, false)\\nN: 37\\n\",\"GridWorldState(7, 5, false)\\nN: 41\\n\",\"GridWorldState(1, 3, false)\\nN: 93\\n\",\"GridWorldState(8, 2, false)\\nN: 788\\n\",\"GridWorldState(7, 3, false)\\nN: 263\\n\",\"GridWorldState(3, 4, false)\\nN: 27\\n\",\"GridWorldState(2, 3, false)\\nN: 84\\n\",\"GridWorldState(8, 6, false)\\nN: 11\\n\",\"GridWorldState(8, 1, false)\\nN: 704\\n\",\"GridWorldState(5, 3, false)\\nN: 115\\n\",\"GridWorldState(7, 6, false)\\nN: 9\\n\",\"GridWorldState(3, 1, false)\\nN: 594\\n\",\"GridWorldState(5, 1, false)\\nN: 1577\\n\",\"GridWorldState(10, 3, false)\\nN: 21\\n\",\"GridWorldState(7, 2, false)\\nN: 490\\n\",\"GridWorldState(4, 3, false)\\nN: 76\\n\",\"GridWorldState(6, 2, false)\\nN: 458\\n\",\"GridWorldState(7, 5, false)\\nN: 41\\n\",\"GridWorldState(9, 1, false)\\nN: 209\\n\",\"GridWorldState(3, 2, false)\\nN: 199\\n\",\"GridWorldState(2, 3, false)\\nN: 84\\n\",\"GridWorldState(7, 2, false)\\nN: 490\\n\",\"GridWorldState(5, 1, false)\\nN: 1577\\n\",\"GridWorldState(3, 2, false)\\nN: 199\\n\",\"GridWorldState(7, 2, false)\\nN: 490\\n\",\"GridWorldState(6, 1, false)\\nN: 1111\\n\",\"GridWorldState(3, 6, false)\\nN: 8\\n\",\"GridWorldState(10, 2, false)\\nN: 70\\n\",\"GridWorldState(8, 2, false)\\nN: 788\\n\",\"GridWorldState(2, 3, false)\\nN: 84\\n\",\"GridWorldState(5, 6, false)\\nN: 5\\n\",\"GridWorldState(2, 4, false)\\nN: 42\\n\",\"GridWorldState(7, 2, false)\\nN: 490\\n\",\"GridWorldState(6, 4, false)\\nN: 66\\n\",\"GridWorldState(7, 1, false)\\nN: 855\\n\",\"GridWorldState(5, 5, false)\\nN: 24\\n\",\"GridWorldState(2, 1, false)\\nN: 273\\n\",\"GridWorldState(10, 2, false)\\nN: 70\\n\",\"GridWorldState(9, 6, false)\\nN: 2\\n\",\"GridWorldState(5, 5, false)\\nN: 24\\n\",\"GridWorldState(7, 1, false)\\nN: 855\\n\",\"GridWorldState(4, 3, false)\\nN: 76\\n\",\"GridWorldState(6, 2, false)\\nN: 458\\n\",\"GridWorldState(9, 4, false)\\nN: 28\\n\",\"GridWorldState(2, 6, false)\\nN: 4\\n\",\"GridWorldState(8, 1, false)\\nN: 704\\n\",\"GridWorldState(1, 3, false)\\nN: 93\\n\",\"GridWorldState(3, 6, false)\\nN: 8\\n\",\"GridWorldState(4, 3, false)\\nN: 76\\n\",\"GridWorldState(1, 3, false)\\nN: 93\\n\",\"GridWorldState(4, 3, false)\\nN: 76\\n\",\"GridWorldState(9, 4, false)\\nN: 28\\n\",\"GridWorldState(4, 2, false)\\nN: 362\\n\",\"GridWorldState(9, 1, false)\\nN: 209\\n\",\"GridWorldState(7, 1, false)\\nN: 855\\n\",\"GridWorldState(6, 1, false)\\nN: 1111\\n\",\"GridWorldState(4, 2, false)\\nN: 362\\n\",\"GridWorldState(4, 4, false)\\nN: 12\\n\",\"GridWorldState(1, 5, false)\\nN: 24\\n\",\"GridWorldState(3, 2, false)\\nN: 199\\n\",\"GridWorldState(1, 7, false)\\nN: 1\\n\",\"GridWorldState(4, 6, true)\\nN: 0\\n\",\"GridWorldState(3, 3, false)\\nN: 72\\n\",\"GridWorldState(2, 2, false)\\nN: 137\\n\",\"GridWorldState(10, 4, false)\\nN: 18\\n\",\"GridWorldState(3, 3, false)\\nN: 72\\n\",\"GridWorldState(5, 2, false)\\nN: 602\\n\",\"GridWorldState(5, 1, false)\\nN: 1577\\n\",\"GridWorldState(7, 1, false)\\nN: 855\\n\",\"GridWorldState(4, 2, false)\\nN: 362\\n\",\"GridWorldState(7, 3, false)\\nN: 263\\n\",\"GridWorldState(2, 3, false)\\nN: 84\\n\",\"GridWorldState(3, 5, false)\\nN: 24\\n\",\"GridWorldState(7, 3, false)\\nN: 263\\n\",\"GridWorldState(4, 3, true)\\nN: 0\\n\",\"GridWorldState(4, 3, false)\\nN: 76\\n\",\"GridWorldState(8, 4, false)\\nN: 121\\n\",\"GridWorldState(5, 5, false)\\nN: 24\\n\",\"GridWorldState(7, 6, false)\\nN: 9\\n\",\"GridWorldState(8, 5, false)\\nN: 38\\n\",\"GridWorldState(8, 1, false)\\nN: 704\\n\",\"GridWorldState(4, 3, false)\\nN: 76\\n\",\"GridWorldState(5, 2, false)\\nN: 602\\n\",\"GridWorldState(5, 2, false)\\nN: 602\\n\",\"GridWorldState(8, 3, false)\\nN: 599\\n\",\"GridWorldState(7, 1, false)\\nN: 855\\n\",\"GridWorldState(1, 1, false)\\nN: 199\\n\",\"GridWorldState(9, 3, true)\\nN: 0\\n\",\"GridWorldState(6, 1, false)\\nN: 1111\\n\",\"GridWorldState(7, 5, false)\\nN: 41\\n\",\"GridWorldState(6, 2, false)\\nN: 458\\n\",\"up\\nQ: -4.464872244853043\\nN: 23\\n\",\"down\\nQ: 0.0\\nN: 480\\n\",\"left\\nQ: -0.5281601854115074\\nN: 228\\n\",\"right\\nQ: 1.7101755426640213\\nN: 1279\\n\",\"up\\nQ: -7.66125\\nN: 8\\n\",\"down\\nQ: -3.5995815587574826\\nN: 27\\n\",\"left\\nQ: -3.6325499283870966\\nN: 31\\n\",\"right\\nQ: 0.1916285813640823\\nN: 296\\n\",\"up\\nQ: -0.45194994099632574\\nN: 89\\n\",\"down\\nQ: 0.0\\nN: 131\\n\",\"left\\nQ: -0.37647211585725104\\nN: 94\\n\",\"right\\nQ: 0.734560942995079\\nN: 280\\n\",\"up\\nQ: -0.9502828775277212\\nN: 45\\n\",\"down\\nQ: -0.385847876752061\\nN: 66\\n\",\"left\\nQ: -1.1563830450307322\\nN: 41\\n\",\"right\\nQ: -0.9962015724737208\\nN: 47\\n\",\"up\\nQ: -10.0\\nN: 19\\n\",\"down\\nQ: -10.0\\nN: 19\\n\",\"left\\nQ: -10.0\\nN: 19\\n\",\"right\\nQ: -10.0\\nN: 19\\n\",\"up\\nQ: -2.157956526315789\\nN: 19\\n\",\"down\\nQ: -2.3672562631578944\\nN: 19\\n\",\"left\\nQ: -1.3713042497851053\\nN: 30\\n\",\"right\\nQ: -8.5725\\nN: 4\\n\",\"up\\nQ: -0.03947681688956823\\nN: 134\\n\",\"down\\nQ: 0.0\\nN: 152\\n\",\"left\\nQ: -0.5767006502128296\\nN: 88\\n\",\"right\\nQ: 2.657411872818323\\nN: 1203\\n\",\"up\\nQ: 0.0\\nN: 0\\n\",\"down\\nQ: 0.0\\nN: 0\\n\",\"left\\nQ: 0.0\\nN: 0\\n\",\"right\\nQ: 0.0\\nN: 0\\n\",\"up\\nQ: -1.9283261937214544\\nN: 34\\n\",\"down\\nQ: 1.9914906076444585\\nN: 390\\n\",\"left\\nQ: -1.9179380177801744\\nN: 35\\n\",\"right\\nQ: 0.19366701882640217\\nN: 143\\n\",\"up\\nQ: -0.5270553493784985\\nN: 53\\n\",\"down\\nQ: 0.0\\nN: 86\\n\",\"left\\nQ: -0.41493007525560527\\nN: 58\\n\",\"right\\nQ: 0.005244559429120306\\nN: 76\\n\",\"up\\nQ: -1.1872542398990706\\nN: 28\\n\",\"down\\nQ: -0.21006878595187492\\nN: 48\\n\",\"left\\nQ: -0.6740170286870248\\nN: 36\\n\",\"right\\nQ: -1.3928818271691599\\nN: 25\\n\",\"up\\nQ: -0.4948087499999999\\nN: 24\\n\",\"down\\nQ: -1.1785890154100662\\nN: 19\\n\",\"left\\nQ: -0.05061461227258066\\nN: 31\\n\",\"right\\nQ: -2.961441\\nN: 10\\n\",\"up\\nQ: -0.5860024400250001\\nN: 36\\n\",\"down\\nQ: 0.0\\nN: 56\\n\",\"left\\nQ: 0.0\\nN: 59\\n\",\"right\\nQ: -0.04210801460725332\\nN: 48\\n\",\"up\\nQ: -1.7356850318683126\\nN: 32\\n\",\"down\\nQ: -1.4389363636363637\\nN: 33\\n\",\"left\\nQ: -5.41125\\nN: 8\\n\",\"right\\nQ: 2.13192151241205\\nN: 42\\n\",\"up\\nQ: 0.4787104025845801\\nN: 81\\n\",\"down\\nQ: 0.0\\nN: 66\\n\",\"left\\nQ: -0.07542388535726739\\nN: 53\\n\",\"right\\nQ: 3.527928989330788\\nN: 911\\n\",\"up\\nQ: -0.6914565000000001\\nN: 13\\n\",\"down\\nQ: -3.800875492962\\nN: 5\\n\",\"left\\nQ: -6.615\\nN: 3\\n\",\"right\\nQ: 0.3012842520142106\\nN: 19\\n\",\"up\\nQ: -0.691004763\\nN: 27\\n\",\"down\\nQ: -0.13886039032258066\\nN: 31\\n\",\"left\\nQ: 0.0\\nN: 36\\n\",\"right\\nQ: -0.7692594842383043\\nN: 23\\n\",\"up\\nQ: -0.28208904750477126\\nN: 41\\n\",\"down\\nQ: 0.18402860578846164\\nN: 52\\n\",\"left\\nQ: 0.15647796636028302\\nN: 53\\n\",\"right\\nQ: 2.987154474162835\\nN: 312\\n\",\"up\\nQ: -0.9171932684210525\\nN: 19\\n\",\"down\\nQ: -1.40812994501449\\nN: 15\\n\",\"left\\nQ: -3.2380082100000003\\nN: 10\\n\",\"right\\nQ: 3.281903650081673\\nN: 113\\n\",\"up\\nQ: 0.8217605514407645\\nN: 35\\n\",\"down\\nQ: 0.7563750620639852\\nN: 34\\n\",\"left\\nQ: 1.53038936410253\\nN: 51\\n\",\"right\\nQ: 4.412846611417909\\nN: 370\\n\",\"up\\nQ: -0.08170283019628935\\nN: 14\\n\",\"down\\nQ: 0.948375\\nN: 24\\n\",\"left\\nQ: 0.1810184000625\\nN: 16\\n\",\"right\\nQ: 4.856174142893826\\nN: 209\\n\",\"up\\nQ: 0.0\\nN: 12\\n\",\"down\\nQ: 3.4557623118367355\\nN: 49\\n\",\"left\\nQ: 1.5586384500000003\\nN: 20\\n\",\"right\\nQ: 0.08940472823076927\\nN: 13\\n\",\"up\\nQ: 0.8511207503248356\\nN: 43\\n\",\"down\\nQ: 0.0\\nN: 27\\n\",\"left\\nQ: 0.013886039032258057\\nN: 31\\n\",\"right\\nQ: 4.357902575876027\\nN: 754\\n\",\"up\\nQ: 1.0871289611730002\\nN: 15\\n\",\"down\\nQ: 3.523244002325582\\nN: 43\\n\",\"left\\nQ: 2.8309898353235288\\nN: 34\\n\",\"right\\nQ: 2.723886775241379\\nN: 29\\n\",\"up\\nQ: 6.0624016314479565\\nN: 601\\n\",\"down\\nQ: 3.0132465967514634\\nN: 41\\n\",\"left\\nQ: 1.0731528\\nN: 25\\n\",\"right\\nQ: 4.733368160424017\\nN: 121\\n\",\"up\\nQ: -1.0414285714285716\\nN: 7\\n\",\"down\\nQ: -0.8201250000000001\\nN: 8\\n\",\"left\\nQ: -0.5207142857142857\\nN: 7\\n\",\"right\\nQ: -3.24\\nN: 5\\n\",\"up\\nQ: 3.5748268914103454\\nN: 29\\n\",\"down\\nQ: 0.8181818181818182\\nN: 11\\n\",\"left\\nQ: 0.0\\nN: 13\\n\",\"right\\nQ: 7.443975448081978\\nN: 546\\n\",\"up\\nQ: -0.11767897353375004\\nN: 12\\n\",\"down\\nQ: 0.0\\nN: 11\\n\",\"left\\nQ: 0.0\\nN: 11\\n\",\"right\\nQ: -1.6493625\\nN: 8\\n\",\"up\\nQ: 0.0\\nN: 13\\n\",\"down\\nQ: 0.6250215789473685\\nN: 19\\n\",\"left\\nQ: -1.705941\\nN: 9\\n\",\"right\\nQ: 1.9685291888520005\\nN: 25\\n\",\"up\\nQ: 0.0\\nN: 4\\n\",\"down\\nQ: 0.0\\nN: 4\\n\",\"left\\nQ: 0.0\\nN: 5\\n\",\"right\\nQ: -0.3416406428571429\\nN: 7\\n\",\"up\\nQ: -0.32631806002499997\\nN: 20\\n\",\"down\\nQ: -0.23914845\\nN: 20\\n\",\"left\\nQ: 0.0\\nN: 35\\n\",\"right\\nQ: -0.9178193069550001\\nN: 18\\n\",\"up\\nQ: -0.7802218181250001\\nN: 8\\n\",\"down\\nQ: 0.0\\nN: 10\\n\",\"left\\nQ: 0.0\\nN: 10\\n\",\"right\\nQ: -0.5904900000000001\\nN: 9\\n\",\"up\\nQ: 0.0\\nN: 6\\n\",\"down\\nQ: -0.7174453500000001\\nN: 3\\n\",\"left\\nQ: 0.0\\nN: 11\\n\",\"right\\nQ: 0.0\\nN: 4\\n\",\"up\\nQ: 5.233973681159933\\nN: 533\\n\",\"down\\nQ: 0.0\\nN: 30\\n\",\"left\\nQ: 1.9584602603205883\\nN: 34\\n\",\"right\\nQ: 4.434158613638861\\nN: 107\\n\",\"up\\nQ: 6.007881955746316\\nN: 171\\n\",\"down\\nQ: 0.0\\nN: 9\\n\",\"left\\nQ: 1.8847246050000004\\nN: 20\\n\",\"right\\nQ: 0.0\\nN: 9\\n\",\"up\\nQ: 10.0\\nN: 145\\n\",\"down\\nQ: 10.0\\nN: 145\\n\",\"left\\nQ: 10.0\\nN: 145\\n\",\"right\\nQ: 10.0\\nN: 144\\n\",\"up\\nQ: -2.6999999999999997\\nN: 3\\n\",\"down\\nQ: 0.0\\nN: 7\\n\",\"left\\nQ: 0.0\\nN: 10\\n\",\"right\\nQ: -2.49692625\\nN: 4\\n\",\"up\\nQ: 0.0\\nN: 7\\n\",\"down\\nQ: 0.0\\nN: 7\\n\",\"left\\nQ: -1.0125000000000002\\nN: 4\\n\",\"right\\nQ: 0.0\\nN: 6\\n\",\"up\\nQ: 0.0\\nN: 2\\n\",\"down\\nQ: 0.0\\nN: 2\\n\",\"left\\nQ: -4.5\\nN: 1\\n\",\"right\\nQ: 0.0\\nN: 0\\n\",\"up\\nQ: 7.9228318352801095\\nN: 265\\n\",\"down\\nQ: 0.0\\nN: 7\\n\",\"left\\nQ: 2.3351855625000004\\nN: 16\\n\",\"right\\nQ: 2.017718181818182\\nN: 11\\n\",\"up\\nQ: 0.0\\nN: 7\\n\",\"down\\nQ: 0.0\\nN: 7\\n\",\"left\\nQ: 1.9743556008681822\\nN: 11\\n\",\"right\\nQ: 2.328000376153846\\nN: 13\\n\",\"up\\nQ: -0.8100000000000002\\nN: 5\\n\",\"down\\nQ: -9.0\\nN: 1\\n\",\"left\\nQ: -1.48442625\\nN: 4\\n\",\"right\\nQ: -4.5\\nN: 2\\n\",\"up\\nQ: 0.0\\nN: 0\\n\",\"down\\nQ: 0.0\\nN: 0\\n\",\"left\\nQ: 0.0\\nN: 0\\n\",\"right\\nQ: 0.0\\nN: 0\\n\",\"up\\nQ: -2.25\\nN: 2\\n\",\"down\\nQ: 0.0\\nN: 4\\n\",\"left\\nQ: -3.69915\\nN: 3\\n\",\"right\\nQ: 0.0\\nN: 3\\n\",\"up\\nQ: 2.665636363636364\\nN: 11\\n\",\"down\\nQ: 1.0935000000000001\\nN: 6\\n\",\"left\\nQ: 6.219574615384616\\nN: 39\\n\",\"right\\nQ: 0.0\\nN: 14\\n\",\"up\\nQ: -4.5\\nN: 1\\n\",\"down\\nQ: 0.0\\nN: 4\\n\",\"left\\nQ: 0.0\\nN: 2\\n\",\"right\\nQ: -4.5\\nN: 1\\n\",\"up\\nQ: 0.0\\nN: 2\\n\",\"down\\nQ: 0.0\\nN: 1\\n\",\"left\\nQ: 0.0\\nN: 1\\n\",\"right\\nQ: 0.0\\nN: 0\\n\",\"up\\nQ: 0.0\\nN: 7\\n\",\"down\\nQ: 0.0\\nN: 6\\n\",\"left\\nQ: 0.0\\nN: 6\\n\",\"right\\nQ: 0.0\\nN: 8\\n\",\"up\\nQ: 0.0\\nN: 5\\n\",\"down\\nQ: 6.3225\\nN: 4\\n\",\"left\\nQ: 5.895\\nN: 4\\n\",\"right\\nQ: 0.0\\nN: 8\\n\",\"up\\nQ: 0.0\\nN: 2\\n\",\"down\\nQ: 0.0\\nN: 4\\n\",\"left\\nQ: 0.0\\nN: 2\\n\",\"right\\nQ: 0.34139070000000005\\nN: 3\\n\",\"up\\nQ: 4.970392548387097\\nN: 31\\n\",\"down\\nQ: 0.0\\nN: 10\\n\",\"left\\nQ: 2.71315575\\nN: 12\\n\",\"right\\nQ: 0.0\\nN: 10\\n\",\"up\\nQ: 0.0\\nN: 3\\n\",\"down\\nQ: 7.733050000000001\\nN: 18\\n\",\"left\\nQ: 2.25\\nN: 4\\n\",\"right\\nQ: 0.0\\nN: 3\\n\",\"up\\nQ: 0.0\\nN: 2\\n\",\"down\\nQ: 0.0\\nN: 3\\n\",\"left\\nQ: 0.0\\nN: 2\\n\",\"right\\nQ: 0.0\\nN: 11\\n\",\"up\\nQ: -0.11809799999999993\\nN: 9\\n\",\"down\\nQ: 0.43046721000000004\\nN: 10\\n\",\"left\\nQ: 0.0\\nN: 10\\n\",\"right\\nQ: 0.8443348166249998\\nN: 12\\n\",\"up\\nQ: -5.0\\nN: 1\\n\",\"down\\nQ: -5.0\\nN: 1\\n\",\"left\\nQ: -5.0\\nN: 1\\n\",\"right\\nQ: -5.0\\nN: 1\\n\",\"up\\nQ: 0.0\\nN: 2\\n\",\"down\\nQ: 0.0\\nN: 3\\n\",\"left\\nQ: 0.0\\nN: 6\\n\",\"right\\nQ: 0.0\\nN: 0\\n\",\"up\\nQ: 0.0\\nN: 2\\n\",\"down\\nQ: 4.5522\\nN: 5\\n\",\"left\\nQ: 1.3286025000000001\\nN: 4\\n\",\"right\\nQ: 0.0\\nN: 2\\n\",\"up\\nQ: 0.8857350000000002\\nN: 2\\n\",\"down\\nQ: 0.0\\nN: 3\\n\",\"left\\nQ: -1.9371024450000005\\nN: 1\\n\",\"right\\nQ: -2.19915\\nN: 3\\n\",\"up\\nQ: 0.0\\nN: 1\\n\",\"down\\nQ: 0.0\\nN: 0\\n\",\"left\\nQ: 0.0\\nN: 0\\n\",\"right\\nQ: 0.0\\nN: 0\\n\",\"up\\nQ: 0.0\\nN: 1\\n\",\"down\\nQ: 0.0\\nN: 0\\n\",\"left\\nQ: 0.0\\nN: 0\\n\",\"right\\nQ: 0.0\\nN: 0\\n\",\"up\\nQ: 0.0\\nN: 0\\n\",\"down\\nQ: 0.0\\nN: 0\\n\",\"left\\nQ: 0.0\\nN: 0\\n\",\"right\\nQ: 0.0\\nN: 0\\n\",\"up\\nQ: -1.0761680250000003\\nN: 2\\n\",\"down\\nQ: 0.0\\nN: 1\\n\",\"left\\nQ: -4.05\\nN: 1\\n\",\"right\\nQ: 0.0\\nN: 1\\n\",\"up\\nQ: -2.3914845000000007\\nN: 1\\n\",\"down\\nQ: 0.0\\nN: 0\\n\",\"left\\nQ: 0.0\\nN: 0\\n\",\"right\\nQ: 0.0\\nN: 0\\n\",\"up\\nQ: 0.0\\nN: 0\\n\",\"down\\nQ: 0.0\\nN: 0\\n\",\"left\\nQ: 0.0\\nN: 0\\n\",\"right\\nQ: 0.0\\nN: 0\\n\",\"up\\nQ: 0.0\\nN: 1\\n\",\"down\\nQ: 0.0\\nN: 0\\n\",\"left\\nQ: 0.0\\nN: 0\\n\",\"right\\nQ: 0.0\\nN: 0\\n\",\"up\\nQ: 0.0\\nN: 2\\n\",\"down\\nQ: 0.0\\nN: 0\\n\",\"left\\nQ: 0.0\\nN: 0\\n\",\"right\\nQ: 0.0\\nN: 0\\n\",\"up\\nQ: 0.0\\nN: 0\\n\",\"down\\nQ: 0.0\\nN: 0\\n\",\"left\\nQ: 0.0\\nN: 0\\n\",\"right\\nQ: 0.0\\nN: 0\\n\",\"up\\nQ: 2.3914845000000002\\nN: 2\\n\",\"down\\nQ: 0.0\\nN: 0\\n\",\"left\\nQ: 0.0\\nN: 0\\n\",\"right\\nQ: 0.0\\nN: 0\\n\",\"up\\nQ: 0.0\\nN: 0\\n\",\"down\\nQ: 0.0\\nN: 0\\n\",\"left\\nQ: 0.0\\nN: 0\\n\",\"right\\nQ: 0.0\\nN: 0\\n\",\"up\\nQ: 0.0\\nN: 0\\n\",\"down\\nQ: 0.0\\nN: 0\\n\",\"left\\nQ: 0.0\\nN: 0\\n\",\"right\\nQ: 0.0\\nN: 0\\n\",\"up\\nQ: 0.0\\nN: 0\\n\",\"down\\nQ: 0.0\\nN: 0\\n\",\"left\\nQ: 0.0\\nN: 0\\n\",\"right\\nQ: 0.0\\nN: 0\\n\",\"up\\nQ: 0.0\\nN: 1\\n\",\"down\\nQ: 0.0\\nN: 0\\n\",\"left\\nQ: 0.0\\nN: 0\\n\",\"right\\nQ: 0.0\\nN: 0\\n\",\"up\\nQ: 0.0\\nN: 0\\n\",\"down\\nQ: 0.0\\nN: 0\\n\",\"left\\nQ: 0.0\\nN: 0\\n\",\"right\\nQ: 0.0\\nN: 0\\n\",\"up\\nQ: 0.0\\nN: 0\\n\",\"down\\nQ: 0.0\\nN: 0\\n\",\"left\\nQ: 0.0\\nN: 0\\n\",\"right\\nQ: 0.0\\nN: 0\\n\"],\"link_style\":[\"stroke-width:25.07221781839558px\",\"stroke-width:1.1184709768411363px\",\"stroke-width:0.5592354884205681px\",\"stroke-width:0.5592354884205681px\",\"stroke-width:1.2504885675386868px\",\"stroke-width:0.7908784122847095px\",\"stroke-width:6.734087025633375px\",\"stroke-width:2.0924675961949517px\",\"stroke-width:0.5592354884205681px\",\"stroke-width:0.5592354884205681px\",\"stroke-width:0.5592354884205681px\",\"stroke-width:2.681999184322546px\",\"stroke-width:7.948229674890897px\",\"stroke-width:0.5592354884205681px\",\"stroke-width:2.739683185373045px\",\"stroke-width:2.6230469483403858px\",\"stroke-width:0.5592354884205681px\",\"stroke-width:0.7908784122847095px\",\"stroke-width:1.6777064652617044px\",\"stroke-width:3.4924245058197982px\",\"stroke-width:2.562738956992854px\",\"stroke-width:0.5592354884205681px\",\"stroke-width:1.1184709768411363px\",\"stroke-width:0.5592354884205681px\",\"stroke-width:1.6777064652617044px\",\"stroke-width:0.5592354884205681px\",\"stroke-width:0.5592354884205681px\",\"stroke-width:3.8339253488979925px\",\"stroke-width:2.7961774421028407px\",\"stroke-width:0.9686242793400206px\",\"stroke-width:2.8515526681500694px\",\"stroke-width:0.5592354884205681px\",\"stroke-width:0.9686242793400206px\",\"stroke-width:1.2504885675386868px\",\"stroke-width:0.7908784122847095px\",\"stroke-width:1.4795980266825648px\",\"stroke-width:1.4795980266825648px\",\"stroke-width:4.071295809687198px\",\"stroke-width:1.3698415926865224px\",\"stroke-width:2.562738956992854px\",\"stroke-width:1.1184709768411363px\",\"stroke-width:0.5592354884205681px\",\"stroke-width:0.7908784122847095px\",\"stroke-width:0.5592354884205681px\",\"stroke-width:0.9686242793400206px\",\"stroke-width:1.3698415926865224px\",\"stroke-width:0.5592354884205681px\",\"stroke-width:1.2504885675386868px\",\"stroke-width:0.7908784122847095px\",\"stroke-width:1.768457891805715px\",\"stroke-width:0.5592354884205681px\",\"stroke-width:0.9686242793400206px\",\"stroke-width:0.9686242793400206px\",\"stroke-width:0.9686242793400206px\",\"stroke-width:0.5592354884205681px\",\"stroke-width:0.5592354884205681px\",\"stroke-width:8.084773669397258px\",\"stroke-width:1.2504885675386868px\",\"stroke-width:1.1184709768411363px\",\"stroke-width:0.7908784122847095px\",\"stroke-width:0.7908784122847095px\",\"stroke-width:0.7908784122847095px\",\"stroke-width:0.7908784122847095px\",\"stroke-width:0.9686242793400206px\",\"stroke-width:7.688216870978561px\",\"stroke-width:3.163513649138838px\",\"stroke-width:0.9686242793400206px\",\"stroke-width:1.3698415926865224px\",\"stroke-width:2.0924675961949517px\",\"stroke-width:0.9686242793400206px\",\"stroke-width:0.5592354884205681px\",\"stroke-width:1.4795980266825648px\",\"stroke-width:0.7908784122847095px\",\"stroke-width:0.5592354884205681px\",\"stroke-width:0.7908784122847095px\",\"stroke-width:1.4795980266825648px\",\"stroke-width:1.1184709768411363px\",\"stroke-width:1.1184709768411363px\",\"stroke-width:0.9686242793400206px\",\"stroke-width:0.9686242793400206px\",\"stroke-width:0.5592354884205681px\",\"stroke-width:0.5592354884205681px\",\"stroke-width:5.186136568754554px\",\"stroke-width:3.4473590757769452px\",\"stroke-width:6.9848490116395965px\",\"stroke-width:2.6230469483403858px\",\"stroke-width:1.3698415926865224px\",\"stroke-width:1.8547742845421664px\",\"stroke-width:1.768457891805715px\",\"stroke-width:0.5592354884205681px\",\"stroke-width:0.7908784122847095px\",\"stroke-width:0.5592354884205681px\",\"stroke-width:0.7908784122847095px\",\"stroke-width:0.5592354884205681px\",\"stroke-width:1.1184709768411363px\",\"stroke-width:0.9686242793400206px\",\"stroke-width:0.9686242793400206px\",\"stroke-width:6.227382845715762px\",\"stroke-width:3.5808543103383372px\",\"stroke-width:0.7908784122847095px\",\"stroke-width:0.5592354884205681px\",\"stroke-width:2.562738956992854px\",\"stroke-width:0.9686242793400206px\",\"stroke-width:2.0924675961949517px\",\"stroke-width:3.2125632973992464px\",\"stroke-width:4.184935192389903px\",\"stroke-width:0.5592354884205681px\",\"stroke-width:1.4795980266825648px\",\"stroke-width:4.331819466522062px\",\"stroke-width:1.3698415926865224px\",\"stroke-width:2.8515526681500694px\",\"stroke-width:7.667850697795985px\",\"stroke-width:1.2504885675386868px\",\"stroke-width:6.710825861046818px\",\"stroke-width:2.2369419536822726px\",\"stroke-width:0.7908784122847095px\",\"stroke-width:3.5808543103383372px\",\"stroke-width:1.581756824569419px\",\"stroke-width:1.2504885675386868px\",\"stroke-width:0.7908784122847095px\",\"stroke-width:2.165909733261031px\",\"stroke-width:3.2608752308706492px\",\"stroke-width:0.7908784122847095px\",\"stroke-width:1.8547742845421664px\",\"stroke-width:1.1184709768411363px\",\"stroke-width:1.9372485586800412px\",\"stroke-width:1.8547742845421664px\",\"stroke-width:1.2504885675386868px\",\"stroke-width:1.9372485586800412px\",\"stroke-width:3.0115752711431187px\",\"stroke-width:1.2504885675386868px\",\"stroke-width:1.4795980266825648px\",\"stroke-width:0.5592354884205681px\",\"stroke-width:0.7908784122847095px\",\"stroke-width:0.7908784122847095px\",\"stroke-width:3.0115752711431187px\",\"stroke-width:0.7908784122847095px\",\"stroke-width:1.6777064652617044px\",\"stroke-width:0.7908784122847095px\",\"stroke-width:0.9686242793400206px\",\"stroke-width:0.5592354884205681px\",\"stroke-width:3.3084817670367626px\",\"stroke-width:3.53691578361143px\",\"stroke-width:0.5592354884205681px\",\"stroke-width:1.581756824569419px\",\"stroke-width:0.7908784122847095px\",\"stroke-width:1.581756824569419px\",\"stroke-width:1.4795980266825648px\",\"stroke-width:0.5592354884205681px\",\"stroke-width:1.4795980266825648px\",\"stroke-width:8.806849278500788px\",\"stroke-width:0.9686242793400206px\",\"stroke-width:0.5592354884205681px\",\"stroke-width:12.252235678614571px\",\"stroke-width:0.7908784122847095px\",\"stroke-width:0.7908784122847095px\",\"stroke-width:4.295569293938871px\",\"stroke-width:5.703105336300139px\",\"stroke-width:3.063058919653643px\",\"stroke-width:1.2504885675386868px\",\"stroke-width:1.2504885675386868px\",\"stroke-width:2.372635236854128px\",\"stroke-width:2.7961774421028407px\",\"stroke-width:0.7908784122847095px\",\"stroke-width:1.3698415926865224px\",\"stroke-width:1.1184709768411363px\",\"stroke-width:1.1184709768411363px\",\"stroke-width:2.9591960533651296px\",\"stroke-width:0.5592354884205681px\",\"stroke-width:0.9686242793400206px\",\"stroke-width:1.1184709768411363px\",\"stroke-width:11.406210672600277px\",\"stroke-width:1.4795980266825648px\",\"stroke-width:1.2504885675386868px\",\"stroke-width:0.9686242793400206px\",\"stroke-width:0.9686242793400206px\",\"stroke-width:1.768457891805715px\",\"stroke-width:7.4611320192448325px\",\"stroke-width:0.5592354884205681px\",\"stroke-width:0.9686242793400206px\",\"stroke-width:0.5592354884205681px\",\"stroke-width:2.681999184322546px\",\"stroke-width:0.5592354884205681px\",\"stroke-width:4.295569293938871px\",\"stroke-width:1.768457891805715px\",\"stroke-width:0.7908784122847095px\",\"stroke-width:1.6777064652617044px\",\"stroke-width:0.5592354884205681px\",\"stroke-width:1.3698415926865224px\",\"stroke-width:1.8547742845421664px\",\"stroke-width:12.947237608417456px\",\"stroke-width:0.9686242793400206px\",\"stroke-width:1.8547742845421664px\",\"stroke-width:0.5592354884205681px\",\"stroke-width:0.5592354884205681px\",\"stroke-width:0.7908784122847095px\",\"stroke-width:0.7908784122847095px\",\"stroke-width:1.9372485586800412px\",\"stroke-width:2.0163522285595064px\",\"stroke-width:1.3698415926865224px\",\"stroke-width:0.5592354884205681px\",\"stroke-width:0.7908784122847095px\",\"stroke-width:0.5592354884205681px\",\"stroke-width:1.4795980266825648px\",\"stroke-width:0.5592354884205681px\",\"stroke-width:3.2125632973992464px\",\"stroke-width:0.7908784122847095px\",\"stroke-width:0.7908784122847095px\",\"stroke-width:1.9372485586800412px\",\"stroke-width:3.4924245058197982px\",\"stroke-width:2.5009771350773735px\",\"stroke-width:1.1184709768411363px\",\"stroke-width:1.768457891805715px\",\"stroke-width:3.0115752711431187px\",\"stroke-width:0.9686242793400206px\",\"stroke-width:0.5592354884205681px\",\"stroke-width:0.5592354884205681px\",\"stroke-width:0.5592354884205681px\",\"stroke-width:0.9686242793400206px\",\"stroke-width:0.5592354884205681px\",\"stroke-width:1.6777064652617044px\",\"stroke-width:1.3698415926865224px\",\"stroke-width:0.5592354884205681px\",\"stroke-width:1.3698415926865224px\",\"stroke-width:1.1184709768411363px\",\"stroke-width:1.1184709768411363px\",\"stroke-width:3.2125632973992464px\",\"stroke-width:2.9591960533651296px\",\"stroke-width:0.9686242793400206px\",\"stroke-width:2.2369419536822726px\",\"stroke-width:0.5592354884205681px\",\"stroke-width:1.3698415926865224px\",\"stroke-width:4.184935192389903px\",\"stroke-width:0.5592354884205681px\",\"stroke-width:0.5592354884205681px\",\"stroke-width:2.4376509796668673px\",\"stroke-width:1.2504885675386868px\",\"stroke-width:0.7908784122847095px\",\"stroke-width:2.681999184322546px\",\"stroke-width:3.2125632973992464px\",\"stroke-width:5.001954270154747px\",\"stroke-width:2.2369419536822726px\",\"stroke-width:0.7908784122847095px\",\"stroke-width:0.5592354884205681px\",\"stroke-width:0.5592354884205681px\",\"stroke-width:1.1184709768411363px\",\"stroke-width:1.2504885675386868px\",\"stroke-width:1.8547742845421664px\",\"stroke-width:3.3084817670367626px\",\"stroke-width:2.562738956992854px\",\"stroke-width:0.9686242793400206px\",\"stroke-width:0.5592354884205681px\",\"stroke-width:2.4376509796668673px\",\"stroke-width:1.581756824569419px\",\"stroke-width:0.9686242793400206px\",\"stroke-width:0.9686242793400206px\",\"stroke-width:0.5592354884205681px\",\"stroke-width:3.2125632973992464px\",\"stroke-width:0.9686242793400206px\",\"stroke-width:7.667850697795985px\",\"stroke-width:1.1184709768411363px\",\"stroke-width:1.3698415926865224px\",\"stroke-width:1.1184709768411363px\",\"stroke-width:0.5592354884205681px\",\"stroke-width:0.5592354884205681px\",\"stroke-width:4.577539755272741px\",\"stroke-width:0.5592354884205681px\",\"stroke-width:5.865311284662482px\",\"stroke-width:0.7908784122847095px\",\"stroke-width:3.6242601898011735px\",\"stroke-width:0.5592354884205681px\",\"stroke-width:0.5592354884205681px\",\"stroke-width:11.04401599457854px\",\"stroke-width:14.003238763091117px\",\"stroke-width:0.7908784122847095px\",\"stroke-width:0.5592354884205681px\",\"stroke-width:0.5592354884205681px\",\"stroke-width:0.5592354884205681px\",\"stroke-width:0.5592354884205681px\",\"stroke-width:1.3698415926865224px\",\"stroke-width:0.7908784122847095px\",\"stroke-width:0.5592354884205681px\",\"stroke-width:0.5592354884205681px\",\"stroke-width:1.1184709768411363px\",\"stroke-width:1.1184709768411363px\",\"stroke-width:0.7908784122847095px\",\"stroke-width:1.6777064652617044px\",\"stroke-width:0.7908784122847095px\",\"stroke-width:0.9686242793400206px\",\"stroke-width:1.2504885675386868px\",\"stroke-width:1.1184709768411363px\",\"stroke-width:1.3698415926865224px\",\"stroke-width:4.071295809687198px\",\"stroke-width:0.5592354884205681px\",\"stroke-width:0.5592354884205681px\",\"stroke-width:1.768457891805715px\",\"stroke-width:7.908784122847095px\",\"stroke-width:0.5592354884205681px\",\"stroke-width:2.372635236854128px\",\"stroke-width:2.0163522285595064px\",\"stroke-width:2.4376509796668673px\",\"stroke-width:0.5592354884205681px\",\"stroke-width:1.3698415926865224px\",\"stroke-width:0.5592354884205681px\",\"stroke-width:0.7908784122847095px\",\"stroke-width:3.0115752711431187px\",\"stroke-width:1.768457891805715px\",\"stroke-width:0.5592354884205681px\",\"stroke-width:0.7908784122847095px\",\"stroke-width:1.2504885675386868px\",\"stroke-width:1.1184709768411363px\",\"stroke-width:1.1184709768411363px\",\"stroke-width:2.0163522285595064px\",\"stroke-width:1.2504885675386868px\",\"stroke-width:1.1184709768411363px\",\"stroke-width:5.186136568754554px\",\"stroke-width:0.7908784122847095px\",\"stroke-width:1.4795980266825648px\",\"stroke-width:2.8515526681500694px\",\"stroke-width:3.063058919653643px\",\"stroke-width:0.5592354884205681px\",\"stroke-width:3.4016966745776553px\",\"stroke-width:0.5592354884205681px\",\"stroke-width:2.0924675961949517px\",\"stroke-width:1.9372485586800412px\",\"stroke-width:2.3057869883518842px\",\"stroke-width:0.9686242793400206px\",\"stroke-width:6.593289170038715px\",\"stroke-width:2.0163522285595064px\",\"stroke-width:1.1184709768411363px\",\"stroke-width:0.5592354884205681px\",\"stroke-width:0.5592354884205681px\",\"stroke-width:0.9686242793400206px\",\"stroke-width:0.5592354884205681px\",\"stroke-width:0.5592354884205681px\",\"stroke-width:1.1184709768411363px\",\"stroke-width:0.5592354884205681px\",\"stroke-width:2.8515526681500694px\",\"stroke-width:0.7908784122847095px\",\"stroke-width:0.7908784122847095px\",\"stroke-width:1.1184709768411363px\",\"stroke-width:0.5592354884205681px\",\"stroke-width:0.5592354884205681px\",\"stroke-width:2.2369419536822726px\",\"stroke-width:0.5592354884205681px\",\"stroke-width:0.9686242793400206px\",\"stroke-width:1.1184709768411363px\",\"stroke-width:2.3057869883518842px\",\"stroke-width:15.925942761852186px\",\"stroke-width:0.7908784122847095px\",\"stroke-width:9.206178025594372px\",\"stroke-width:0.5592354884205681px\",\"stroke-width:0.5592354884205681px\",\"stroke-width:2.3057869883518842px\",\"stroke-width:0.9686242793400206px\",\"stroke-width:1.1184709768411363px\",\"stroke-width:3.2608752308706492px\",\"stroke-width:2.0924675961949517px\",\"stroke-width:2.0924675961949517px\",\"stroke-width:2.562738956992854px\",\"stroke-width:10.684179004527294px\",\"stroke-width:0.7908784122847095px\",\"stroke-width:2.3057869883518842px\",\"stroke-width:0.7908784122847095px\",\"stroke-width:1.768457891805715px\",\"stroke-width:1.1184709768411363px\",\"stroke-width:0.9686242793400206px\",\"stroke-width:1.2504885675386868px\",\"stroke-width:2.4376509796668673px\",\"stroke-width:4.438794080047694px\",\"stroke-width:0.7908784122847095px\",\"stroke-width:0.9686242793400206px\",\"stroke-width:1.3698415926865224px\",\"stroke-width:4.331819466522062px\",\"stroke-width:0.9686242793400206px\",\"stroke-width:0.5592354884205681px\",\"stroke-width:4.6115739767037685px\",\"stroke-width:1.3698415926865224px\",\"stroke-width:2.0163522285595064px\",\"stroke-width:0.7908784122847095px\",\"stroke-width:3.355412930523409px\",\"stroke-width:1.3698415926865224px\",\"stroke-width:1.2504885675386868px\",\"stroke-width:6.400742724690462px\",\"stroke-width:3.063058919653643px\",\"stroke-width:2.372635236854128px\",\"stroke-width:0.5592354884205681px\",\"stroke-width:0.5592354884205681px\",\"stroke-width:1.3698415926865224px\",\"stroke-width:0.7908784122847095px\",\"stroke-width:0.7908784122847095px\",\"stroke-width:0.5592354884205681px\",\"stroke-width:0.7908784122847095px\",\"stroke-width:2.905872838020062px\",\"stroke-width:1.2504885675386868px\",\"stroke-width:0.9686242793400206px\",\"stroke-width:5.064092730562633px\",\"stroke-width:1.2504885675386868px\",\"stroke-width:0.5592354884205681px\",\"stroke-width:1.9372485586800412px\",\"stroke-width:2.0163522285595064px\",\"stroke-width:1.3698415926865224px\",\"stroke-width:1.3698415926865224px\",\"stroke-width:1.768457891805715px\",\"stroke-width:1.581756824569419px\",\"stroke-width:6.710825861046818px\",\"stroke-width:4.5087006496422495px\",\"stroke-width:1.1184709768411363px\",\"stroke-width:0.5592354884205681px\",\"stroke-width:2.0163522285595064px\",\"stroke-width:0.9686242793400206px\",\"stroke-width:0.5592354884205681px\",\"stroke-width:0.7908784122847095px\",\"stroke-width:1.2504885675386868px\",\"stroke-width:2.5009771350773735px\",\"stroke-width:0.5592354884205681px\",\"stroke-width:0.9686242793400206px\",\"stroke-width:0.7908784122847095px\",\"stroke-width:3.53691578361143px\",\"stroke-width:1.3698415926865224px\",\"stroke-width:0.5592354884205681px\",\"stroke-width:0.5592354884205681px\",\"stroke-width:1.3698415926865224px\",\"stroke-width:2.0924675961949517px\",\"stroke-width:0.7908784122847095px\",\"stroke-width:0.5592354884205681px\",\"stroke-width:2.0924675961949517px\",\"stroke-width:2.165909733261031px\",\"stroke-width:0.9686242793400206px\",\"stroke-width:1.1184709768411363px\",\"stroke-width:1.2504885675386868px\",\"stroke-width:1.2504885675386868px\",\"stroke-width:3.53691578361143px\",\"stroke-width:0.9686242793400206px\",\"stroke-width:2.739683185373045px\",\"stroke-width:0.5592354884205681px\",\"stroke-width:2.4376509796668673px\",\"stroke-width:0.5592354884205681px\",\"stroke-width:2.165909733261031px\",\"stroke-width:4.109524778059567px\",\"stroke-width:0.5592354884205681px\",\"stroke-width:0.5592354884205681px\",\"stroke-width:0.5592354884205681px\",\"stroke-width:0.7908784122847095px\",\"stroke-width:0.5592354884205681px\",\"stroke-width:0.9686242793400206px\",\"stroke-width:1.4795980266825648px\",\"stroke-width:0.7908784122847095px\",\"stroke-width:5.7847768730921745px\",\"stroke-width:0.9686242793400206px\",\"stroke-width:1.6777064652617044px\",\"stroke-width:1.3698415926865224px\",\"stroke-width:6.849207963432612px\",\"stroke-width:1.4795980266825648px\",\"stroke-width:1.581756824569419px\",\"stroke-width:0.7908784122847095px\",\"stroke-width:0.5592354884205681px\",\"stroke-width:0.5592354884205681px\",\"stroke-width:1.3698415926865224px\",\"stroke-width:0.5592354884205681px\",\"stroke-width:2.3057869883518842px\",\"stroke-width:0.5592354884205681px\",\"stroke-width:3.2125632973992464px\",\"stroke-width:1.1184709768411363px\",\"stroke-width:2.0924675961949517px\",\"stroke-width:1.9372485586800412px\",\"stroke-width:0.5592354884205681px\",\"stroke-width:1.1184709768411363px\",\"stroke-width:6.734087025633375px\",\"stroke-width:1.4795980266825648px\",\"stroke-width:0.5592354884205681px\",\"stroke-width:2.165909733261031px\",\"stroke-width:0.5592354884205681px\",\"stroke-width:1.581756824569419px\",\"stroke-width:0.9686242793400206px\",\"stroke-width:0.9686242793400206px\",\"stroke-width:0.7908784122847095px\",\"stroke-width:1.1184709768411363px\",\"stroke-width:0.5592354884205681px\",\"stroke-width:0.5592354884205681px\",\"stroke-width:1.9372485586800412px\",\"stroke-width:1.1184709768411363px\",\"stroke-width:0.9686242793400206px\",\"stroke-width:0.9686242793400206px\",\"stroke-width:1.1184709768411363px\",\"stroke-width:4.071295809687198px\",\"stroke-width:0.7908784122847095px\",\"stroke-width:1.581756824569419px\",\"stroke-width:0.5592354884205681px\",\"stroke-width:2.6230469483403858px\",\"stroke-width:0.7908784122847095px\",\"stroke-width:16.88854139161225px\",\"stroke-width:0.7908784122847095px\",\"stroke-width:8.27592947048663px\",\"stroke-width:3.2608752308706492px\",\"stroke-width:0.7908784122847095px\",\"stroke-width:1.1184709768411363px\",\"stroke-width:3.0115752711431187px\",\"stroke-width:1.581756824569419px\",\"stroke-width:1.2504885675386868px\",\"stroke-width:0.5592354884205681px\",\"stroke-width:2.165909733261031px\",\"stroke-width:0.7908784122847095px\",\"stroke-width:2.6230469483403858px\",\"stroke-width:0.5592354884205681px\",\"stroke-width:1.6777064652617044px\",\"stroke-width:0.7908784122847095px\",\"stroke-width:0.7908784122847095px\",\"stroke-width:0.7908784122847095px\",\"stroke-width:2.905872838020062px\",\"stroke-width:1.1184709768411363px\",\"stroke-width:1.768457891805715px\",\"stroke-width:1.1184709768411363px\",\"stroke-width:0.5592354884205681px\",\"stroke-width:2.2369419536822726px\",\"stroke-width:0.7908784122847095px\",\"stroke-width:0.9686242793400206px\",\"stroke-width:0.9686242793400206px\",\"stroke-width:1.3698415926865224px\",\"stroke-width:0.5592354884205681px\",\"stroke-width:0.5592354884205681px\",\"stroke-width:1.8547742845421664px\",\"stroke-width:4.875301959333735px\",\"stroke-width:2.739683185373045px\",\"stroke-width:4.543250585164045px\",\"stroke-width:1.4795980266825648px\",\"stroke-width:0.7908784122847095px\",\"stroke-width:0.7908784122847095px\",\"stroke-width:2.165909733261031px\",\"stroke-width:0.5592354884205681px\",\"stroke-width:0.5592354884205681px\",\"stroke-width:0.7908784122847095px\",\"stroke-width:0.9686242793400206px\",\"stroke-width:0.5592354884205681px\",\"stroke-width:0.7908784122847095px\",\"stroke-width:0.9686242793400206px\",\"stroke-width:6.8947181515538905px\",\"stroke-width:4.543250585164045px\",\"stroke-width:2.0924675961949517px\",\"stroke-width:3.2608752308706492px\",\"stroke-width:0.5592354884205681px\",\"stroke-width:0.5592354884205681px\",\"stroke-width:0.7908784122847095px\",\"stroke-width:2.4376509796668673px\",\"stroke-width:1.4795980266825648px\",\"stroke-width:2.372635236854128px\",\"stroke-width:1.2504885675386868px\",\"stroke-width:0.5592354884205681px\",\"stroke-width:1.4795980266825648px\",\"stroke-width:0.7908784122847095px\",\"stroke-width:0.9686242793400206px\",\"stroke-width:3.0115752711431187px\",\"stroke-width:3.355412930523409px\",\"stroke-width:0.5592354884205681px\",\"stroke-width:0.7908784122847095px\",\"stroke-width:2.0163522285595064px\",\"stroke-width:6.710825861046818px\",\"stroke-width:1.3698415926865224px\",\"stroke-width:0.5592354884205681px\",\"stroke-width:3.53691578361143px\",\"stroke-width:2.681999184322546px\",\"stroke-width:12.252235678614571px\",\"stroke-width:8.444270695806125px\",\"stroke-width:20.0px\",\"stroke-width:1.581756824569419px\",\"stroke-width:2.905872838020062px\",\"stroke-width:3.113691422857881px\",\"stroke-width:9.621451144534355px\",\"stroke-width:5.275817046136099px\",\"stroke-width:6.400742724690462px\",\"stroke-width:5.4219892255375415px\",\"stroke-width:9.357799571614985px\",\"stroke-width:3.751465702616061px\",\"stroke-width:4.543250585164045px\",\"stroke-width:3.5808543103383372px\",\"stroke-width:3.8339253488979925px\",\"stroke-width:2.4376509796668673px\",\"stroke-width:2.4376509796668673px\",\"stroke-width:2.4376509796668673px\",\"stroke-width:2.4376509796668673px\",\"stroke-width:2.4376509796668673px\",\"stroke-width:2.4376509796668673px\",\"stroke-width:3.063058919653643px\",\"stroke-width:1.1184709768411363px\",\"stroke-width:6.473618804208728px\",\"stroke-width:6.8947181515538905px\",\"stroke-width:5.2460938966807715px\",\"stroke-width:19.39668607791848px\",\"stroke-width:0.0px\",\"stroke-width:0.0px\",\"stroke-width:0.0px\",\"stroke-width:0.0px\",\"stroke-width:3.2608752308706492px\",\"stroke-width:11.04401599457854px\",\"stroke-width:3.3084817670367626px\",\"stroke-width:6.687483787328816px\",\"stroke-width:4.071295809687198px\",\"stroke-width:5.186136568754554px\",\"stroke-width:4.259010592558029px\",\"stroke-width:4.875301959333735px\",\"stroke-width:2.9591960533651296px\",\"stroke-width:3.8744971173600824px\",\"stroke-width:3.355412930523409px\",\"stroke-width:2.7961774421028407px\",\"stroke-width:2.739683185373045px\",\"stroke-width:2.4376509796668673px\",\"stroke-width:3.113691422857881px\",\"stroke-width:1.768457891805715px\",\"stroke-width:3.355412930523409px\",\"stroke-width:4.184935192389903px\",\"stroke-width:4.295569293938871px\",\"stroke-width:3.8744971173600824px\",\"stroke-width:3.163513649138838px\",\"stroke-width:3.2125632973992464px\",\"stroke-width:1.581756824569419px\",\"stroke-width:3.6242601898011735px\",\"stroke-width:5.033119395785112px\",\"stroke-width:4.543250585164045px\",\"stroke-width:4.071295809687198px\",\"stroke-width:16.879279783352462px\",\"stroke-width:2.0163522285595064px\",\"stroke-width:1.2504885675386868px\",\"stroke-width:0.9686242793400206px\",\"stroke-width:2.4376509796668673px\",\"stroke-width:2.905872838020062px\",\"stroke-width:3.113691422857881px\",\"stroke-width:3.355412930523409px\",\"stroke-width:2.681999184322546px\",\"stroke-width:3.5808543103383372px\",\"stroke-width:4.032704457119013px\",\"stroke-width:4.071295809687198px\",\"stroke-width:9.878068203389027px\",\"stroke-width:2.4376509796668673px\",\"stroke-width:2.165909733261031px\",\"stroke-width:1.768457891805715px\",\"stroke-width:5.944754785566518px\",\"stroke-width:3.3084817670367626px\",\"stroke-width:3.2608752308706492px\",\"stroke-width:3.993740215256691px\",\"stroke-width:10.757109400685987px\",\"stroke-width:2.0924675961949517px\",\"stroke-width:2.739683185373045px\",\"stroke-width:2.2369419536822726px\",\"stroke-width:8.084773669397258px\",\"stroke-width:1.9372485586800412px\",\"stroke-width:3.914648418943977px\",\"stroke-width:2.5009771350773735px\",\"stroke-width:2.0163522285595064px\",\"stroke-width:3.667152335925879px\",\"stroke-width:2.905872838020062px\",\"stroke-width:3.113691422857881px\",\"stroke-width:15.356081074212247px\",\"stroke-width:2.165909733261031px\",\"stroke-width:3.667152335925879px\",\"stroke-width:3.2608752308706492px\",\"stroke-width:3.0115752711431187px\",\"stroke-width:13.709826521036064px\",\"stroke-width:3.5808543103383372px\",\"stroke-width:2.7961774421028407px\",\"stroke-width:6.15159037262625px\",\"stroke-width:1.4795980266825648px\",\"stroke-width:1.581756824569419px\",\"stroke-width:1.4795980266825648px\",\"stroke-width:1.2504885675386868px\",\"stroke-width:3.0115752711431187px\",\"stroke-width:1.8547742845421664px\",\"stroke-width:2.0163522285595064px\",\"stroke-width:13.06745594995098px\",\"stroke-width:1.9372485586800412px\",\"stroke-width:1.8547742845421664px\",\"stroke-width:1.8547742845421664px\",\"stroke-width:1.581756824569419px\",\"stroke-width:2.0163522285595064px\",\"stroke-width:2.4376509796668673px\",\"stroke-width:1.6777064652617044px\",\"stroke-width:2.7961774421028407px\",\"stroke-width:1.1184709768411363px\",\"stroke-width:1.1184709768411363px\",\"stroke-width:1.2504885675386868px\",\"stroke-width:1.4795980266825648px\",\"stroke-width:2.5009771350773735px\",\"stroke-width:2.5009771350773735px\",\"stroke-width:3.3084817670367626px\",\"stroke-width:2.372635236854128px\",\"stroke-width:1.581756824569419px\",\"stroke-width:1.768457891805715px\",\"stroke-width:1.768457891805715px\",\"stroke-width:1.6777064652617044px\",\"stroke-width:1.3698415926865224px\",\"stroke-width:0.9686242793400206px\",\"stroke-width:1.8547742845421664px\",\"stroke-width:1.1184709768411363px\",\"stroke-width:12.910953825891113px\",\"stroke-width:3.063058919653643px\",\"stroke-width:3.2608752308706492px\",\"stroke-width:5.7847768730921745px\",\"stroke-width:7.312952939000601px\",\"stroke-width:1.6777064652617044px\",\"stroke-width:2.5009771350773735px\",\"stroke-width:1.6777064652617044px\",\"stroke-width:6.734087025633375px\",\"stroke-width:6.734087025633375px\",\"stroke-width:6.734087025633375px\",\"stroke-width:6.710825861046818px\",\"stroke-width:0.9686242793400206px\",\"stroke-width:1.4795980266825648px\",\"stroke-width:1.768457891805715px\",\"stroke-width:1.1184709768411363px\",\"stroke-width:1.4795980266825648px\",\"stroke-width:1.4795980266825648px\",\"stroke-width:1.1184709768411363px\",\"stroke-width:1.3698415926865224px\",\"stroke-width:0.7908784122847095px\",\"stroke-width:0.7908784122847095px\",\"stroke-width:0.5592354884205681px\",\"stroke-width:0.0px\",\"stroke-width:9.103694186970623px\",\"stroke-width:1.4795980266825648px\",\"stroke-width:2.2369419536822726px\",\"stroke-width:1.8547742845421664px\",\"stroke-width:1.4795980266825648px\",\"stroke-width:1.4795980266825648px\",\"stroke-width:1.8547742845421664px\",\"stroke-width:2.0163522285595064px\",\"stroke-width:1.2504885675386868px\",\"stroke-width:0.5592354884205681px\",\"stroke-width:1.1184709768411363px\",\"stroke-width:0.7908784122847095px\",\"stroke-width:0.0px\",\"stroke-width:0.0px\",\"stroke-width:0.0px\",\"stroke-width:0.0px\",\"stroke-width:0.7908784122847095px\",\"stroke-width:1.1184709768411363px\",\"stroke-width:0.9686242793400206px\",\"stroke-width:0.9686242793400206px\",\"stroke-width:1.8547742845421664px\",\"stroke-width:1.3698415926865224px\",\"stroke-width:3.4924245058197982px\",\"stroke-width:2.0924675961949517px\",\"stroke-width:0.5592354884205681px\",\"stroke-width:1.1184709768411363px\",\"stroke-width:0.7908784122847095px\",\"stroke-width:0.5592354884205681px\",\"stroke-width:0.7908784122847095px\",\"stroke-width:0.5592354884205681px\",\"stroke-width:0.5592354884205681px\",\"stroke-width:0.0px\",\"stroke-width:1.4795980266825648px\",\"stroke-width:1.3698415926865224px\",\"stroke-width:1.3698415926865224px\",\"stroke-width:1.581756824569419px\",\"stroke-width:1.2504885675386868px\",\"stroke-width:1.1184709768411363px\",\"stroke-width:1.1184709768411363px\",\"stroke-width:1.581756824569419px\",\"stroke-width:0.7908784122847095px\",\"stroke-width:1.1184709768411363px\",\"stroke-width:0.7908784122847095px\",\"stroke-width:0.9686242793400206px\",\"stroke-width:3.113691422857881px\",\"stroke-width:1.768457891805715px\",\"stroke-width:1.9372485586800412px\",\"stroke-width:1.768457891805715px\",\"stroke-width:0.9686242793400206px\",\"stroke-width:2.372635236854128px\",\"stroke-width:1.1184709768411363px\",\"stroke-width:0.9686242793400206px\",\"stroke-width:0.7908784122847095px\",\"stroke-width:0.9686242793400206px\",\"stroke-width:0.7908784122847095px\",\"stroke-width:1.8547742845421664px\",\"stroke-width:1.6777064652617044px\",\"stroke-width:1.768457891805715px\",\"stroke-width:1.768457891805715px\",\"stroke-width:1.9372485586800412px\",\"stroke-width:0.5592354884205681px\",\"stroke-width:0.5592354884205681px\",\"stroke-width:0.5592354884205681px\",\"stroke-width:0.5592354884205681px\",\"stroke-width:0.7908784122847095px\",\"stroke-width:0.9686242793400206px\",\"stroke-width:1.3698415926865224px\",\"stroke-width:0.0px\",\"stroke-width:0.7908784122847095px\",\"stroke-width:1.2504885675386868px\",\"stroke-width:1.1184709768411363px\",\"stroke-width:0.7908784122847095px\",\"stroke-width:0.7908784122847095px\",\"stroke-width:0.9686242793400206px\",\"stroke-width:0.5592354884205681px\",\"stroke-width:0.9686242793400206px\",\"stroke-width:0.5592354884205681px\",\"stroke-width:0.0px\",\"stroke-width:0.0px\",\"stroke-width:0.0px\",\"stroke-width:0.5592354884205681px\",\"stroke-width:0.0px\",\"stroke-width:0.0px\",\"stroke-width:0.0px\",\"stroke-width:0.0px\",\"stroke-width:0.0px\",\"stroke-width:0.0px\",\"stroke-width:0.0px\",\"stroke-width:0.7908784122847095px\",\"stroke-width:0.5592354884205681px\",\"stroke-width:0.5592354884205681px\",\"stroke-width:0.5592354884205681px\",\"stroke-width:0.5592354884205681px\",\"stroke-width:0.0px\",\"stroke-width:0.0px\",\"stroke-width:0.0px\",\"stroke-width:0.0px\",\"stroke-width:0.0px\",\"stroke-width:0.0px\",\"stroke-width:0.0px\",\"stroke-width:0.5592354884205681px\",\"stroke-width:0.0px\",\"stroke-width:0.0px\",\"stroke-width:0.0px\",\"stroke-width:0.7908784122847095px\",\"stroke-width:0.0px\",\"stroke-width:0.0px\",\"stroke-width:0.0px\",\"stroke-width:0.0px\",\"stroke-width:0.0px\",\"stroke-width:0.0px\",\"stroke-width:0.0px\",\"stroke-width:0.7908784122847095px\",\"stroke-width:0.0px\",\"stroke-width:0.0px\",\"stroke-width:0.0px\",\"stroke-width:0.0px\",\"stroke-width:0.0px\",\"stroke-width:0.0px\",\"stroke-width:0.0px\",\"stroke-width:0.0px\",\"stroke-width:0.0px\",\"stroke-width:0.0px\",\"stroke-width:0.0px\",\"stroke-width:0.0px\",\"stroke-width:0.0px\",\"stroke-width:0.0px\",\"stroke-width:0.0px\",\"stroke-width:0.5592354884205681px\",\"stroke-width:0.0px\",\"stroke-width:0.0px\",\"stroke-width:0.0px\",\"stroke-width:0.0px\",\"stroke-width:0.0px\",\"stroke-width:0.0px\",\"stroke-width:0.0px\",\"stroke-width:0.0px\",\"stroke-width:0.0px\",\"stroke-width:0.0px\",\"stroke-width:0.0px\"],\"title\":\"MCTS tree\",\"text\":[\"GridWorldState(4, 1, false)\\nN:   2010\\n\",\"GridWorldState(5, 2, false)\\nN:    602\\n\",\"GridWorldState(9, 3, false)\\nN:    579\\n\",\"GridWorldState(3, 2, false)\\nN:    199\\n\",\"GridWorldState(9, 1, false)\\nN:    209\\n\",\"GridWorldState(9, 5, false)\\nN:     13\\n\",\"GridWorldState(9, 3, true)\\nN:      0\\n\",\"GridWorldState(5, 3, false)\\nN:    115\\n\",\"GridWorldState(9, 3, false)\\nN:    579\\n\",\"GridWorldState(2, 4, false)\\nN:     42\\n\",\"GridWorldState(2, 4, false)\\nN:     42\\n\",\"GridWorldState(7, 4, false)\\nN:     94\\n\",\"GridWorldState(4, 1, false)\\nN:   2010\\n\",\"GridWorldState(7, 3, false)\\nN:    263\\n\",\"GridWorldState(1, 2, false)\\nN:    117\\n\",\"GridWorldState(7, 3, false)\\nN:    263\\n\",\"GridWorldState(5, 3, false)\\nN:    115\\n\",\"GridWorldState(5, 5, false)\\nN:     24\\n\",\"GridWorldState(8, 4, false)\\nN:    121\\n\",\"GridWorldState(3, 2, false)\\nN:    199\\n\",\"GridWorldState(1, 3, false)\\nN:     93\\n\",\"GridWorldState(5, 4, false)\\nN:     40\\n\",\"GridWorldState(6, 4, false)\\nN:     66\\n\",\"GridWorldState(5, 4, false)\\nN:     40\\n\",\"GridWorldState(6, 3, false)\\nN:    157\\n\",\"GridWorldState(8, 3, false)\\nN:    599\\n\",\"GridWorldState(7, 4, false)\\nN:     94\\n\",\"GridWorldState(3, 1, false)\\nN:    594\\n\",\"GridWorldState(4, 1, false)\\nN:   2010\\n\",\"GridWorldState(2, 3, false)\\nN:     84\\n\",\"GridWorldState(10, 1, false)\\nN:     63\\n\",\"GridWorldState(8, 3, false)\\nN:    599\\n\",\"GridWorldState(2, 3, false)\\nN:     84\\n\",\"GridWorldState(4, 3, false)\\nN:     76\\n\",\"GridWorldState(5, 5, false)\\nN:     24\\n\",\"GridWorldState(8, 2, false)\\nN:    788\\n\",\"GridWorldState(6, 5, false)\\nN:     27\\n\",\"GridWorldState(3, 1, false)\\nN:    594\\n\",\"GridWorldState(1, 6, false)\\nN:     11\\n\",\"GridWorldState(5, 4, false)\\nN:     40\\n\",\"GridWorldState(3, 2, false)\\nN:    199\\n\",\"GridWorldState(3, 5, false)\\nN:     24\\n\",\"GridWorldState(6, 5, false)\\nN:     27\\n\",\"GridWorldState(7, 3, false)\\nN:    263\\n\",\"GridWorldState(4, 5, false)\\nN:     12\\n\",\"GridWorldState(3, 3, false)\\nN:     72\\n\",\"GridWorldState(8, 6, false)\\nN:     11\\n\",\"GridWorldState(7, 2, false)\\nN:    490\\n\",\"GridWorldState(9, 1, false)\\nN:    209\\n\",\"GridWorldState(7, 5, false)\\nN:     41\\n\",\"GridWorldState(4, 6, false)\\nN:      4\\n\",\"GridWorldState(3, 3, false)\\nN:     72\\n\",\"GridWorldState(1, 2, false)\\nN:    117\\n\",\"GridWorldState(5, 2, false)\\nN:    602\\n\",\"GridWorldState(9, 2, false)\\nN:    299\\n\",\"GridWorldState(7, 6, false)\\nN:      9\\n\",\"GridWorldState(5, 2, false)\\nN:    602\\n\",\"GridWorldState(7, 2, false)\\nN:    490\\n\",\"GridWorldState(5, 2, false)\\nN:    602\\n\",\"GridWorldState(10, 3, false)\\nN:     21\\n\",\"GridWorldState(7, 5, false)\\nN:     41\\n\",\"GridWorldState(1, 2, false)\\nN:    117\\n\",\"GridWorldState(10, 2, false)\\nN:     70\\n\",\"GridWorldState(6, 5, false)\\nN:     27\\n\",\"GridWorldState(5, 2, false)\\nN:    602\\n\",\"GridWorldState(6, 1, false)\\nN:   1111\\n\",\"GridWorldState(4, 3, false)\\nN:     76\\n\",\"GridWorldState(6, 2, false)\\nN:    458\\n\",\"GridWorldState(9, 3, false)\\nN:    579\\n\",\"GridWorldState(2, 3, false)\\nN:     84\\n\",\"GridWorldState(9, 4, false)\\nN:     28\\n\",\"GridWorldState(3, 3, false)\\nN:     72\\n\",\"GridWorldState(9, 3, false)\\nN:    579\\n\",\"GridWorldState(4, 6, true)\\nN:      0\\n\",\"GridWorldState(3, 2, false)\\nN:    199\\n\",\"GridWorldState(7, 5, false)\\nN:     41\\n\",\"GridWorldState(6, 3, false)\\nN:    157\\n\",\"GridWorldState(10, 1, false)\\nN:     63\\n\",\"GridWorldState(2, 4, false)\\nN:     42\\n\",\"GridWorldState(8, 4, false)\\nN:    121\\n\",\"GridWorldState(3, 4, false)\\nN:     27\\n\",\"GridWorldState(4, 5, false)\\nN:     12\\n\",\"GridWorldState(2, 1, false)\\nN:    273\\n\",\"GridWorldState(1, 1, false)\\nN:    199\\n\",\"GridWorldState(3, 1, false)\\nN:    594\\n\",\"GridWorldState(6, 1, false)\\nN:   1111\\n\",\"GridWorldState(2, 5, false)\\nN:     20\\n\",\"GridWorldState(8, 1, false)\\nN:    704\\n\",\"GridWorldState(8, 2, false)\\nN:    788\\n\",\"GridWorldState(2, 4, false)\\nN:     42\\n\",\"GridWorldState(8, 2, false)\\nN:    788\\n\",\"GridWorldState(6, 5, false)\\nN:     27\\n\",\"GridWorldState(8, 4, false)\\nN:    121\\n\",\"GridWorldState(9, 5, false)\\nN:     13\\n\",\"GridWorldState(2, 3, false)\\nN:     84\\n\",\"GridWorldState(7, 1, false)\\nN:    855\\n\",\"GridWorldState(7, 3, false)\\nN:    263\\n\",\"GridWorldState(9, 2, false)\\nN:    299\\n\",\"GridWorldState(2, 1, false)\\nN:    273\\n\",\"GridWorldState(3, 2, false)\\nN:    199\\n\",\"GridWorldState(9, 4, false)\\nN:     28\\n\",\"GridWorldState(1, 1, false)\\nN:    199\\n\",\"GridWorldState(8, 4, false)\\nN:    121\\n\",\"GridWorldState(5, 1, false)\\nN:   1577\\n\",\"GridWorldState(5, 1, false)\\nN:   1577\\n\",\"GridWorldState(7, 3, false)\\nN:    263\\n\",\"GridWorldState(1, 4, false)\\nN:     37\\n\",\"GridWorldState(2, 2, false)\\nN:    137\\n\",\"GridWorldState(8, 2, false)\\nN:    788\\n\",\"GridWorldState(7, 2, false)\\nN:    490\\n\",\"GridWorldState(1, 2, false)\\nN:    117\\n\",\"GridWorldState(4, 2, false)\\nN:    362\\n\",\"GridWorldState(5, 2, false)\\nN:    602\\n\",\"GridWorldState(9, 3, true)\\nN:      0\\n\",\"GridWorldState(4, 1, false)\\nN:   2010\\n\",\"GridWorldState(2, 2, false)\\nN:    137\\n\",\"GridWorldState(6, 2, false)\\nN:    458\\n\",\"GridWorldState(8, 5, false)\\nN:     38\\n\",\"GridWorldState(6, 3, false)\\nN:    157\\n\",\"GridWorldState(10, 5, false)\\nN:      2\\n\",\"GridWorldState(6, 4, false)\\nN:     66\\n\",\"GridWorldState(2, 1, false)\\nN:    273\\n\",\"GridWorldState(6, 4, false)\\nN:     66\\n\",\"GridWorldState(7, 2, false)\\nN:    490\\n\",\"GridWorldState(9, 2, false)\\nN:    299\\n\",\"GridWorldState(8, 3, false)\\nN:    599\\n\",\"GridWorldState(8, 2, false)\\nN:    788\\n\",\"GridWorldState(5, 4, false)\\nN:     40\\n\",\"GridWorldState(5, 2, false)\\nN:    602\\n\",\"GridWorldState(4, 3, false)\\nN:     76\\n\",\"GridWorldState(8, 2, false)\\nN:    788\\n\",\"GridWorldState(8, 2, false)\\nN:    788\\n\",\"GridWorldState(3, 5, false)\\nN:     24\\n\",\"GridWorldState(7, 5, false)\\nN:     41\\n\",\"GridWorldState(8, 3, false)\\nN:    599\\n\",\"GridWorldState(3, 3, false)\\nN:     72\\n\",\"GridWorldState(3, 5, false)\\nN:     24\\n\",\"GridWorldState(5, 5, false)\\nN:     24\\n\",\"GridWorldState(3, 3, false)\\nN:     72\\n\",\"GridWorldState(7, 5, false)\\nN:     41\\n\",\"GridWorldState(6, 3, false)\\nN:    157\\n\",\"GridWorldState(4, 2, false)\\nN:    362\\n\",\"GridWorldState(4, 2, false)\\nN:    362\\n\",\"GridWorldState(5, 4, false)\\nN:     40\\n\",\"GridWorldState(4, 3, false)\\nN:     76\\n\",\"GridWorldState(1, 4, false)\\nN:     37\\n\",\"GridWorldState(6, 2, false)\\nN:    458\\n\",\"GridWorldState(1, 3, false)\\nN:     93\\n\",\"GridWorldState(6, 5, false)\\nN:     27\\n\",\"GridWorldState(2, 2, false)\\nN:    137\\n\",\"GridWorldState(8, 2, false)\\nN:    788\\n\",\"GridWorldState(2, 4, false)\\nN:     42\\n\",\"GridWorldState(9, 3, false)\\nN:    579\\n\",\"GridWorldState(4, 1, false)\\nN:   2010\\n\",\"GridWorldState(4, 2, false)\\nN:    362\\n\",\"GridWorldState(7, 4, false)\\nN:     94\\n\",\"GridWorldState(1, 1, false)\\nN:    199\\n\",\"GridWorldState(6, 2, false)\\nN:    458\\n\",\"GridWorldState(9, 2, false)\\nN:    299\\n\",\"GridWorldState(2, 1, false)\\nN:    273\\n\",\"GridWorldState(10, 3, false)\\nN:     21\\n\",\"GridWorldState(2, 1, false)\\nN:    273\\n\",\"GridWorldState(4, 1, false)\\nN:   2010\\n\",\"GridWorldState(2, 6, false)\\nN:      4\\n\",\"GridWorldState(6, 1, false)\\nN:   1111\\n\",\"GridWorldState(4, 3, false)\\nN:     76\\n\",\"GridWorldState(2, 2, false)\\nN:    137\\n\",\"GridWorldState(8, 1, false)\\nN:    704\\n\",\"GridWorldState(2, 5, false)\\nN:     20\\n\",\"GridWorldState(2, 4, false)\\nN:     42\\n\",\"GridWorldState(5, 3, false)\\nN:    115\\n\",\"GridWorldState(8, 3, false)\\nN:    599\\n\",\"GridWorldState(7, 5, false)\\nN:     41\\n\",\"GridWorldState(5, 4, false)\\nN:     40\\n\",\"GridWorldState(8, 5, false)\\nN:     38\\n\",\"GridWorldState(4, 3, false)\\nN:     76\\n\",\"GridWorldState(7, 4, false)\\nN:     94\\n\",\"GridWorldState(3, 1, false)\\nN:    594\\n\",\"GridWorldState(4, 6, true)\\nN:      0\\n\",\"GridWorldState(10, 1, false)\\nN:     63\\n\",\"GridWorldState(2, 6, false)\\nN:      4\\n\",\"GridWorldState(6, 1, false)\\nN:   1111\\n\",\"GridWorldState(7, 4, false)\\nN:     94\\n\",\"GridWorldState(4, 1, false)\\nN:   2010\\n\",\"GridWorldState(10, 1, false)\\nN:     63\\n\",\"GridWorldState(9, 2, false)\\nN:    299\\n\",\"GridWorldState(6, 5, false)\\nN:     27\\n\",\"GridWorldState(7, 7, false)\\nN:      1\\n\",\"GridWorldState(7, 4, false)\\nN:     94\\n\",\"GridWorldState(10, 4, false)\\nN:     18\\n\",\"GridWorldState(8, 1, false)\\nN:    704\\n\",\"GridWorldState(10, 4, false)\\nN:     18\\n\",\"GridWorldState(3, 4, false)\\nN:     27\\n\",\"GridWorldState(8, 2, false)\\nN:    788\\n\",\"GridWorldState(9, 1, false)\\nN:    209\\n\",\"GridWorldState(3, 5, false)\\nN:     24\\n\",\"GridWorldState(3, 3, false)\\nN:     72\\n\",\"GridWorldState(9, 1, false)\\nN:    209\\n\",\"GridWorldState(7, 1, false)\\nN:    855\\n\",\"GridWorldState(9, 2, false)\\nN:    299\\n\",\"GridWorldState(10, 2, false)\\nN:     70\\n\",\"GridWorldState(5, 4, false)\\nN:     40\\n\",\"GridWorldState(2, 4, false)\\nN:     42\\n\",\"GridWorldState(3, 1, false)\\nN:    594\\n\",\"GridWorldState(5, 2, false)\\nN:    602\\n\",\"GridWorldState(3, 2, false)\\nN:    199\\n\",\"GridWorldState(10, 2, false)\\nN:     70\\n\",\"GridWorldState(7, 4, false)\\nN:     94\\n\",\"GridWorldState(3, 2, false)\\nN:    199\\n\",\"GridWorldState(5, 1, false)\\nN:   1577\\n\",\"GridWorldState(7, 1, false)\\nN:    855\\n\",\"GridWorldState(3, 1, false)\\nN:    594\\n\",\"GridWorldState(7, 4, false)\\nN:     94\\n\",\"GridWorldState(9, 1, false)\\nN:    209\\n\",\"GridWorldState(4, 5, false)\\nN:     12\\n\",\"GridWorldState(3, 6, false)\\nN:      8\\n\",\"GridWorldState(6, 6, false)\\nN:      5\\n\",\"GridWorldState(1, 4, false)\\nN:     37\\n\",\"GridWorldState(8, 5, false)\\nN:     38\\n\",\"GridWorldState(7, 3, false)\\nN:    263\\n\",\"GridWorldState(9, 1, false)\\nN:    209\\n\",\"GridWorldState(7, 6, false)\\nN:      9\\n\",\"GridWorldState(4, 4, false)\\nN:     12\\n\",\"GridWorldState(8, 1, false)\\nN:    704\\n\",\"GridWorldState(8, 5, false)\\nN:     38\\n\",\"GridWorldState(6, 1, false)\\nN:   1111\\n\",\"GridWorldState(2, 2, false)\\nN:    137\\n\",\"GridWorldState(2, 2, false)\\nN:    137\\n\",\"GridWorldState(8, 3, false)\\nN:    599\\n\",\"GridWorldState(6, 3, false)\\nN:    157\\n\",\"GridWorldState(6, 3, false)\\nN:    157\\n\",\"GridWorldState(3, 5, false)\\nN:     24\\n\",\"GridWorldState(1, 1, false)\\nN:    199\\n\",\"GridWorldState(3, 5, false)\\nN:     24\\n\",\"GridWorldState(1, 6, false)\\nN:     11\\n\",\"GridWorldState(7, 2, false)\\nN:    490\\n\",\"GridWorldState(7, 5, false)\\nN:     41\\n\",\"GridWorldState(3, 6, false)\\nN:      8\\n\",\"GridWorldState(4, 2, false)\\nN:    362\\n\",\"GridWorldState(7, 2, false)\\nN:    490\\n\",\"GridWorldState(7, 3, false)\\nN:    263\\n\",\"GridWorldState(6, 3, false)\\nN:    157\\n\",\"GridWorldState(1, 4, false)\\nN:     37\\n\",\"GridWorldState(6, 6, false)\\nN:      5\\n\",\"GridWorldState(5, 4, false)\\nN:     40\\n\",\"GridWorldState(8, 4, false)\\nN:    121\\n\",\"GridWorldState(4, 2, false)\\nN:    362\\n\",\"GridWorldState(1, 5, false)\\nN:     24\\n\",\"GridWorldState(1, 3, false)\\nN:     93\\n\",\"GridWorldState(8, 1, false)\\nN:    704\\n\",\"GridWorldState(2, 5, false)\\nN:     20\\n\",\"GridWorldState(9, 4, false)\\nN:     28\\n\",\"GridWorldState(4, 3, true)\\nN:      0\\n\",\"GridWorldState(5, 3, false)\\nN:    115\\n\",\"GridWorldState(9, 4, false)\\nN:     28\\n\",\"GridWorldState(6, 3, false)\\nN:    157\\n\",\"GridWorldState(6, 5, false)\\nN:     27\\n\",\"GridWorldState(4, 2, false)\\nN:    362\\n\",\"GridWorldState(4, 4, false)\\nN:     12\\n\",\"GridWorldState(9, 3, false)\\nN:    579\\n\",\"GridWorldState(8, 4, false)\\nN:    121\\n\",\"GridWorldState(3, 4, false)\\nN:     27\\n\",\"GridWorldState(3, 1, false)\\nN:    594\\n\",\"GridWorldState(1, 3, false)\\nN:     93\\n\",\"GridWorldState(9, 2, false)\\nN:    299\\n\",\"GridWorldState(8, 1, false)\\nN:    704\\n\",\"GridWorldState(6, 3, false)\\nN:    157\\n\",\"GridWorldState(6, 1, false)\\nN:   1111\\n\",\"GridWorldState(2, 3, false)\\nN:     84\\n\",\"GridWorldState(7, 1, false)\\nN:    855\\n\",\"GridWorldState(2, 5, false)\\nN:     20\\n\",\"GridWorldState(9, 3, false)\\nN:    579\\n\",\"GridWorldState(8, 2, false)\\nN:    788\\n\",\"GridWorldState(7, 1, false)\\nN:    855\\n\",\"GridWorldState(9, 3, false)\\nN:    579\\n\",\"GridWorldState(1, 3, false)\\nN:     93\\n\",\"GridWorldState(4, 3, false)\\nN:     76\\n\",\"GridWorldState(2, 7, false)\\nN:      0\\n\",\"GridWorldState(6, 7, false)\\nN:      1\\n\",\"GridWorldState(3, 3, false)\\nN:     72\\n\",\"GridWorldState(8, 5, false)\\nN:     38\\n\",\"GridWorldState(7, 2, false)\\nN:    490\\n\",\"GridWorldState(4, 5, false)\\nN:     12\\n\",\"GridWorldState(2, 2, false)\\nN:    137\\n\",\"GridWorldState(8, 5, false)\\nN:     38\\n\",\"GridWorldState(5, 1, false)\\nN:   1577\\n\",\"GridWorldState(9, 5, false)\\nN:     13\\n\",\"GridWorldState(2, 1, false)\\nN:    273\\n\",\"GridWorldState(2, 3, false)\\nN:     84\\n\",\"GridWorldState(1, 6, false)\\nN:     11\\n\",\"GridWorldState(1, 4, false)\\nN:     37\\n\",\"GridWorldState(5, 3, false)\\nN:    115\\n\",\"GridWorldState(7, 2, false)\\nN:    490\\n\",\"GridWorldState(8, 4, false)\\nN:    121\\n\",\"GridWorldState(2, 5, false)\\nN:     20\\n\",\"GridWorldState(2, 2, false)\\nN:    137\\n\",\"GridWorldState(4, 1, false)\\nN:   2010\\n\",\"GridWorldState(3, 5, false)\\nN:     24\\n\",\"GridWorldState(4, 3, true)\\nN:      0\\n\",\"GridWorldState(2, 2, false)\\nN:    137\\n\",\"GridWorldState(4, 3, true)\\nN:      0\\n\",\"GridWorldState(5, 6, false)\\nN:      5\\n\",\"GridWorldState(6, 2, false)\\nN:    458\\n\",\"GridWorldState(5, 5, false)\\nN:     24\\n\",\"GridWorldState(1, 2, false)\\nN:    117\\n\",\"GridWorldState(8, 3, false)\\nN:    599\\n\",\"GridWorldState(8, 5, false)\\nN:     38\\n\",\"GridWorldState(4, 6, false)\\nN:      4\\n\",\"GridWorldState(6, 6, false)\\nN:      5\\n\",\"GridWorldState(1, 1, false)\\nN:    199\\n\",\"GridWorldState(5, 3, false)\\nN:    115\\n\",\"GridWorldState(4, 3, false)\\nN:     76\\n\",\"GridWorldState(2, 3, false)\\nN:     84\\n\",\"GridWorldState(7, 2, false)\\nN:    490\\n\",\"GridWorldState(9, 3, false)\\nN:    579\\n\",\"GridWorldState(5, 2, false)\\nN:    602\\n\",\"GridWorldState(7, 3, false)\\nN:    263\\n\",\"GridWorldState(2, 4, false)\\nN:     42\\n\",\"GridWorldState(7, 4, false)\\nN:     94\\n\",\"GridWorldState(6, 3, false)\\nN:    157\\n\",\"GridWorldState(4, 5, false)\\nN:     12\\n\",\"GridWorldState(5, 3, false)\\nN:    115\\n\",\"GridWorldState(6, 3, false)\\nN:    157\\n\",\"GridWorldState(1, 4, false)\\nN:     37\\n\",\"GridWorldState(6, 3, false)\\nN:    157\\n\",\"GridWorldState(2, 4, false)\\nN:     42\\n\",\"GridWorldState(3, 4, false)\\nN:     27\\n\",\"GridWorldState(6, 2, false)\\nN:    458\\n\",\"GridWorldState(5, 3, false)\\nN:    115\\n\",\"GridWorldState(1, 5, false)\\nN:     24\\n\",\"GridWorldState(10, 6, false)\\nN:      1\\n\",\"GridWorldState(2, 5, false)\\nN:     20\\n\",\"GridWorldState(7, 4, false)\\nN:     94\\n\",\"GridWorldState(8, 5, false)\\nN:     38\\n\",\"GridWorldState(4, 6, false)\\nN:      4\\n\",\"GridWorldState(4, 2, false)\\nN:    362\\n\",\"GridWorldState(5, 3, false)\\nN:    115\\n\",\"GridWorldState(5, 3, false)\\nN:    115\\n\",\"GridWorldState(6, 2, false)\\nN:    458\\n\",\"GridWorldState(5, 5, false)\\nN:     24\\n\",\"GridWorldState(9, 4, false)\\nN:     28\\n\",\"GridWorldState(4, 6, false)\\nN:      4\\n\",\"GridWorldState(9, 5, false)\\nN:     13\\n\",\"GridWorldState(4, 1, false)\\nN:   2010\\n\",\"GridWorldState(5, 6, false)\\nN:      5\\n\",\"GridWorldState(8, 4, false)\\nN:    121\\n\",\"GridWorldState(6, 2, false)\\nN:    458\\n\",\"GridWorldState(6, 1, false)\\nN:   1111\\n\",\"GridWorldState(6, 1, false)\\nN:   1111\\n\",\"GridWorldState(6, 3, false)\\nN:    157\\n\",\"GridWorldState(5, 1, false)\\nN:   1577\\n\",\"GridWorldState(1, 4, false)\\nN:     37\\n\",\"GridWorldState(1, 6, false)\\nN:     11\\n\",\"GridWorldState(3, 2, false)\\nN:    199\\n\",\"GridWorldState(5, 2, false)\\nN:    602\\n\",\"GridWorldState(3, 5, false)\\nN:     24\\n\",\"GridWorldState(6, 3, false)\\nN:    157\\n\",\"GridWorldState(1, 2, false)\\nN:    117\\n\",\"GridWorldState(6, 4, false)\\nN:     66\\n\",\"GridWorldState(2, 3, false)\\nN:     84\\n\",\"GridWorldState(9, 3, false)\\nN:    579\\n\",\"GridWorldState(6, 2, false)\\nN:    458\\n\",\"GridWorldState(9, 4, false)\\nN:     28\\n\",\"GridWorldState(2, 4, false)\\nN:     42\\n\",\"GridWorldState(1, 4, false)\\nN:     37\\n\",\"GridWorldState(5, 4, false)\\nN:     40\\n\",\"GridWorldState(3, 4, false)\\nN:     27\\n\",\"GridWorldState(7, 3, false)\\nN:    263\\n\",\"GridWorldState(10, 2, false)\\nN:     70\\n\",\"GridWorldState(9, 2, false)\\nN:    299\\n\",\"GridWorldState(4, 4, false)\\nN:     12\\n\",\"GridWorldState(1, 1, false)\\nN:    199\\n\",\"GridWorldState(10, 1, false)\\nN:     63\\n\",\"GridWorldState(2, 1, false)\\nN:    273\\n\",\"GridWorldState(3, 2, false)\\nN:    199\\n\",\"GridWorldState(7, 5, false)\\nN:     41\\n\",\"GridWorldState(9, 1, false)\\nN:    209\\n\",\"GridWorldState(8, 3, false)\\nN:    599\\n\",\"GridWorldState(1, 2, false)\\nN:    117\\n\",\"GridWorldState(7, 4, false)\\nN:     94\\n\",\"GridWorldState(1, 2, false)\\nN:    117\\n\",\"GridWorldState(1, 2, false)\\nN:    117\\n\",\"GridWorldState(10, 1, false)\\nN:     63\\n\",\"GridWorldState(3, 1, false)\\nN:    594\\n\",\"GridWorldState(8, 1, false)\\nN:    704\\n\",\"GridWorldState(7, 4, false)\\nN:     94\\n\",\"GridWorldState(8, 4, false)\\nN:    121\\n\",\"GridWorldState(8, 5, false)\\nN:     38\\n\",\"GridWorldState(7, 3, false)\\nN:    263\\n\",\"GridWorldState(7, 4, false)\\nN:     94\\n\",\"GridWorldState(7, 3, false)\\nN:    263\\n\",\"GridWorldState(10, 4, false)\\nN:     18\\n\",\"GridWorldState(1, 3, false)\\nN:     93\\n\",\"GridWorldState(6, 3, false)\\nN:    157\\n\",\"GridWorldState(8, 6, false)\\nN:     11\\n\",\"GridWorldState(10, 4, false)\\nN:     18\\n\",\"GridWorldState(9, 2, false)\\nN:    299\\n\",\"GridWorldState(3, 1, false)\\nN:    594\\n\",\"GridWorldState(8, 2, false)\\nN:    788\\n\",\"GridWorldState(7, 1, false)\\nN:    855\\n\",\"GridWorldState(6, 4, false)\\nN:     66\\n\",\"GridWorldState(1, 3, false)\\nN:     93\\n\",\"GridWorldState(2, 1, false)\\nN:    273\\n\",\"GridWorldState(10, 1, false)\\nN:     63\\n\",\"GridWorldState(10, 3, false)\\nN:     21\\n\",\"GridWorldState(5, 1, false)\\nN:   1577\\n\",\"GridWorldState(8, 4, false)\\nN:    121\\n\",\"GridWorldState(2, 2, false)\\nN:    137\\n\",\"GridWorldState(8, 3, false)\\nN:    599\\n\",\"GridWorldState(1, 1, false)\\nN:    199\\n\",\"GridWorldState(7, 6, false)\\nN:      9\\n\",\"GridWorldState(8, 6, false)\\nN:     11\\n\",\"GridWorldState(2, 4, false)\\nN:     42\\n\",\"GridWorldState(10, 3, false)\\nN:     21\\n\",\"GridWorldState(7, 2, false)\\nN:    490\\n\",\"GridWorldState(1, 2, false)\\nN:    117\\n\",\"GridWorldState(9, 2, false)\\nN:    299\\n\",\"GridWorldState(10, 1, false)\\nN:     63\\n\",\"GridWorldState(7, 3, false)\\nN:    263\\n\",\"GridWorldState(1, 5, false)\\nN:     24\\n\",\"GridWorldState(7, 4, false)\\nN:     94\\n\",\"GridWorldState(2, 5, false)\\nN:     20\\n\",\"GridWorldState(3, 3, false)\\nN:     72\\n\",\"GridWorldState(10, 2, false)\\nN:     70\\n\",\"GridWorldState(6, 3, false)\\nN:    157\\n\",\"GridWorldState(5, 7, false)\\nN:      1\\n\",\"GridWorldState(2, 2, false)\\nN:    137\\n\",\"GridWorldState(4, 1, false)\\nN:   2010\\n\",\"GridWorldState(1, 4, false)\\nN:     37\\n\",\"GridWorldState(3, 1, false)\\nN:    594\\n\",\"GridWorldState(3, 5, false)\\nN:     24\\n\",\"GridWorldState(2, 3, false)\\nN:     84\\n\",\"GridWorldState(6, 2, false)\\nN:    458\\n\",\"GridWorldState(6, 4, false)\\nN:     66\\n\",\"GridWorldState(5, 2, false)\\nN:    602\\n\",\"GridWorldState(7, 6, false)\\nN:      9\\n\",\"GridWorldState(10, 2, false)\\nN:     70\\n\",\"GridWorldState(4, 4, false)\\nN:     12\\n\",\"GridWorldState(8, 2, false)\\nN:    788\\n\",\"GridWorldState(3, 2, false)\\nN:    199\\n\",\"GridWorldState(3, 2, false)\\nN:    199\\n\",\"GridWorldState(8, 5, false)\\nN:     38\\n\",\"GridWorldState(9, 6, false)\\nN:      2\\n\",\"GridWorldState(5, 2, false)\\nN:    602\\n\",\"GridWorldState(3, 4, false)\\nN:     27\\n\",\"GridWorldState(6, 2, false)\\nN:    458\\n\",\"GridWorldState(3, 3, false)\\nN:     72\\n\",\"GridWorldState(8, 6, false)\\nN:     11\\n\",\"GridWorldState(7, 2, false)\\nN:    490\\n\",\"GridWorldState(4, 4, false)\\nN:     12\\n\",\"GridWorldState(10, 2, false)\\nN:     70\\n\",\"GridWorldState(6, 5, false)\\nN:     27\\n\",\"GridWorldState(8, 3, false)\\nN:    599\\n\",\"GridWorldState(8, 4, false)\\nN:    121\\n\",\"GridWorldState(2, 2, false)\\nN:    137\\n\",\"GridWorldState(1, 5, false)\\nN:     24\\n\",\"GridWorldState(6, 6, false)\\nN:      5\\n\",\"GridWorldState(6, 4, false)\\nN:     66\\n\",\"GridWorldState(2, 5, false)\\nN:     20\\n\",\"GridWorldState(8, 4, false)\\nN:    121\\n\",\"GridWorldState(3, 2, false)\\nN:    199\\n\",\"GridWorldState(8, 2, false)\\nN:    788\\n\",\"GridWorldState(2, 1, false)\\nN:    273\\n\",\"GridWorldState(4, 5, false)\\nN:     12\\n\",\"GridWorldState(5, 1, false)\\nN:   1577\\n\",\"GridWorldState(6, 4, false)\\nN:     66\\n\",\"GridWorldState(10, 5, false)\\nN:      2\\n\",\"GridWorldState(4, 1, false)\\nN:   2010\\n\",\"GridWorldState(9, 3, true)\\nN:      0\\n\",\"GridWorldState(1, 4, false)\\nN:     37\\n\",\"GridWorldState(7, 5, false)\\nN:     41\\n\",\"GridWorldState(1, 3, false)\\nN:     93\\n\",\"GridWorldState(8, 2, false)\\nN:    788\\n\",\"GridWorldState(7, 3, false)\\nN:    263\\n\",\"GridWorldState(3, 4, false)\\nN:     27\\n\",\"GridWorldState(2, 3, false)\\nN:     84\\n\",\"GridWorldState(8, 6, false)\\nN:     11\\n\",\"GridWorldState(8, 1, false)\\nN:    704\\n\",\"GridWorldState(5, 3, false)\\nN:    115\\n\",\"GridWorldState(7, 6, false)\\nN:      9\\n\",\"GridWorldState(3, 1, false)\\nN:    594\\n\",\"GridWorldState(5, 1, false)\\nN:   1577\\n\",\"GridWorldState(10, 3, false)\\nN:     21\\n\",\"GridWorldState(7, 2, false)\\nN:    490\\n\",\"GridWorldState(4, 3, false)\\nN:     76\\n\",\"GridWorldState(6, 2, false)\\nN:    458\\n\",\"GridWorldState(7, 5, false)\\nN:     41\\n\",\"GridWorldState(9, 1, false)\\nN:    209\\n\",\"GridWorldState(3, 2, false)\\nN:    199\\n\",\"GridWorldState(2, 3, false)\\nN:     84\\n\",\"GridWorldState(7, 2, false)\\nN:    490\\n\",\"GridWorldState(5, 1, false)\\nN:   1577\\n\",\"GridWorldState(3, 2, false)\\nN:    199\\n\",\"GridWorldState(7, 2, false)\\nN:    490\\n\",\"GridWorldState(6, 1, false)\\nN:   1111\\n\",\"GridWorldState(3, 6, false)\\nN:      8\\n\",\"GridWorldState(10, 2, false)\\nN:     70\\n\",\"GridWorldState(8, 2, false)\\nN:    788\\n\",\"GridWorldState(2, 3, false)\\nN:     84\\n\",\"GridWorldState(5, 6, false)\\nN:      5\\n\",\"GridWorldState(2, 4, false)\\nN:     42\\n\",\"GridWorldState(7, 2, false)\\nN:    490\\n\",\"GridWorldState(6, 4, false)\\nN:     66\\n\",\"GridWorldState(7, 1, false)\\nN:    855\\n\",\"GridWorldState(5, 5, false)\\nN:     24\\n\",\"GridWorldState(2, 1, false)\\nN:    273\\n\",\"GridWorldState(10, 2, false)\\nN:     70\\n\",\"GridWorldState(9, 6, false)\\nN:      2\\n\",\"GridWorldState(5, 5, false)\\nN:     24\\n\",\"GridWorldState(7, 1, false)\\nN:    855\\n\",\"GridWorldState(4, 3, false)\\nN:     76\\n\",\"GridWorldState(6, 2, false)\\nN:    458\\n\",\"GridWorldState(9, 4, false)\\nN:     28\\n\",\"GridWorldState(2, 6, false)\\nN:      4\\n\",\"GridWorldState(8, 1, false)\\nN:    704\\n\",\"GridWorldState(1, 3, false)\\nN:     93\\n\",\"GridWorldState(3, 6, false)\\nN:      8\\n\",\"GridWorldState(4, 3, false)\\nN:     76\\n\",\"GridWorldState(1, 3, false)\\nN:     93\\n\",\"GridWorldState(4, 3, false)\\nN:     76\\n\",\"GridWorldState(9, 4, false)\\nN:     28\\n\",\"GridWorldState(4, 2, false)\\nN:    362\\n\",\"GridWorldState(9, 1, false)\\nN:    209\\n\",\"GridWorldState(7, 1, false)\\nN:    855\\n\",\"GridWorldState(6, 1, false)\\nN:   1111\\n\",\"GridWorldState(4, 2, false)\\nN:    362\\n\",\"GridWorldState(4, 4, false)\\nN:     12\\n\",\"GridWorldState(1, 5, false)\\nN:     24\\n\",\"GridWorldState(3, 2, false)\\nN:    199\\n\",\"GridWorldState(1, 7, false)\\nN:      1\\n\",\"GridWorldState(4, 6, true)\\nN:      0\\n\",\"GridWorldState(3, 3, false)\\nN:     72\\n\",\"GridWorldState(2, 2, false)\\nN:    137\\n\",\"GridWorldState(10, 4, false)\\nN:     18\\n\",\"GridWorldState(3, 3, false)\\nN:     72\\n\",\"GridWorldState(5, 2, false)\\nN:    602\\n\",\"GridWorldState(5, 1, false)\\nN:   1577\\n\",\"GridWorldState(7, 1, false)\\nN:    855\\n\",\"GridWorldState(4, 2, false)\\nN:    362\\n\",\"GridWorldState(7, 3, false)\\nN:    263\\n\",\"GridWorldState(2, 3, false)\\nN:     84\\n\",\"GridWorldState(3, 5, false)\\nN:     24\\n\",\"GridWorldState(7, 3, false)\\nN:    263\\n\",\"GridWorldState(4, 3, true)\\nN:      0\\n\",\"GridWorldState(4, 3, false)\\nN:     76\\n\",\"GridWorldState(8, 4, false)\\nN:    121\\n\",\"GridWorldState(5, 5, false)\\nN:     24\\n\",\"GridWorldState(7, 6, false)\\nN:      9\\n\",\"GridWorldState(8, 5, false)\\nN:     38\\n\",\"GridWorldState(8, 1, false)\\nN:    704\\n\",\"GridWorldState(4, 3, false)\\nN:     76\\n\",\"GridWorldState(5, 2, false)\\nN:    602\\n\",\"GridWorldState(5, 2, false)\\nN:    602\\n\",\"GridWorldState(8, 3, false)\\nN:    599\\n\",\"GridWorldState(7, 1, false)\\nN:    855\\n\",\"GridWorldState(1, 1, false)\\nN:    199\\n\",\"GridWorldState(9, 3, true)\\nN:      0\\n\",\"GridWorldState(6, 1, false)\\nN:   1111\\n\",\"GridWorldState(7, 5, false)\\nN:     41\\n\",\"GridWorldState(6, 2, false)\\nN:    458\\n\",\"                       up\\nQ:  -4.46\\nN:     23\\n\",\"                     down\\nQ:   0.00\\nN:    480\\n\",\"                     left\\nQ:  -0.53\\nN:    228\\n\",\"                    right\\nQ:   1.71\\nN:   1279\\n\",\"                       up\\nQ:  -7.66\\nN:      8\\n\",\"                     down\\nQ:  -3.60\\nN:     27\\n\",\"                     left\\nQ:  -3.63\\nN:     31\\n\",\"                    right\\nQ:   0.19\\nN:    296\\n\",\"                       up\\nQ:  -0.45\\nN:     89\\n\",\"                     down\\nQ:   0.00\\nN:    131\\n\",\"                     left\\nQ:  -0.38\\nN:     94\\n\",\"                    right\\nQ:   0.73\\nN:    280\\n\",\"                       up\\nQ:  -0.95\\nN:     45\\n\",\"                     down\\nQ:  -0.39\\nN:     66\\n\",\"                     left\\nQ:  -1.16\\nN:     41\\n\",\"                    right\\nQ:  -1.00\\nN:     47\\n\",\"                       up\\nQ: -10.00\\nN:     19\\n\",\"                     down\\nQ: -10.00\\nN:     19\\n\",\"                     left\\nQ: -10.00\\nN:     19\\n\",\"                    right\\nQ: -10.00\\nN:     19\\n\",\"                       up\\nQ:  -2.16\\nN:     19\\n\",\"                     down\\nQ:  -2.37\\nN:     19\\n\",\"                     left\\nQ:  -1.37\\nN:     30\\n\",\"                    right\\nQ:  -8.57\\nN:      4\\n\",\"                       up\\nQ:  -0.04\\nN:    134\\n\",\"                     down\\nQ:   0.00\\nN:    152\\n\",\"                     left\\nQ:  -0.58\\nN:     88\\n\",\"                    right\\nQ:   2.66\\nN:   1203\\n\",\"                       up\\nQ:   0.00\\nN:      0\\n\",\"                     down\\nQ:   0.00\\nN:      0\\n\",\"                     left\\nQ:   0.00\\nN:      0\\n\",\"                    right\\nQ:   0.00\\nN:      0\\n\",\"                       up\\nQ:  -1.93\\nN:     34\\n\",\"                     down\\nQ:   1.99\\nN:    390\\n\",\"                     left\\nQ:  -1.92\\nN:     35\\n\",\"                    right\\nQ:   0.19\\nN:    143\\n\",\"                       up\\nQ:  -0.53\\nN:     53\\n\",\"                     down\\nQ:   0.00\\nN:     86\\n\",\"                     left\\nQ:  -0.41\\nN:     58\\n\",\"                    right\\nQ:   0.01\\nN:     76\\n\",\"                       up\\nQ:  -1.19\\nN:     28\\n\",\"                     down\\nQ:  -0.21\\nN:     48\\n\",\"                     left\\nQ:  -0.67\\nN:     36\\n\",\"                    right\\nQ:  -1.39\\nN:     25\\n\",\"                       up\\nQ:  -0.49\\nN:     24\\n\",\"                     down\\nQ:  -1.18\\nN:     19\\n\",\"                     left\\nQ:  -0.05\\nN:     31\\n\",\"                    right\\nQ:  -2.96\\nN:     10\\n\",\"                       up\\nQ:  -0.59\\nN:     36\\n\",\"                     down\\nQ:   0.00\\nN:     56\\n\",\"                     left\\nQ:   0.00\\nN:     59\\n\",\"                    right\\nQ:  -0.04\\nN:     48\\n\",\"                       up\\nQ:  -1.74\\nN:     32\\n\",\"                     down\\nQ:  -1.44\\nN:     33\\n\",\"                     left\\nQ:  -5.41\\nN:      8\\n\",\"                    right\\nQ:   2.13\\nN:     42\\n\",\"                       up\\nQ:   0.48\\nN:     81\\n\",\"                     down\\nQ:   0.00\\nN:     66\\n\",\"                     left\\nQ:  -0.08\\nN:     53\\n\",\"                    right\\nQ:   3.53\\nN:    911\\n\",\"                       up\\nQ:  -0.69\\nN:     13\\n\",\"                     down\\nQ:  -3.80\\nN:      5\\n\",\"                     left\\nQ:  -6.62\\nN:      3\\n\",\"                    right\\nQ:   0.30\\nN:     19\\n\",\"                       up\\nQ:  -0.69\\nN:     27\\n\",\"                     down\\nQ:  -0.14\\nN:     31\\n\",\"                     left\\nQ:   0.00\\nN:     36\\n\",\"                    right\\nQ:  -0.77\\nN:     23\\n\",\"                       up\\nQ:  -0.28\\nN:     41\\n\",\"                     down\\nQ:   0.18\\nN:     52\\n\",\"                     left\\nQ:   0.16\\nN:     53\\n\",\"                    right\\nQ:   2.99\\nN:    312\\n\",\"                       up\\nQ:  -0.92\\nN:     19\\n\",\"                     down\\nQ:  -1.41\\nN:     15\\n\",\"                     left\\nQ:  -3.24\\nN:     10\\n\",\"                    right\\nQ:   3.28\\nN:    113\\n\",\"                       up\\nQ:   0.82\\nN:     35\\n\",\"                     down\\nQ:   0.76\\nN:     34\\n\",\"                     left\\nQ:   1.53\\nN:     51\\n\",\"                    right\\nQ:   4.41\\nN:    370\\n\",\"                       up\\nQ:  -0.08\\nN:     14\\n\",\"                     down\\nQ:   0.95\\nN:     24\\n\",\"                     left\\nQ:   0.18\\nN:     16\\n\",\"                    right\\nQ:   4.86\\nN:    209\\n\",\"                       up\\nQ:   0.00\\nN:     12\\n\",\"                     down\\nQ:   3.46\\nN:     49\\n\",\"                     left\\nQ:   1.56\\nN:     20\\n\",\"                    right\\nQ:   0.09\\nN:     13\\n\",\"                       up\\nQ:   0.85\\nN:     43\\n\",\"                     down\\nQ:   0.00\\nN:     27\\n\",\"                     left\\nQ:   0.01\\nN:     31\\n\",\"                    right\\nQ:   4.36\\nN:    754\\n\",\"                       up\\nQ:   1.09\\nN:     15\\n\",\"                     down\\nQ:   3.52\\nN:     43\\n\",\"                     left\\nQ:   2.83\\nN:     34\\n\",\"                    right\\nQ:   2.72\\nN:     29\\n\",\"                       up\\nQ:   6.06\\nN:    601\\n\",\"                     down\\nQ:   3.01\\nN:     41\\n\",\"                     left\\nQ:   1.07\\nN:     25\\n\",\"                    right\\nQ:   4.73\\nN:    121\\n\",\"                       up\\nQ:  -1.04\\nN:      7\\n\",\"                     down\\nQ:  -0.82\\nN:      8\\n\",\"                     left\\nQ:  -0.52\\nN:      7\\n\",\"                    right\\nQ:  -3.24\\nN:      5\\n\",\"                       up\\nQ:   3.57\\nN:     29\\n\",\"                     down\\nQ:   0.82\\nN:     11\\n\",\"                     left\\nQ:   0.00\\nN:     13\\n\",\"                    right\\nQ:   7.44\\nN:    546\\n\",\"                       up\\nQ:  -0.12\\nN:     12\\n\",\"                     down\\nQ:   0.00\\nN:     11\\n\",\"                     left\\nQ:   0.00\\nN:     11\\n\",\"                    right\\nQ:  -1.65\\nN:      8\\n\",\"                       up\\nQ:   0.00\\nN:     13\\n\",\"                     down\\nQ:   0.63\\nN:     19\\n\",\"                     left\\nQ:  -1.71\\nN:      9\\n\",\"                    right\\nQ:   1.97\\nN:     25\\n\",\"                       up\\nQ:   0.00\\nN:      4\\n\",\"                     down\\nQ:   0.00\\nN:      4\\n\",\"                     left\\nQ:   0.00\\nN:      5\\n\",\"                    right\\nQ:  -0.34\\nN:      7\\n\",\"                       up\\nQ:  -0.33\\nN:     20\\n\",\"                     down\\nQ:  -0.24\\nN:     20\\n\",\"                     left\\nQ:   0.00\\nN:     35\\n\",\"                    right\\nQ:  -0.92\\nN:     18\\n\",\"                       up\\nQ:  -0.78\\nN:      8\\n\",\"                     down\\nQ:   0.00\\nN:     10\\n\",\"                     left\\nQ:   0.00\\nN:     10\\n\",\"                    right\\nQ:  -0.59\\nN:      9\\n\",\"                       up\\nQ:   0.00\\nN:      6\\n\",\"                     down\\nQ:  -0.72\\nN:      3\\n\",\"                     left\\nQ:   0.00\\nN:     11\\n\",\"                    right\\nQ:   0.00\\nN:      4\\n\",\"                       up\\nQ:   5.23\\nN:    533\\n\",\"                     down\\nQ:   0.00\\nN:     30\\n\",\"                     left\\nQ:   1.96\\nN:     34\\n\",\"                    right\\nQ:   4.43\\nN:    107\\n\",\"                       up\\nQ:   6.01\\nN:    171\\n\",\"                     down\\nQ:   0.00\\nN:      9\\n\",\"                     left\\nQ:   1.88\\nN:     20\\n\",\"                    right\\nQ:   0.00\\nN:      9\\n\",\"                       up\\nQ:  10.00\\nN:    145\\n\",\"                     down\\nQ:  10.00\\nN:    145\\n\",\"                     left\\nQ:  10.00\\nN:    145\\n\",\"                    right\\nQ:  10.00\\nN:    144\\n\",\"                       up\\nQ:  -2.70\\nN:      3\\n\",\"                     down\\nQ:   0.00\\nN:      7\\n\",\"                     left\\nQ:   0.00\\nN:     10\\n\",\"                    right\\nQ:  -2.50\\nN:      4\\n\",\"                       up\\nQ:   0.00\\nN:      7\\n\",\"                     down\\nQ:   0.00\\nN:      7\\n\",\"                     left\\nQ:  -1.01\\nN:      4\\n\",\"                    right\\nQ:   0.00\\nN:      6\\n\",\"                       up\\nQ:   0.00\\nN:      2\\n\",\"                     down\\nQ:   0.00\\nN:      2\\n\",\"                     left\\nQ:  -4.50\\nN:      1\\n\",\"                    right\\nQ:   0.00\\nN:      0\\n\",\"                       up\\nQ:   7.92\\nN:    265\\n\",\"                     down\\nQ:   0.00\\nN:      7\\n\",\"                     left\\nQ:   2.34\\nN:     16\\n\",\"                    right\\nQ:   2.02\\nN:     11\\n\",\"                       up\\nQ:   0.00\\nN:      7\\n\",\"                     down\\nQ:   0.00\\nN:      7\\n\",\"                     left\\nQ:   1.97\\nN:     11\\n\",\"                    right\\nQ:   2.33\\nN:     13\\n\",\"                       up\\nQ:  -0.81\\nN:      5\\n\",\"                     down\\nQ:  -9.00\\nN:      1\\n\",\"                     left\\nQ:  -1.48\\nN:      4\\n\",\"                    right\\nQ:  -4.50\\nN:      2\\n\",\"                       up\\nQ:   0.00\\nN:      0\\n\",\"                     down\\nQ:   0.00\\nN:      0\\n\",\"                     left\\nQ:   0.00\\nN:      0\\n\",\"                    right\\nQ:   0.00\\nN:      0\\n\",\"                       up\\nQ:  -2.25\\nN:      2\\n\",\"                     down\\nQ:   0.00\\nN:      4\\n\",\"                     left\\nQ:  -3.70\\nN:      3\\n\",\"                    right\\nQ:   0.00\\nN:      3\\n\",\"                       up\\nQ:   2.67\\nN:     11\\n\",\"                     down\\nQ:   1.09\\nN:      6\\n\",\"                     left\\nQ:   6.22\\nN:     39\\n\",\"                    right\\nQ:   0.00\\nN:     14\\n\",\"                       up\\nQ:  -4.50\\nN:      1\\n\",\"                     down\\nQ:   0.00\\nN:      4\\n\",\"                     left\\nQ:   0.00\\nN:      2\\n\",\"                    right\\nQ:  -4.50\\nN:      1\\n\",\"                       up\\nQ:   0.00\\nN:      2\\n\",\"                     down\\nQ:   0.00\\nN:      1\\n\",\"                     left\\nQ:   0.00\\nN:      1\\n\",\"                    right\\nQ:   0.00\\nN:      0\\n\",\"                       up\\nQ:   0.00\\nN:      7\\n\",\"                     down\\nQ:   0.00\\nN:      6\\n\",\"                     left\\nQ:   0.00\\nN:      6\\n\",\"                    right\\nQ:   0.00\\nN:      8\\n\",\"                       up\\nQ:   0.00\\nN:      5\\n\",\"                     down\\nQ:   6.32\\nN:      4\\n\",\"                     left\\nQ:   5.89\\nN:      4\\n\",\"                    right\\nQ:   0.00\\nN:      8\\n\",\"                       up\\nQ:   0.00\\nN:      2\\n\",\"                     down\\nQ:   0.00\\nN:      4\\n\",\"                     left\\nQ:   0.00\\nN:      2\\n\",\"                    right\\nQ:   0.34\\nN:      3\\n\",\"                       up\\nQ:   4.97\\nN:     31\\n\",\"                     down\\nQ:   0.00\\nN:     10\\n\",\"                     left\\nQ:   2.71\\nN:     12\\n\",\"                    right\\nQ:   0.00\\nN:     10\\n\",\"                       up\\nQ:   0.00\\nN:      3\\n\",\"                     down\\nQ:   7.73\\nN:     18\\n\",\"                     left\\nQ:   2.25\\nN:      4\\n\",\"                    right\\nQ:   0.00\\nN:      3\\n\",\"                       up\\nQ:   0.00\\nN:      2\\n\",\"                     down\\nQ:   0.00\\nN:      3\\n\",\"                     left\\nQ:   0.00\\nN:      2\\n\",\"                    right\\nQ:   0.00\\nN:     11\\n\",\"                       up\\nQ:  -0.12\\nN:      9\\n\",\"                     down\\nQ:   0.43\\nN:     10\\n\",\"                     left\\nQ:   0.00\\nN:     10\\n\",\"                    right\\nQ:   0.84\\nN:     12\\n\",\"                       up\\nQ:  -5.00\\nN:      1\\n\",\"                     down\\nQ:  -5.00\\nN:      1\\n\",\"                     left\\nQ:  -5.00\\nN:      1\\n\",\"                    right\\nQ:  -5.00\\nN:      1\\n\",\"                       up\\nQ:   0.00\\nN:      2\\n\",\"                     down\\nQ:   0.00\\nN:      3\\n\",\"                     left\\nQ:   0.00\\nN:      6\\n\",\"                    right\\nQ:   0.00\\nN:      0\\n\",\"                       up\\nQ:   0.00\\nN:      2\\n\",\"                     down\\nQ:   4.55\\nN:      5\\n\",\"                     left\\nQ:   1.33\\nN:      4\\n\",\"                    right\\nQ:   0.00\\nN:      2\\n\",\"                       up\\nQ:   0.89\\nN:      2\\n\",\"                     down\\nQ:   0.00\\nN:      3\\n\",\"                     left\\nQ:  -1.94\\nN:      1\\n\",\"                    right\\nQ:  -2.20\\nN:      3\\n\",\"                       up\\nQ:   0.00\\nN:      1\\n\",\"                     down\\nQ:   0.00\\nN:      0\\n\",\"                     left\\nQ:   0.00\\nN:      0\\n\",\"                    right\\nQ:   0.00\\nN:      0\\n\",\"                       up\\nQ:   0.00\\nN:      1\\n\",\"                     down\\nQ:   0.00\\nN:      0\\n\",\"                     left\\nQ:   0.00\\nN:      0\\n\",\"                    right\\nQ:   0.00\\nN:      0\\n\",\"                       up\\nQ:   0.00\\nN:      0\\n\",\"                     down\\nQ:   0.00\\nN:      0\\n\",\"                     left\\nQ:   0.00\\nN:      0\\n\",\"                    right\\nQ:   0.00\\nN:      0\\n\",\"                       up\\nQ:  -1.08\\nN:      2\\n\",\"                     down\\nQ:   0.00\\nN:      1\\n\",\"                     left\\nQ:  -4.05\\nN:      1\\n\",\"                    right\\nQ:   0.00\\nN:      1\\n\",\"                       up\\nQ:  -2.39\\nN:      1\\n\",\"                     down\\nQ:   0.00\\nN:      0\\n\",\"                     left\\nQ:   0.00\\nN:      0\\n\",\"                    right\\nQ:   0.00\\nN:      0\\n\",\"                       up\\nQ:   0.00\\nN:      0\\n\",\"                     down\\nQ:   0.00\\nN:      0\\n\",\"                     left\\nQ:   0.00\\nN:      0\\n\",\"                    right\\nQ:   0.00\\nN:      0\\n\",\"                       up\\nQ:   0.00\\nN:      1\\n\",\"                     down\\nQ:   0.00\\nN:      0\\n\",\"                     left\\nQ:   0.00\\nN:      0\\n\",\"                    right\\nQ:   0.00\\nN:      0\\n\",\"                       up\\nQ:   0.00\\nN:      2\\n\",\"                     down\\nQ:   0.00\\nN:      0\\n\",\"                     left\\nQ:   0.00\\nN:      0\\n\",\"                    right\\nQ:   0.00\\nN:      0\\n\",\"                       up\\nQ:   0.00\\nN:      0\\n\",\"                     down\\nQ:   0.00\\nN:      0\\n\",\"                     left\\nQ:   0.00\\nN:      0\\n\",\"                    right\\nQ:   0.00\\nN:      0\\n\",\"                       up\\nQ:   2.39\\nN:      2\\n\",\"                     down\\nQ:   0.00\\nN:      0\\n\",\"                     left\\nQ:   0.00\\nN:      0\\n\",\"                    right\\nQ:   0.00\\nN:      0\\n\",\"                       up\\nQ:   0.00\\nN:      0\\n\",\"                     down\\nQ:   0.00\\nN:      0\\n\",\"                     left\\nQ:   0.00\\nN:      0\\n\",\"                    right\\nQ:   0.00\\nN:      0\\n\",\"                       up\\nQ:   0.00\\nN:      0\\n\",\"                     down\\nQ:   0.00\\nN:      0\\n\",\"                     left\\nQ:   0.00\\nN:      0\\n\",\"                    right\\nQ:   0.00\\nN:      0\\n\",\"                       up\\nQ:   0.00\\nN:      0\\n\",\"                     down\\nQ:   0.00\\nN:      0\\n\",\"                     left\\nQ:   0.00\\nN:      0\\n\",\"                    right\\nQ:   0.00\\nN:      0\\n\",\"                       up\\nQ:   0.00\\nN:      1\\n\",\"                     down\\nQ:   0.00\\nN:      0\\n\",\"                     left\\nQ:   0.00\\nN:      0\\n\",\"                    right\\nQ:   0.00\\nN:      0\\n\",\"                       up\\nQ:   0.00\\nN:      0\\n\",\"                     down\\nQ:   0.00\\nN:      0\\n\",\"                     left\\nQ:   0.00\\nN:      0\\n\",\"                    right\\nQ:   0.00\\nN:      0\\n\",\"                       up\\nQ:   0.00\\nN:      0\\n\",\"                     down\\nQ:   0.00\\nN:      0\\n\",\"                     left\\nQ:   0.00\\nN:      0\\n\",\"                    right\\nQ:   0.00\\nN:      0\\n\"],\"style\":[\"\",\"\",\"\",\"\",\"\",\"\",\"\",\"\",\"\",\"\",\"\",\"\",\"\",\"\",\"\",\"\",\"\",\"\",\"\",\"\",\"\",\"\",\"\",\"\",\"\",\"\",\"\",\"\",\"\",\"\",\"\",\"\",\"\",\"\",\"\",\"\",\"\",\"\",\"\",\"\",\"\",\"\",\"\",\"\",\"\",\"\",\"\",\"\",\"\",\"\",\"\",\"\",\"\",\"\",\"\",\"\",\"\",\"\",\"\",\"\",\"\",\"\",\"\",\"\",\"\",\"\",\"\",\"\",\"\",\"\",\"\",\"\",\"\",\"\",\"\",\"\",\"\",\"\",\"\",\"\",\"\",\"\",\"\",\"\",\"\",\"\",\"\",\"\",\"\",\"\",\"\",\"\",\"\",\"\",\"\",\"\",\"\",\"\",\"\",\"\",\"\",\"\",\"\",\"\",\"\",\"\",\"\",\"\",\"\",\"\",\"\",\"\",\"\",\"\",\"\",\"\",\"\",\"\",\"\",\"\",\"\",\"\",\"\",\"\",\"\",\"\",\"\",\"\",\"\",\"\",\"\",\"\",\"\",\"\",\"\",\"\",\"\",\"\",\"\",\"\",\"\",\"\",\"\",\"\",\"\",\"\",\"\",\"\",\"\",\"\",\"\",\"\",\"\",\"\",\"\",\"\",\"\",\"\",\"\",\"\",\"\",\"\",\"\",\"\",\"\",\"\",\"\",\"\",\"\",\"\",\"\",\"\",\"\",\"\",\"\",\"\",\"\",\"\",\"\",\"\",\"\",\"\",\"\",\"\",\"\",\"\",\"\",\"\",\"\",\"\",\"\",\"\",\"\",\"\",\"\",\"\",\"\",\"\",\"\",\"\",\"\",\"\",\"\",\"\",\"\",\"\",\"\",\"\",\"\",\"\",\"\",\"\",\"\",\"\",\"\",\"\",\"\",\"\",\"\",\"\",\"\",\"\",\"\",\"\",\"\",\"\",\"\",\"\",\"\",\"\",\"\",\"\",\"\",\"\",\"\",\"\",\"\",\"\",\"\",\"\",\"\",\"\",\"\",\"\",\"\",\"\",\"\",\"\",\"\",\"\",\"\",\"\",\"\",\"\",\"\",\"\",\"\",\"\",\"\",\"\",\"\",\"\",\"\",\"\",\"\",\"\",\"\",\"\",\"\",\"\",\"\",\"\",\"\",\"\",\"\",\"\",\"\",\"\",\"\",\"\",\"\",\"\",\"\",\"\",\"\",\"\",\"\",\"\",\"\",\"\",\"\",\"\",\"\",\"\",\"\",\"\",\"\",\"\",\"\",\"\",\"\",\"\",\"\",\"\",\"\",\"\",\"\",\"\",\"\",\"\",\"\",\"\",\"\",\"\",\"\",\"\",\"\",\"\",\"\",\"\",\"\",\"\",\"\",\"\",\"\",\"\",\"\",\"\",\"\",\"\",\"\",\"\",\"\",\"\",\"\",\"\",\"\",\"\",\"\",\"\",\"\",\"\",\"\",\"\",\"\",\"\",\"\",\"\",\"\",\"\",\"\",\"\",\"\",\"\",\"\",\"\",\"\",\"\",\"\",\"\",\"\",\"\",\"\",\"\",\"\",\"\",\"\",\"\",\"\",\"\",\"\",\"\",\"\",\"\",\"\",\"\",\"\",\"\",\"\",\"\",\"\",\"\",\"\",\"\",\"\",\"\",\"\",\"\",\"\",\"\",\"\",\"\",\"\",\"\",\"\",\"\",\"\",\"\",\"\",\"\",\"\",\"\",\"\",\"\",\"\",\"\",\"\",\"\",\"\",\"\",\"\",\"\",\"\",\"\",\"\",\"\",\"\",\"\",\"\",\"\",\"\",\"\",\"\",\"\",\"\",\"\",\"\",\"\",\"\",\"\",\"\",\"\",\"\",\"\",\"\",\"\",\"\",\"\",\"\",\"\",\"\",\"\",\"\",\"\",\"\",\"\",\"\",\"\",\"\",\"\",\"\",\"\",\"\",\"\",\"\",\"\",\"\",\"\",\"\",\"\",\"\",\"\",\"\",\"\",\"\",\"\",\"\",\"\",\"\",\"\",\"\",\"\",\"\",\"\",\"\",\"\",\"\",\"\",\"\",\"\",\"\",\"\",\"\",\"\",\"\",\"\",\"\",\"\",\"\",\"\",\"\",\"\",\"\",\"\",\"\",\"\",\"\",\"\",\"\",\"\",\"\",\"\",\"\",\"\",\"\",\"\",\"\",\"\",\"\",\"\",\"\",\"\",\"\",\"\",\"\",\"\",\"\",\"\",\"\",\"\",\"\",\"\",\"\",\"\",\"\",\"\",\"\",\"\",\"\",\"\",\"\",\"\",\"\",\"\",\"\",\"\",\"\",\"\",\"\",\"\",\"\",\"\",\"\",\"\",\"\",\"\",\"\",\"\",\"\",\"\",\"\",\"\",\"\",\"\",\"\",\"\",\"\",\"\",\"\",\"\",\"stroke:#B82400\",\"stroke:#7F4000\",\"stroke:#863D00\",\"stroke:#6A4B00\",\"stroke:#E10F00\",\"stroke:#AD2900\",\"stroke:#AE2900\",\"stroke:#7D4100\",\"stroke:#853D00\",\"stroke:#7F4000\",\"stroke:#843E00\",\"stroke:#764500\",\"stroke:#8C3A00\",\"stroke:#843E00\",\"stroke:#8E3900\",\"stroke:#8C3A00\",\"stroke:#FF0000\",\"stroke:#FF0000\",\"stroke:#FF0000\",\"stroke:#FF0000\",\"stroke:#9B3200\",\"stroke:#9E3100\",\"stroke:#913700\",\"stroke:#ED0900\",\"stroke:#804000\",\"stroke:#7F4000\",\"stroke:#873C00\",\"stroke:#5E5100\",\"stroke:#7F4000\",\"stroke:#7F4000\",\"stroke:#7F4000\",\"stroke:#7F4000\",\"stroke:#983400\",\"stroke:#664D00\",\"stroke:#983400\",\"stroke:#7D4100\",\"stroke:#863D00\",\"stroke:#7F4000\",\"stroke:#853D00\",\"stroke:#7F4000\",\"stroke:#8F3800\",\"stroke:#823F00\",\"stroke:#883C00\",\"stroke:#913700\",\"stroke:#863D00\",\"stroke:#8F3800\",\"stroke:#804000\",\"stroke:#A52D00\",\"stroke:#873C00\",\"stroke:#7F4000\",\"stroke:#7F4000\",\"stroke:#804000\",\"stroke:#963500\",\"stroke:#923700\",\"stroke:#C41E00\",\"stroke:#644E00\",\"stroke:#794300\",\"stroke:#7F4000\",\"stroke:#804000\",\"stroke:#535600\",\"stroke:#883C00\",\"stroke:#B02800\",\"stroke:#D41600\",\"stroke:#7C4200\",\"stroke:#883C00\",\"stroke:#813F00\",\"stroke:#7F4000\",\"stroke:#893B00\",\"stroke:#833E00\",\"stroke:#7D4100\",\"stroke:#7E4100\",\"stroke:#595300\",\"stroke:#8B3A00\",\"stroke:#913700\",\"stroke:#A92B00\",\"stroke:#565500\",\"stroke:#754500\",\"stroke:#764500\",\"stroke:#6C4A00\",\"stroke:#475C00\",\"stroke:#813F00\",\"stroke:#734600\",\"stroke:#7D4100\",\"stroke:#425F00\",\"stroke:#7F4000\",\"stroke:#535600\",\"stroke:#6C4A00\",\"stroke:#7E4100\",\"stroke:#754500\",\"stroke:#7F4000\",\"stroke:#7F4000\",\"stroke:#485C00\",\"stroke:#724700\",\"stroke:#535600\",\"stroke:#5B5200\",\"stroke:#5D5100\",\"stroke:#326700\",\"stroke:#595300\",\"stroke:#724700\",\"stroke:#435E00\",\"stroke:#8D3900\",\"stroke:#8A3B00\",\"stroke:#863D00\",\"stroke:#A92B00\",\"stroke:#525700\",\"stroke:#754500\",\"stroke:#7F4000\",\"stroke:#216F00\",\"stroke:#813F00\",\"stroke:#7F4000\",\"stroke:#7F4000\",\"stroke:#953500\",\"stroke:#7F4000\",\"stroke:#784400\",\"stroke:#953500\",\"stroke:#664D00\",\"stroke:#7F4000\",\"stroke:#7F4000\",\"stroke:#7F4000\",\"stroke:#843E00\",\"stroke:#843E00\",\"stroke:#833E00\",\"stroke:#7F4000\",\"stroke:#8B3A00\",\"stroke:#893B00\",\"stroke:#7F4000\",\"stroke:#7F4000\",\"stroke:#873C00\",\"stroke:#7F4000\",\"stroke:#893B00\",\"stroke:#7F4000\",\"stroke:#7F4000\",\"stroke:#3D6100\",\"stroke:#7F4000\",\"stroke:#674C00\",\"stroke:#475C00\",\"stroke:#336600\",\"stroke:#7F4000\",\"stroke:#674C00\",\"stroke:#7F4000\",\"stroke:#008000\",\"stroke:#008000\",\"stroke:#008000\",\"stroke:#008000\",\"stroke:#A22F00\",\"stroke:#7F4000\",\"stroke:#7F4000\",\"stroke:#9F3000\",\"stroke:#7F4000\",\"stroke:#7F4000\",\"stroke:#8C3A00\",\"stroke:#7F4000\",\"stroke:#7F4000\",\"stroke:#7F4000\",\"stroke:#B92300\",\"stroke:#7F4000\",\"stroke:#1A7300\",\"stroke:#7F4000\",\"stroke:#624F00\",\"stroke:#664D00\",\"stroke:#7F4000\",\"stroke:#7F4000\",\"stroke:#664D00\",\"stroke:#624F00\",\"stroke:#8A3B00\",\"stroke:#F20700\",\"stroke:#923700\",\"stroke:#B92300\",\"stroke:#7F4000\",\"stroke:#7F4000\",\"stroke:#7F4000\",\"stroke:#7F4000\",\"stroke:#9C3200\",\"stroke:#7F4000\",\"stroke:#AF2800\",\"stroke:#7F4000\",\"stroke:#5E5100\",\"stroke:#724700\",\"stroke:#306800\",\"stroke:#7F4000\",\"stroke:#B92300\",\"stroke:#7F4000\",\"stroke:#7F4000\",\"stroke:#B92300\",\"stroke:#7F4000\",\"stroke:#7F4000\",\"stroke:#7F4000\",\"stroke:#7F4000\",\"stroke:#7F4000\",\"stroke:#7F4000\",\"stroke:#7F4000\",\"stroke:#7F4000\",\"stroke:#7F4000\",\"stroke:#2F6800\",\"stroke:#346600\",\"stroke:#7F4000\",\"stroke:#7F4000\",\"stroke:#7F4000\",\"stroke:#7F4000\",\"stroke:#7B4200\",\"stroke:#406000\",\"stroke:#7F4000\",\"stroke:#5D5100\",\"stroke:#7F4000\",\"stroke:#7F4000\",\"stroke:#1D7100\",\"stroke:#634E00\",\"stroke:#7F4000\",\"stroke:#7F4000\",\"stroke:#7F4000\",\"stroke:#7F4000\",\"stroke:#7F4000\",\"stroke:#813F00\",\"stroke:#7A4300\",\"stroke:#7F4000\",\"stroke:#754500\",\"stroke:#BF2000\",\"stroke:#BF2000\",\"stroke:#BF2000\",\"stroke:#BF2000\",\"stroke:#7F4000\",\"stroke:#7F4000\",\"stroke:#7F4000\",\"stroke:#7F4000\",\"stroke:#7F4000\",\"stroke:#455D00\",\"stroke:#6F4800\",\"stroke:#7F4000\",\"stroke:#744600\",\"stroke:#7F4000\",\"stroke:#983400\",\"stroke:#9C3200\",\"stroke:#7F4000\",\"stroke:#7F4000\",\"stroke:#7F4000\",\"stroke:#7F4000\",\"stroke:#7F4000\",\"stroke:#7F4000\",\"stroke:#7F4000\",\"stroke:#7F4000\",\"stroke:#7F4000\",\"stroke:#7F4000\",\"stroke:#7F4000\",\"stroke:#7F4000\",\"stroke:#8D3900\",\"stroke:#7F4000\",\"stroke:#B32600\",\"stroke:#7F4000\",\"stroke:#9E3100\",\"stroke:#7F4000\",\"stroke:#7F4000\",\"stroke:#7F4000\",\"stroke:#7F4000\",\"stroke:#7F4000\",\"stroke:#7F4000\",\"stroke:#7F4000\",\"stroke:#7F4000\",\"stroke:#7F4000\",\"stroke:#7F4000\",\"stroke:#7F4000\",\"stroke:#7F4000\",\"stroke:#7F4000\",\"stroke:#7F4000\",\"stroke:#7F4000\",\"stroke:#7F4000\",\"stroke:#7F4000\",\"stroke:#7F4000\",\"stroke:#7F4000\",\"stroke:#614F00\",\"stroke:#7F4000\",\"stroke:#7F4000\",\"stroke:#7F4000\",\"stroke:#7F4000\",\"stroke:#7F4000\",\"stroke:#7F4000\",\"stroke:#7F4000\",\"stroke:#7F4000\",\"stroke:#7F4000\",\"stroke:#7F4000\",\"stroke:#7F4000\",\"stroke:#7F4000\",\"stroke:#7F4000\",\"stroke:#7F4000\",\"stroke:#7F4000\",\"stroke:#7F4000\",\"stroke:#7F4000\",\"stroke:#7F4000\",\"stroke:#7F4000\",\"stroke:#7F4000\",\"stroke:#7F4000\",\"stroke:#7F4000\",\"stroke:#7F4000\",\"stroke:#7F4000\",\"stroke:#7F4000\",\"stroke:#7F4000\",\"stroke:#7F4000\"]}};\n",
       "        var rootID = 1-1;\n",
       "        var div = \"treevisCMlKxOjk\";\n",
       "        var initExpand = 0\n",
       "        var initDuration = 750\n",
       "        var svgHeight = 600\n",
       "        if (typeof $ === 'undefined') {\n",
       "    loadScript(\"https://code.jquery.com/jquery-3.1.1.min.js\", run);\n",
       "} else {\n",
       "    run();\n",
       "}\n",
       "\n",
       "function run() {\n",
       "    if (typeof d3 === 'undefined') {\n",
       "        loadScript(\"https://d3js.org/d3.v3.js\", showTree);\n",
       "    } else {\n",
       "        showTree();\n",
       "    }\n",
       "}\n",
       "\n",
       "function loadScript(url, callback)\n",
       "{\n",
       "    console.log(\"starting script load...\")\n",
       "    // Adding the script tag to the head as suggested before\n",
       "    var head = document.getElementsByTagName('head')[0];\n",
       "    var script = document.createElement('script');\n",
       "    script.type = 'text/javascript';\n",
       "    script.src = url;\n",
       "\n",
       "    // Then bind the event to the callback function.\n",
       "    // There are several events for cross browser compatibility.\n",
       "    script.onreadystatechange = callback;\n",
       "    script.onload = callback;\n",
       "\n",
       "    // Fire the loading\n",
       "    head.appendChild(script);\n",
       "}\n",
       "\n",
       "function showTree() {\n",
       "        \n",
       "    // var margin = {top: 20, right: 120, bottom: 20, left: 120},\n",
       "    var margin = {top: 20, right: 120, bottom: 80, left: 120},\n",
       "        width = $(\"#\"+div).width() - margin.right - margin.left,\n",
       "        height = svgHeight - margin.top - margin.bottom;\n",
       "        // TODO make height a parameter of TreeVisualizer\n",
       "\n",
       "    var i = 0,\n",
       "        root;\n",
       "\n",
       "    var tree = d3.layout.tree()\n",
       "        .size([width, height]);\n",
       "\n",
       "    var diagonal = d3.svg.diagonal();\n",
       "        //.projection(function(d) { return [d.y, d.x]; });\n",
       "        // uncomment above to make the tree go horizontally\n",
       "\n",
       "    // see http://stackoverflow.com/questions/16265123/resize-svg-when-window-is-resized-in-d3-js\n",
       "    if (d3.select(\"#\"+div+\"_svg\").empty()) {\n",
       "        $(\".d3twarn\").remove();\n",
       "        d3.select(\"#\"+div).append(\"svg\")\n",
       "            .attr(\"id\", div+\"_svg\")\n",
       "            .attr(\"width\", width + margin.right + margin.left)\n",
       "            .attr(\"height\", height + margin.top + margin.bottom);\n",
       "    }\n",
       "\n",
       "    d3.select(\"#\"+div+\"_svg\").selectAll(\"*\").remove();\n",
       "\n",
       "    var svg = d3.select(\"#\"+div+\"_svg\")\n",
       "        .append(\"g\")\n",
       "            .attr(\"transform\", \"translate(\" + margin.left + \",\" + margin.top + \")\");\n",
       "\n",
       "    // console.log(\"tree data:\");\n",
       "    // console.log(treeData[rootID]);\n",
       "    root = createDisplayNode(rootID, initExpand);\n",
       "    root.x0 = width / 2;\n",
       "    root.y0 = 0;\n",
       "\n",
       "    update(root, initDuration);\n",
       "    console.log(\"tree should appear\");\n",
       "\n",
       "    function createDisplayNode(id, expandLevel) {\n",
       "      var dnode = {\"dataID\":id,\n",
       "                   \"children\": null,\n",
       "                   \"_children\":null};\n",
       "      if (expandLevel > 0) {\n",
       "        initializeChildren(dnode, expandLevel);\n",
       "      }\n",
       "      return dnode;\n",
       "    }\n",
       "\n",
       "    function initializeChildren(d, expandLevel) {\n",
       "      // create children\n",
       "      var children = treeData.children[d.dataID];\n",
       "      d.children = [];\n",
       "      if (children) {\n",
       "        for (var i = 0; i < children.length; i++) {\n",
       "          var cid = children[i]-1;\n",
       "          d.children.push(createDisplayNode(cid, expandLevel-1));\n",
       "        }\n",
       "      }\n",
       "    }\n",
       "\n",
       "    /**\n",
       "     * Recursively called to update each node in the tree.\n",
       "     * \n",
       "     * source is a d3 node that has position, etc.\n",
       "    */\n",
       "    function update(source, duration) {\n",
       "\n",
       "      width = $(\"#\"+div).width() - margin.right - margin.left,\n",
       "      height = $(\"#\"+div).height() - margin.top - margin.bottom;\n",
       "\n",
       "      tree.size([width,height]);\n",
       "      d3.select(\"#\"+div).attr(\"width\", width + margin.right + margin.left)\n",
       "            .attr(\"height\", height + margin.top + margin.bottom);\n",
       "      d3.select(\"#\"+div+\"_svg\").attr(\"width\", width + margin.right + margin.left)\n",
       "             .attr(\"height\", height + margin.top + margin.bottom);\n",
       "\n",
       "\n",
       "      // Compute the new tree layout.\n",
       "      var nodes = tree.nodes(root).reverse(),\n",
       "          links = tree.links(nodes);\n",
       "\n",
       "\n",
       "      // Update the nodes…\n",
       "      var node = svg.selectAll(\"g.node\")\n",
       "          .data(nodes, function(d) { return d.id || (d.id = ++i); });\n",
       "\n",
       "      // Enter any new nodes at the parent's previous position.\n",
       "      var nodeEnter = node.enter().append(\"g\")\n",
       "          .attr(\"class\", \"node\")\n",
       "          .attr(\"transform\", function(d) { return \"translate(\" + source.x0 + \",\" + source.y0 + \")\"; })\n",
       "          .on(\"click\", click)\n",
       "\n",
       "      nodeEnter.append(\"circle\")\n",
       "          .attr(\"r\", \"10px\")\n",
       "          .attr(\"style\", function(d) { return treeData.style[d.dataID]; } )\n",
       "\n",
       "      var tbox = nodeEnter.append(\"text\")\n",
       "          .attr(\"y\", 25)\n",
       "          .attr(\"text-anchor\", \"middle\")\n",
       "          //.text( function(d) { return treeData.text[d.dataID]; } )\n",
       "          .style(\"fill-opacity\", 1e-6);\n",
       "\n",
       "      tbox.each( function(d) {\n",
       "          var el = d3.select(this)\n",
       "          var text = treeData.text[d.dataID];\n",
       "          var lines = text.split('\\n');\n",
       "          for (var i = 0; i < lines.length; i++) {\n",
       "              var tspan = el.append(\"tspan\").text(lines[i]);\n",
       "              if (i > 0) {\n",
       "                  tspan.attr(\"x\", 0).attr(\"dy\", \"1.2em\");\n",
       "              }\n",
       "          }\n",
       "      });\n",
       "\n",
       "      //tooltip\n",
       "      nodeEnter.append(\"title\").text( function(d) { return treeData.tooltip[d.dataID];} );\n",
       "\n",
       "      // Transition nodes to their new position.\n",
       "      var nodeUpdate = node.transition()\n",
       "          .duration(duration)\n",
       "          .attr(\"transform\", function(d) { return \"translate(\" + d.x + \",\" + d.y + \")\"; });\n",
       "\n",
       "      nodeUpdate.select(\"text\")\n",
       "          .style(\"fill-opacity\", 1);\n",
       "\n",
       "      // Transition exiting nodes to the parent's new position.\n",
       "      var nodeExit = node.exit().transition()\n",
       "          .duration(duration)\n",
       "          .attr(\"transform\", function(d) { return \"translate(\" + source.x + \",\" + source.y + \")\"; })\n",
       "          .remove();\n",
       "\n",
       "      nodeExit.select(\"text\")\n",
       "          .style(\"fill-opacity\", 1e-6);\n",
       "\n",
       "      // Update the links…\n",
       "      var link = svg.selectAll(\"path.link\")\n",
       "          .data(links, function(d) { return d.target.id; });\n",
       "\n",
       "      // Enter any new links at the parent's previous position.\n",
       "      // XXX link width should be based on transition data, not node data\n",
       "      link.enter().insert(\"path\", \"g\")\n",
       "          .attr(\"class\", \"link\")\n",
       "          .attr(\"style\", function(d) {\n",
       "              var ls = treeData.link_style[d.target.dataID];\n",
       "              return ls;\n",
       "          } )\n",
       "          .attr(\"d\", function(d) {\n",
       "            var o = {x: source.x0, y: source.y0};\n",
       "            return diagonal({source: o, target: o});\n",
       "          });\n",
       "\n",
       "      // Transition links to their new position.\n",
       "      link.transition()\n",
       "          .duration(duration)\n",
       "          .attr(\"d\", diagonal);\n",
       "\n",
       "      // Transition exiting nodes to the parent's new position.\n",
       "      link.exit().transition()\n",
       "          .duration(duration)\n",
       "          .attr(\"d\", function(d) {\n",
       "            var o = {x: source.x, y: source.y};\n",
       "            return diagonal({source: o, target: o});\n",
       "          })\n",
       "          .remove();\n",
       "\n",
       "      // Stash the old positions for transition.\n",
       "      nodes.forEach(function(d) {\n",
       "        d.x0 = d.x;\n",
       "        d.y0 = d.y;\n",
       "      });\n",
       "    }\n",
       "\n",
       "    // Toggle children on click.\n",
       "    function click(d) {\n",
       "      if (d.children) {\n",
       "        d._children = d.children;\n",
       "        d.children = null;\n",
       "      } else if (d._children) {\n",
       "        d.children = d._children;\n",
       "        d._children = null;\n",
       "      } else {\n",
       "        initializeChildren(d, 1);\n",
       "      }\n",
       "      update(d, 750);\n",
       "    }\n",
       "\n",
       "}\n",
       "\n",
       "        })();\n",
       "    </script>\n",
       "    <p class=\"d3twarn\">\n",
       "    Attempting to display the tree. If the tree is large, this may take some time.\n",
       "    </p>\n",
       "    <p class=\"d3twarn\">\n",
       "    Note: D3Trees.jl requires an internet connection. If no tree appears, please check your connection. To help fix this, please see <a href=\"https://github.com/sisl/D3Trees.jl/issues/10\">this issue</a>. You may also diagnose errors with the javascript console (Ctrl-Shift-J in chrome).\n",
       "    </p>\n",
       "    </div>\n",
       "    </body>\n",
       "    </html>\n",
       "\n"
      ],
      "text/plain": [
       "GridWorldState(4, 1, false)\n",
       "N:   2010\n",
       "\n",
       "├──                       up\n",
       "│  Q:  -4.46\n",
       "│  N:     23\n",
       "\n",
       "│  ├──GridWorldState(5, 1, false)\n",
       "│  │  N:   1577\n",
       "\n",
       "│  │  ├──                       up\n",
       "│  │  │  Q:  -0.04\n",
       "│  │  │  N:    134\n",
       " (3 children)\n",
       "│  │  ├──                     down\n",
       "│  │  │  Q:   0.00\n",
       "│  │  │  N:    152\n",
       " (1 children)\n",
       "│  │  ├──                     left\n",
       "│  │  │  Q:  -0.58\n",
       "│  │  │  N:     88\n",
       " (3 children)\n",
       "│  │  └──                    right\n",
       "│  │     Q:   2.66\n",
       "│  │     N:   1203\n",
       " (3 children)\n",
       "│  ├──GridWorldState(3, 1, false)\n",
       "│  │  N:    594\n",
       "\n",
       "│  │  ├──                       up\n",
       "│  │  │  Q:  -0.45\n",
       "│  │  │  N:     89\n",
       " (3 children)\n",
       "│  │  ├──                     down\n",
       "│  │  │  Q:   0.00\n",
       "│  │  │  N:    131\n",
       " (1 children)\n",
       "│  │  ├──                     left\n",
       "│  │  │  Q:  -0.38\n",
       "│  │  │  N:     94\n",
       " (3 children)\n",
       "│  │  └──                    right\n",
       "│  │     Q:   0.73\n",
       "│  │     N:    280\n",
       " (3 children)\n",
       "│  └──GridWorldState(4, 2, false)\n",
       "│     N:    362\n",
       "\n",
       "│     ├──                       up\n",
       "│     │  Q:  -7.66\n",
       "│     │  N:      8\n",
       " (3 children)\n",
       "│     ├──                     down\n",
       "│     │  Q:  -3.60\n",
       "│     │  N:     27\n",
       " (4 children)\n",
       "│     ├──                     left\n",
       "│     │  Q:  -3.63\n",
       "│     │  N:     31\n",
       " (4 children)\n",
       "│     └──                    right\n",
       "│        Q:   0.19\n",
       "│        N:    296\n",
       " (4 children)\n",
       "├──                     down\n",
       "│  Q:   0.00\n",
       "│  N:    480\n",
       "\n",
       "│  └──GridWorldState(4, 1, false)\n",
       "│     N:   2010\n",
       "\n",
       "│     ├──                       up\n",
       "│     │  Q:  -4.46\n",
       "│     │  N:     23\n",
       " (3 children)\n",
       "│     ├──                     down\n",
       "│     │  Q:   0.00\n",
       "│     │  N:    480\n",
       " (1 children)\n",
       "│     ├──                     left\n",
       "│     │  Q:  -0.53\n",
       "│     │  N:    228\n",
       " (3 children)\n",
       "│     └──                    right\n",
       "│        Q:   1.71\n",
       "│        N:   1279\n",
       " (3 children)\n",
       "├──                     left\n",
       "│  Q:  -0.53\n",
       "│  N:    228\n",
       "\n",
       "│  ├──GridWorldState(3, 1, false)\n",
       "│  │  N:    594\n",
       "\n",
       "│  │  ├──                       up\n",
       "│  │  │  Q:  -0.45\n",
       "│  │  │  N:     89\n",
       " (3 children)\n",
       "│  │  ├──                     down\n",
       "│  │  │  Q:   0.00\n",
       "│  │  │  N:    131\n",
       " (1 children)\n",
       "│  │  ├──                     left\n",
       "│  │  │  Q:  -0.38\n",
       "│  │  │  N:     94\n",
       " (3 children)\n",
       "│  │  └──                    right\n",
       "│  │     Q:   0.73\n",
       "│  │     N:    280\n",
       " (3 children)\n",
       "│  ├──GridWorldState(5, 1, false)\n",
       "│  │  N:   1577\n",
       "\n",
       "│  │  ├──                       up\n",
       "│  │  │  Q:  -0.04\n",
       "│  │  │  N:    134\n",
       " (3 children)\n",
       "│  │  ├──                     down\n",
       "│  │  │  Q:   0.00\n",
       "│  │  │  N:    152\n",
       " (1 children)\n",
       "│  │  ├──                     left\n",
       "│  │  │  Q:  -0.58\n",
       "│  │  │  N:     88\n",
       " (3 children)\n",
       "│  │  └──                    right\n",
       "│  │     Q:   2.66\n",
       "│  │     N:   1203\n",
       " (3 children)\n",
       "│  └──GridWorldState(4, 2, false)\n",
       "│     N:    362\n",
       "\n",
       "│     ├──                       up\n",
       "│     │  Q:  -7.66\n",
       "│     │  N:      8\n",
       " (3 children)\n",
       "│     ├──                     down\n",
       "│     │  Q:  -3.60\n",
       "│     │  N:     27\n",
       " (4 children)\n",
       "│     ├──                     left\n",
       "│     │  Q:  -3.63\n",
       "│     │  N:     31\n",
       " (4 children)\n",
       "│     └──                    right\n",
       "│        Q:   0.19\n",
       "│        N:    296\n",
       " (4 children)\n",
       "└──                    right\n",
       "   Q:   1.71\n",
       "   N:   1279\n",
       "\n",
       "   ├──GridWorldState(4, 2, false)\n",
       "   │  N:    362\n",
       "\n",
       "   │  ├──                       up\n",
       "   │  │  Q:  -7.66\n",
       "   │  │  N:      8\n",
       " (3 children)\n",
       "   │  ├──                     down\n",
       "   │  │  Q:  -3.60\n",
       "   │  │  N:     27\n",
       " (4 children)\n",
       "   │  ├──                     left\n",
       "   │  │  Q:  -3.63\n",
       "   │  │  N:     31\n",
       " (4 children)\n",
       "   │  └──                    right\n",
       "   │     Q:   0.19\n",
       "   │     N:    296\n",
       " (4 children)\n",
       "   ├──GridWorldState(3, 1, false)\n",
       "   │  N:    594\n",
       "\n",
       "   │  ├──                       up\n",
       "   │  │  Q:  -0.45\n",
       "   │  │  N:     89\n",
       " (3 children)\n",
       "   │  ├──                     down\n",
       "   │  │  Q:   0.00\n",
       "   │  │  N:    131\n",
       " (1 children)\n",
       "   │  ├──                     left\n",
       "   │  │  Q:  -0.38\n",
       "   │  │  N:     94\n",
       " (3 children)\n",
       "   │  └──                    right\n",
       "   │     Q:   0.73\n",
       "   │     N:    280\n",
       " (3 children)\n",
       "   └──GridWorldState(5, 1, false)\n",
       "      N:   1577\n",
       "\n",
       "      ├──                       up\n",
       "      │  Q:  -0.04\n",
       "      │  N:    134\n",
       " (3 children)\n",
       "      ├──                     down\n",
       "      │  Q:   0.00\n",
       "      │  N:    152\n",
       " (1 children)\n",
       "      ├──                     left\n",
       "      │  Q:  -0.58\n",
       "      │  N:     88\n",
       " (3 children)\n",
       "      └──                    right\n",
       "         Q:   2.66\n",
       "         N:   1203\n",
       " (3 children)\n"
      ]
     },
     "execution_count": 23,
     "metadata": {},
     "output_type": "execute_result"
    }
   ],
   "source": [
    "using D3Trees\n",
    "\n",
    "# first, run the planner on the state\n",
    "s = state_hist(hist)[1]\n",
    "a = action(planner, s)\n",
    "\n",
    "# show the tree (click the node to expand)\n",
    "D3Tree(planner, s)"
   ]
  },
  {
   "cell_type": "code",
   "execution_count": null,
   "metadata": {
    "collapsed": true
   },
   "outputs": [],
   "source": []
  }
 ],
 "metadata": {
  "anaconda-cloud": {},
  "kernelspec": {
   "display_name": "Julia 1.1.1",
   "language": "julia",
   "name": "julia-1.1"
  },
  "language_info": {
   "file_extension": ".jl",
   "mimetype": "application/julia",
   "name": "julia",
   "version": "1.1.1"
  }
 },
 "nbformat": 4,
 "nbformat_minor": 1
}
